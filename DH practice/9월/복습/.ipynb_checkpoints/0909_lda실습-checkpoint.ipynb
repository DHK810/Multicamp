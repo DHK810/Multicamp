{
 "cells": [
  {
   "cell_type": "code",
   "execution_count": 6,
   "metadata": {},
   "outputs": [],
   "source": [
    "import random\n"
   ]
  },
  {
   "cell_type": "code",
   "execution_count": 7,
   "metadata": {},
   "outputs": [],
   "source": [
    "import random\n",
    "import numpy as np\n",
    "from nltk.tokenize import word_tokenize\n",
    "from nltk.stem import WordNetLemmatizer\n",
    "from nltk.corpus import stopwords\n",
    "from collections import defaultdict"
   ]
  },
  {
   "cell_type": "code",
   "execution_count": 85,
   "metadata": {},
   "outputs": [],
   "source": [
    "\n",
    "class LDA:\n",
    "    def __init__(self, doc_ls, topic_num, alpha = 0.1, beta = 0.001):\n",
    "        self.alpha = alpha\n",
    "        self.beta = beta\n",
    "        self.k = topic_num\n",
    "        self.docs = doc_ls\n",
    "    \n",
    "    def RandomlyAssignTopic(self, doc_ls):\n",
    "        dic = defaultdict(dict)\n",
    "        t2i = defaultdict(lambda : len(t2i))\n",
    "        i2t = defaultdict()\n",
    "        d= 0\n",
    "        w = 0\n",
    "        wnl = WordNetLemmatizer()\n",
    "        stopword = stopwords.words('english')\n",
    "        stopword.append(',')\n",
    "\n",
    "\n",
    "\n",
    "        for tokens in [word_tokenize(doc) for doc in doc_ls]:\n",
    "            for token in [wnl.lemmatize(token.lower()) for token in tokens if token not in stopword]:\n",
    "                i2t[t2i[token]] = token\n",
    "                dic[(d, t2i[token], w)] = random.randint(0,self.k-1)\n",
    "                w += 1\n",
    "            d += 1\n",
    "        #print(dic)\n",
    "        return dic, t2i, i2t\n",
    "    def CountDocTopic(self) :\n",
    "        docs = np.zeros((self.k, len(self.docs)))\n",
    "        terms = np.zeros((self.k, len(self.t2i.keys())))\n",
    "        #문서별 토큰별 빈도수 계산\n",
    "        for (d, n, w) in self.term_topic.keys() :\n",
    "            docs[self.term_topic[(d, n, w)], d] += 1 + self.alpha\n",
    "            terms[self.term_topic[(d, n, w)], d] += 1 + self.beta\n",
    "        #print(doc_m)\n",
    "        #비어있는 값는 값에 alpha, beta 설정\n",
    "        docs = np.where(docs==0.0, self.alpha, docs)\n",
    "        terms = np.where(terms==0.0, self.beta, terms)\n",
    "        return docs, terms    \n",
    "    def IterateAssignTopic(self, docs, terms) :\n",
    "        #한개의 단어씩 주제 배정\n",
    "        prev = {}\n",
    "        while prev != self.term_topic:\n",
    "            for (d, n, w) in self.term_topic.keys() :\n",
    "                topic = [0, 0]\n",
    "                docs[self.term_topic[(d, n, w)], d] -= (1 + self.alpha)\n",
    "                terms[self.term_topic[(d, n, w)], n] -= (1 + self.beta)\n",
    "                #print(doc_m)\n",
    "                prev = self.term_topic\n",
    "                for t in range(self.k) :\n",
    "                    p_t_d = docs[t, d]/docs[:,d:d+1].sum()\n",
    "                    p_w_t = terms[t, n]/terms[t:t+1,:].sum()\n",
    "                    prob = p_t_d * p_w_t\n",
    "                    if topic[1] < prob :\n",
    "                        topic = [t, prob]\n",
    "                #확률이 가장 큰 토픽을 할당\n",
    "                self.term_topic[(d, n, w)] = topic[0]\n",
    "                docs[self.term_topic[(d, n, w)], d] += (1 + self.alpha)\n",
    "                terms[self.term_topic[(d, n, w)], t] += (1 + self.beta)\n",
    "                #print(self.term_topic)\n",
    "            return terms\n",
    "# 토픽별 주요 키워드 출력\n",
    "    def TopicModeling(self, count=5) :\n",
    "        self.term_topic, self.t2i, self.i2t = self.RandomlyAssignTopic(self.docs)\n",
    "        docs, terms = self.CountDocTopic()\n",
    "        terms = self.IterateAssignTopic(docs, terms)\n",
    "        score = terms / terms.sum(axis=1, keepdims=True)\n",
    "        for i in range(self.k) :\n",
    "            print(\"\\nTopic {}\".format(i+1))\n",
    "            sorted_index = np.flip(np.argsort(score[i]),0)[:count]\n",
    "            for j in sorted_index :\n",
    "                print(\"({}={})\".format(self.i2t[j], score[i,j].round(3)), end = ' ')    \n",
    "\n",
    "    "
   ]
  },
  {
   "cell_type": "code",
   "execution_count": 88,
   "metadata": {},
   "outputs": [
    {
     "name": "stdout",
     "output_type": "stream",
     "text": [
      "\n",
      "Topic 1\n",
      "(hamster=200.2) (kitty=200.2) (eats=0.2) (rice=0.2) (eat=0.2) \n",
      "Topic 2\n",
      "(cake=0.749) (hamster=0.499) (kitty=0.499) (cute=0.0) (rice=0.0) \n",
      "Topic 3\n",
      "(cake=0.999) (cute=0.2) (eats=0.0) (bread=0.0) (hamster=0.0) \n",
      "Topic 4\n",
      "(cake=0.999) (rice=0.167) (eats=0.0) (bread=0.0) (kitty=0.0) \n",
      "Topic 5\n",
      "(cake=1.496) (hamster=0.499) (eat=0.499) (eats=0.0) (cute=0.0) "
     ]
    }
   ],
   "source": [
    "\n",
    "doc_ls = [\"Cute kitty\",\n",
    "\"Eat rice or cake\",\n",
    "\"Kitty and hamster\",\n",
    "\"Eat bread\",\n",
    "\"Rice, bread and cake\",\n",
    "\"Cute hamster eats bread and cake\"]\n",
    "lda = LDA(doc_ls, 5)\n",
    "lda.TopicModeling()"
   ]
  },
  {
   "cell_type": "code",
   "execution_count": null,
   "metadata": {},
   "outputs": [],
   "source": []
  },
  {
   "cell_type": "code",
   "execution_count": null,
   "metadata": {},
   "outputs": [],
   "source": []
  }
 ],
 "metadata": {
  "kernelspec": {
   "display_name": "Python 3",
   "language": "python",
   "name": "python3"
  },
  "language_info": {
   "codemirror_mode": {
    "name": "ipython",
    "version": 3
   },
   "file_extension": ".py",
   "mimetype": "text/x-python",
   "name": "python",
   "nbconvert_exporter": "python",
   "pygments_lexer": "ipython3",
   "version": "3.7.3"
  }
 },
 "nbformat": 4,
 "nbformat_minor": 2
}
