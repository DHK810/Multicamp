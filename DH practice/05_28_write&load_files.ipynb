{
 "cells": [
  {
   "cell_type": "markdown",
   "metadata": {},
   "source": [
    "# 입출력"
   ]
  },
  {
   "cell_type": "code",
   "execution_count": null,
   "metadata": {},
   "outputs": [],
   "source": [
    "file = open(\"file.txt\", \"w\")\n",
    "file.write('Hello My name \\n')\n",
    "file.write('is DongHoon')\n",
    "file.close\n",
    "\n",
    "file = open(\"file.txt\", \"r\")\n",
    "text = file.read()\n",
    "print(text)\n",
    "file.close()\n",
    "\n"
   ]
  },
  {
   "cell_type": "code",
   "execution_count": null,
   "metadata": {},
   "outputs": [],
   "source": [
    "print('hello', 'welcome to python', sep = ', ')\n",
    "\n",
    "print('제 이름은 %s입니다.' % '동훈')\n",
    "print('제 이름은 {}입니다.'. format('동훈'))\n",
    "\n",
    "input('문자 입력하시오')"
   ]
  },
  {
   "cell_type": "code",
   "execution_count": null,
   "metadata": {},
   "outputs": [],
   "source": []
  },
  {
   "cell_type": "markdown",
   "metadata": {},
   "source": [
    "# 파일 모드"
   ]
  },
  {
   "cell_type": "code",
   "execution_count": null,
   "metadata": {},
   "outputs": [],
   "source": [
    "# p105\n",
    "\n",
    "file = open(\"my_file.txt\", \"r+\")\n",
    "file.write('vkdlftjQjTwetilwetwleti')\n",
    "txt_file = file.read()\n",
    "print(txt_file)\n",
    "file.close()\n",
    "\n",
    "#error 코딩임"
   ]
  },
  {
   "cell_type": "code",
   "execution_count": null,
   "metadata": {},
   "outputs": [],
   "source": [
    "file = open('my_file.txt', 'w')\n",
    "file.write('예제 입니다. \\n 유흐')\n",
    "file.close()\n",
    "\n",
    "\n",
    "with open('my_file2.txt', 'w') as f:\n",
    "    f.write('파일이에요. \\n 위ㅏㄴ우리\\n ansdlfknsadklfsndlf\\nfanlksdflksdanfskdl')"
   ]
  },
  {
   "cell_type": "code",
   "execution_count": null,
   "metadata": {},
   "outputs": [],
   "source": []
  },
  {
   "cell_type": "code",
   "execution_count": null,
   "metadata": {},
   "outputs": [],
   "source": []
  },
  {
   "cell_type": "code",
   "execution_count": null,
   "metadata": {},
   "outputs": [],
   "source": [
    "# with open('my_file2.txt', 'r') as f:\n",
    "#     read_f = f.read()\n",
    "    \n",
    "#     print(read_f)\n",
    "#     \n",
    "with open('my_file2.txt', 'r') as f:\n",
    "    line = f.readline()\n",
    "    while line:\n",
    "        print(line)\n",
    "        line = f.readline()\n",
    "        \n",
    "with open('my_file2.txt', 'r') as f:\n",
    "    text = None\n",
    "    lines = f.readlines()\n",
    "    print(lines)\n"
   ]
  },
  {
   "cell_type": "markdown",
   "metadata": {},
   "source": [
    "# 연습문제1"
   ]
  },
  {
   "cell_type": "code",
   "execution_count": null,
   "metadata": {},
   "outputs": [],
   "source": []
  },
  {
   "cell_type": "code",
   "execution_count": null,
   "metadata": {},
   "outputs": [],
   "source": [
    "with open('practice1.txt', 'r') as f:\n",
    "    text = None\n",
    "    lines = f.readlines()\n",
    "    for i in range(len(lines)):\n",
    "        if len(lines[i]) > 5:\n",
    "            print(lines[i])\n",
    "    print(lines)"
   ]
  },
  {
   "cell_type": "markdown",
   "metadata": {},
   "source": [
    "# 연습문제 2 가위바위보 업그레이드"
   ]
  },
  {
   "cell_type": "code",
   "execution_count": null,
   "metadata": {},
   "outputs": [],
   "source": [
    "### import random\n",
    "random.random()\n",
    "\n",
    "\n",
    "count_play = 0\n",
    "count_win = 0\n",
    "count_draw = 0\n",
    "\n",
    "with open('game_result.txt', 'r') as p:\n",
    "    text = None\n",
    "    lines = p.readlines()\n",
    "    print(lines)\n",
    "    \n",
    "word = ['가위', '바위', '보']\n",
    "name = input('이름을 입력하세요: ')\n",
    "user_no = int(input('가위(1), 바위(2), 보(3)을 입력하세요!: '))   \n",
    "computer_no = random.randint(1,3)\n",
    "\n",
    "while user_no in [1, 2, 3]:\n",
    "    \n",
    "    if user_no in [1,2,3]:\n",
    "        print(f'유저: {word[user_no-1]}, 컴퓨터 : {word[computer_no-1]}')\n",
    "    \n",
    "    if(user_no == 1 and computer_no == 3):\n",
    "        count_win += 1\n",
    "    elif(user_no==2 and computer_no ==1):\n",
    "        count_win += 1\n",
    "    elif(user_no ==3 and computer_no == 2):\n",
    "        count_win += 1\n",
    "    elif(user_no==computer_no):\n",
    "        count_draw += 1\n",
    "                  \n",
    "\n",
    "    computer_no = random.randint(1,3)  #컴퓨터 랜덤 숫자\n",
    "    user_no = int(input('가위(1), 바위(2), 보(3)을 입력하세요!: '))   #유저 인풋 숫자\n",
    "    count_play += 1 #전체 게임 숫자 증가\n",
    "                  \n",
    "print(f'전체: {count_play}, 승리: {count_win}, 비김: {count_draw}')\n",
    "with open('game_result.txt', 'w') as f:\n",
    "    f.write(f'{name}: total: {count_play}, wins: {count_win}, draws: {count_draw}')\n",
    "    \n",
    "                                \n",
    "\n",
    "\n",
    "    \n",
    "    \n",
    "\n"
   ]
  },
  {
   "cell_type": "code",
   "execution_count": 14,
   "metadata": {},
   "outputs": [
    {
     "name": "stdout",
     "output_type": "stream",
     "text": [
      "이름: 1\n",
      "수학: 2\n",
      "과학: 3\n",
      "영어: 4\n",
      "['이름: rkd, 수학: 1, 과학: 2, 영어: 3\\n', '이름: 1, 수학: 2, 과학: 3, 영어: 4\\\\n이름: 1, 수학: 2, 과학: 3, 영어: 4\\n']\n"
     ]
    }
   ],
   "source": [
    "name = input('이름: ')\n",
    "score_math = int(input('수학: '))\n",
    "score_sci = int(input('과학: '))\n",
    "score_eng = int(input('영어: '))\n",
    "menu = int(input('메뉴를 선택해주세요. 1: 입력, 2. 조회, 3: 삭제, 0: 종료'))\n",
    "if menu == 1:\n",
    "    with open('students_manager.txt' ,'a') as student_input:\n",
    "        student_input.write(f'이름: {name}, 수학: {score_math}, 과학: {score_sci}, 영어: {score_eng}\\n')\n",
    "\n",
    "if menu == 2:\n",
    "    with open('students_manager.txt' ,'r') as student_output:\n",
    "        text = None\n",
    "        lines = student_output.readlines()\n",
    "        print(lines)\n",
    "        \n",
    "        "
   ]
  },
  {
   "cell_type": "markdown",
   "metadata": {},
   "source": [
    "# 입출력 os = operating system"
   ]
  },
  {
   "cell_type": "code",
   "execution_count": 9,
   "metadata": {},
   "outputs": [
    {
     "data": {
      "text/plain": [
       "'C:\\\\Users\\\\15Z970-GA5BK\\\\Dropbox\\\\Multicamp19_05_27\\\\DH practice\\\\iotest'"
      ]
     },
     "execution_count": 9,
     "metadata": {},
     "output_type": "execute_result"
    }
   ],
   "source": [
    "import os\n",
    "\n",
    "#테스트파일 경로 만들기 & 폴더 만들기\n",
    "BASE_DIR = os.getcwd()\n",
    "IO_TEST_DIR = os.path.join(BASE_DIR, 'iotest')\n",
    "if not os.path.exists(IO_TEST_DIR):\n",
    "    os.makedirs(IO_TEST_DIR)\n",
    "    \n",
    "BASE_DIR\n",
    "\n",
    "IO_TEST_DIR\n",
    "    "
   ]
  },
  {
   "cell_type": "markdown",
   "metadata": {},
   "source": [
    "# w모드 실습"
   ]
  },
  {
   "cell_type": "code",
   "execution_count": 23,
   "metadata": {},
   "outputs": [
    {
     "name": "stdout",
     "output_type": "stream",
     "text": [
      "C:\\Users\\15Z970-GA5BK\\Dropbox\\Multicamp19_05_27\\DH practice\\iotest\\w_test.txt\n"
     ]
    }
   ],
   "source": [
    "#파일이 없으면 생성\n",
    "w_test_path = os.path.join(IO_TEST_DIR, 'w_test.txt')\n",
    "print(w_test_path)\n",
    "with open(w_test_path, 'w') as f:\n",
    "    f.write('hellowdwddwd')"
   ]
  },
  {
   "cell_type": "markdown",
   "metadata": {},
   "source": [
    "# r모드 실습"
   ]
  },
  {
   "cell_type": "code",
   "execution_count": 24,
   "metadata": {},
   "outputs": [
    {
     "name": "stdout",
     "output_type": "stream",
     "text": [
      "hellowdwddwd\n"
     ]
    }
   ],
   "source": [
    "#파일이 없으면 에러\n",
    "with open(w_test_path, 'r') as f:\n",
    "    content = f.read()\n",
    "    print(content)"
   ]
  },
  {
   "cell_type": "markdown",
   "metadata": {},
   "source": [
    "# a모드 실습"
   ]
  },
  {
   "cell_type": "code",
   "execution_count": null,
   "metadata": {},
   "outputs": [],
   "source": [
    "#실습을 위해 w_test.txt를 a_text.txt로 복사\n",
    "a_test_path = os.path.join(IO_TEST_DIR, 'a_text.txt')\n",
    "import shutil\n",
    "\n",
    "shutil.copy(w_test_path, a_test_path) # w_test파일을 a_test파일로 복사\n",
    "\n",
    "os.path.exists(a_test_path) #복사 됐는지 확인\n",
    "\n",
    "with open(a_test_path, 'a') as f:\n",
    "    f.write('blahblasdasah\\n asdsadas \\n Asdsadasd')\n",
    "\n",
    "with open(a_test_path, 'r') as f:\n",
    "    content = f.read()\n",
    "    print(content)"
   ]
  },
  {
   "cell_type": "markdown",
   "metadata": {},
   "source": [
    "# w+ 모드 실습"
   ]
  },
  {
   "cell_type": "code",
   "execution_count": 53,
   "metadata": {},
   "outputs": [],
   "source": [
    "w_plus_test_path = os.path.join(IO_TEST_DIR, 'w_plus_test.txt')\n",
    "with open(w_plus_test_path, 'w') as f:\n",
    "    f.write('Hello Python!')\n",
    "    \n",
    "# w+ 파일을 열 때 기존 파일이 있으면 내용을 다 지움. 그리고 읽기 + 쓰기 가능\n",
    "f = open(w_plus_test_path, 'w+')\n",
    "\n",
    "content = f.read()\n",
    "print(content)\n",
    "f.write('abde')\n",
    "content2 = f.read()\n",
    "print(content2)\n",
    "f.close()"
   ]
  },
  {
   "cell_type": "markdown",
   "metadata": {},
   "source": [
    "# r+ 모드 실습"
   ]
  },
  {
   "cell_type": "code",
   "execution_count": 51,
   "metadata": {},
   "outputs": [
    {
     "name": "stdout",
     "output_type": "stream",
     "text": [
      "Hello Python!\n"
     ]
    }
   ],
   "source": [
    "# r+ 는 기존 content가 사라지지 않는다\n",
    "r_plus_test_path = os.path.join(IO_TEST_DIR, 'r_plus_test.txt')\n",
    "with open(r_plus_test_path, 'w') as f:\n",
    "    f.write('Hello Python!')\n",
    "\n",
    "with open(r_plus_test_path, 'r+') as f:\n",
    "    content = f.read()\n",
    "content\n",
    "    \n",
    "    \n",
    "f = open(r_plus_test_path, 'r+')\n",
    "content = f.read()\n",
    "print(content)\n",
    "\n",
    "f.write('HI. hello')\n",
    "f.close()"
   ]
  },
  {
   "cell_type": "code",
   "execution_count": 70,
   "metadata": {},
   "outputs": [
    {
     "name": "stdout",
     "output_type": "stream",
     "text": [
      "8\n",
      "4\n",
      "hon!\n",
      "Hellhon!\n"
     ]
    }
   ],
   "source": [
    "w_plus_test_path = os.path.join(IO_TEST_DIR, 'w_plus_test.txt')\n",
    "with open(w_plus_test_path, 'w+') as f:\n",
    "    f.write('Hellhon!')\n",
    "    print(f.tell())\n",
    "    f.seek(4) # 커서의 위치를 n번째로 위치\n",
    "    print(f.tell())\n",
    "    content = f.read()\n",
    "    print(content)\n",
    "    f.seek(0) \n",
    "    content = f.read()\n",
    "    print(content)"
   ]
  }
 ],
 "metadata": {
  "kernelspec": {
   "display_name": "Python 3",
   "language": "python",
   "name": "python3"
  },
  "language_info": {
   "codemirror_mode": {
    "name": "ipython",
    "version": 3
   },
   "file_extension": ".py",
   "mimetype": "text/x-python",
   "name": "python",
   "nbconvert_exporter": "python",
   "pygments_lexer": "ipython3",
   "version": "3.7.3"
  }
 },
 "nbformat": 4,
 "nbformat_minor": 2
}
