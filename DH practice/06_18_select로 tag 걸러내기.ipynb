{
 "cells": [
  {
   "cell_type": "code",
   "execution_count": 3,
   "metadata": {},
   "outputs": [
    {
     "data": {
      "text/plain": [
       "[<div class=\"thumb\"><a class=\"sp_thmb thmb80\" href=\"http://www.datanet.co.kr/news/articleView.html?idxno=134845\" onclick=\"return goOtherCR(this, 'a=nws*b.img&amp;r=1&amp;i=880005C7_000000000000000000089417&amp;g=5096.0000089417&amp;u='+urlencode(this.href));\" target=\"_blank\"><img alt=\"데이터로봇, 쏘카에 머\" class=\"\" height=\"80\" onerror=\"this.parentNode.style.display='none';\" src=\"https://search.pstatic.net/common/?src=https%3A%2F%2Fimgnews.pstatic.net%2Fimage%2Forigin%2F5096%2F2019%2F06%2F18%2F89417.jpg&amp;type=ofullfill80_80_q75_re2\" width=\"80\"/><span class=\"thmb_v\"></span></a></div>]"
      ]
     },
     "execution_count": 3,
     "metadata": {},
     "output_type": "execute_result"
    }
   ],
   "source": [
    "from bs4 import BeautifulSoup\n",
    "import requests\n",
    "url = 'https://search.naver.com/search.naver?query=%EB%A8%B8%EC%8B%A0%EB%9F%AC%EB%8B%9D&where=news&ie=utf8&sm=nws_hty'\n",
    "\n",
    "resp = requests.get(url)\n",
    "soup = BeautifulSoup(resp.content)\n",
    "\n",
    "# class = '.'\n",
    "# id = '#'\n",
    "# 자식 = '>'\n",
    "\n",
    "# class 가 type01 인 div 밑에\n",
    "# id가 sp_nws1 인 li 태그\n",
    "# 자식 = thumb이라는 클래스\n",
    "# 표현식은 아래와 같음\n",
    "\n",
    "\n",
    "soup.select('ul.type01 li#sp_nws1>.thumb')"
   ]
  },
  {
   "cell_type": "code",
   "execution_count": 6,
   "metadata": {},
   "outputs": [
    {
     "data": {
      "text/plain": [
       "10"
      ]
     },
     "execution_count": 6,
     "metadata": {},
     "output_type": "execute_result"
    }
   ],
   "source": [
    "news_list = soup.select('ul.type01>li')\n",
    "len(news_list)"
   ]
  },
  {
   "cell_type": "code",
   "execution_count": null,
   "metadata": {},
   "outputs": [],
   "source": []
  }
 ],
 "metadata": {
  "kernelspec": {
   "display_name": "Python 3",
   "language": "python",
   "name": "python3"
  },
  "language_info": {
   "codemirror_mode": {
    "name": "ipython",
    "version": 3
   },
   "file_extension": ".py",
   "mimetype": "text/x-python",
   "name": "python",
   "nbconvert_exporter": "python",
   "pygments_lexer": "ipython3",
   "version": "3.7.3"
  }
 },
 "nbformat": 4,
 "nbformat_minor": 2
}
