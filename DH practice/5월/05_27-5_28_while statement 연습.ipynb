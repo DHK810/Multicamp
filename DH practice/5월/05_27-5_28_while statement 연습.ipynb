{
 "cells": [
  {
   "cell_type": "code",
   "execution_count": null,
   "metadata": {},
   "outputs": [],
   "source": [
    "#x = int(input('정수를 입력하세요: '))\n",
    "# print(type(x))\n",
    "# sum = 0\n",
    "# while x != 's': #or x != 'S':\n",
    "    \n",
    "#     sum += int(x)\n",
    "#     x = input('정수를 입력하세요: ')\n",
    "#     print(type(x))\n",
    "# print(sum)\n",
    "# print(type(sum))\n",
    "\n",
    "\n",
    "# x = '0'\n",
    "# sum = 0\n",
    "# #while x == 'S' or x == 's': \n",
    "# while x.upper() != 'S':\n",
    "#     sum += int(x)\n",
    "#     x = input('정수를 입력하세요: ')\n",
    "    \n",
    "# print(sum)\n",
    "\n",
    "\n",
    "# x = '0'\n",
    "# sum = 0\n",
    "# #while not (x == 'S' or x == 's'): \n",
    "# while x.upper() != 'S':\n",
    "#     sum += int(x)\n",
    "#     x = input('정수를 입력하세요: ')\n",
    "    \n",
    "# print(sum)\n",
    "x = 0\n",
    "sum = 0\n",
    "\n",
    "while str(x).lower() != 's':\n",
    "    sum += int(x)\n",
    "    x = input('정수를 입력하세요: ')\n",
    "print(sum)"
   ]
  },
  {
   "cell_type": "markdown",
   "metadata": {},
   "source": [
    "# 랜덤함수 사용 가위바위보 게임"
   ]
  },
  {
   "cell_type": "code",
   "execution_count": null,
   "metadata": {},
   "outputs": [],
   "source": [
    "import random\n",
    "random.random()\n",
    "computer_no = random.randint(1,3)\n",
    "r_s_p = {1 : '가위', 2 : '바위', 3 : '보'}\n",
    "\n",
    "\n",
    "count_play = 0\n",
    "count_win = 0\n",
    "count_draw = 0\n",
    "game_over = False\n",
    "\n",
    "while not game_over:\n",
    "    \n",
    "    user_no = int(input('가위(1), 바위(2), 보(3)을 입력하세요!: '))   \n",
    "\n",
    "    \n",
    "    if user_no > 3 or user_no < 1: \n",
    "        print(f'전체: {count_play}, 승리: {count_win}, 비김: {count_draw}')\n",
    "        game_over == True\n",
    "    \n",
    "    if user_no == computer_no:\n",
    "        count_play += 1\n",
    "        count_draw += 1\n",
    "    \n",
    "    elif (user_no == 1 and computer_no == 2) or (user_no == 2 and computer_no == 3) or (user_no == 3 and computer_no == 1):\n",
    "        count_play += 1\n",
    "    \n",
    "    elif (user_no == 1 and computer_no == 3) or (user_no == 2 and computer_no == 1) or (user_no == 3 and computer_no == 2):\n",
    "        count_play += 1\n",
    "        count_win += 1 \n",
    "   \n",
    "\n",
    "    print(f'유저: {r_s_p[user_no]}, 컴퓨터: {r_s_p[computer_no]}')   \n",
    "    computer_no = random.randint(1,3)\n",
    "    \n",
    "    \n",
    "\n"
   ]
  },
  {
   "cell_type": "markdown",
   "metadata": {},
   "source": [
    "# "
   ]
  },
  {
   "cell_type": "markdown",
   "metadata": {},
   "source": [
    "# 가위바위보게임 해답"
   ]
  },
  {
   "cell_type": "code",
   "execution_count": 1,
   "metadata": {},
   "outputs": [
    {
     "name": "stdout",
     "output_type": "stream",
     "text": [
      "가위(1), 바위(2), 보(3)을 입력하세요!: 1\n",
      "유저: 가위, 컴퓨터 : 보\n",
      "가위(1), 바위(2), 보(3)을 입력하세요!: 2\n",
      "유저: 바위, 컴퓨터 : 가위\n",
      "가위(1), 바위(2), 보(3)을 입력하세요!: 3\n",
      "유저: 보, 컴퓨터 : 바위\n",
      "가위(1), 바위(2), 보(3)을 입력하세요!: 2\n",
      "유저: 바위, 컴퓨터 : 보\n",
      "가위(1), 바위(2), 보(3)을 입력하세요!: 3\n",
      "유저: 보, 컴퓨터 : 가위\n",
      "가위(1), 바위(2), 보(3)을 입력하세요!: 4\n",
      "total: 5, wins: 3, loses: 0\n"
     ]
    }
   ],
   "source": [
    "import random\n",
    "random.random()\n",
    "\n",
    "\n",
    "count_play = 0\n",
    "count_win = 0\n",
    "count_draw = 0\n",
    "\n",
    "word = ['가위', '바위', '보']\n",
    "user_no = int(input('가위(1), 바위(2), 보(3)을 입력하세요!: '))   \n",
    "computer_no = random.randint(1,3)\n",
    "\n",
    "while user_no in [1, 2, 3]:\n",
    "    \n",
    "    if user_no in [1,2,3]:\n",
    "        print(f'유저: {word[user_no-1]}, 컴퓨터 : {word[computer_no-1]}')\n",
    "    \n",
    "    if(user_no == 1 and computer_no == 3):\n",
    "        count_win += 1\n",
    "    elif(user_no==2 and computer_no ==1):\n",
    "        count_win += 1\n",
    "    elif(user_no ==3 and computer_no == 2):\n",
    "        count_win += 1\n",
    "    elif(user_no==computer_no):\n",
    "        count_draw += 1\n",
    "                  \n",
    "\n",
    "    computer_no = random.randint(1,3)  #컴퓨터 랜덤 숫자\n",
    "    user_no = int(input('가위(1), 바위(2), 보(3)을 입력하세요!: '))   #유저 인풋 숫자\n",
    "    count_play += 1 #전체 게임 숫자 증가\n",
    "                  \n",
    "print(f'total: {count_play}, wins: {count_win}, loses: {count_draw}')\n",
    "                                \n",
    "\n",
    "\n",
    "    \n",
    "    \n",
    "\n"
   ]
  },
  {
   "cell_type": "markdown",
   "metadata": {},
   "source": [
    "# 연습문제 7 "
   ]
  },
  {
   "cell_type": "code",
   "execution_count": null,
   "metadata": {},
   "outputs": [],
   "source": [
    "import random\n",
    "random.random()\n",
    "\n",
    "\n",
    "a = []\n",
    "maximum = 0\n",
    "\n",
    "while len(a) <= 100:\n",
    "    a.append(random.randint(1,1000))\n",
    "    \n",
    "\n",
    "# for i in range(100):\n",
    "#     a.append(random.randint(1,1000))\n",
    "    \n",
    "for i in a:\n",
    "    if i > maximum:\n",
    "        maximum = i\n",
    "\n",
    "print(maximum)\n",
    "\n",
    "min(a) ##리스트 안 가장 작은 수 구하기\n",
    "max(a) #리스트 안 가장 큰 수 구하기\n",
    "    "
   ]
  },
  {
   "cell_type": "markdown",
   "metadata": {},
   "source": [
    "# 연습문제 8"
   ]
  },
  {
   "cell_type": "code",
   "execution_count": null,
   "metadata": {},
   "outputs": [],
   "source": [
    "import random\n",
    "random.random()\n",
    "\n",
    "\n",
    "a = []\n",
    "total = 0\n",
    "\n",
    "while len(a) <= 100:\n",
    "    a.append(random.randint(1,1000))\n",
    "    \n",
    "for i in a:\n",
    "    total += i\n",
    "    \n",
    "print(total)\n",
    "print(sum(a))"
   ]
  },
  {
   "cell_type": "markdown",
   "metadata": {},
   "source": [
    "# list comprehension"
   ]
  },
  {
   "cell_type": "code",
   "execution_count": null,
   "metadata": {},
   "outputs": [],
   "source": [
    "a = [i for i in range(10) if i %2 == 0]\n",
    "print(a)\n",
    "a = []\n",
    "\n",
    "# for i in range(10):\n",
    "#     if i%2 == 0:\n",
    "#         a.append(i)\n",
    "        "
   ]
  },
  {
   "cell_type": "code",
   "execution_count": null,
   "metadata": {},
   "outputs": [],
   "source": [
    "a = [i * j for i in range(10, 20) for j in range(1, 10)]\n",
    "print(a)\n",
    "b = []\n",
    "for i in range(10,20):\n",
    "    for j in range(1,10):\n",
    "        b.append(i*j)\n",
    "print(b)"
   ]
  },
  {
   "cell_type": "markdown",
   "metadata": {},
   "source": [
    "# list zip 각 리스트의 value숫자가 같아야 사용할 수 있다"
   ]
  },
  {
   "cell_type": "code",
   "execution_count": null,
   "metadata": {},
   "outputs": [],
   "source": [
    "keys = ['name', 'age', 'address']\n",
    "users = ['tom', 20, 'seuol']\n",
    "\n",
    "user_dict = {key: users[idx] for idx, key in enumerate(keys)}\n",
    "print(user_dict)\n",
    "\n",
    "user_dict = list(zip(keys, users))\n",
    "print(user_dict)\n",
    "print(user_dict[0])\n",
    "print(user_dict[0][1])"
   ]
  },
  {
   "cell_type": "code",
   "execution_count": null,
   "metadata": {},
   "outputs": [],
   "source": [
    "t1 = (1, 2, 3)\n",
    "\n",
    "t1 = t1 + (4, 5)\n",
    "print(t1)"
   ]
  },
  {
   "cell_type": "markdown",
   "metadata": {},
   "source": [
    "# 연습문제 9"
   ]
  },
  {
   "cell_type": "code",
   "execution_count": null,
   "metadata": {},
   "outputs": [],
   "source": [
    "word = ['school', 'game', 'piano', 'science', 'hotel', 'mountountain']\n",
    "new_list = [i for i in word if len(i) >= 6]\n",
    "new_a = [len(i) for i in word]\n",
    "\n",
    "print(new_list)\n",
    "print(new_a)"
   ]
  },
  {
   "cell_type": "code",
   "execution_count": null,
   "metadata": {},
   "outputs": [],
   "source": [
    "a = [[10,20], [30, 40], [50, 60]]\n",
    "print(a)\n",
    "a.append([10,11])\n",
    "print(a)\n",
    "a[0].append(10)\n",
    "a[1].append(20)\n",
    "a[2].append(30)\n",
    "for x, y, z in a:\n",
    "    print(x,y)\n",
    "    \n",
    "dict_a = \n"
   ]
  },
  {
   "cell_type": "markdown",
   "metadata": {},
   "source": [
    "# 연습문제 9"
   ]
  },
  {
   "cell_type": "code",
   "execution_count": null,
   "metadata": {},
   "outputs": [],
   "source": [
    "# import numpy as np\n",
    "\n",
    "# a = [[10, 20], [30, 40], [50, 60]]\n",
    "# b = [[2,3], [4, 5], [6, 7]]\n",
    "\n",
    "# print(np.multiply(a,b))\n",
    "\n",
    "\n",
    "# a = [[10, 20], [30, 40], [50, 60]]\n",
    "# b = [[2,3], [4, 5], [6, 7]]\n",
    "# c = []\n",
    "# # for\n",
    "# # 1. for문을 통해서 큰 리스트 인덱스를 가져온다.\n",
    "# for i in range(len(a)):\n",
    "#     # 2. 각 인덱스를 통해서 a리스트와 b리스트의 작은 리스트의 값을 가져온다.\n",
    "#     small_a = a[i]\n",
    "#     s_a_0 = a[i][0]\n",
    "#     s_a_1 = a[i][1]\n",
    "# #     print(small_a)\n",
    "# #     print(s_a_0)\n",
    "# #     print(s_a_1)\n",
    "    \n",
    "#     small_b = b[i]\n",
    "#     s_b_0 = b[i][0]\n",
    "#     s_b_1 = b[i][1]\n",
    "# #     print(small_b)\n",
    "# #     print('-' *10)\n",
    "#     # 3. a리스트와 b리스트의 값을 곱하여 [a[i] * b[i], a[i+1] * b[i+1]] 추가하겠다.\n",
    "#     c.append([s_a_0 * s_b_0], [s_a_1 * s_b_1])\n",
    "# print(c)\n",
    "\n",
    "\n",
    "a = [[10, 20], [30, 40], [50, 60]]\n",
    "b = [[2,3], [4, 5], [6, 7]]\n",
    "c = []\n",
    "# 1. for문을 통해서 큰 리스트 인덱스를 가져온다.\n",
    "for i in range(len(a)):\n",
    "    c.append([a[i][0] * b[i][0], a[i][1] * b[i][1]])\n",
    "print(c)\n",
    "    \n"
   ]
  },
  {
   "cell_type": "code",
   "execution_count": null,
   "metadata": {},
   "outputs": [],
   "source": [
    "a = [[10, 20], [30, 40], [50, 60]]\n",
    "b = [[2,3], [4, 5], [6, 7]]\n",
    "\n",
    "c =[]\n",
    "d= []\n",
    "for x, y in a:\n",
    "    c.append({x, y})\n",
    "print(c)"
   ]
  },
  {
   "cell_type": "code",
   "execution_count": null,
   "metadata": {},
   "outputs": [],
   "source": [
    "# a = [[10, 20, 30], [30, 40, 50], [50, 60]]\n",
    "# b = [[2,3, 30], [4, 5, 30], [6, 7]]\n",
    "# c = []\n",
    "# for i in range(len(a)): # 3\n",
    "#     for j in range(len(a[i])): # [10,20,30]\n",
    "#         c.append(a[i][j] * b[i][j])\n",
    "# print(c)\n",
    "\n",
    "a = [[10, 20, 30], [30, 40, 50], [50, 60]]\n",
    "b = [[2,3, 30], [4, 5, 30], [6, 7]]\n",
    "c = []\n",
    "for i in range(len(a)): # 3\n",
    "    d = [] #d의 위치는 여기에 j for문이 끝날때마다 d를 초기화 시켜줘야 d[[]. [], []] 이렇게 묶임\n",
    "    for j in range(len(a[i])): # [10,20,30]\n",
    "        d.append(a[i][j] * b[i][j])\n",
    "    print(d)\n",
    "    c.append(d)\n",
    "print(c)"
   ]
  },
  {
   "cell_type": "markdown",
   "metadata": {},
   "source": [
    "# append / extend"
   ]
  },
  {
   "cell_type": "code",
   "execution_count": null,
   "metadata": {},
   "outputs": [],
   "source": [
    "a = [1, 2, 3, 4]\n",
    "a.extend([[5, 6], [7, 8]])\n",
    "a\n",
    "\n",
    "b.append({'key': 'value'})\n",
    "b"
   ]
  },
  {
   "cell_type": "markdown",
   "metadata": {},
   "source": [
    "# break & continue"
   ]
  },
  {
   "cell_type": "code",
   "execution_count": null,
   "metadata": {},
   "outputs": [],
   "source": [
    "num = int(input('숫자를 입력하세요: '))\n",
    "count = 0\n",
    "while True:\n",
    "    print('hi')\n",
    "    count += 1\n",
    "    if count == num:\n",
    "        break"
   ]
  },
  {
   "cell_type": "code",
   "execution_count": 6,
   "metadata": {},
   "outputs": [
    {
     "name": "stdout",
     "output_type": "stream",
     "text": [
      "숫자를 입력하세요: 20\n",
      "0\n",
      "2\n",
      "4\n",
      "6\n",
      "8\n",
      "10\n",
      "12\n",
      "14\n",
      "16\n",
      "18\n",
      "20\n"
     ]
    }
   ],
   "source": [
    "num = int(input('숫자를 입력하세요: '))\n",
    "\n",
    "for i in range(num + 1):\n",
    "    if i % 2 == 1:\n",
    "        continue\n",
    "    print(i)\n",
    "    "
   ]
  },
  {
   "cell_type": "code",
   "execution_count": null,
   "metadata": {},
   "outputs": [],
   "source": []
  }
 ],
 "metadata": {
  "kernelspec": {
   "display_name": "Python 3",
   "language": "python",
   "name": "python3"
  },
  "language_info": {
   "codemirror_mode": {
    "name": "ipython",
    "version": 3
   },
   "file_extension": ".py",
   "mimetype": "text/x-python",
   "name": "python",
   "nbconvert_exporter": "python",
   "pygments_lexer": "ipython3",
   "version": "3.7.3"
  }
 },
 "nbformat": 4,
 "nbformat_minor": 2
}
