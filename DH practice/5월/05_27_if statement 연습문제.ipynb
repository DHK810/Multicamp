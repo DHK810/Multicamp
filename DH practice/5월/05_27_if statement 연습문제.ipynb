{
 "cells": [
  {
   "cell_type": "markdown",
   "metadata": {},
   "source": [
    "# 조건문 If statement"
   ]
  },
  {
   "cell_type": "code",
   "execution_count": null,
   "metadata": {},
   "outputs": [],
   "source": [
    "a = 10\n",
    "\n",
    "if a== 10:\n",
    "    print(f'a는 {a}입니다')"
   ]
  },
  {
   "cell_type": "code",
   "execution_count": null,
   "metadata": {},
   "outputs": [],
   "source": [
    "\n"
   ]
  },
  {
   "cell_type": "code",
   "execution_count": 18,
   "metadata": {},
   "outputs": [
    {
     "name": "stdout",
     "output_type": "stream",
     "text": [
      "점수를 입력하세요40\n",
      "점수를 입력하세요50\n",
      "점수를 입력하세요60\n",
      "50.0 불합격\n"
     ]
    }
   ],
   "source": [
    "x = input('점수를 입력하세요')\n",
    "y = input('점수를 입력하세요')\n",
    "z = input('점수를 입력하세요')\n",
    "\n",
    "x = int(x)\n",
    "y = int(y)\n",
    "z = int(z)\n",
    "\n",
    "sum = x + y + z\n",
    "avg = sum / 3\n",
    "if x not in range(101):\n",
    "    print('잘못된 정수입니다')\n",
    "elif avg > 65:\n",
    "    print(f'{avg} 합격')\n",
    "else:\n",
    "    print(f'{avg} 불합격')"
   ]
  },
  {
   "cell_type": "markdown",
   "metadata": {},
   "source": [
    "# 홀짝 판별기"
   ]
  },
  {
   "cell_type": "code",
   "execution_count": 13,
   "metadata": {},
   "outputs": [
    {
     "name": "stdout",
     "output_type": "stream",
     "text": [
      "정수를 입력하세요: 0\n",
      "0는 애매합니다\n"
     ]
    }
   ],
   "source": [
    "a = int(input('정수를 입력하세요: '))\n",
    "if a % 2 == 1:\n",
    "    print(f'입력하신 {a}는 홀수입니다')\n",
    "elif a % 2 == 0 and a != 0:\n",
    "    print(f'입력하신 {a}는 짝수입니다')\n",
    "elif a == 0:\n",
    "    print(f'{a}는 애매합니다')\n",
    "else:\n",
    "    print(f'정수만 입력하세요')\n",
    "    "
   ]
  },
  {
   "cell_type": "code",
   "execution_count": null,
   "metadata": {},
   "outputs": [],
   "source": []
  }
 ],
 "metadata": {
  "kernelspec": {
   "display_name": "Python 3",
   "language": "python",
   "name": "python3"
  }
 },
 "nbformat": 4,
 "nbformat_minor": 2
}
