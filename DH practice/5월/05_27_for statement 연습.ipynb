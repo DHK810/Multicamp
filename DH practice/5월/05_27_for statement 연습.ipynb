{
 "cells": [
  {
   "cell_type": "code",
   "execution_count": null,
   "metadata": {},
   "outputs": [],
   "source": [
    "x = int(input('정수를 입력하세요'))\n",
    "for i in range(x):\n",
    "    print('안녕')"
   ]
  },
  {
   "cell_type": "code",
   "execution_count": null,
   "metadata": {},
   "outputs": [],
   "source": [
    "x = int(input('정수를 입력하세요'))\n",
    "output = ''\n",
    "for i in range(x):\n",
    "    output += '*'\n",
    "    print(output)\n",
    "    "
   ]
  },
  {
   "cell_type": "code",
   "execution_count": null,
   "metadata": {},
   "outputs": [],
   "source": [
    "x = int(input('정수를 입력하세요'))\n",
    "output = ''\n",
    "print(range(x))\n",
    "print(range(x, 0 , 1))\n",
    "for i in range(x, 0, -1):\n",
    "    output = '*' * i\n",
    "    print(output)\n"
   ]
  },
  {
   "cell_type": "markdown",
   "metadata": {},
   "source": [
    "# 중복"
   ]
  },
  {
   "cell_type": "code",
   "execution_count": null,
   "metadata": {},
   "outputs": [],
   "source": [
    "for i in range(10):\n",
    "    print('=' * 10)\n",
    "    \n",
    "    print(i, )"
   ]
  },
  {
   "cell_type": "markdown",
   "metadata": {},
   "source": [
    "# for문 list, tuple, set\n",
    "# for문 dixtionary"
   ]
  },
  {
   "cell_type": "code",
   "execution_count": null,
   "metadata": {},
   "outputs": [],
   "source": [
    "l1 = ['a', 'b', 'c', 'd']\n",
    "for i in l1:\n",
    "    "
   ]
  },
  {
   "cell_type": "markdown",
   "metadata": {},
   "source": [
    "# (1)  x = [3, 6, 9, 20, -7, 5] 의 값의 모든 요소에 10을 곱한뒤 출력하세요\n",
    "심화 : 출력과 리스트 x 의 값에도 모두 10을 곱해주세요\n"
   ]
  },
  {
   "cell_type": "code",
   "execution_count": null,
   "metadata": {},
   "outputs": [],
   "source": [
    "x = [3, 6, 9, 20, -7, 5]\n",
    "new_x = [i * 10 for i in x]\n",
    "print(new_x)\n",
    "\n",
    "for idx, val in enumerate(x):      #[(0,3), (1,6), (2,9), (3,20), (4,-7), (5, 5)]\n",
    "    x[idx] *= 10                   #x[0] *= 10 #x[0] = 3* 10\n",
    "                                   #enumerate는 리스트를 tuple(index, value)로 바꾼다. \n",
    "                                   #이렇게 해서 x의 index에 접근해서 리스트 속 값을 바꾼다.\n",
    "    \n",
    "    \n",
    "print(x)  \n",
    "\n",
    "for i in range(len(x)):\n",
    "    x[i] *= 10\n",
    "    \n",
    "    \n",
    "print(x)"
   ]
  },
  {
   "cell_type": "markdown",
   "metadata": {},
   "source": [
    "# (2)  y = {“math”: 70, “science”: 80, “english”: 20} 의 값의 모든 요소에 10을 더한뒤 출력하세요\n",
    "심화 : 출력과 딕셔너리 y 의 값에도 모두 10을 더해주세요\n"
   ]
  },
  {
   "cell_type": "code",
   "execution_count": null,
   "metadata": {},
   "outputs": [],
   "source": [
    "dict_y = {'math': 70, 'science': 80, 'english': 20}\n",
    "\n",
    "for keys, val in enumerate(dict_y): #[(index, keys)]   *************enumerate는 index 값을 가져오는게 아닌 index를 만든다.\n",
    "    dict_y[val] += 10               #dict_y[val] = value where value is '70' = 70 + 10\n",
    "    print(keys)\n",
    "    print(val)\n",
    "    print('=======')\n",
    "\n",
    "#for keys, val in enumerate(dict_y): #[(keys,values)] ?????????????????????왜 dictionary는 keys값으로 value값을 못받아오나\n",
    "##    dict_y[keys] += 10                   #dict_y[keys] = value of 'math' = 70 + 10\n",
    "#    print(dict_y)\n",
    "#print(dict_y)\n",
    "\n",
    "\n",
    "for x in dict_y:\n",
    "    dict_y[x] += 10\n",
    "    print(dict_y[x])\n",
    "print(dict_y)\n",
    "'__iter__' in dir(range(5))"
   ]
  },
  {
   "cell_type": "markdown",
   "metadata": {},
   "source": [
    "# 숫자를 입력받고 입력받은 정수의 구구단을 출력하세요\n"
   ]
  },
  {
   "cell_type": "code",
   "execution_count": null,
   "metadata": {},
   "outputs": [],
   "source": [
    "x = input('정수를 입력하세요: ')\n",
    "x = int(x)\n",
    "for i in range(1, 10, 1):\n",
    "    print(f'{x} * {i} = {x * i}')"
   ]
  },
  {
   "cell_type": "markdown",
   "metadata": {},
   "source": [
    "# (1) word = [“school”, “game”, “piano”, “science”, “hotel”, “mountian”] 중 글자수가 6글자 이상인 문자를 모아 새로운 리스트를 생성하세요"
   ]
  },
  {
   "cell_type": "code",
   "execution_count": null,
   "metadata": {},
   "outputs": [],
   "source": [
    "word = ['school', 'game', 'piano', 'science', 'hotel', 'mountain']\n",
    "new_list = []\n",
    "for x in word:\n",
    "    if len(x) >= 6:\n",
    "        new_list.append(x)\n",
    "\n",
    "print(word)\n",
    "print(new_list)"
   ]
  },
  {
   "cell_type": "markdown",
   "metadata": {},
   "source": [
    "# 구구단을 1단부터 9단까지 출력하세요"
   ]
  },
  {
   "cell_type": "code",
   "execution_count": null,
   "metadata": {},
   "outputs": [],
   "source": [
    "for i in range(1,10,1):\n",
    "    print(f'{i}단 시작합니다')\n",
    "    for j in range(1,10,1):\n",
    "        print(f'{i} * {j} = {i * j}')\n",
    "    "
   ]
  },
  {
   "cell_type": "markdown",
   "metadata": {},
   "source": [
    "# 1-100 까지 숫자중\n",
    "3과 5의 공배수일경우 “3과 5의 공배수”\n",
    "나머지 숫자중 3의배수일경우 “3의배수”\n",
    "나머지 숫자중 5의배수일경우 “5의배수”\n",
    "모두 해당되지 않을경우 그냥숫자\n",
    "를 출력하세요\n",
    "\n",
    "심화 : 1-입력한숫자까지의 숫자중\n"
   ]
  },
  {
   "cell_type": "code",
   "execution_count": null,
   "metadata": {},
   "outputs": [],
   "source": [
    "x = []\n",
    "y = []\n",
    "z = []\n",
    "for i in range(1, 101, 1):\n",
    "    if (i % 3) == 0 and (i % 5) == 0:\n",
    "        x.append(i)\n",
    "        print(f'{i}는 3과 5의 공배수')\n",
    "    elif (i % 3) == 0:\n",
    "        y.append(i)\n",
    "        print(f'{i}는 3의 배수')\n",
    "    elif (i % 5) == 0:\n",
    "        z.append(i)\n",
    "        print(f'{i}는 5의 배수')\n",
    "    else:\n",
    "        print(i)\n",
    "print('3과 5의 공배수: ',x)\n",
    "print('3의 배수: ', y)\n",
    "print('5의 배수: ', z)"
   ]
  },
  {
   "cell_type": "code",
   "execution_count": null,
   "metadata": {},
   "outputs": [],
   "source": [
    "num = input('숫자 입력하세요')\n",
    "x = int(num)\n",
    "\n",
    "if (x % 3) == 0 and (x % 5) == 0:\n",
    "    print(f'{x}는 3과 5의 공배수')\n",
    "elif (x % 3) == 0:\n",
    "    print(f'{x}는 3의 배수')\n",
    "elif (x % 5) == 0:\n",
    "    print(f'{x}는 5의 배수')\n",
    "else:\n",
    "    print(x)"
   ]
  },
  {
   "cell_type": "code",
   "execution_count": null,
   "metadata": {},
   "outputs": [],
   "source": []
  },
  {
   "cell_type": "code",
   "execution_count": null,
   "metadata": {},
   "outputs": [],
   "source": [
    "enumerate"
   ]
  },
  {
   "cell_type": "code",
   "execution_count": null,
   "metadata": {},
   "outputs": [],
   "source": [
    "enumerate(x)"
   ]
  },
  {
   "cell_type": "code",
   "execution_count": null,
   "metadata": {},
   "outputs": [],
   "source": []
  }
 ],
 "metadata": {
  "kernelspec": {
   "display_name": "Python 3",
   "language": "python",
   "name": "python3"
  },
  "language_info": {
   "codemirror_mode": {
    "name": "ipython",
    "version": 3
   },
   "file_extension": ".py",
   "mimetype": "text/x-python",
   "name": "python",
   "nbconvert_exporter": "python",
   "pygments_lexer": "ipython3",
   "version": "3.7.3"
  }
 },
 "nbformat": 4,
 "nbformat_minor": 2
}
