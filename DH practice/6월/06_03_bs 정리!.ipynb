{
 "cells": [
  {
   "cell_type": "markdown",
   "metadata": {},
   "source": [
    "# bs 정리"
   ]
  },
  {
   "cell_type": "code",
   "execution_count": null,
   "metadata": {},
   "outputs": [],
   "source": [
    "from bs4 import BeautifulSoup\n",
    "import requests\n",
    "\n",
    "resp = requests.get('https://search.naver.com/search.naver?where=news&query=%EB%A8%B8%EC%8B%A0%EB%9F%AC%EB%8B%9D&start=11')\n",
    "\n",
    "soup = BeautifulSoup(resp.content, 'html.parser')\n",
    "\n",
    "news_topic = soup.find('div', id= 'nxfr_htp')\n",
    "type(news_topic)"
   ]
  },
  {
   "cell_type": "code",
   "execution_count": null,
   "metadata": {},
   "outputs": [],
   "source": [
    "news_topic_all = soup.find_all('div', id= 'nxfr_htp')\n",
    "type(news_topic_all)  #type = listSet type(news_topic_all[0]) #인덱스로 접근해야한다."
   ]
  },
  {
   "cell_type": "code",
   "execution_count": null,
   "metadata": {},
   "outputs": [],
   "source": [
    "news_topic_all"
   ]
  },
  {
   "cell_type": "markdown",
   "metadata": {},
   "source": [
    "# 태그여야만 (find, find_all 등을 사용하 수 있음)"
   ]
  },
  {
   "cell_type": "code",
   "execution_count": null,
   "metadata": {},
   "outputs": [],
   "source": [
    "news_topic.find('ol')"
   ]
  },
  {
   "cell_type": "code",
   "execution_count": null,
   "metadata": {},
   "outputs": [],
   "source": [
    "news_topic_all.find('ol')  #태그가 아닌 리스트이기 때문에 사용 불가"
   ]
  },
  {
   "cell_type": "code",
   "execution_count": null,
   "metadata": {
    "scrolled": true
   },
   "outputs": [],
   "source": [
    "news_topic_all.text #리스트이기 때문에 안됌"
   ]
  },
  {
   "cell_type": "code",
   "execution_count": null,
   "metadata": {},
   "outputs": [],
   "source": [
    "news_topic.text"
   ]
  },
  {
   "cell_type": "markdown",
   "metadata": {},
   "source": [
    "# # li 찾기"
   ]
  },
  {
   "cell_type": "code",
   "execution_count": null,
   "metadata": {
    "scrolled": true
   },
   "outputs": [],
   "source": [
    "news_topic.find_all('li')  # 태그에서 바로 li를 찾으면 html 속 모든 li를 찾게됨. 우리가 원하는 li만 나오지 않음"
   ]
  },
  {
   "cell_type": "code",
   "execution_count": null,
   "metadata": {},
   "outputs": [],
   "source": [
    "ol_tags = news_topic.find_all('ol') # ol하나는 연예스포츠, 다른 하나는 뉴스\n",
    "print(len(ol_tags))\n",
    "print(ol_tags)\n"
   ]
  },
  {
   "cell_type": "code",
   "execution_count": null,
   "metadata": {},
   "outputs": [],
   "source": [
    "news_ol, sports_ol = ol_tags\n",
    "print(news_ol)  #뉴스 li\n",
    "print(sports_ol) #연예스포츠 li\n"
   ]
  },
  {
   "cell_type": "code",
   "execution_count": null,
   "metadata": {},
   "outputs": [],
   "source": [
    "print(news_ol.contents) # contents는 직속 자식들을 호출\n",
    "len(news_ol.contents)"
   ]
  },
  {
   "cell_type": "code",
   "execution_count": null,
   "metadata": {},
   "outputs": [],
   "source": [
    "li_list = news_ol.contents\n",
    "\n",
    "for item in li_list:\n",
    "    #print(item.find('a'))\n",
    "    #print(item.contents[0]) 모두 가능\n",
    "    #print(item.a)\n",
    "    a_tag = item.find('a')\n",
    "    #print(a_tag.attrs['']) 속성 접근 방법\n",
    "    #a_tag['']\n",
    "    #print(a_tag.attrs['href'])\n",
    "    #print(a_tag.text)\n",
    "    \n",
    "    print(a_tag)\n",
    "    print('0'*10)\n",
    "    print(a_tag.find('span', class_ = 'tit').text)\n",
    "    \n",
    "    span_tag = a_tag.find('span', class_ ='tit')\n",
    "    span_text = span_tag.text\n",
    "    print(span_text)\n",
    "    \n",
    "    break"
   ]
  },
  {
   "cell_type": "code",
   "execution_count": null,
   "metadata": {},
   "outputs": [],
   "source": []
  },
  {
   "cell_type": "code",
   "execution_count": null,
   "metadata": {},
   "outputs": [],
   "source": []
  },
  {
   "cell_type": "code",
   "execution_count": null,
   "metadata": {},
   "outputs": [],
   "source": []
  },
  {
   "cell_type": "code",
   "execution_count": null,
   "metadata": {},
   "outputs": [],
   "source": []
  },
  {
   "cell_type": "code",
   "execution_count": null,
   "metadata": {},
   "outputs": [],
   "source": []
  }
 ],
 "metadata": {
  "kernelspec": {
   "display_name": "Python 3",
   "language": "python",
   "name": "python3"
  },
  "language_info": {
   "codemirror_mode": {
    "name": "ipython",
    "version": 3
   },
   "file_extension": ".py",
   "mimetype": "text/x-python",
   "name": "python",
   "nbconvert_exporter": "python",
   "pygments_lexer": "ipython3",
   "version": "3.7.3"
  }
 },
 "nbformat": 4,
 "nbformat_minor": 2
}
