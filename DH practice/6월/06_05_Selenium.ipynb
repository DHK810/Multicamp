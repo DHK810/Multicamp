{
 "cells": [
  {
   "cell_type": "code",
   "execution_count": null,
   "metadata": {},
   "outputs": [],
   "source": [
    "from selenium import webdriver\n",
    "\n",
    "driver_path = 'C:\\\\Users\\\\15Z970-GA5BK\\\\Downloads\\\\chromedriver.exe'\n",
    "\n",
    "driver = webdriver.Chrome(driver_path)"
   ]
  },
  {
   "cell_type": "code",
   "execution_count": null,
   "metadata": {},
   "outputs": [],
   "source": [
    "driver"
   ]
  },
  {
   "cell_type": "markdown",
   "metadata": {},
   "source": [
    "# driver.get()"
   ]
  },
  {
   "cell_type": "code",
   "execution_count": null,
   "metadata": {},
   "outputs": [],
   "source": [
    "driver.get('https://www.naver.com')"
   ]
  },
  {
   "cell_type": "code",
   "execution_count": null,
   "metadata": {},
   "outputs": [],
   "source": [
    "//*[@id=\"PM_ID_serviceNavi\"]/li[9]/a"
   ]
  },
  {
   "cell_type": "code",
   "execution_count": null,
   "metadata": {},
   "outputs": [],
   "source": [
    "driver.get('https://www.facebook.com')"
   ]
  },
  {
   "cell_type": "code",
   "execution_count": null,
   "metadata": {},
   "outputs": [],
   "source": [
    "webtoon_elem = driver.find_element_by_xpath('//*[@id=\"PM_ID_serviceNavi\"]/li[9]/a')\n",
    "webtoon_elem"
   ]
  },
  {
   "cell_type": "code",
   "execution_count": null,
   "metadata": {},
   "outputs": [],
   "source": [
    "webtoon_elem.click()"
   ]
  },
  {
   "cell_type": "code",
   "execution_count": null,
   "metadata": {},
   "outputs": [],
   "source": [
    "login_btn = driver.find_element_by_xpath('//*[@id=\"gnb_login_button\"]')\n",
    "login_btn.click()"
   ]
  },
  {
   "cell_type": "code",
   "execution_count": null,
   "metadata": {},
   "outputs": [],
   "source": [
    "login_btn = driver.find_element_by_xpath('//*[@id=\"gnb_login_button\"]/span[3]')\n",
    "login_btn.click()"
   ]
  },
  {
   "cell_type": "code",
   "execution_count": null,
   "metadata": {},
   "outputs": [],
   "source": [
    "id_input = driver.find_element_by_xpath('//*[@id=\"id\"]')\n",
    "pw_input = driver.find_element_by_xpath('//*[@id=\"pw\"]')"
   ]
  },
  {
   "cell_type": "code",
   "execution_count": null,
   "metadata": {},
   "outputs": [],
   "source": [
    "id_input.send_keys('dhkang810')\n",
    "pw_input.send_keys('123123')"
   ]
  },
  {
   "cell_type": "code",
   "execution_count": null,
   "metadata": {},
   "outputs": [],
   "source": []
  },
  {
   "cell_type": "code",
   "execution_count": null,
   "metadata": {},
   "outputs": [],
   "source": [
    "dir(driver)"
   ]
  },
  {
   "cell_type": "markdown",
   "metadata": {},
   "source": [
    "# Request"
   ]
  },
  {
   "cell_type": "code",
   "execution_count": null,
   "metadata": {},
   "outputs": [],
   "source": [
    "import requests\n",
    "headers = {\n",
    "    'User-Agent' : 'Mozilla/5.0 (Windows NT 10.0; Win64; x64) AppleWebKit/537.36 (KHTML, like Gecko) Chrome/74.0.3729.169 Safari/537.36'\n",
    "}\n",
    "resp = requests.get('https://www.naver.com', headers = headers)\n",
    "resp.content"
   ]
  },
  {
   "cell_type": "markdown",
   "metadata": {},
   "source": [
    "# webdriver element/elements 찾기"
   ]
  },
  {
   "cell_type": "code",
   "execution_count": null,
   "metadata": {},
   "outputs": [],
   "source": [
    "from selenium import webdriver\n",
    "\n",
    "driver_path = 'C:\\\\Users\\\\15Z970-GA5BK\\\\Downloads\\\\chromedriver.exe'\n",
    "\n",
    "driver = webdriver.Chrome(driver_path)\n",
    "\n",
    "driver.get('https://www.naver.com')\n",
    "\n",
    "elem = driver.find_element_by_class_name('an_l')\n",
    "print(elem.get_attribute('class'))\n",
    "\n",
    "                                         "
   ]
  },
  {
   "cell_type": "code",
   "execution_count": null,
   "metadata": {},
   "outputs": [],
   "source": [
    "elem.text"
   ]
  },
  {
   "cell_type": "code",
   "execution_count": null,
   "metadata": {},
   "outputs": [],
   "source": [
    "li_elem = driver.find_elements_by_class_name('an_item')\n",
    "print(li_elem)\n"
   ]
  },
  {
   "cell_type": "code",
   "execution_count": null,
   "metadata": {},
   "outputs": [],
   "source": [
    "li_list = []\n",
    "for li in li_elem:\n",
    "    try:\n",
    "        \n",
    "        li_list.append({\n",
    "            'link' : li.find_element_by_class_name('an_a').get_attribute('href'),\n",
    "            'text' : li.text\n",
    "        })\n",
    "    except:\n",
    "        pass\n",
    "li_list\n",
    "    \n",
    "#for li in li_elem:\n",
    "#    driver.get(li['link'])"
   ]
  },
  {
   "cell_type": "markdown",
   "metadata": {},
   "source": [
    "# find element by id"
   ]
  },
  {
   "cell_type": "code",
   "execution_count": null,
   "metadata": {},
   "outputs": [],
   "source": [
    "elem = driver.find_element_by_id('PM_ID_serviceNavi')\n",
    "elem"
   ]
  },
  {
   "cell_type": "code",
   "execution_count": null,
   "metadata": {},
   "outputs": [],
   "source": [
    "elem.text"
   ]
  },
  {
   "cell_type": "code",
   "execution_count": null,
   "metadata": {},
   "outputs": [],
   "source": [
    "elem2 = driver.find_elements_by_id('PM_ID_serviceNavi')\n",
    "print(elem2[0])"
   ]
  },
  {
   "cell_type": "markdown",
   "metadata": {},
   "source": [
    "# find_element_by_link_text"
   ]
  },
  {
   "cell_type": "code",
   "execution_count": null,
   "metadata": {},
   "outputs": [],
   "source": [
    "login_elem = driver.find_element_by_link_text('NAVER 로그인')\n",
    "login_elem.click()"
   ]
  },
  {
   "cell_type": "code",
   "execution_count": null,
   "metadata": {},
   "outputs": [],
   "source": [
    "login_Elem2 = driver.find_elements_by_link_text('NAVER 로그인')\n",
    "login_elem2"
   ]
  },
  {
   "cell_type": "markdown",
   "metadata": {},
   "source": [
    "# find_element_by_tag_name"
   ]
  },
  {
   "cell_type": "code",
   "execution_count": 5,
   "metadata": {},
   "outputs": [
    {
     "data": {
      "text/plain": [
       "<selenium.webdriver.remote.webelement.WebElement (session=\"7a3c1c57d9ab4fa5bcc21a9a31f089c1\", element=\"0.7463843375270296-1\")>"
      ]
     },
     "execution_count": 5,
     "metadata": {},
     "output_type": "execute_result"
    }
   ],
   "source": [
    "h3_tag = driver.find_element_by_tag_name('h3')\n",
    "h3_tag"
   ]
  },
  {
   "cell_type": "code",
   "execution_count": 7,
   "metadata": {},
   "outputs": [
    {
     "data": {
      "text/plain": [
       "[<selenium.webdriver.remote.webelement.WebElement (session=\"7a3c1c57d9ab4fa5bcc21a9a31f089c1\", element=\"0.7463843375270296-1\")>,\n",
       " <selenium.webdriver.remote.webelement.WebElement (session=\"7a3c1c57d9ab4fa5bcc21a9a31f089c1\", element=\"0.7463843375270296-2\")>,\n",
       " <selenium.webdriver.remote.webelement.WebElement (session=\"7a3c1c57d9ab4fa5bcc21a9a31f089c1\", element=\"0.7463843375270296-3\")>,\n",
       " <selenium.webdriver.remote.webelement.WebElement (session=\"7a3c1c57d9ab4fa5bcc21a9a31f089c1\", element=\"0.7463843375270296-4\")>,\n",
       " <selenium.webdriver.remote.webelement.WebElement (session=\"7a3c1c57d9ab4fa5bcc21a9a31f089c1\", element=\"0.7463843375270296-5\")>,\n",
       " <selenium.webdriver.remote.webelement.WebElement (session=\"7a3c1c57d9ab4fa5bcc21a9a31f089c1\", element=\"0.7463843375270296-6\")>,\n",
       " <selenium.webdriver.remote.webelement.WebElement (session=\"7a3c1c57d9ab4fa5bcc21a9a31f089c1\", element=\"0.7463843375270296-7\")>,\n",
       " <selenium.webdriver.remote.webelement.WebElement (session=\"7a3c1c57d9ab4fa5bcc21a9a31f089c1\", element=\"0.7463843375270296-8\")>,\n",
       " <selenium.webdriver.remote.webelement.WebElement (session=\"7a3c1c57d9ab4fa5bcc21a9a31f089c1\", element=\"0.7463843375270296-9\")>,\n",
       " <selenium.webdriver.remote.webelement.WebElement (session=\"7a3c1c57d9ab4fa5bcc21a9a31f089c1\", element=\"0.7463843375270296-10\")>,\n",
       " <selenium.webdriver.remote.webelement.WebElement (session=\"7a3c1c57d9ab4fa5bcc21a9a31f089c1\", element=\"0.7463843375270296-11\")>,\n",
       " <selenium.webdriver.remote.webelement.WebElement (session=\"7a3c1c57d9ab4fa5bcc21a9a31f089c1\", element=\"0.7463843375270296-12\")>,\n",
       " <selenium.webdriver.remote.webelement.WebElement (session=\"7a3c1c57d9ab4fa5bcc21a9a31f089c1\", element=\"0.7463843375270296-13\")>,\n",
       " <selenium.webdriver.remote.webelement.WebElement (session=\"7a3c1c57d9ab4fa5bcc21a9a31f089c1\", element=\"0.7463843375270296-14\")>,\n",
       " <selenium.webdriver.remote.webelement.WebElement (session=\"7a3c1c57d9ab4fa5bcc21a9a31f089c1\", element=\"0.7463843375270296-15\")>,\n",
       " <selenium.webdriver.remote.webelement.WebElement (session=\"7a3c1c57d9ab4fa5bcc21a9a31f089c1\", element=\"0.7463843375270296-16\")>,\n",
       " <selenium.webdriver.remote.webelement.WebElement (session=\"7a3c1c57d9ab4fa5bcc21a9a31f089c1\", element=\"0.7463843375270296-17\")>]"
      ]
     },
     "execution_count": 7,
     "metadata": {},
     "output_type": "execute_result"
    }
   ],
   "source": [
    "h3_tag2 = driver.find_elements_by_tag_name('h3')\n",
    "h3_tag2"
   ]
  },
  {
   "cell_type": "code",
   "execution_count": 10,
   "metadata": {},
   "outputs": [
    {
     "data": {
      "text/plain": [
       "{'width': 1051, 'height': 806}"
      ]
     },
     "execution_count": 10,
     "metadata": {},
     "output_type": "execute_result"
    }
   ],
   "source": [
    "driver.get_window_size()"
   ]
  },
  {
   "cell_type": "code",
   "execution_count": 15,
   "metadata": {},
   "outputs": [],
   "source": [
    "driver.minimize_window()"
   ]
  },
  {
   "cell_type": "code",
   "execution_count": 16,
   "metadata": {},
   "outputs": [],
   "source": [
    "driver.maximize_window()"
   ]
  },
  {
   "cell_type": "markdown",
   "metadata": {},
   "source": [
    "# screenshot"
   ]
  },
  {
   "cell_type": "code",
   "execution_count": 67,
   "metadata": {},
   "outputs": [],
   "source": [
    "from selenium import webdriver\n",
    "\n",
    "driver_path = 'C:\\\\Users\\\\15Z970-GA5BK\\\\Downloads\\\\chromedriver.exe'\n",
    "\n",
    "driver = webdriver.Chrome(driver_path)\n",
    "driver.get('https://shopping.naver.com/')\n"
   ]
  },
  {
   "cell_type": "code",
   "execution_count": 43,
   "metadata": {},
   "outputs": [],
   "source": [
    "search_bar = driver.find_element_by_xpath('//*[@id=\"autocompleteWrapper\"]/input[1]')\n",
    "search_bar.send_keys('향수')\n",
    "search_btn = driver.find_element_by_xpath('//*[@id=\"autocompleteWrapper\"]/a[2]').click()"
   ]
  },
  {
   "cell_type": "code",
   "execution_count": 44,
   "metadata": {
    "scrolled": false
   },
   "outputs": [
    {
     "name": "stdout",
     "output_type": "stream",
     "text": [
      "<selenium.webdriver.remote.webelement.WebElement (session=\"802971b4a5ab9f06381f5813e9b609ec\", element=\"0.2920514271274559-1\")>\n"
     ]
    }
   ],
   "source": [
    "new_perfume_elem = driver.find_element_by_xpath('//*[@id=\"_search_list\"]/div[1]/ul/li[1]')\n",
    "print(new_perfume_elem)\n",
    "#with open ('perfume.png', 'wb') as f:\n",
    "#    f.write(new_perfume_elem.screenshot_as_png)"
   ]
  },
  {
   "cell_type": "code",
   "execution_count": 46,
   "metadata": {
    "scrolled": false
   },
   "outputs": [],
   "source": [
    "with open('perfume.png', 'wb') as f:\n",
    "    f.write(new_perfume_elem.screenshot_as_png)"
   ]
  },
  {
   "cell_type": "markdown",
   "metadata": {},
   "source": [
    "# back, forward"
   ]
  },
  {
   "cell_type": "code",
   "execution_count": null,
   "metadata": {},
   "outputs": [],
   "source": []
  },
  {
   "cell_type": "code",
   "execution_count": 49,
   "metadata": {},
   "outputs": [],
   "source": [
    "driver.back()"
   ]
  },
  {
   "cell_type": "code",
   "execution_count": 50,
   "metadata": {},
   "outputs": [],
   "source": [
    "driver.forward()"
   ]
  },
  {
   "cell_type": "code",
   "execution_count": 35,
   "metadata": {},
   "outputs": [
    {
     "data": {
      "text/plain": [
       "<selenium.webdriver.remote.webelement.WebElement (session=\"d67fb23896566d6576442e669ba70b04\", element=\"0.7668047969656038-1\")>"
      ]
     },
     "execution_count": 35,
     "metadata": {},
     "output_type": "execute_result"
    }
   ],
   "source": [
    "search_elem = driver.find_element_by_xpath('//*[@id=\"autocompleteWrapper\"]/input[1]')\n",
    "search_elem"
   ]
  },
  {
   "cell_type": "markdown",
   "metadata": {},
   "source": [
    "# 왓챠 '기생충' 검색"
   ]
  },
  {
   "cell_type": "code",
   "execution_count": 78,
   "metadata": {},
   "outputs": [],
   "source": [
    "from selenium import webdriver\n",
    "\n",
    "driver_path = 'C:\\\\Users\\\\15Z970-GA5BK\\\\Downloads\\\\chromedriver.exe'\n",
    "\n",
    "driver = webdriver.Chrome(driver_path)\n",
    "driver.get('https://watcha.com/ko-KR/')"
   ]
  },
  {
   "cell_type": "markdown",
   "metadata": {},
   "source": [
    "# 한번에 실행하면 에러 웹페이지 로딩 시간이 program을 못따라가서 에러가 나옴"
   ]
  },
  {
   "cell_type": "code",
   "execution_count": null,
   "metadata": {},
   "outputs": [],
   "source": [
    "search_elem = driver.find_element_by_xpath('//*[@id=\"search_bar_in_home\"]')\n",
    "search_elem.send_keys('기생충')\n",
    "search_elem.send_keys(u'\\ue007')\n",
    "a_link = driver.find_element_by_xpath('//*[@id=\"root\"]/div/div[1]/section/section/section[1]/div[2]/div[1]/div/div/div/ul/li[1]/a/div[1]/div/img')\n",
    "a_link   #웹페이지 로딩 시간이 program을 못따라가서 에러가 나옴"
   ]
  },
  {
   "cell_type": "markdown",
   "metadata": {},
   "source": [
    "# sleep 함수로 기다리기"
   ]
  },
  {
   "cell_type": "code",
   "execution_count": 82,
   "metadata": {},
   "outputs": [
    {
     "data": {
      "text/plain": [
       "<selenium.webdriver.remote.webelement.WebElement (session=\"b6604951f40dc8315d86a2cb4baecdb2\", element=\"0.8010065276728233-2\")>"
      ]
     },
     "execution_count": 82,
     "metadata": {},
     "output_type": "execute_result"
    }
   ],
   "source": [
    "from selenium import webdriver\n",
    "from time import sleep\n",
    "driver_path = 'C:\\\\Users\\\\15Z970-GA5BK\\\\Downloads\\\\chromedriver.exe'\n",
    "\n",
    "driver = webdriver.Chrome(driver_path)\n",
    "driver.get('https://watcha.com/ko-KR/')\n",
    "search_elem = driver.find_element_by_xpath('//*[@id=\"search_bar_in_home\"]')\n",
    "search_elem.send_keys('기생충')\n",
    "search_elem.send_keys(u'\\ue007')\n",
    "sleep(3)\n",
    "a_link = driver.find_element_by_xpath('//*[@id=\"root\"]/div/div[1]/section/section/section[1]/div[2]/div[1]/div/div/div/ul/li[1]/a/div[1]/div/img')\n",
    "a_link   #웹페이지 로딩 시간이 program을 못따라가서 에러가 나옴"
   ]
  },
  {
   "cell_type": "markdown",
   "metadata": {},
   "source": [
    "# driver.implicitly_wait(10) 10초 동안 기다리다가 내가 원하는게 나오면 실행"
   ]
  },
  {
   "cell_type": "code",
   "execution_count": 45,
   "metadata": {},
   "outputs": [],
   "source": [
    "from selenium import webdriver\n",
    "driver_path = 'C:\\\\Users\\\\15Z970-GA5BK\\\\Downloads\\\\chromedriver.exe'\n",
    "\n",
    "driver = webdriver.Chrome(driver_path)\n",
    "driver.get('https://watcha.com/ko-KR/')\n",
    "search_elem = driver.find_element_by_xpath('//*[@id=\"search_bar_in_home\"]')\n",
    "search_elem.send_keys('기생충')\n",
    "search_elem.send_keys(u'\\ue007')\n",
    "#10초 웨이팅\n",
    "driver.implicitly_wait(10)\n",
    "\n",
    "a_link = driver.find_element_by_xpath('//*[@id=\"root\"]/div/div[1]/section/section/section[1]/div[2]/div[1]/div/div/div/ul/li[1]/a/div[1]/div/img')\n",
    "a_link.click()   #웹페이지 로딩 시간이 program을 못따라가서 에러가 나옴\n"
   ]
  },
  {
   "cell_type": "markdown",
   "metadata": {},
   "source": [
    "# ActionChain 동적 페이지(스크롤 내리면 또 다른 리스트가 나오는 페이지)를 크롤링할 때 응용"
   ]
  },
  {
   "cell_type": "code",
   "execution_count": 59,
   "metadata": {},
   "outputs": [],
   "source": [
    "from selenium import webdriver\n",
    "driver_path = 'C:\\\\Users\\\\15Z970-GA5BK\\\\Downloads\\\\chromedriver.exe'\n",
    "\n",
    "driver = webdriver.Chrome(driver_path)\n",
    "driver.get('https://watcha.com/ko-KR/')\n",
    "search_elem = driver.find_element_by_xpath('//*[@id=\"search_bar_in_home\"]')\n",
    "search_elem.send_keys('기생충')\n",
    "\n",
    "#엔터 키 입력\n",
    "search_elem.send_keys(u'\\ue007')\n",
    "\n",
    "#10초 웨이팅\n",
    "driver.implicitly_wait(10)\n",
    "\n",
    "#첫번째 이미지로 이동\n",
    "a_link = driver.find_element_by_xpath('//*[@id=\"root\"]/div/div[1]/section/section/section[1]/div[2]/div[1]/div/div/div/ul/li[1]/a/div[1]/div/img')\n",
    "a_link.click()\n",
    "driver.implicitly_wait(10)\n",
    "\n",
    "from selenium.webdriver.common.action_chains import ActionChains\n",
    "\n",
    "#회원가입 버튼 찾기\n",
    "sign_up_btn = driver.find_element_by_xpath('//*[@id=\"root\"]/div/div[1]/header/nav/div/div/ul/li[2]/button')\n",
    "\n",
    "# actions start\n",
    "actions = ActionChains(driver)\n",
    "\n",
    "actions.move_to_element(sign_up_btn) #회원가입으로 이동\n",
    "actions.click(sign_up_btn)  #회원가입 클릭\n",
    "\n",
    "#actions 실행\n",
    "actions.perform()\n",
    "\n",
    "# actions reset\n",
    "actions.reset_actions()\n",
    "\n",
    "# 10초 웨이팅\n",
    "driver.implicitly_wait(10)\n",
    "\n",
    "name_input = driver.find_element_by_xpath('//*[@id=\"sign_up_name\"]')\n",
    "email_input = driver.find_element_by_xpath('//*[@id=\"sign_up_email\"]')\n",
    "pwd_input = driver.find_element_by_xpath('//*[@id=\"sign_up_password\"]')\n",
    "\n",
    "#action start\n",
    "actions.move_to_element(name_input)\n",
    "actions.click(name_input)\n",
    "actions.send_keys('dhkang810')\n",
    "actions.move_to_element(email_input)\n",
    "actions.click(email_input)\n",
    "actions.send_keys('dhkang810@gmail.com')\n",
    "actions.move_to_element(pwd_input)\n",
    "actions.click(pwd_input)\n",
    "actions.send_keys('123123')\n",
    "actions.perform()"
   ]
  },
  {
   "cell_type": "code",
   "execution_count": 49,
   "metadata": {},
   "outputs": [],
   "source": [
    "sign_up = driver.find_element_by_xpath('//*[@id=\"root\"]/div/div[1]/div/nav/ul/li[2]/button')\n",
    "sign_up.click()"
   ]
  },
  {
   "cell_type": "markdown",
   "metadata": {},
   "source": [
    "# css를 활용한 태그 찾기"
   ]
  },
  {
   "cell_type": "code",
   "execution_count": 61,
   "metadata": {},
   "outputs": [],
   "source": [
    "import requests\n",
    "from bs4 import BeautifulSoup\n",
    "url = 'https://sports.news.naver.com/mlb/news/read.nhn?oid=460&aid=0000001046'\n",
    "resp = requests.get(url)\n",
    "soup = BeautifulSoup(resp.content)"
   ]
  },
  {
   "cell_type": "code",
   "execution_count": 62,
   "metadata": {},
   "outputs": [
    {
     "data": {
      "text/plain": [
       "[<p> <img alt=\"\" src=\"https://imgnews.pstatic.net/image/460/2019/06/05/131458707_GettyImages-1153766749.jpg?type=w647\"/></p>,\n",
       " <p><strong><font color=\"#ff0000\">오늘의 코리안리거</font><br/>류현진 7이닝 2K 0실점(3안0볼) era 1.35</strong></p>,\n",
       " <p><strong>추신수 5타수2안타 1볼넷(.302 .386 .552)<br/>최지만 1타수1안타 0볼넷(.265 .344 .418)</strong></p>,\n",
       " <p><strong><font color=\"#ff6c00\">다저스(43승19패) 9-0 애리조나(30승32패)</font><br/><font color=\"#0075c8\">W: 류현진(9-1 1.35) L: 클라크(1-2 4.43)</font></strong><br/>류현진은 어깨 수술 이후 체이스필드 3경기 1패 9.00(9이닝 9실점). 9이닝 동안 볼넷을 9개나 내줄 정도로 류현진답지 않았다. 또한 직전 체이스필드 등판에서는 사타구니 부상으로 1.1이닝만에 내려가는 악몽도 있었다(2018년 5월3일). 출발은 어수선했다. 다저스 내야진은 1회부터 실책 두 개를 범하면서 류현진을 곤경에 빠뜨렸다(1루수 프리스, 유격수 시거). 하지만 이러한 상황이 처음은 아니었기에 당황하지 않았다(워커 땅볼). 2회를 3자범퇴로 끝낸 류현진은 3회 득점권에 주자를 내보냈다. 선두타자 출루가 이뤄질 뻔 했던 투수 클라크는 1루 송구가 빗나간 틈을 타 2루를 노리다 벨린저에게 저격당했다(챌린지). 다음타자 마르테가 2루타를 때려내면서 더 다행인 상황. 류현진은 계속된 1사 2루에서 에두아르도 에스코바와 애덤 존스를 삼진, 땅볼로 잡고 이닝을 끝냈다. 이후 류현진은 4회부터 6회까지 나온 9타자를 모두 범타로 돌려세워 특유의 안정적인 피칭을 이어갔다. 1회 벨린저의 홈런성 3루타로 두 점을 선취한 다저스는 3회 프리스의 땅볼로 한 점 더 추가(3-0). 7회초 키케 에르난데스의 홈런(10호)과 시거의 적시타로 류현진에게 힘을 실어줬다. 류현진은 워커를 안타로 내보낸 7회말 시거의 또 다른 실책으로 1사 1,3루로 위기가 확대. 그럼에도 아랑곳하지 않고 병살타로 직접 위기를 극복했다. 7이닝 2K 무실점(3안타 무사사구) 피칭(104구). 오늘도 득점권에서는 안타를 맞지 않았다(5타수무안타).</p>,\n",
       " <p><strong><font color=\"#0075c8\">류현진 시즌별 6월 첫 등판</font></strong></p>,\n",
       " <p><strong>(13/6/8) 7.2이닝 1실점 - 애틀랜타<br/>(14/6/7) 6.0이닝 2실점 - 콜로라도<br/>(17/6/6) 7.0이닝 4실점 - 워싱턴<br/>(19/6/5) 7.0이닝 0실점 - 애리조나</strong></p>,\n",
       " <p><strong>*2015-16(어깨)&amp;2018년(사타구니) 부상</strong></p>,\n",
       " <p><strong><font color=\"#0075c8\">오늘 구종 분포 내용</font></strong></p>,\n",
       " <p><strong>체인 - 41구<br/>포심 - 26구<br/>커터 - 15구<br/>투심 - 11구<br/>커브 - 10구<br/>슬라 -  1구</strong></p>,\n",
       " <p><strong><font color=\"#0075c8\">올 시즌 평균자책점 순위</font></strong></p>,\n",
       " <p><strong>1.35 - 류현진 (80.0)<br/>1.96 - 오도리지 (64.1)<br/>2.20 - 데이비스 (69.2)<br/>2.27 - 벌랜더 (87.1)<br/>2.38 - 카스티요 (75.2)</strong></p>,\n",
       " <p><strong><font color=\"#0075c8\">1년 전 오늘 ERA 순위</font></strong></p>,\n",
       " <p><strong>1.24 - 벌랜더 (87.1)<br/>1.49 - 디그롬 (72.1)<br/>1.92 - 슈어저 (79.2)<br/>2.02 - 클루버 (84.2)<br/>2.18 - 놀라 (78.1)</strong></p>,\n",
       " <p><strong><strong><font color=\"#0075c8\">류현진 원정 부진도 옛 말</font></strong></strong></p>,\n",
       " <p><strong>18 [홈] 5승2패 1.15 [원] 2승1패 3.58<br/>19 [홈] 6승0패 1.01 [원] 3승1패 1.78</strong></p>,\n",
       " <p>오늘 류현진은 삼진보다 맞혀잡는 피칭에 집중. 그런데 내야진의 불안한 수비로 하마터면 큰일날 뻔 했다. 마르테에게 2루타를 내주긴 했지만, 오늘 류현진은 정타를 억제하는 데 성공했다. 평균 타구속도 82.5마일이 이를 증명. 류현진은 5월 이후 7경기에서 평균 타구속도가 84.9마일이다(랜스 린 83.7마일). 그만큼 상대 타자들이 류현진의 공을 제대로 맞히지 못하고 있다. 올 시즌 타격 성적은 21타수2안타(0.095)였던 류현진은 4회 타석에서 안타를 때려냈다. 그런데 2루주자 마틴이 홈에서 아웃되는 바람에 타점은 추가하지 못했다. 다저스는 실책 두 개를 범한 시거가 5타수2안타 2타점(.250 .340 .443). 시거는 최근 14경기 .314 .407 .667로 팀 내 타격감이 가장 좋다. 승률이 0.694까지 치솟은 다저스는 현재 무려 112승 페이스다. 다저스는 2017년 연고지 이전 후 한 시즌 최다승인 104승을 기록한 바 있다. 애리조나 클라크는 5이닝 4K 3실점 2자책(4안타 2볼넷)으로 선방했지만(96구) 상대운이 없었다. 역시 상대를 잘못 만난 애리조나 타선은 3안타 빈공에 허덕였다. 오늘 전까지 애리조나는 좌완 상대 팀 홈런(35) OPS(0.881) 1위였다.</p>,\n",
       " <p><strong><font color=\"#0075c8\">다저스 첫 62경기 성적</font></strong></p>,\n",
       " <p><strong>(2013) 27승35패 0.435<br/>(2014) 32승30패 0.516<br/>(2015) 36승26패 0.581<br/>(2016) 33승29패 0.532<br/>(2017) 37승25패 0.597<br/>(2018) 31승31패 0.500<br/>(2019) 43승19패 0.694</strong></p>,\n",
       " <p><strong><font color=\"#0075c8\">팀 첫 62경기 선발 ERA (1920년 이후)</font></strong></p>,\n",
       " <p><strong>1.35 - 류현진(2019)<br/>1.37 - 돈 드라이스데일(1968)<br/>1.45 - 위트 와이엇(1939)<br/>1.52 - 클레이튼 커쇼(2016)<br/>1.52 - 로스 스트리플링(2018)<br/>1.57 - 샌디 코팩스(1966)</strong></p>,\n",
       " <p><strong><font color=\"#ff6c00\">볼티모어(19승41패) 12-11 텍사스(30승28패)</font><br/><font color=\"#0075c8\">W: 번디(3-6 4.64) L: 스마일리(1-4 7.93) S: 기븐스(5/4 5.33)</font></strong><br/>추신수는 볼티모어전 통산 62경기 13홈런. 또한 올 시즌 볼티모어는 투수진이 메이저리그에서 가장 많은 피홈런 내주고 있었다(122개). 오늘 상대 선발 번디 역시 좋은 기억이 있는 투수. 2017년 맞대결에서 리드오프 홈런을 친 적이 있는데, 오늘도 이 기억을 되살려 1회말 리드오프 홈런을 쏘아올렸다(11호). 아시아 선수 최초의 200홈런 타자가 탄생하는 순간. 이로써 추신수는 200홈런 100도루 2루타300을 모두 해낸 현역 11번째 타자가 됐다. 홈에서 기념비적인 홈런을 날린 추신수는 마지막 타석에서 추격의 적시타를 때려내 5타수2안타 2타점 1볼넷으로 경기를 마쳤다(.302 .386 .552). 그러나 텍사스는 마운드가 붕괴되면서 볼티모어에게 패배했다. 선발 스마일리가 3.1이닝 7실점(8안타 2볼넷)으로 시동을 걸었고, 후속 투수 세 명도 모두 점수를 뺏겼다. 볼티모어 타선은 드와이트 스미스 주니어가 4타수3안타 6타점 1볼넷으로 펄펄 날았고(.257 .302 .477) 페드로 세베리노가 홈런 세 방으로 4타점을 올렸다(.288 .370 .567). 한 경기 3홈런 볼티모어 타자는 2017년 8월19일 마차도 이후 처음이다. 추신수에게 홈런을 내준 번디는 불펜이 막판에 흔들리는 바람에 겨우 5이닝 4K 3실점(6안타 2볼넷) 승리를 지켰다(96구).</p>,\n",
       " <p><strong><font color=\"#0075c8\">아시아 타자 홈런 순위</font></strong></p>,\n",
       " <p><strong>200 - 추신수<br/>175 - 마쓰이 *히데키<br/>117 - 이치로<br/> 48 - 조지마<br/> 44 - 이구치<br/> 42 - 후쿠도메<br/> 40 - 강정호<br/> 40 - 최희섭</strong></p>,\n",
       " <p><strong><font color=\"#0075c8\">현역 200홈런&amp;100도루&amp;2루타300</font></strong></p>,\n",
       " <p><strong>1. 앨버트 푸홀스<br/>2. 라이언 브론<br/>3. 저스틴 업튼<br/>4. 커티스 그랜더슨<br/>5. 맷 켐프<br/>6. 핸리 라미레스<br/>7. 이안 킨슬러<br/>8. 헌터 펜스<br/>9. 카를로스 곤살레스<br/>10. 앤드류 매커친<br/>11. 추신수</strong></p>,\n",
       " <p><strong><font color=\"#0075c8\">현역 리드오프 최다홈런 순위</font></strong></p>,\n",
       " <p><strong>48 - 킨슬러<br/>47 - 그랜더슨<br/>33 - 블랙몬<br/>30 - 추신수<br/>29 - 스프링어<br/>28 - 도저</strong></p>,\n",
       " <p><strong><font color=\"#ff6c00\">탬파베이(35승23패) 6-9 디트로이트(23승34패)</font><br/><font color=\"#0075c8\">W: 카펜터(1-2 6.23) L: 스넬(3-5 3.68) S: 그린(19/1 1.08)</font></strong><br/>미겔 카브레라의 오른 무릎은 연골이 닳아서 마모된 것. 당장 수술이 필요한 상태는 아니지만, 남은 커리어를 지명타자로 마칠 가능성이 높다. 2016년에 맺은 8년 2억4800만 달러 계약이 아직 4년이 더 남은 디트로이트 입장에서는 먹구름 같은 소식이다. 하지만 오늘 지명타자로 돌아온 카브레라는 보란듯이 맹타를 휘둘렀다. 1회부터 적시 2루타를 치더니 5회 2-2 동점에서는 결승 만루홈런(3호)을 쏘아올렸다. 4타수3안타 5타점(.293 .363 .384). 통산 5번째 만루홈런을 날린 카브레라는 역대 홈런 순위에서 치퍼 존스와 어깨를 나란히 했다. 디트로이트는 루고가 4타수3안타 2타점(.256 .283 .372) 구드럼이 5타수3안타 1도루로 감초 역할을 했다(.244 .326 .416). 라이언 카펜터는 7이닝 3K 2실점(7안타 무사사구) 승리(84구). 탬파베이는 스넬이 4.1이닝 8K 6실점(7안타 2볼넷)으로 무너지면서 4연패에 빠졌다(95구). 스넬은 카브레라에게 커브를 던지다 만루홈런을 헌납했는데, 스넬의 최근 3년간 커브 피안타율은 0.144로 이 부문 선발 3위다(클루버 0.107 모튼 0.122). 탬파베이는 3회 아비사일 가르시아의 투런(11호) 8회 아다메스의 만루홈런(5호)이 나왔다. 두 선수 모두 디트로이트 유망주 출신이다. 좌완 카펜터의 등판으로 선발에서 빠진 최지만은 9회 대타로 나와 내야안타를 치고 나갔다(.265 .344 .418).</p>,\n",
       " <p><strong><font color=\"#0075c8\">카브레라 통산 만루홈런</font></strong></p>,\n",
       " <p><strong>(07/9/16) 6회 vs 후안 모레요<br/>(09/4/11) 4회 vs 크리스 벤슨<br/>(12/9/19) 8회 vs 제시 차베스<br/>(13/6/02) 4회 vs T J 맥파랜드<br/>(19/6/06) 5회 vs 블레이크 스넬</strong></p>,\n",
       " <p><strong><font color=\"#0075c8\">카브레라의 역대 홈런 순위</font></strong></p>,\n",
       " <p><strong>31. 스탠 뮤지얼(475)<br/>31. 윌리 스타젤(475)<br/>33. 카를로스 델가도(473)<br/>34. 치퍼 존스(468)<br/>34. 미겔 카브레라(468)</strong></p>,\n",
       " <p><strong><font color=\"#0075c8\">스넬 커브 홈런 친 타자</font></strong></p>,\n",
       " <p><strong>(18/9/13) 호세 라미레스<br/>(19/3/29) 조지 스프링어<br/>(19/4/09) 호세 론돈<br/>(19/4/25) 위트 메리필드<br/>(19/5/30) 루데스 구리엘 주니어<br/>(19/6/05) 미겔 카브레라</strong></p>,\n",
       " <p><strong><font color=\"#0075c8\">스넬 성적 변화</font></strong></p>,\n",
       " <p><strong>17 (HR/9) 1.04 (BABIP) .277 (xFIP) 4.56<br/>18 (HR/9) 0.80 (BABIP) .241 (xFIP) 3.16<br/>19 (HR/9) 1.23 (BABIP) .321 (xFIP) 2.65</strong></p>,\n",
       " <p><strong><font color=\"#ff6c00\">미네소타(40승19패) 2-5 클리블랜드(30승30패)</font><br/><font color=\"#0075c8\">W: 비버(5-2 3.57) L: 스멜처(0-1 3.65) S: 핸드(17/0 1.09)</font></strong><br/>왠지 입장이 바뀐 것 같은 두 팀. 클리블랜드가 미네소타의 4연승을 저지하면서 체면치레를 했다. 린도어가 3회와 5회 연타석 홈런으로 분위기를 가져왔다. 통산 10번째 멀티홈런 경기를 해낸 린도어는 3타수3안타 2홈런(9,10호) 3타점 1볼넷 대활약(.306 .377 .538). 여전히 갈팡질팡하고 있는 호세 라미레스(.202 .303 .307)와 달리 린도어는 자기 몫을 해주고 있다. 6회까지 한 점차로 앞선 클리블랜드는 7회 페레스(8호)와 바우어스(6호)의 연타석 홈런으로 점수 차를 벌렸다. 지난 보스턴 원정에서 5이닝 6실점(8안타)으로 주춤했던 비버는 7이닝 7K 2실점(5안타 1볼넷) 승리를 획득했다(104구). 2회 마윈 곤살레스, 6회 에디 로사리오에게 솔로홈런 두 개를 내줬다. 마이너리그 시절 '제2의 클루버'로 불렸던 비버는 실제로 마운드 위에서 보여주는 모습이 비슷하다(최근 승격된 잭 플리삭은 '제2의 비버'로 불린다). 미네소타는 스멜처가 7회 연타석 홈런을 맞고 6.1이닝 5실점(5안타 3볼넷)했다. 포심 평균 구속이 88.5마일인 스멜처는 경쟁력을 가지려면 체력과 제구에 더 신경을 써야한다. 손목 부상에서 돌아온 크루스는 4타수무안타 3삼진(.262 .345 .492). 로사리오는 리그 홈런 선두 경쟁을 재점화했다(.276 .310 .548).</p>,\n",
       " <p><strong><font color=\"#0075c8\">시즌 전 포스트시즌 가능성 (팬그래프)</font></strong></p>,\n",
       " <p><strong>94.6% - 클리블랜드<br/>35.8% - 미네소타<br/> 0.9% - 화이트삭스</strong></p>,\n",
       " <p><strong><font color=\"#0075c8\">현재 포스트시즌 가능성</font></strong></p>,\n",
       " <p><strong>98.1% - 미네소타<br/>27.5% - 클리블랜드<br/> 0.2% - 화이트삭스</strong></p>,\n",
       " <p><strong><font color=\"#0075c8\">최근 2년간 유격수 최다 멀티홈런</font></strong></p>,\n",
       " <p><strong>9 - 린도어<br/>9 - 스토리<br/>7 - 마차도<br/>6 - 그레고리우스<br/>4 - 토레스<br/>4 - 코레아</strong></p>,\n",
       " <p><strong><font color=\"#0075c8\">아메리칸리그 홈런 순위</font></strong></p>,\n",
       " <p><strong>18 - 로사리오<br/>18 - 산체스<br/>17 - 갈로 *부상<br/>17 - 스프링어 *부상<br/>17 - 브레그먼<br/>16 - 채프먼<br/>16 - 엔카나시온</strong></p>,\n",
       " <p><strong><font color=\"#ff6c00\">양키스(38승21패) 3-4 토론토(22승38패)</font><br/><font color=\"#0075c8\">W: 페논(2-3 6.67) L: 다나카(3-5 3.42) S: 자일스(11/1 1.13)</font></strong><br/>다나카는 4회까지 무실점 피칭. 타선은 4회초 클린트 프레이저의 투런홈런으로 먼저 두 점을 뽑았다. 그런데 다나카는 5회 선두타자 그리칙에게 홈런을 허용하더니 갈비스에게 투런, 게레로 주니어에게 적시타를 맞고 넉 점을 뺏겼다. 다나카가 6이닝 2K 4실점(6안타 2볼넷)으로 최근 두 경기 연속 고전. 양키스는 홀더와 그린이 더 이상 점수를 주지 않았지만, 타선도 한 점밖에 따라붙지 못했다. 사실 다나카는 5회 4실점 과정에서 억울한 볼판정이 있었다. 5회 그리칙과 갈비스의 홈런 타석에서는 명확한 스트라이크가 볼로 둔갑됐다. 오늘 토론토 다니엘 허드슨도 손해를 본 공이 있었던 상황. 답답한 볼판정으로 경기를 망친 주범은 선수들 사이에서 악명 높은 앙헬 에르난데스였다. 양키스는 힉스가 4타수2안타 1홈런(2호) 1타점 1볼넷(.224 .324 .345) 프레이저는 3타수1홈런(11호) 2타점 1볼넷을 골랐다(.273 .323 .533). 지난 선데이나이트베이스볼에서 실책 후 미디어를 회피한 프레이저는 그 행동에 대해 후회하지 않는다고 전했다(선수협 미디어 가이드라인은 협조해야 될 책임이 있다고 명시되어 있다). 6연패를 끊은 토론토는 선발 리차드가 4.2이닝 2실점(4안타 3볼넷) 노디시전(87구). 처음으로 양키스를 상대한 게레로 주니어는 4타수1안타 1타점을 올렸다(.248 .316 .446).</p>,\n",
       " <p><strong><font color=\"#0075c8\">다나카 vs AL 동부지구 (통산)</font></strong></p>,\n",
       " <p><strong>11승4패 2.87 - 토론토 (18경기)<br/> 9승4패 3.33 - 탬파베이 (16경기)<br/> 5승3패 3.44 - 볼티모어 (14경기)<br/> 8승4패 4.35 - 보스턴 (18경기)</strong></p>,\n",
       " <p><strong><font color=\"#0075c8\">양키스 홈런 순위 (지난해)</font></strong></p>,\n",
       " <p><strong>18 - 산체스 (18홈런)<br/>15 - 보이트 (14홈런)<br/>14 - 토레스 (24홈런)<br/>11 - 프레이저 (0홈런)<br/> 8 - 가드너 (12홈런)</strong></p>,\n",
       " <p><strong><font color=\"#ff6c00\">샌프란시스코(25승34패) 9-3 메츠(28승32패) 10회</font><br/><font color=\"#0075c8\">W: 멜란슨(2-0 2.31) L: 그셀먼(1-1 5.05)</font><br/></strong>샌프란시스코가 보치 감독에게 팀 통산 1000승을 선물했다. 오늘은 2016년 와일드카드 경기에서 격돌했던 범가너와 신더가드의 재대결이었다. 당시 신더가드가 7이닝 10K 무실점으로 호투했는데, 범가너가 9이닝 완봉승을 해버린 바 있다. 오늘은 두 투수 모두 승패를 나누지 못했다. 범가너가 6이닝 5K 3실점(6안타 2볼넷) 신더가드가 6.2이닝 4K 3실점(5안타 3볼넷)하고 내려갔다. 퀄리티스타트는 했지만, 두 선수 모두 올 시즌 성적이 만족스럽진 않다(범가너 3승5패 4.05, 신더가드 3승4패 4.83). 샌프란시스코는 연장 10회초 보트의 2타점 2루타로 3-3 균형을 허문 뒤 추가 4득점으로 더 길게 경기를 끌고가지 않았다. 보트는 5타수2안타 2타점(.268 .339 .446) 대타로 나온 산도발이 3타수2안타 2타점을 올렸다(.286 .317 .571). 메츠는 피트 알론소가 범가너를 상대로 시즌 20호 홈런을 쏘아올렸다(.267 .340 .618). 메츠 신인 최다홈런 신기록을 경신할 것이 유력한 알론소는 현재 54홈런 페이스. 내친김에 내셔널리그 기록도 넘보고 있다. 라모스가 5타수3안타 1홈런(7호) 2타점으로 최근 좋은 타격감을 이어갔다(.278 .350 .420).</p>,\n",
       " <p><strong><font color=\"#0075c8\">자이언츠 감독 최다승 순위</font></strong></p>,\n",
       " <p><strong>2583 - 존 맥그로<br/>1000 - 브루스 보치<br/> 840 - 더스티 베이커<br/> 823 - 빌 테리<br/> 637 - 레오 듀로서</strong></p>,\n",
       " <p><strong><font color=\"#0075c8\">메츠 신인 최다홈런 기록</font></strong></p>,\n",
       " <p><strong>26 - 대럴 스트로베리(1983)<br/>20 - 피트 알론소(2019)<br/>19 - 론 스와보다(1965)<br/>19 - 아이크 데이비스(2010)</strong></p>,\n",
       " <p><strong><font color=\"#0075c8\">역대 신인 최다홈런 기록</font></strong></p>,\n",
       " <p><strong>52 - 애런 저지(20177)<br/>49 - 마크 맥과이어(1987)<br/>39 - 코디 벨린저(2017) *NL 최다<br/>38 - 프랭크 로빈슨(1956)</strong></p>,\n",
       " <p><strong><font color=\"#ff6c00\">애틀랜타(33승27패) 12-5 피츠버그(28승31패)</font><br/><font color=\"#0075c8\">W: 윙커(2-1 5.60) L: 크릭(2-2 2.66)</font><br/></strong>6회까지 3-5로 끌려가던 애틀랜타는 라일리(22)가 7회 1사 1,2루에서 등장. 초구 슬라이더에 헛스윙을 한 라일리는 2구 바깥쪽으로 빠져나가는 슬라이더를 밀어쳐 역전 스리런 홈런으로 연결시켰다. 라일리가 분위기를 바꾼 애틀랜타는 8회와 9회 각각 석 점씩 더 추가해 기분 좋은 역전승을 거뒀다. 라일리는 4타수1홈런 3타점 1볼넷(.324 .368 .732). 데뷔 첫 18경기 9홈런은 역대 2위에 해당한다(리스 호스킨스 11홈런, 조지 스캇 9홈런). 또한 라일리는 같은 기간 25타점을 쏟아붓고 있다. 타점이 공식 기록으로 인정된 1920년 이후 라일리보다 더 빠른 페이스로 25타점을 찍은 선수는 1925년 맨디 브룩스밖에 없었다(첫 17경기 25타점). 애틀랜타는 8회 스리런 홈런을 친 도널슨도 4타수1홈런(8호) 3타점 2볼넷(.253 .372 .443) 역시 홈런과 2루타를 날린 프리먼은 통산 300번째 2루타를 달성했다(.310 .394 .578). 타선 덕분에 프리드는 4이닝 5실점(9안타 2볼넷) 패전을 피했다(ERA 3.68). 피츠버그는 선발 브롤트가 4이닝 2실점 1자책(5안타 3볼넷)하고 교체(93구). 다섯 명의 불펜진이 5이닝 10실점(8자책)했다. 작년 후반기 위용이 온데간데 사라진 상황이다. 한편 강정호는 트리플A 경기에서 4안타를 때려냈다고.</p>,\n",
       " <p><strong><font color=\"#0075c8\">라일리 데뷔 후 타점 순위</font></strong></p>,\n",
       " <p><strong>25 - 오스틴 라일리<br/>24 - 에두아르도 에스코바 <br/>18 - 브라이스 하퍼</strong></p>,\n",
       " <p><strong><font color=\"#0075c8\">애틀랜타 200홈런&amp;2루타300</font></strong></p>,\n",
       " <p><strong>1. 행크 애런 (733홈런 2루타600)<br/>2. 에디 매튜스 (493홈런 2루타338)<br/>3. 치퍼 존스 (468홈런 2루타549)<br/>4. 데일 머피 (371홈런 2루타306)<br/>5. 앤드루 존스 (368홈런 2루타330)<br/>6. 프레디 프리먼 (204홈런 2루타300)</strong></p>,\n",
       " <p><strong><font color=\"#0075c8\">피츠버그 불펜 ERA (NL 순위)</font></strong></p>,\n",
       " <p><strong>2016 : 3.57 (5위)<br/>2017 : 3.84 (6위)<br/>2018 : 4.03 (7위)<br/>2019 : 5.25 (14위)</strong></p>,\n",
       " <p><strong>*작년 후반기 3.57 리그 2위</strong></p>,\n",
       " <p><strong><font color=\"#ff6c00\">화이트삭스(29승31패) 5-9 워싱턴(27승33패)</font><br/><font color=\"#0075c8\">W: 스트라스버그(6-3 3.54) L: 로페스(3-6 6.62) S: 두리틀(13/2 3.16)</font><br/></strong>2019년 드래프트가 진행 중인 가운데 10년 전 드래프트 전체 1순위 스트라스버그의 선발 등판. 당시 스트라스버그는 역사를 바꿀 수 있는 투수라고 기대됐지만 정작 역사를 바꾸고 있는 선수는 25순위에 뽑혔다. 오늘도 화이트삭스를 상대로 1회부터 넉 점을 내주는 등 5이닝 6K 5실점(5안타 3볼넷)에 그쳤다(105구). 하지만 타선 도움으로 통산 100승을 손에 쥐었다. 연고지를 워싱턴으로 이전한 2005년 이후 통산 100승에 성공한 투수는 스트라스버그가 처음이다. 렌돈이 4타수2안타(홈런 2루타) 5타점 1볼넷으로 스트라스버그의 도우미를 자처했다(.335 .440 .671). 워싱턴이 2011년 드래프트 1라운드에서 뽑았던 렌돈은 스트라스버그와 에이전트가 같다(스캇 보라스). 화이트삭스는 선발 레이날도 로페스가 타선의 초반 득점지원을 활용하지 못했다. 4이닝 4K 6실점(5안타 4볼넷) 패전(92구). 지난 3경기 2패 12.83이다. 워싱턴이 이튼을 주면서 받아온 로페스는 함께 넘어온 지올리토와 달리 성장 가능성이 보이지 않고 있다. 현재 화이트삭스는 트리플A에서 빼어난 시즌을 보내고 있는 딜란 시즈(5승2패 3.46)의 승격을 조율 중이다. 몬카다는 3타수1홈런(11호) 1타점 2볼넷 활약이 패배로 빛을 잃었다(.284 .343 .498). </p>,\n",
       " <p><strong><font color=\"#0075c8\">워싱턴의 연도별 첫 번째 지명</font></strong></p>,\n",
       " <p><strong>2009 - 스티븐 스트라스버그(1)<br/>2010 - 브라이스 하퍼(1)<br/>2011 - 앤서니 렌돈(6)<br/>2012 - 루카스 지올리토(16)</strong></p>,\n",
       " <p><strong><font color=\"#0075c8\">워싱턴 이전 후 최다승</font></strong></p>,\n",
       " <p><strong>100 - 스티븐 스트라스버그<br/> 86 - 지오 곤살레스<br/> 71 - 맥스 슈어저<br/> 70 - 조던 짐머맨<br/> 64 - 태너 로어크<br/> 44 - 리반 에르난데스</strong></p>,\n",
       " <p><strong><font color=\"#ff6c00\">마이애미(22승36패) 16-0 밀워키(34승27패)</font><br/><font color=\"#0075c8\">W: 로페스(4-5 4.52) L: 앤더슨(3-1 3.93)</font><br/></strong>이것이 지터볼인가. 마이애미가 밀워키를 상대로 16-0 대승을 장식했다. 16점 이상 거둔 팀이 한 점도 주지 않고 승리한 것은 메이저리그 역대 78번째로, 마이애미 역사에는 한 번도 없었다(2018년 6월2일 오클랜드가 캔자스시티를 상대로 16-0 승리). 16점 중 11점이 5회초에 나왔다. 15타자가 들어선 5회 카스트로가 삼진을 당한 후 9타자가 연속 살아나간 모습. 뿐만 아니라 한 이닝에 9타자가 모두 타점을 올리는 진귀한 일이 일어났다. 한 이닝에 타자 전원이 타점을 올린 것은 1952년 5월22일 다저스 이후 처음이다. 당시 1회에 15득점 한 다저스는 피 위 리즈, 듀크 스나이더, 재키 로빈슨 같은 타자들이 있었다. 친정팀을 만나면서 전투력이 상승한 쿠퍼는 5타수4안타 1홈런(5호) 2타점 1볼넷(.289 .368 .482) 카스트로는 5타수2안타 1홈런(4호) 3타점(.233 .270 .317) 투수 로페스도 안타를 친 마이애미는 선발 전원이 19안타를 합작했다. 로페스는 6이닝 7K 무실점(3안타 1볼넷) 승리(92구). 치욕적인 5회초를 보낸 밀워키는 선발 체이스 앤더슨이 4이닝 6K 4실점(7안타)으로 좋지 않았다. 두 번째 투수 테일러 윌리엄스가 0.1이닝 8실점이라는 대참사를 당했다. 카운셀 감독은 \"한 번도 본 적이 없다\"고. 이어서 \"최대한 빨리 잊어야 한다\"고 덧붙였다. 돌아온 트래비스 쇼는 3타수2안타 1볼넷(.174 .278 .297).</p>,\n",
       " <p><strong><font color=\"#0075c8\">마이애미 5회초 대공격</font></strong></p>,\n",
       " <p><strong>단타 - 쿠퍼<br/>볼넷 - 앤더슨<br/>삼진 - 카스트로<br/>2루타 - 라미레스 &lt;타점&gt;<br/>고의사구 - 리들<br/>단타 - 알파로 &lt;타점&gt;<br/>단타 - 로하스 &lt;타점&gt;<br/>2루타 - 로페스 &lt;타점&gt;<br/>단타 - 그랜더슨 &lt;타점&gt;<br/>단타 - 쿠퍼 &lt;타점&gt;<br/>실책 - 앤더슨 &lt;타점&gt;<br/>2루타 - 카스트로 &lt;타점&gt;<br/>땅볼 - 라미레스 &lt;타점&gt;<br/>단타 - 리들 &lt;타점&gt;<br/>삼진 - 알파로</strong></p>,\n",
       " <p><strong>*실책 상황 1사 1,3루로 타점 인정</strong></p>,\n",
       " <p><strong><font color=\"#ff6c00\">필라델피아(34승27패) 9-6 샌디에이고(31승30패)</font><br/><font color=\"#0075c8\">W: 아이코프(3-3 4.14) L: 패댁(4-4 2.97) S: 네리스(11/0 2.16)</font><br/></strong>어제 런다운에 걸린 도중 무릎 부상을 당한 매커친은 전방십자인대 파열로 확인. 남은 시즌 더 이상 경기에 나올 수 없다. 매커친은 내년 개막전 복귀를 희망하고 있다. 오두벨 에레라(폭력)의 이탈 때문에 데려온 제이 브루스의 존재가 더 필요해진 가운데 브루스가 이적 첫 경기부터 대폭발했다. 브루스는 4회 투런, 5회 만루홈런을 터뜨리는 등 4타수3안타 6타점을 쓸어담았다(.227 .293 .576). 개인 통산 27번째 멀티홈런 경기. 1920년 이후 이적 첫 경기에서 2홈런 6타점을 올린 타자는 브루스가 5번째다(1962년 로먼 메히아스, 1970년 브랜트 올레이, 1990년 샘 혼, 2004년 캘빈 피커링). 필라델피아는 브루스 앞에 나온 리얼뮤토도 5타수3안타(.273 .326 .455) 뒤에 나온 킹거리도 4타수2안타(홈런 2루타) 2타점을 올렸다(.333 .370 .575). 선발 아이코프는 6이닝 5K 3실점(4안타 1몸맞는공)으로 5연패 탈출에 기여했다. 샌디에이고는 패댁이 4.1이닝 4K 6실점 5자책(8안타)으로 무릎을 꿇었다(91구). 경기 후 \"절망적\"이라고 말한 패댁은 초반 기세가 확 꺾였다. 프란밀 레이에스는 또 솔로홈런 두 방을 날렸다(.251 .295 .586).</p>,\n",
       " <p><strong><font color=\"#0075c8\">현역 최다 만루홈런 타자</font></strong></p>,\n",
       " <p><strong>14 - 푸홀스<br/>11 - 카노<br/>11 - 매캔<br/>11 - 엔카나시온<br/>10 - 그랜더슨<br/> 9 - 마차도<br/> 9 - 크루스<br/> 9 - 브루스</strong></p>,\n",
       " <p><strong><font color=\"#0075c8\">패댁 성적 변화</font></strong></p>,\n",
       " <p><strong>7경기 3승1패 1.55 (40.2이닝 2피홈런)<br/>4경기 1승3패 5.85 (20.0이닝 7피홈런)</strong></p>,\n",
       " <p><strong><font color=\"#0075c8\">최근 10년간 최다 출장</font></strong></p>,\n",
       " <p><strong>1452 - 앤드류 매커친<br/>1434 - 닉 마카키스<br/>1420 - 애덤 존스<br/>1390 - 알시데스 에스코바<br/>1389 - 로빈슨 카노</strong></p>,\n",
       " <p><strong><font color=\"#ff6c00\">오클랜드(30승30패) 4-2 에인절스(29승32패)</font><br/><font color=\"#0075c8\">W: 몬타스(7-2 2.83) L: 캐닝(2-2 3.52) S: 트라이넨(12/2 3.26)</font><br/></strong>오클랜드가 5연패를 끊고 5할 승률을 다시 맞췄다. 3회 크리스 데이비스의 2루타와 피스코티의 희생플라이로 두 점을 얻은 오클랜드는 6회 로리아노가 도망가는 투런포를 쏘아올렸다. 시즌 8호 홈런을 친 로리아노는 2타수2안타 2타점 2사사구 1도루로 전 타석 출루를 했다(.264 .312 .435). 17경기 연속 안타는 현재 메이저리그에서 가장 긴 기록이다. 오클랜드는 로리아노 앞에 배치된 그로스먼도 멀티히트 경기를 했다(.230 .323 .370). 그로스먼은 같은 지구 팀을 상대로 77타수23안타(0.299) 그 외 나머지 팀들을 상대로는 88타수15안타(0.170)다. 선발 몬타스는 6이닝 3K 2실점(4안타 1볼넷) 승리를 따냈다(99구). 몬타스는 6회 오타니에게 투런홈런을 맞은 것이 유일한 흠이었다. 53.1이닝만에 나온 첫 피홈런. 에인절스는 캐닝이 6이닝 4실점(7안타 1볼넷) 패전을 안았다(102구). 오늘도 탈삼진은 8개를 적립. 아메리칸리그 신인 투수가 데뷔 첫 7경기에서 탈삼진 5개 이상 기록한 것은 캐닝이 네 번째다. 트라웃은 2타수무안타 2사사구(.295 .465 .589). 오타니는 3타수2안타 1홈런(4호) 2타점 1볼넷을 골랐다(.239 .321 .370).</p>,\n",
       " <p><strong><font color=\"#0075c8\">오클랜드 타자 승리기여도</font></strong></p>,\n",
       " <p><strong>2.6 - 채프먼<br/>2.1 - 시미언<br/>1.0 - 피스코티<br/>0.9 - 로리아노<br/>0.7 - 캐나<br/>0.7 - 페글리<br/>0.6 - 핀더</strong></p>,\n",
       " <p><strong><font color=\"#0075c8\">AL 신인 첫 7경기 5삼진 이상</font></strong></p>,\n",
       " <p><strong>11 - 다나카 마사히로<br/>10 - 허브 스코어<br/> 9 - 올랜도 에르난데스 <br/> 7 - 그리핀 캐닝</strong></p>,\n",
       " <p><strong><font color=\"#0075c8\">올 시즌 몬타스 상대 홈런 친 타자</font></strong></p>,\n",
       " <p><strong>(4/01) 콜 칼훈<br/>(4/06) 카를로스 코레아<br/>(4/11) 트레이 맨시니<br/>(4/11) 리오 루이스<br/>(6/05) 오타니 쇼헤이</strong></p>,\n",
       " <p><strong><font color=\"#ff6c00\">보스턴(31승29패) 8-3 캔자스시티(19승41패)</font><br/><font color=\"#0075c8\">W: 로드리게스(6-3 4.88) L: 발로우(1-2 4.97)</font><br/></strong>4연패를 벗어난 보스턴은 두 경기 연속 승리. 0-2로 뒤진 6회 제이디 마르티네스의 3루타로 첫 점수를 냈다. 마르티네스의 3루타는 통산 16번째. 타구가 살짝 담장을 넘지 못했다. 데버스의 볼넷으로 계속된 1사 1,3루에서는 보가츠의 희생플라이와 홀트의 2루타로 경기를 뒤집었다(3-2). 이어서 8회 대타 누녜스의 스리런홈런으로 완전히 승기를 가져왔다(6-2). 누녜스는 시즌 2호 홈런(.227 .248 .320). 제이디 마르티네스가 5타수3안타 1타점을 올렸고(.301 .378 .536) 데버스가 4타수1안타 2타점 1볼넷을 기록했다(.314 .373 .498). 선발 에두아르도 로드리게스는 5.2이닝 7K 2실점(6안타) 승리(89구). 보스턴은 로드리게스가 선발로 나온 최근 10경기에서 9승1패다. 참고로 보스턴은 세일 선발 등판에서는 3승9패다. 캔자스시티는 스파크맨이 5.1이닝 1실점(3안타 1볼넷) 승리 요건을 갖추고 내려갔지만(80구) 두 번째 투수 발로우가 곧바로 블론을 저질렀다. 커스버트는 2회 투런홈런(2호) 포함 3타점(.375 .375 .750). 몬데시는 또 2루를 훔쳤다(.285 .320 .485).</p>,\n",
       " <p><strong><font color=\"#0075c8\">보스턴 평균 타구속도&amp;발사각도</font></strong></p>,\n",
       " <p><strong>17 [속도] 86.9마일 [각도] 10.6도<br/>18 [속도] 89.6마일 [각도] 12.2도<br/>19 [속도] 89.9마일 [각도] 12.6도</strong></p>,\n",
       " <p><strong><font color=\"#0075c8\">메이저리그 도루 순위</font></strong></p>,\n",
       " <p><strong>22 - 아달베르토 몬데시<br/>15 - 팀 앤더슨<br/>14 - 말렉스 스미스<br/>14 - 호세 라미레스</strong></p>,\n",
       " <p><strong><font color=\"#0075c8\">캔자스시티 도루왕 출신</font></strong></p>,\n",
       " <p><strong>1971 - 아모스 오티스 (52)<br/>1977 - 프레디 패텍 (53)<br/>1979 - 윌리 윌슨 (83)<br/>2000 - 자니 데이먼 (46)<br/>2017 - 위트 메리필드 (34)<br/>2018 - 위트 메리필드 (45)</strong></p>,\n",
       " <p><strong><font color=\"#ff0000\">※ 경기 내용은 계속 추가됩니다</font></strong></p>,\n",
       " <p><strong>※ 레퍼런스/팬그래프/ESPN/스탯캐스트 등 참조</strong></p>,\n",
       " <p><strong><font color=\"#ff6c00\">내일(6일)의 TV 중계(엠스플&amp;MBC ON&amp;네이버 TV)</font></strong></p>,\n",
       " <p><strong><font color=\"#0075c8\">4시40분 : LAD(마에다)-ARI(듀플랜티어)</font><br/>*캐스터 김민준 / 해설 김형준<br/><font color=\"#0075c8\">8시10분 : TB(모튼)-DET(턴불) MBC ON</font><br/>*캐스터 이인환 / 해설 유선우<br/><font color=\"#0075c8\">9시5분 : BAL(민스)-TEX(마이너)</font><br/>*캐스터 손우주 / 해설 송재우<br/><font color=\"#0075c8\">11시7분 : OAK(멩든)-LAA(페냐)</font><br/>*캐스터 이정호 / 해설 김선우</strong></p>,\n",
       " <p class=\"source\"><b>기사제공</b> 이창섭 칼럼</p>]"
      ]
     },
     "execution_count": 62,
     "metadata": {},
     "output_type": "execute_result"
    }
   ],
   "source": [
    "soup.select('#newsEndContents>p')"
   ]
  },
  {
   "cell_type": "code",
   "execution_count": 63,
   "metadata": {},
   "outputs": [
    {
     "data": {
      "text/plain": [
       "[<p class=\"info_spec\">\n",
       " <span class=\"spec_sta wbaseball\">해외야구</span>\n",
       " <span class=\"spec_writer\">이창섭</span>\n",
       " <span class=\"txt\">베이스볼+ 기자, 메이저리그 스카우팅리포트 저자</span>\n",
       " </p>,\n",
       " <p> <img alt=\"\" src=\"https://imgnews.pstatic.net/image/460/2019/06/05/131458707_GettyImages-1153766749.jpg?type=w647\"/></p>,\n",
       " <p><strong><font color=\"#ff0000\">오늘의 코리안리거</font><br/>류현진 7이닝 2K 0실점(3안0볼) era 1.35</strong></p>,\n",
       " <p><strong>추신수 5타수2안타 1볼넷(.302 .386 .552)<br/>최지만 1타수1안타 0볼넷(.265 .344 .418)</strong></p>,\n",
       " <p><strong><font color=\"#ff6c00\">다저스(43승19패) 9-0 애리조나(30승32패)</font><br/><font color=\"#0075c8\">W: 류현진(9-1 1.35) L: 클라크(1-2 4.43)</font></strong><br/>류현진은 어깨 수술 이후 체이스필드 3경기 1패 9.00(9이닝 9실점). 9이닝 동안 볼넷을 9개나 내줄 정도로 류현진답지 않았다. 또한 직전 체이스필드 등판에서는 사타구니 부상으로 1.1이닝만에 내려가는 악몽도 있었다(2018년 5월3일). 출발은 어수선했다. 다저스 내야진은 1회부터 실책 두 개를 범하면서 류현진을 곤경에 빠뜨렸다(1루수 프리스, 유격수 시거). 하지만 이러한 상황이 처음은 아니었기에 당황하지 않았다(워커 땅볼). 2회를 3자범퇴로 끝낸 류현진은 3회 득점권에 주자를 내보냈다. 선두타자 출루가 이뤄질 뻔 했던 투수 클라크는 1루 송구가 빗나간 틈을 타 2루를 노리다 벨린저에게 저격당했다(챌린지). 다음타자 마르테가 2루타를 때려내면서 더 다행인 상황. 류현진은 계속된 1사 2루에서 에두아르도 에스코바와 애덤 존스를 삼진, 땅볼로 잡고 이닝을 끝냈다. 이후 류현진은 4회부터 6회까지 나온 9타자를 모두 범타로 돌려세워 특유의 안정적인 피칭을 이어갔다. 1회 벨린저의 홈런성 3루타로 두 점을 선취한 다저스는 3회 프리스의 땅볼로 한 점 더 추가(3-0). 7회초 키케 에르난데스의 홈런(10호)과 시거의 적시타로 류현진에게 힘을 실어줬다. 류현진은 워커를 안타로 내보낸 7회말 시거의 또 다른 실책으로 1사 1,3루로 위기가 확대. 그럼에도 아랑곳하지 않고 병살타로 직접 위기를 극복했다. 7이닝 2K 무실점(3안타 무사사구) 피칭(104구). 오늘도 득점권에서는 안타를 맞지 않았다(5타수무안타).</p>,\n",
       " <p><strong><font color=\"#0075c8\">류현진 시즌별 6월 첫 등판</font></strong></p>,\n",
       " <p><strong>(13/6/8) 7.2이닝 1실점 - 애틀랜타<br/>(14/6/7) 6.0이닝 2실점 - 콜로라도<br/>(17/6/6) 7.0이닝 4실점 - 워싱턴<br/>(19/6/5) 7.0이닝 0실점 - 애리조나</strong></p>,\n",
       " <p><strong>*2015-16(어깨)&amp;2018년(사타구니) 부상</strong></p>,\n",
       " <p><strong><font color=\"#0075c8\">오늘 구종 분포 내용</font></strong></p>,\n",
       " <p><strong>체인 - 41구<br/>포심 - 26구<br/>커터 - 15구<br/>투심 - 11구<br/>커브 - 10구<br/>슬라 -  1구</strong></p>,\n",
       " <p><strong><font color=\"#0075c8\">올 시즌 평균자책점 순위</font></strong></p>,\n",
       " <p><strong>1.35 - 류현진 (80.0)<br/>1.96 - 오도리지 (64.1)<br/>2.20 - 데이비스 (69.2)<br/>2.27 - 벌랜더 (87.1)<br/>2.38 - 카스티요 (75.2)</strong></p>,\n",
       " <p><strong><font color=\"#0075c8\">1년 전 오늘 ERA 순위</font></strong></p>,\n",
       " <p><strong>1.24 - 벌랜더 (87.1)<br/>1.49 - 디그롬 (72.1)<br/>1.92 - 슈어저 (79.2)<br/>2.02 - 클루버 (84.2)<br/>2.18 - 놀라 (78.1)</strong></p>,\n",
       " <p><strong><strong><font color=\"#0075c8\">류현진 원정 부진도 옛 말</font></strong></strong></p>,\n",
       " <p><strong>18 [홈] 5승2패 1.15 [원] 2승1패 3.58<br/>19 [홈] 6승0패 1.01 [원] 3승1패 1.78</strong></p>,\n",
       " <p>오늘 류현진은 삼진보다 맞혀잡는 피칭에 집중. 그런데 내야진의 불안한 수비로 하마터면 큰일날 뻔 했다. 마르테에게 2루타를 내주긴 했지만, 오늘 류현진은 정타를 억제하는 데 성공했다. 평균 타구속도 82.5마일이 이를 증명. 류현진은 5월 이후 7경기에서 평균 타구속도가 84.9마일이다(랜스 린 83.7마일). 그만큼 상대 타자들이 류현진의 공을 제대로 맞히지 못하고 있다. 올 시즌 타격 성적은 21타수2안타(0.095)였던 류현진은 4회 타석에서 안타를 때려냈다. 그런데 2루주자 마틴이 홈에서 아웃되는 바람에 타점은 추가하지 못했다. 다저스는 실책 두 개를 범한 시거가 5타수2안타 2타점(.250 .340 .443). 시거는 최근 14경기 .314 .407 .667로 팀 내 타격감이 가장 좋다. 승률이 0.694까지 치솟은 다저스는 현재 무려 112승 페이스다. 다저스는 2017년 연고지 이전 후 한 시즌 최다승인 104승을 기록한 바 있다. 애리조나 클라크는 5이닝 4K 3실점 2자책(4안타 2볼넷)으로 선방했지만(96구) 상대운이 없었다. 역시 상대를 잘못 만난 애리조나 타선은 3안타 빈공에 허덕였다. 오늘 전까지 애리조나는 좌완 상대 팀 홈런(35) OPS(0.881) 1위였다.</p>,\n",
       " <p><strong><font color=\"#0075c8\">다저스 첫 62경기 성적</font></strong></p>,\n",
       " <p><strong>(2013) 27승35패 0.435<br/>(2014) 32승30패 0.516<br/>(2015) 36승26패 0.581<br/>(2016) 33승29패 0.532<br/>(2017) 37승25패 0.597<br/>(2018) 31승31패 0.500<br/>(2019) 43승19패 0.694</strong></p>,\n",
       " <p><strong><font color=\"#0075c8\">팀 첫 62경기 선발 ERA (1920년 이후)</font></strong></p>,\n",
       " <p><strong>1.35 - 류현진(2019)<br/>1.37 - 돈 드라이스데일(1968)<br/>1.45 - 위트 와이엇(1939)<br/>1.52 - 클레이튼 커쇼(2016)<br/>1.52 - 로스 스트리플링(2018)<br/>1.57 - 샌디 코팩스(1966)</strong></p>,\n",
       " <p><strong><font color=\"#ff6c00\">볼티모어(19승41패) 12-11 텍사스(30승28패)</font><br/><font color=\"#0075c8\">W: 번디(3-6 4.64) L: 스마일리(1-4 7.93) S: 기븐스(5/4 5.33)</font></strong><br/>추신수는 볼티모어전 통산 62경기 13홈런. 또한 올 시즌 볼티모어는 투수진이 메이저리그에서 가장 많은 피홈런 내주고 있었다(122개). 오늘 상대 선발 번디 역시 좋은 기억이 있는 투수. 2017년 맞대결에서 리드오프 홈런을 친 적이 있는데, 오늘도 이 기억을 되살려 1회말 리드오프 홈런을 쏘아올렸다(11호). 아시아 선수 최초의 200홈런 타자가 탄생하는 순간. 이로써 추신수는 200홈런 100도루 2루타300을 모두 해낸 현역 11번째 타자가 됐다. 홈에서 기념비적인 홈런을 날린 추신수는 마지막 타석에서 추격의 적시타를 때려내 5타수2안타 2타점 1볼넷으로 경기를 마쳤다(.302 .386 .552). 그러나 텍사스는 마운드가 붕괴되면서 볼티모어에게 패배했다. 선발 스마일리가 3.1이닝 7실점(8안타 2볼넷)으로 시동을 걸었고, 후속 투수 세 명도 모두 점수를 뺏겼다. 볼티모어 타선은 드와이트 스미스 주니어가 4타수3안타 6타점 1볼넷으로 펄펄 날았고(.257 .302 .477) 페드로 세베리노가 홈런 세 방으로 4타점을 올렸다(.288 .370 .567). 한 경기 3홈런 볼티모어 타자는 2017년 8월19일 마차도 이후 처음이다. 추신수에게 홈런을 내준 번디는 불펜이 막판에 흔들리는 바람에 겨우 5이닝 4K 3실점(6안타 2볼넷) 승리를 지켰다(96구).</p>,\n",
       " <p><strong><font color=\"#0075c8\">아시아 타자 홈런 순위</font></strong></p>,\n",
       " <p><strong>200 - 추신수<br/>175 - 마쓰이 *히데키<br/>117 - 이치로<br/> 48 - 조지마<br/> 44 - 이구치<br/> 42 - 후쿠도메<br/> 40 - 강정호<br/> 40 - 최희섭</strong></p>,\n",
       " <p><strong><font color=\"#0075c8\">현역 200홈런&amp;100도루&amp;2루타300</font></strong></p>,\n",
       " <p><strong>1. 앨버트 푸홀스<br/>2. 라이언 브론<br/>3. 저스틴 업튼<br/>4. 커티스 그랜더슨<br/>5. 맷 켐프<br/>6. 핸리 라미레스<br/>7. 이안 킨슬러<br/>8. 헌터 펜스<br/>9. 카를로스 곤살레스<br/>10. 앤드류 매커친<br/>11. 추신수</strong></p>,\n",
       " <p><strong><font color=\"#0075c8\">현역 리드오프 최다홈런 순위</font></strong></p>,\n",
       " <p><strong>48 - 킨슬러<br/>47 - 그랜더슨<br/>33 - 블랙몬<br/>30 - 추신수<br/>29 - 스프링어<br/>28 - 도저</strong></p>,\n",
       " <p><strong><font color=\"#ff6c00\">탬파베이(35승23패) 6-9 디트로이트(23승34패)</font><br/><font color=\"#0075c8\">W: 카펜터(1-2 6.23) L: 스넬(3-5 3.68) S: 그린(19/1 1.08)</font></strong><br/>미겔 카브레라의 오른 무릎은 연골이 닳아서 마모된 것. 당장 수술이 필요한 상태는 아니지만, 남은 커리어를 지명타자로 마칠 가능성이 높다. 2016년에 맺은 8년 2억4800만 달러 계약이 아직 4년이 더 남은 디트로이트 입장에서는 먹구름 같은 소식이다. 하지만 오늘 지명타자로 돌아온 카브레라는 보란듯이 맹타를 휘둘렀다. 1회부터 적시 2루타를 치더니 5회 2-2 동점에서는 결승 만루홈런(3호)을 쏘아올렸다. 4타수3안타 5타점(.293 .363 .384). 통산 5번째 만루홈런을 날린 카브레라는 역대 홈런 순위에서 치퍼 존스와 어깨를 나란히 했다. 디트로이트는 루고가 4타수3안타 2타점(.256 .283 .372) 구드럼이 5타수3안타 1도루로 감초 역할을 했다(.244 .326 .416). 라이언 카펜터는 7이닝 3K 2실점(7안타 무사사구) 승리(84구). 탬파베이는 스넬이 4.1이닝 8K 6실점(7안타 2볼넷)으로 무너지면서 4연패에 빠졌다(95구). 스넬은 카브레라에게 커브를 던지다 만루홈런을 헌납했는데, 스넬의 최근 3년간 커브 피안타율은 0.144로 이 부문 선발 3위다(클루버 0.107 모튼 0.122). 탬파베이는 3회 아비사일 가르시아의 투런(11호) 8회 아다메스의 만루홈런(5호)이 나왔다. 두 선수 모두 디트로이트 유망주 출신이다. 좌완 카펜터의 등판으로 선발에서 빠진 최지만은 9회 대타로 나와 내야안타를 치고 나갔다(.265 .344 .418).</p>,\n",
       " <p><strong><font color=\"#0075c8\">카브레라 통산 만루홈런</font></strong></p>,\n",
       " <p><strong>(07/9/16) 6회 vs 후안 모레요<br/>(09/4/11) 4회 vs 크리스 벤슨<br/>(12/9/19) 8회 vs 제시 차베스<br/>(13/6/02) 4회 vs T J 맥파랜드<br/>(19/6/06) 5회 vs 블레이크 스넬</strong></p>,\n",
       " <p><strong><font color=\"#0075c8\">카브레라의 역대 홈런 순위</font></strong></p>,\n",
       " <p><strong>31. 스탠 뮤지얼(475)<br/>31. 윌리 스타젤(475)<br/>33. 카를로스 델가도(473)<br/>34. 치퍼 존스(468)<br/>34. 미겔 카브레라(468)</strong></p>,\n",
       " <p><strong><font color=\"#0075c8\">스넬 커브 홈런 친 타자</font></strong></p>,\n",
       " <p><strong>(18/9/13) 호세 라미레스<br/>(19/3/29) 조지 스프링어<br/>(19/4/09) 호세 론돈<br/>(19/4/25) 위트 메리필드<br/>(19/5/30) 루데스 구리엘 주니어<br/>(19/6/05) 미겔 카브레라</strong></p>,\n",
       " <p><strong><font color=\"#0075c8\">스넬 성적 변화</font></strong></p>,\n",
       " <p><strong>17 (HR/9) 1.04 (BABIP) .277 (xFIP) 4.56<br/>18 (HR/9) 0.80 (BABIP) .241 (xFIP) 3.16<br/>19 (HR/9) 1.23 (BABIP) .321 (xFIP) 2.65</strong></p>,\n",
       " <p><strong><font color=\"#ff6c00\">미네소타(40승19패) 2-5 클리블랜드(30승30패)</font><br/><font color=\"#0075c8\">W: 비버(5-2 3.57) L: 스멜처(0-1 3.65) S: 핸드(17/0 1.09)</font></strong><br/>왠지 입장이 바뀐 것 같은 두 팀. 클리블랜드가 미네소타의 4연승을 저지하면서 체면치레를 했다. 린도어가 3회와 5회 연타석 홈런으로 분위기를 가져왔다. 통산 10번째 멀티홈런 경기를 해낸 린도어는 3타수3안타 2홈런(9,10호) 3타점 1볼넷 대활약(.306 .377 .538). 여전히 갈팡질팡하고 있는 호세 라미레스(.202 .303 .307)와 달리 린도어는 자기 몫을 해주고 있다. 6회까지 한 점차로 앞선 클리블랜드는 7회 페레스(8호)와 바우어스(6호)의 연타석 홈런으로 점수 차를 벌렸다. 지난 보스턴 원정에서 5이닝 6실점(8안타)으로 주춤했던 비버는 7이닝 7K 2실점(5안타 1볼넷) 승리를 획득했다(104구). 2회 마윈 곤살레스, 6회 에디 로사리오에게 솔로홈런 두 개를 내줬다. 마이너리그 시절 '제2의 클루버'로 불렸던 비버는 실제로 마운드 위에서 보여주는 모습이 비슷하다(최근 승격된 잭 플리삭은 '제2의 비버'로 불린다). 미네소타는 스멜처가 7회 연타석 홈런을 맞고 6.1이닝 5실점(5안타 3볼넷)했다. 포심 평균 구속이 88.5마일인 스멜처는 경쟁력을 가지려면 체력과 제구에 더 신경을 써야한다. 손목 부상에서 돌아온 크루스는 4타수무안타 3삼진(.262 .345 .492). 로사리오는 리그 홈런 선두 경쟁을 재점화했다(.276 .310 .548).</p>,\n",
       " <p><strong><font color=\"#0075c8\">시즌 전 포스트시즌 가능성 (팬그래프)</font></strong></p>,\n",
       " <p><strong>94.6% - 클리블랜드<br/>35.8% - 미네소타<br/> 0.9% - 화이트삭스</strong></p>,\n",
       " <p><strong><font color=\"#0075c8\">현재 포스트시즌 가능성</font></strong></p>,\n",
       " <p><strong>98.1% - 미네소타<br/>27.5% - 클리블랜드<br/> 0.2% - 화이트삭스</strong></p>,\n",
       " <p><strong><font color=\"#0075c8\">최근 2년간 유격수 최다 멀티홈런</font></strong></p>,\n",
       " <p><strong>9 - 린도어<br/>9 - 스토리<br/>7 - 마차도<br/>6 - 그레고리우스<br/>4 - 토레스<br/>4 - 코레아</strong></p>,\n",
       " <p><strong><font color=\"#0075c8\">아메리칸리그 홈런 순위</font></strong></p>,\n",
       " <p><strong>18 - 로사리오<br/>18 - 산체스<br/>17 - 갈로 *부상<br/>17 - 스프링어 *부상<br/>17 - 브레그먼<br/>16 - 채프먼<br/>16 - 엔카나시온</strong></p>,\n",
       " <p><strong><font color=\"#ff6c00\">양키스(38승21패) 3-4 토론토(22승38패)</font><br/><font color=\"#0075c8\">W: 페논(2-3 6.67) L: 다나카(3-5 3.42) S: 자일스(11/1 1.13)</font></strong><br/>다나카는 4회까지 무실점 피칭. 타선은 4회초 클린트 프레이저의 투런홈런으로 먼저 두 점을 뽑았다. 그런데 다나카는 5회 선두타자 그리칙에게 홈런을 허용하더니 갈비스에게 투런, 게레로 주니어에게 적시타를 맞고 넉 점을 뺏겼다. 다나카가 6이닝 2K 4실점(6안타 2볼넷)으로 최근 두 경기 연속 고전. 양키스는 홀더와 그린이 더 이상 점수를 주지 않았지만, 타선도 한 점밖에 따라붙지 못했다. 사실 다나카는 5회 4실점 과정에서 억울한 볼판정이 있었다. 5회 그리칙과 갈비스의 홈런 타석에서는 명확한 스트라이크가 볼로 둔갑됐다. 오늘 토론토 다니엘 허드슨도 손해를 본 공이 있었던 상황. 답답한 볼판정으로 경기를 망친 주범은 선수들 사이에서 악명 높은 앙헬 에르난데스였다. 양키스는 힉스가 4타수2안타 1홈런(2호) 1타점 1볼넷(.224 .324 .345) 프레이저는 3타수1홈런(11호) 2타점 1볼넷을 골랐다(.273 .323 .533). 지난 선데이나이트베이스볼에서 실책 후 미디어를 회피한 프레이저는 그 행동에 대해 후회하지 않는다고 전했다(선수협 미디어 가이드라인은 협조해야 될 책임이 있다고 명시되어 있다). 6연패를 끊은 토론토는 선발 리차드가 4.2이닝 2실점(4안타 3볼넷) 노디시전(87구). 처음으로 양키스를 상대한 게레로 주니어는 4타수1안타 1타점을 올렸다(.248 .316 .446).</p>,\n",
       " <p><strong><font color=\"#0075c8\">다나카 vs AL 동부지구 (통산)</font></strong></p>,\n",
       " <p><strong>11승4패 2.87 - 토론토 (18경기)<br/> 9승4패 3.33 - 탬파베이 (16경기)<br/> 5승3패 3.44 - 볼티모어 (14경기)<br/> 8승4패 4.35 - 보스턴 (18경기)</strong></p>,\n",
       " <p><strong><font color=\"#0075c8\">양키스 홈런 순위 (지난해)</font></strong></p>,\n",
       " <p><strong>18 - 산체스 (18홈런)<br/>15 - 보이트 (14홈런)<br/>14 - 토레스 (24홈런)<br/>11 - 프레이저 (0홈런)<br/> 8 - 가드너 (12홈런)</strong></p>,\n",
       " <p><strong><font color=\"#ff6c00\">샌프란시스코(25승34패) 9-3 메츠(28승32패) 10회</font><br/><font color=\"#0075c8\">W: 멜란슨(2-0 2.31) L: 그셀먼(1-1 5.05)</font><br/></strong>샌프란시스코가 보치 감독에게 팀 통산 1000승을 선물했다. 오늘은 2016년 와일드카드 경기에서 격돌했던 범가너와 신더가드의 재대결이었다. 당시 신더가드가 7이닝 10K 무실점으로 호투했는데, 범가너가 9이닝 완봉승을 해버린 바 있다. 오늘은 두 투수 모두 승패를 나누지 못했다. 범가너가 6이닝 5K 3실점(6안타 2볼넷) 신더가드가 6.2이닝 4K 3실점(5안타 3볼넷)하고 내려갔다. 퀄리티스타트는 했지만, 두 선수 모두 올 시즌 성적이 만족스럽진 않다(범가너 3승5패 4.05, 신더가드 3승4패 4.83). 샌프란시스코는 연장 10회초 보트의 2타점 2루타로 3-3 균형을 허문 뒤 추가 4득점으로 더 길게 경기를 끌고가지 않았다. 보트는 5타수2안타 2타점(.268 .339 .446) 대타로 나온 산도발이 3타수2안타 2타점을 올렸다(.286 .317 .571). 메츠는 피트 알론소가 범가너를 상대로 시즌 20호 홈런을 쏘아올렸다(.267 .340 .618). 메츠 신인 최다홈런 신기록을 경신할 것이 유력한 알론소는 현재 54홈런 페이스. 내친김에 내셔널리그 기록도 넘보고 있다. 라모스가 5타수3안타 1홈런(7호) 2타점으로 최근 좋은 타격감을 이어갔다(.278 .350 .420).</p>,\n",
       " <p><strong><font color=\"#0075c8\">자이언츠 감독 최다승 순위</font></strong></p>,\n",
       " <p><strong>2583 - 존 맥그로<br/>1000 - 브루스 보치<br/> 840 - 더스티 베이커<br/> 823 - 빌 테리<br/> 637 - 레오 듀로서</strong></p>,\n",
       " <p><strong><font color=\"#0075c8\">메츠 신인 최다홈런 기록</font></strong></p>,\n",
       " <p><strong>26 - 대럴 스트로베리(1983)<br/>20 - 피트 알론소(2019)<br/>19 - 론 스와보다(1965)<br/>19 - 아이크 데이비스(2010)</strong></p>,\n",
       " <p><strong><font color=\"#0075c8\">역대 신인 최다홈런 기록</font></strong></p>,\n",
       " <p><strong>52 - 애런 저지(20177)<br/>49 - 마크 맥과이어(1987)<br/>39 - 코디 벨린저(2017) *NL 최다<br/>38 - 프랭크 로빈슨(1956)</strong></p>,\n",
       " <p><strong><font color=\"#ff6c00\">애틀랜타(33승27패) 12-5 피츠버그(28승31패)</font><br/><font color=\"#0075c8\">W: 윙커(2-1 5.60) L: 크릭(2-2 2.66)</font><br/></strong>6회까지 3-5로 끌려가던 애틀랜타는 라일리(22)가 7회 1사 1,2루에서 등장. 초구 슬라이더에 헛스윙을 한 라일리는 2구 바깥쪽으로 빠져나가는 슬라이더를 밀어쳐 역전 스리런 홈런으로 연결시켰다. 라일리가 분위기를 바꾼 애틀랜타는 8회와 9회 각각 석 점씩 더 추가해 기분 좋은 역전승을 거뒀다. 라일리는 4타수1홈런 3타점 1볼넷(.324 .368 .732). 데뷔 첫 18경기 9홈런은 역대 2위에 해당한다(리스 호스킨스 11홈런, 조지 스캇 9홈런). 또한 라일리는 같은 기간 25타점을 쏟아붓고 있다. 타점이 공식 기록으로 인정된 1920년 이후 라일리보다 더 빠른 페이스로 25타점을 찍은 선수는 1925년 맨디 브룩스밖에 없었다(첫 17경기 25타점). 애틀랜타는 8회 스리런 홈런을 친 도널슨도 4타수1홈런(8호) 3타점 2볼넷(.253 .372 .443) 역시 홈런과 2루타를 날린 프리먼은 통산 300번째 2루타를 달성했다(.310 .394 .578). 타선 덕분에 프리드는 4이닝 5실점(9안타 2볼넷) 패전을 피했다(ERA 3.68). 피츠버그는 선발 브롤트가 4이닝 2실점 1자책(5안타 3볼넷)하고 교체(93구). 다섯 명의 불펜진이 5이닝 10실점(8자책)했다. 작년 후반기 위용이 온데간데 사라진 상황이다. 한편 강정호는 트리플A 경기에서 4안타를 때려냈다고.</p>,\n",
       " <p><strong><font color=\"#0075c8\">라일리 데뷔 후 타점 순위</font></strong></p>,\n",
       " <p><strong>25 - 오스틴 라일리<br/>24 - 에두아르도 에스코바 <br/>18 - 브라이스 하퍼</strong></p>,\n",
       " <p><strong><font color=\"#0075c8\">애틀랜타 200홈런&amp;2루타300</font></strong></p>,\n",
       " <p><strong>1. 행크 애런 (733홈런 2루타600)<br/>2. 에디 매튜스 (493홈런 2루타338)<br/>3. 치퍼 존스 (468홈런 2루타549)<br/>4. 데일 머피 (371홈런 2루타306)<br/>5. 앤드루 존스 (368홈런 2루타330)<br/>6. 프레디 프리먼 (204홈런 2루타300)</strong></p>,\n",
       " <p><strong><font color=\"#0075c8\">피츠버그 불펜 ERA (NL 순위)</font></strong></p>,\n",
       " <p><strong>2016 : 3.57 (5위)<br/>2017 : 3.84 (6위)<br/>2018 : 4.03 (7위)<br/>2019 : 5.25 (14위)</strong></p>,\n",
       " <p><strong>*작년 후반기 3.57 리그 2위</strong></p>,\n",
       " <p><strong><font color=\"#ff6c00\">화이트삭스(29승31패) 5-9 워싱턴(27승33패)</font><br/><font color=\"#0075c8\">W: 스트라스버그(6-3 3.54) L: 로페스(3-6 6.62) S: 두리틀(13/2 3.16)</font><br/></strong>2019년 드래프트가 진행 중인 가운데 10년 전 드래프트 전체 1순위 스트라스버그의 선발 등판. 당시 스트라스버그는 역사를 바꿀 수 있는 투수라고 기대됐지만 정작 역사를 바꾸고 있는 선수는 25순위에 뽑혔다. 오늘도 화이트삭스를 상대로 1회부터 넉 점을 내주는 등 5이닝 6K 5실점(5안타 3볼넷)에 그쳤다(105구). 하지만 타선 도움으로 통산 100승을 손에 쥐었다. 연고지를 워싱턴으로 이전한 2005년 이후 통산 100승에 성공한 투수는 스트라스버그가 처음이다. 렌돈이 4타수2안타(홈런 2루타) 5타점 1볼넷으로 스트라스버그의 도우미를 자처했다(.335 .440 .671). 워싱턴이 2011년 드래프트 1라운드에서 뽑았던 렌돈은 스트라스버그와 에이전트가 같다(스캇 보라스). 화이트삭스는 선발 레이날도 로페스가 타선의 초반 득점지원을 활용하지 못했다. 4이닝 4K 6실점(5안타 4볼넷) 패전(92구). 지난 3경기 2패 12.83이다. 워싱턴이 이튼을 주면서 받아온 로페스는 함께 넘어온 지올리토와 달리 성장 가능성이 보이지 않고 있다. 현재 화이트삭스는 트리플A에서 빼어난 시즌을 보내고 있는 딜란 시즈(5승2패 3.46)의 승격을 조율 중이다. 몬카다는 3타수1홈런(11호) 1타점 2볼넷 활약이 패배로 빛을 잃었다(.284 .343 .498). </p>,\n",
       " <p><strong><font color=\"#0075c8\">워싱턴의 연도별 첫 번째 지명</font></strong></p>,\n",
       " <p><strong>2009 - 스티븐 스트라스버그(1)<br/>2010 - 브라이스 하퍼(1)<br/>2011 - 앤서니 렌돈(6)<br/>2012 - 루카스 지올리토(16)</strong></p>,\n",
       " <p><strong><font color=\"#0075c8\">워싱턴 이전 후 최다승</font></strong></p>,\n",
       " <p><strong>100 - 스티븐 스트라스버그<br/> 86 - 지오 곤살레스<br/> 71 - 맥스 슈어저<br/> 70 - 조던 짐머맨<br/> 64 - 태너 로어크<br/> 44 - 리반 에르난데스</strong></p>,\n",
       " <p><strong><font color=\"#ff6c00\">마이애미(22승36패) 16-0 밀워키(34승27패)</font><br/><font color=\"#0075c8\">W: 로페스(4-5 4.52) L: 앤더슨(3-1 3.93)</font><br/></strong>이것이 지터볼인가. 마이애미가 밀워키를 상대로 16-0 대승을 장식했다. 16점 이상 거둔 팀이 한 점도 주지 않고 승리한 것은 메이저리그 역대 78번째로, 마이애미 역사에는 한 번도 없었다(2018년 6월2일 오클랜드가 캔자스시티를 상대로 16-0 승리). 16점 중 11점이 5회초에 나왔다. 15타자가 들어선 5회 카스트로가 삼진을 당한 후 9타자가 연속 살아나간 모습. 뿐만 아니라 한 이닝에 9타자가 모두 타점을 올리는 진귀한 일이 일어났다. 한 이닝에 타자 전원이 타점을 올린 것은 1952년 5월22일 다저스 이후 처음이다. 당시 1회에 15득점 한 다저스는 피 위 리즈, 듀크 스나이더, 재키 로빈슨 같은 타자들이 있었다. 친정팀을 만나면서 전투력이 상승한 쿠퍼는 5타수4안타 1홈런(5호) 2타점 1볼넷(.289 .368 .482) 카스트로는 5타수2안타 1홈런(4호) 3타점(.233 .270 .317) 투수 로페스도 안타를 친 마이애미는 선발 전원이 19안타를 합작했다. 로페스는 6이닝 7K 무실점(3안타 1볼넷) 승리(92구). 치욕적인 5회초를 보낸 밀워키는 선발 체이스 앤더슨이 4이닝 6K 4실점(7안타)으로 좋지 않았다. 두 번째 투수 테일러 윌리엄스가 0.1이닝 8실점이라는 대참사를 당했다. 카운셀 감독은 \"한 번도 본 적이 없다\"고. 이어서 \"최대한 빨리 잊어야 한다\"고 덧붙였다. 돌아온 트래비스 쇼는 3타수2안타 1볼넷(.174 .278 .297).</p>,\n",
       " <p><strong><font color=\"#0075c8\">마이애미 5회초 대공격</font></strong></p>,\n",
       " <p><strong>단타 - 쿠퍼<br/>볼넷 - 앤더슨<br/>삼진 - 카스트로<br/>2루타 - 라미레스 &lt;타점&gt;<br/>고의사구 - 리들<br/>단타 - 알파로 &lt;타점&gt;<br/>단타 - 로하스 &lt;타점&gt;<br/>2루타 - 로페스 &lt;타점&gt;<br/>단타 - 그랜더슨 &lt;타점&gt;<br/>단타 - 쿠퍼 &lt;타점&gt;<br/>실책 - 앤더슨 &lt;타점&gt;<br/>2루타 - 카스트로 &lt;타점&gt;<br/>땅볼 - 라미레스 &lt;타점&gt;<br/>단타 - 리들 &lt;타점&gt;<br/>삼진 - 알파로</strong></p>,\n",
       " <p><strong>*실책 상황 1사 1,3루로 타점 인정</strong></p>,\n",
       " <p><strong><font color=\"#ff6c00\">필라델피아(34승27패) 9-6 샌디에이고(31승30패)</font><br/><font color=\"#0075c8\">W: 아이코프(3-3 4.14) L: 패댁(4-4 2.97) S: 네리스(11/0 2.16)</font><br/></strong>어제 런다운에 걸린 도중 무릎 부상을 당한 매커친은 전방십자인대 파열로 확인. 남은 시즌 더 이상 경기에 나올 수 없다. 매커친은 내년 개막전 복귀를 희망하고 있다. 오두벨 에레라(폭력)의 이탈 때문에 데려온 제이 브루스의 존재가 더 필요해진 가운데 브루스가 이적 첫 경기부터 대폭발했다. 브루스는 4회 투런, 5회 만루홈런을 터뜨리는 등 4타수3안타 6타점을 쓸어담았다(.227 .293 .576). 개인 통산 27번째 멀티홈런 경기. 1920년 이후 이적 첫 경기에서 2홈런 6타점을 올린 타자는 브루스가 5번째다(1962년 로먼 메히아스, 1970년 브랜트 올레이, 1990년 샘 혼, 2004년 캘빈 피커링). 필라델피아는 브루스 앞에 나온 리얼뮤토도 5타수3안타(.273 .326 .455) 뒤에 나온 킹거리도 4타수2안타(홈런 2루타) 2타점을 올렸다(.333 .370 .575). 선발 아이코프는 6이닝 5K 3실점(4안타 1몸맞는공)으로 5연패 탈출에 기여했다. 샌디에이고는 패댁이 4.1이닝 4K 6실점 5자책(8안타)으로 무릎을 꿇었다(91구). 경기 후 \"절망적\"이라고 말한 패댁은 초반 기세가 확 꺾였다. 프란밀 레이에스는 또 솔로홈런 두 방을 날렸다(.251 .295 .586).</p>,\n",
       " <p><strong><font color=\"#0075c8\">현역 최다 만루홈런 타자</font></strong></p>,\n",
       " <p><strong>14 - 푸홀스<br/>11 - 카노<br/>11 - 매캔<br/>11 - 엔카나시온<br/>10 - 그랜더슨<br/> 9 - 마차도<br/> 9 - 크루스<br/> 9 - 브루스</strong></p>,\n",
       " <p><strong><font color=\"#0075c8\">패댁 성적 변화</font></strong></p>,\n",
       " <p><strong>7경기 3승1패 1.55 (40.2이닝 2피홈런)<br/>4경기 1승3패 5.85 (20.0이닝 7피홈런)</strong></p>,\n",
       " <p><strong><font color=\"#0075c8\">최근 10년간 최다 출장</font></strong></p>,\n",
       " <p><strong>1452 - 앤드류 매커친<br/>1434 - 닉 마카키스<br/>1420 - 애덤 존스<br/>1390 - 알시데스 에스코바<br/>1389 - 로빈슨 카노</strong></p>,\n",
       " <p><strong><font color=\"#ff6c00\">오클랜드(30승30패) 4-2 에인절스(29승32패)</font><br/><font color=\"#0075c8\">W: 몬타스(7-2 2.83) L: 캐닝(2-2 3.52) S: 트라이넨(12/2 3.26)</font><br/></strong>오클랜드가 5연패를 끊고 5할 승률을 다시 맞췄다. 3회 크리스 데이비스의 2루타와 피스코티의 희생플라이로 두 점을 얻은 오클랜드는 6회 로리아노가 도망가는 투런포를 쏘아올렸다. 시즌 8호 홈런을 친 로리아노는 2타수2안타 2타점 2사사구 1도루로 전 타석 출루를 했다(.264 .312 .435). 17경기 연속 안타는 현재 메이저리그에서 가장 긴 기록이다. 오클랜드는 로리아노 앞에 배치된 그로스먼도 멀티히트 경기를 했다(.230 .323 .370). 그로스먼은 같은 지구 팀을 상대로 77타수23안타(0.299) 그 외 나머지 팀들을 상대로는 88타수15안타(0.170)다. 선발 몬타스는 6이닝 3K 2실점(4안타 1볼넷) 승리를 따냈다(99구). 몬타스는 6회 오타니에게 투런홈런을 맞은 것이 유일한 흠이었다. 53.1이닝만에 나온 첫 피홈런. 에인절스는 캐닝이 6이닝 4실점(7안타 1볼넷) 패전을 안았다(102구). 오늘도 탈삼진은 8개를 적립. 아메리칸리그 신인 투수가 데뷔 첫 7경기에서 탈삼진 5개 이상 기록한 것은 캐닝이 네 번째다. 트라웃은 2타수무안타 2사사구(.295 .465 .589). 오타니는 3타수2안타 1홈런(4호) 2타점 1볼넷을 골랐다(.239 .321 .370).</p>,\n",
       " <p><strong><font color=\"#0075c8\">오클랜드 타자 승리기여도</font></strong></p>,\n",
       " <p><strong>2.6 - 채프먼<br/>2.1 - 시미언<br/>1.0 - 피스코티<br/>0.9 - 로리아노<br/>0.7 - 캐나<br/>0.7 - 페글리<br/>0.6 - 핀더</strong></p>,\n",
       " <p><strong><font color=\"#0075c8\">AL 신인 첫 7경기 5삼진 이상</font></strong></p>,\n",
       " <p><strong>11 - 다나카 마사히로<br/>10 - 허브 스코어<br/> 9 - 올랜도 에르난데스 <br/> 7 - 그리핀 캐닝</strong></p>,\n",
       " <p><strong><font color=\"#0075c8\">올 시즌 몬타스 상대 홈런 친 타자</font></strong></p>,\n",
       " <p><strong>(4/01) 콜 칼훈<br/>(4/06) 카를로스 코레아<br/>(4/11) 트레이 맨시니<br/>(4/11) 리오 루이스<br/>(6/05) 오타니 쇼헤이</strong></p>,\n",
       " <p><strong><font color=\"#ff6c00\">보스턴(31승29패) 8-3 캔자스시티(19승41패)</font><br/><font color=\"#0075c8\">W: 로드리게스(6-3 4.88) L: 발로우(1-2 4.97)</font><br/></strong>4연패를 벗어난 보스턴은 두 경기 연속 승리. 0-2로 뒤진 6회 제이디 마르티네스의 3루타로 첫 점수를 냈다. 마르티네스의 3루타는 통산 16번째. 타구가 살짝 담장을 넘지 못했다. 데버스의 볼넷으로 계속된 1사 1,3루에서는 보가츠의 희생플라이와 홀트의 2루타로 경기를 뒤집었다(3-2). 이어서 8회 대타 누녜스의 스리런홈런으로 완전히 승기를 가져왔다(6-2). 누녜스는 시즌 2호 홈런(.227 .248 .320). 제이디 마르티네스가 5타수3안타 1타점을 올렸고(.301 .378 .536) 데버스가 4타수1안타 2타점 1볼넷을 기록했다(.314 .373 .498). 선발 에두아르도 로드리게스는 5.2이닝 7K 2실점(6안타) 승리(89구). 보스턴은 로드리게스가 선발로 나온 최근 10경기에서 9승1패다. 참고로 보스턴은 세일 선발 등판에서는 3승9패다. 캔자스시티는 스파크맨이 5.1이닝 1실점(3안타 1볼넷) 승리 요건을 갖추고 내려갔지만(80구) 두 번째 투수 발로우가 곧바로 블론을 저질렀다. 커스버트는 2회 투런홈런(2호) 포함 3타점(.375 .375 .750). 몬데시는 또 2루를 훔쳤다(.285 .320 .485).</p>,\n",
       " <p><strong><font color=\"#0075c8\">보스턴 평균 타구속도&amp;발사각도</font></strong></p>,\n",
       " <p><strong>17 [속도] 86.9마일 [각도] 10.6도<br/>18 [속도] 89.6마일 [각도] 12.2도<br/>19 [속도] 89.9마일 [각도] 12.6도</strong></p>,\n",
       " <p><strong><font color=\"#0075c8\">메이저리그 도루 순위</font></strong></p>,\n",
       " <p><strong>22 - 아달베르토 몬데시<br/>15 - 팀 앤더슨<br/>14 - 말렉스 스미스<br/>14 - 호세 라미레스</strong></p>,\n",
       " <p><strong><font color=\"#0075c8\">캔자스시티 도루왕 출신</font></strong></p>,\n",
       " <p><strong>1971 - 아모스 오티스 (52)<br/>1977 - 프레디 패텍 (53)<br/>1979 - 윌리 윌슨 (83)<br/>2000 - 자니 데이먼 (46)<br/>2017 - 위트 메리필드 (34)<br/>2018 - 위트 메리필드 (45)</strong></p>,\n",
       " <p><strong><font color=\"#ff0000\">※ 경기 내용은 계속 추가됩니다</font></strong></p>,\n",
       " <p><strong>※ 레퍼런스/팬그래프/ESPN/스탯캐스트 등 참조</strong></p>,\n",
       " <p><strong><font color=\"#ff6c00\">내일(6일)의 TV 중계(엠스플&amp;MBC ON&amp;네이버 TV)</font></strong></p>,\n",
       " <p><strong><font color=\"#0075c8\">4시40분 : LAD(마에다)-ARI(듀플랜티어)</font><br/>*캐스터 김민준 / 해설 김형준<br/><font color=\"#0075c8\">8시10분 : TB(모튼)-DET(턴불) MBC ON</font><br/>*캐스터 이인환 / 해설 유선우<br/><font color=\"#0075c8\">9시5분 : BAL(민스)-TEX(마이너)</font><br/>*캐스터 손우주 / 해설 송재우<br/><font color=\"#0075c8\">11시7분 : OAK(멩든)-LAA(페냐)</font><br/>*캐스터 이정호 / 해설 김선우</strong></p>,\n",
       " <p class=\"source\"><b>기사제공</b> 이창섭 칼럼</p>,\n",
       " <p class=\"desc\">베이스볼+ 기자, 메이저리그 스카우팅리포트 저자</p>,\n",
       " <p class=\"tomain_info_layer is_hidden\">\n",
       " <strong class=\"tomain_info_head\">모두에게 보여주고 싶은 기사라면<i>?</i><span class=\"tomain_info_betaicon\">beta</span></strong>\n",
       " <span class=\"tomain_info_body\">\n",
       " <strong class=\"tomain_info_point\">이 기사를 추천합니다 </strong><span class=\"tomain_info_text\">버튼을 눌러주세요. 집계 기간 동안 추천을 많이 받은 기사는 네이버 자동 기사배열 영역에 추천 요소로 활용됩니다.</span>\n",
       " </span>\n",
       " <a class=\"tomain_info_close\" href=\"#\" id=\"_toMainLayerOff\">레이어 닫기</a>\n",
       " </p>,\n",
       " <p class=\"tomain_info_phrase is_hidden\" id=\"_newsMainHistory\">\n",
       " <span class=\"tomain_info_body\">\n",
       " <span class=\"tomain_info_text\">이 기사는 </span><strong class=\"tomain_info_point\">모바일 메인 스포츠판</strong><span class=\"tomain_info_text\">에 노출된 이력이 있습니다.</span>\n",
       " </span>\n",
       " </p>,\n",
       " <p class=\"tomain_info_phrase is_hidden\">\n",
       " <span class=\"tomain_info_body\">\n",
       " <span class=\"tomain_info_text\">이 기사는 </span><strong class=\"tomain_info_point\">사용자 추천</strong><span class=\"tomain_info_text\">으로 모바일 메인 스포츠판에 노출된 이력이 있습니다.</span>\n",
       " </span>\n",
       " </p>,\n",
       " <p class=\"guide_text\" id=\"wa_categorize_tooltip\" role=\"tooltip\">스포츠 기사 섹션(종목) 정보는 언론사 분류와 기술 기반의 자동 분류 시스템을 따르고 있습니다. 오분류에 대한 건은 네이버스포츠로 제보 부탁드립니다.</p>]"
      ]
     },
     "execution_count": 63,
     "metadata": {},
     "output_type": "execute_result"
    }
   ],
   "source": [
    "soup.select('.content_area p')"
   ]
  },
  {
   "cell_type": "code",
   "execution_count": null,
   "metadata": {},
   "outputs": [],
   "source": []
  },
  {
   "cell_type": "code",
   "execution_count": null,
   "metadata": {},
   "outputs": [],
   "source": []
  },
  {
   "cell_type": "code",
   "execution_count": null,
   "metadata": {},
   "outputs": [],
   "source": []
  },
  {
   "cell_type": "code",
   "execution_count": null,
   "metadata": {},
   "outputs": [],
   "source": []
  },
  {
   "cell_type": "code",
   "execution_count": null,
   "metadata": {},
   "outputs": [],
   "source": []
  },
  {
   "cell_type": "code",
   "execution_count": null,
   "metadata": {},
   "outputs": [],
   "source": [
    "\n"
   ]
  }
 ],
 "metadata": {
  "kernelspec": {
   "display_name": "Python 3",
   "language": "python",
   "name": "python3"
  },
  "language_info": {
   "codemirror_mode": {
    "name": "ipython",
    "version": 3
   },
   "file_extension": ".py",
   "mimetype": "text/x-python",
   "name": "python",
   "nbconvert_exporter": "python",
   "pygments_lexer": "ipython3",
   "version": "3.7.3"
  }
 },
 "nbformat": 4,
 "nbformat_minor": 2
}
