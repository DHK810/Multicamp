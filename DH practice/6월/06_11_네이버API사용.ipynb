{
 "cells": [
  {
   "cell_type": "code",
   "execution_count": 24,
   "metadata": {},
   "outputs": [],
   "source": [
    "import requests\n",
    "\n",
    "auth_url = 'https://nid.naver.com/oauth2.0/authorize'\n",
    "CLIENT_ID = '' \n",
    "CLIENT_SECRET = ''\n",
    "redirect_uri = 'http://127.0.0.1:8080'\n",
    "\n",
    "params = {\n",
    "        'client_id' : CLIENT_ID,\n",
    "        'response_type' : 'code',\n",
    "        'redirect_uri' : redirect_uri,\n",
    "        'state' : 'abcde12345'\n",
    "}\n",
    "\n",
    "#?client_id={클라이언트 아이디}&response_type=code&redirect_uri={개발자 센터에 등록한 콜백 URL(URL 인코딩)}&state={상태 토큰}''"
   ]
  },
  {
   "cell_type": "code",
   "execution_count": 25,
   "metadata": {},
   "outputs": [
    {
     "data": {
      "text/plain": [
       "'https://nid.naver.com/oauth2.0/authorize?client_id=7GLXd5X6vK5Csg_0XjrL&response_type=code&redirect_uri=http%3A%2F%2F127.0.0.1%3A8080&state=abcde12345'"
      ]
     },
     "execution_count": 25,
     "metadata": {},
     "output_type": "execute_result"
    }
   ],
   "source": [
    "resp = requests.get(auth_url, params)\n",
    "resp.url"
   ]
  },
  {
   "cell_type": "code",
   "execution_count": 70,
   "metadata": {},
   "outputs": [],
   "source": [
    "TOKEN_URL = 'https://nid.naver.com/oauth2.0/token'\n",
    "params = {\n",
    "        'client_id' : CLIENT_ID,\n",
    "        'client_secret' : CLIENT_SECRET,\n",
    "        'grant_type' : 'authorization_code',\n",
    "        'state' : 'abcde12345',\n",
    "        'code' : ''  #resp.url을 크롬으로 열어서 확인 버튼 누르면 나오는 code 값\n",
    "}\n",
    "#client_id={클라이언트 아이디}&client_secret={클라이언트 시크릿}&grant_type=authorization_code&state={상태 토큰}&code='"
   ]
  },
  {
   "cell_type": "code",
   "execution_count": 71,
   "metadata": {},
   "outputs": [],
   "source": [
    "resp = requests.get(TOKEN_URL, params)"
   ]
  },
  {
   "cell_type": "code",
   "execution_count": 72,
   "metadata": {},
   "outputs": [
    {
     "data": {
      "text/plain": [
       "'https://nid.naver.com/oauth2.0/token?client_id=7GLXd5X6vK5Csg_0XjrL&client_secret=pV8dW_VhV9&grant_type=authorization_code&state=abcde12345&code=gQw6X9T9E8wvDTJCfC'"
      ]
     },
     "execution_count": 72,
     "metadata": {},
     "output_type": "execute_result"
    }
   ],
   "source": [
    "resp.url\n"
   ]
  },
  {
   "cell_type": "code",
   "execution_count": 73,
   "metadata": {},
   "outputs": [
    {
     "data": {
      "text/plain": [
       "{'access_token': 'AAAAObTkyqJJPPwkRQ97oHCd3knMTK5w/4tVjYfUou4zlji7LtmAe2T1RGEHEA23eKM0KCpwFbyhQ5DanU2QdcYya64=',\n",
       " 'refresh_token': '4Fj18isQrLishDmWvGt0t82y4HMkL61SMIipg0Ojq9QaXUGAVNPwipipOCUABX2VtAe546vFCdUUqwGvtNx6biiZl7wxJKY3CS1brjisd60MSBzPw3cc25jfB1E37CxYiimtvyzW',\n",
       " 'token_type': 'bearer',\n",
       " 'expires_in': '3600'}"
      ]
     },
     "execution_count": 73,
     "metadata": {},
     "output_type": "execute_result"
    }
   ],
   "source": [
    "json_text = resp.json()\n",
    "json_text"
   ]
  },
  {
   "cell_type": "code",
   "execution_count": 74,
   "metadata": {},
   "outputs": [],
   "source": [
    "access_token = json_text['access_token']\n",
    "refresh_token = json_text['refresh_token']\n",
    "token_type = json_text['token_type']\n",
    "expires_in = json_text['expires_in']\n"
   ]
  },
  {
   "cell_type": "code",
   "execution_count": 75,
   "metadata": {},
   "outputs": [],
   "source": [
    "PROFILE_URL = 'https://openapi.naver.com/v1/nid/me' #1.6.1 Web 애플리케이션 문서에서 가져왔음\n",
    "\n",
    "headers = {\n",
    "    'Authorization' : \"{} {}\".format(token_type, access_token)\n",
    "}\n"
   ]
  },
  {
   "cell_type": "code",
   "execution_count": 76,
   "metadata": {},
   "outputs": [
    {
     "data": {
      "text/plain": [
       "b'{\"resultcode\":\"00\",\"message\":\"success\",\"response\":{\"id\":\"49526416\",\"gender\":\"M\",\"email\":\"dhkang810@naver.com\",\"name\":\"\\\\uac15\\\\ub3d9\\\\ud6c8\"}}'"
      ]
     },
     "execution_count": 76,
     "metadata": {},
     "output_type": "execute_result"
    }
   ],
   "source": [
    "resp = requests.get(PROFILE_URL, headers = headers)\n",
    "resp.content"
   ]
  },
  {
   "cell_type": "code",
   "execution_count": 77,
   "metadata": {},
   "outputs": [
    {
     "data": {
      "text/plain": [
       "{'resultcode': '00',\n",
       " 'message': 'success',\n",
       " 'response': {'id': '49526416',\n",
       "  'gender': 'M',\n",
       "  'email': 'dhkang810@naver.com',\n",
       "  'name': '강동훈'}}"
      ]
     },
     "execution_count": 77,
     "metadata": {},
     "output_type": "execute_result"
    }
   ],
   "source": [
    "resp.json()"
   ]
  },
  {
   "cell_type": "code",
   "execution_count": 78,
   "metadata": {},
   "outputs": [
    {
     "data": {
      "text/plain": [
       "<Response [200]>"
      ]
     },
     "execution_count": 78,
     "metadata": {},
     "output_type": "execute_result"
    }
   ],
   "source": [
    "cgr_list_url = 'https://openapi.naver.com/blog/listCategory.json'\n",
    "post_url = 'https://openapi.naver.com/blog/writePost.json'\n",
    "\n",
    "resp = requests.get(cgr_list_url, headers = headers)\n",
    "resp"
   ]
  },
  {
   "cell_type": "code",
   "execution_count": 79,
   "metadata": {
    "scrolled": true
   },
   "outputs": [
    {
     "data": {
      "text/plain": [
       "{'message': {'@type': 'response',\n",
       "  '@service': 'korea.naverkoreaservice.community.blog',\n",
       "  '@version': '1.0.0',\n",
       "  'result': [{'name': '낙서장',\n",
       "    'categoryNo': 1,\n",
       "    'isOpen': False,\n",
       "    'subCategories': []},\n",
       "   {'name': '일기', 'categoryNo': 6, 'isOpen': False, 'subCategories': []},\n",
       "   {'name': '생각정리', 'categoryNo': 7, 'isOpen': False, 'subCategories': []},\n",
       "   {'name': '기업분석', 'categoryNo': 8, 'isOpen': True, 'subCategories': []},\n",
       "   {'name': '일기장', 'categoryNo': 9, 'isOpen': True, 'subCategories': []},\n",
       "   {'name': '아무거나\\xa0팔아보자',\n",
       "    'categoryNo': 10,\n",
       "    'isOpen': True,\n",
       "    'subCategories': []},\n",
       "   {'name': '영화리뷰', 'categoryNo': 11, 'isOpen': True, 'subCategories': []},\n",
       "   {'name': '읽은\\xa0책', 'categoryNo': 12, 'isOpen': True, 'subCategories': []},\n",
       "   {'name': '자문자답', 'categoryNo': 13, 'isOpen': True, 'subCategories': []},\n",
       "   {'name': '흥미로워 인터뤠스팅',\n",
       "    'categoryNo': 14,\n",
       "    'isOpen': True,\n",
       "    'subCategories': []}]}}"
      ]
     },
     "execution_count": 79,
     "metadata": {},
     "output_type": "execute_result"
    }
   ],
   "source": [
    "resp.json()\n"
   ]
  },
  {
   "cell_type": "markdown",
   "metadata": {},
   "source": [
    "# 블로그 글쓰기"
   ]
  },
  {
   "cell_type": "code",
   "execution_count": 80,
   "metadata": {},
   "outputs": [],
   "source": [
    "# 네이버 블로그 Open API 예제 - 글쓰기\n",
    "import os\n",
    "import sys\n",
    "import urllib.request\n",
    "cgr_list_url = 'https://openapi.naver.com/blog/listCategory.json'\n",
    "post_url = 'https://openapi.naver.com/blog/writePost.json'\n",
    "\n",
    "title = '신나는 REST API'\n",
    "contents = '신나는 Python 그리고 <b>신나는 Crawling'\n",
    "\n",
    "data = {\n",
    "    'title' : title,\n",
    "    'contents' : contents\n",
    "}\n",
    "\n",
    "resp = requests.post(post_url, headers=headers, data=data)\n",
    "    \n",
    "    \n",
    "    \n"
   ]
  },
  {
   "cell_type": "code",
   "execution_count": 81,
   "metadata": {},
   "outputs": [
    {
     "data": {
      "text/plain": [
       "<Response [200]>"
      ]
     },
     "execution_count": 81,
     "metadata": {},
     "output_type": "execute_result"
    }
   ],
   "source": [
    "resp"
   ]
  },
  {
   "cell_type": "code",
   "execution_count": 82,
   "metadata": {},
   "outputs": [
    {
     "data": {
      "text/plain": [
       "{'message': {'@type': 'response',\n",
       "  '@service': 'korea.naverkoreaservice.community.blog',\n",
       "  '@version': '1.0.0',\n",
       "  'result': {'blogId': 'dhkang810',\n",
       "   'logNo': 221560116384,\n",
       "   'postUrl': 'http://blog.naver.com/dhkang810/221560116384'}}}"
      ]
     },
     "execution_count": 82,
     "metadata": {},
     "output_type": "execute_result"
    }
   ],
   "source": [
    "resp.json()"
   ]
  },
  {
   "cell_type": "code",
   "execution_count": null,
   "metadata": {},
   "outputs": [],
   "source": []
  },
  {
   "cell_type": "code",
   "execution_count": null,
   "metadata": {},
   "outputs": [],
   "source": []
  },
  {
   "cell_type": "code",
   "execution_count": 48,
   "metadata": {},
   "outputs": [],
   "source": [
    "refresh_token_url = 'https://nid.naver.com/oauth2.0/token'\n",
    "params = {\n",
    "    'grant_type' : 'refresh_token',\n",
    "    'client_id' : CLIENT_ID,\n",
    "    'client_secret' : CLIENT_SECRET,\n",
    "    'refresh_token' : refresh_token\n",
    "}\n"
   ]
  },
  {
   "cell_type": "code",
   "execution_count": 50,
   "metadata": {},
   "outputs": [
    {
     "data": {
      "text/plain": [
       "b'{\"access_token\":\"AAAAObTkyqJJPPwkRQ97oHCd3knMTK5w/4tVjYfUou4zlji7LtmAe2T1RGEHEA23eKM0KCpwFbyhQ5DanU2QdcYya64=\",\"refresh_token\":\"4Fj18isQrLishDmWvGt0t82y4HMkL61SMIipg0Ojq9QaXUGAVNPwipipOCUABX2VtAe546vFCdUUqwGvtNx6biiZl7wxJKY3CS1brjisd60MSBzPw3cc25jfB1E37CxYiimtvyzW\",\"token_type\":\"bearer\",\"expires_in\":\"3600\"}'"
      ]
     },
     "execution_count": 50,
     "metadata": {},
     "output_type": "execute_result"
    }
   ],
   "source": [
    "resp = requests.get(refresh_token_url, params)\n",
    "resp.content"
   ]
  },
  {
   "cell_type": "code",
   "execution_count": null,
   "metadata": {},
   "outputs": [],
   "source": []
  },
  {
   "cell_type": "code",
   "execution_count": null,
   "metadata": {},
   "outputs": [],
   "source": []
  }
 ],
 "metadata": {
  "kernelspec": {
   "display_name": "Python 3",
   "language": "python",
   "name": "python3"
  },
  "language_info": {
   "codemirror_mode": {
    "name": "ipython",
    "version": 3
   },
   "file_extension": ".py",
   "mimetype": "text/x-python",
   "name": "python",
   "nbconvert_exporter": "python",
   "pygments_lexer": "ipython3",
   "version": "3.7.3"
  }
 },
 "nbformat": 4,
 "nbformat_minor": 2
}
