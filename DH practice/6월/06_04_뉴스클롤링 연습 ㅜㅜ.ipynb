{
 "cells": [
  {
   "cell_type": "code",
   "execution_count": null,
   "metadata": {},
   "outputs": [],
   "source": [
    "### from bs4 import BeautifulSoup\n",
    "import requests\n",
    "\n",
    "url = 'https://search.naver.com/search.naver?where=post&sm=tab_jum&query=%EB%A8%B8%EC%8B%A0%EB%9F%AC%EB%8B%9D'\n",
    "\n",
    "resp = requests.get(url)\n",
    "resp\n",
    "\n",
    "news_page = BeautifulSoup(resp.content, 'html.parser')\n",
    "\n",
    "\n",
    "news_t = news_page.find_all('li', class_ ='sh_blog_top')\n",
    "\n",
    "news = []\n",
    "for dd in news_t:\n",
    "    news_lst = {}\n",
    "    dd_tag = dd.find_all('dd')\n",
    "    news_lst['summary'] = dd_tag[1].text\n",
    "    news_lst['name'] = dd_tag[2].find('a').text\n",
    "    news_lst['url'] = dd_tag[2].find('a').attrs['href']\n",
    "    news.append(news_lst)\n",
    "news\n",
    "    \n",
    "\n"
   ]
  },
  {
   "cell_type": "code",
   "execution_count": 74,
   "metadata": {},
   "outputs": [
    {
     "name": "stdout",
     "output_type": "stream",
     "text": [
      "['Season 1', ['https://www.springfieldspringfield.co.uk/view_episode_scripts.php?tv-show=american-horror-story&episode=s01e01', 'https://www.springfieldspringfield.co.uk/view_episode_scripts.php?tv-show=american-horror-story&episode=s01e02', 'https://www.springfieldspringfield.co.uk/view_episode_scripts.php?tv-show=american-horror-story&episode=s01e03', 'https://www.springfieldspringfield.co.uk/view_episode_scripts.php?tv-show=american-horror-story&episode=s01e04', 'https://www.springfieldspringfield.co.uk/view_episode_scripts.php?tv-show=american-horror-story&episode=s01e05', 'https://www.springfieldspringfield.co.uk/view_episode_scripts.php?tv-show=american-horror-story&episode=s01e06', 'https://www.springfieldspringfield.co.uk/view_episode_scripts.php?tv-show=american-horror-story&episode=s01e07', 'https://www.springfieldspringfield.co.uk/view_episode_scripts.php?tv-show=american-horror-story&episode=s01e08', 'https://www.springfieldspringfield.co.uk/view_episode_scripts.php?tv-show=american-horror-story&episode=s01e09', 'https://www.springfieldspringfield.co.uk/view_episode_scripts.php?tv-show=american-horror-story&episode=s01e10', 'https://www.springfieldspringfield.co.uk/view_episode_scripts.php?tv-show=american-horror-story&episode=s01e11', 'https://www.springfieldspringfield.co.uk/view_episode_scripts.php?tv-show=american-horror-story&episode=s01e12'], 'Season 2', ['https://www.springfieldspringfield.co.uk/view_episode_scripts.php?tv-show=american-horror-story&episode=s02e01', 'https://www.springfieldspringfield.co.uk/view_episode_scripts.php?tv-show=american-horror-story&episode=s02e02', 'https://www.springfieldspringfield.co.uk/view_episode_scripts.php?tv-show=american-horror-story&episode=s02e03', 'https://www.springfieldspringfield.co.uk/view_episode_scripts.php?tv-show=american-horror-story&episode=s02e04', 'https://www.springfieldspringfield.co.uk/view_episode_scripts.php?tv-show=american-horror-story&episode=s02e05', 'https://www.springfieldspringfield.co.uk/view_episode_scripts.php?tv-show=american-horror-story&episode=s02e06', 'https://www.springfieldspringfield.co.uk/view_episode_scripts.php?tv-show=american-horror-story&episode=s02e07', 'https://www.springfieldspringfield.co.uk/view_episode_scripts.php?tv-show=american-horror-story&episode=s02e08', 'https://www.springfieldspringfield.co.uk/view_episode_scripts.php?tv-show=american-horror-story&episode=s02e09', 'https://www.springfieldspringfield.co.uk/view_episode_scripts.php?tv-show=american-horror-story&episode=s02e10', 'https://www.springfieldspringfield.co.uk/view_episode_scripts.php?tv-show=american-horror-story&episode=s02e11', 'https://www.springfieldspringfield.co.uk/view_episode_scripts.php?tv-show=american-horror-story&episode=s02e12', 'https://www.springfieldspringfield.co.uk/view_episode_scripts.php?tv-show=american-horror-story&episode=s02e13'], 'Season 3', ['https://www.springfieldspringfield.co.uk/view_episode_scripts.php?tv-show=american-horror-story&episode=s03e01', 'https://www.springfieldspringfield.co.uk/view_episode_scripts.php?tv-show=american-horror-story&episode=s03e02', 'https://www.springfieldspringfield.co.uk/view_episode_scripts.php?tv-show=american-horror-story&episode=s03e03', 'https://www.springfieldspringfield.co.uk/view_episode_scripts.php?tv-show=american-horror-story&episode=s03e04', 'https://www.springfieldspringfield.co.uk/view_episode_scripts.php?tv-show=american-horror-story&episode=s03e05', 'https://www.springfieldspringfield.co.uk/view_episode_scripts.php?tv-show=american-horror-story&episode=s03e06', 'https://www.springfieldspringfield.co.uk/view_episode_scripts.php?tv-show=american-horror-story&episode=s03e07', 'https://www.springfieldspringfield.co.uk/view_episode_scripts.php?tv-show=american-horror-story&episode=s03e08', 'https://www.springfieldspringfield.co.uk/view_episode_scripts.php?tv-show=american-horror-story&episode=s03e09', 'https://www.springfieldspringfield.co.uk/view_episode_scripts.php?tv-show=american-horror-story&episode=s03e10', 'https://www.springfieldspringfield.co.uk/view_episode_scripts.php?tv-show=american-horror-story&episode=s03e11', 'https://www.springfieldspringfield.co.uk/view_episode_scripts.php?tv-show=american-horror-story&episode=s03e12', 'https://www.springfieldspringfield.co.uk/view_episode_scripts.php?tv-show=american-horror-story&episode=s03e13'], 'Season 4', ['https://www.springfieldspringfield.co.uk/view_episode_scripts.php?tv-show=american-horror-story&episode=s04e01', 'https://www.springfieldspringfield.co.uk/view_episode_scripts.php?tv-show=american-horror-story&episode=s04e02', 'https://www.springfieldspringfield.co.uk/view_episode_scripts.php?tv-show=american-horror-story&episode=s04e03', 'https://www.springfieldspringfield.co.uk/view_episode_scripts.php?tv-show=american-horror-story&episode=s04e04', 'https://www.springfieldspringfield.co.uk/view_episode_scripts.php?tv-show=american-horror-story&episode=s04e05', 'https://www.springfieldspringfield.co.uk/view_episode_scripts.php?tv-show=american-horror-story&episode=s04e06', 'https://www.springfieldspringfield.co.uk/view_episode_scripts.php?tv-show=american-horror-story&episode=s04e07', 'https://www.springfieldspringfield.co.uk/view_episode_scripts.php?tv-show=american-horror-story&episode=s04e08', 'https://www.springfieldspringfield.co.uk/view_episode_scripts.php?tv-show=american-horror-story&episode=s04e09', 'https://www.springfieldspringfield.co.uk/view_episode_scripts.php?tv-show=american-horror-story&episode=s04e10', 'https://www.springfieldspringfield.co.uk/view_episode_scripts.php?tv-show=american-horror-story&episode=s04e11', 'https://www.springfieldspringfield.co.uk/view_episode_scripts.php?tv-show=american-horror-story&episode=s04e12', 'https://www.springfieldspringfield.co.uk/view_episode_scripts.php?tv-show=american-horror-story&episode=s04e13'], 'Season 5', ['https://www.springfieldspringfield.co.uk/view_episode_scripts.php?tv-show=american-horror-story&episode=s05e01', 'https://www.springfieldspringfield.co.uk/view_episode_scripts.php?tv-show=american-horror-story&episode=s05e02', 'https://www.springfieldspringfield.co.uk/view_episode_scripts.php?tv-show=american-horror-story&episode=s05e03', 'https://www.springfieldspringfield.co.uk/view_episode_scripts.php?tv-show=american-horror-story&episode=s05e04', 'https://www.springfieldspringfield.co.uk/view_episode_scripts.php?tv-show=american-horror-story&episode=s05e05', 'https://www.springfieldspringfield.co.uk/view_episode_scripts.php?tv-show=american-horror-story&episode=s05e06', 'https://www.springfieldspringfield.co.uk/view_episode_scripts.php?tv-show=american-horror-story&episode=s05e07', 'https://www.springfieldspringfield.co.uk/view_episode_scripts.php?tv-show=american-horror-story&episode=s05e08', 'https://www.springfieldspringfield.co.uk/view_episode_scripts.php?tv-show=american-horror-story&episode=s05e09', 'https://www.springfieldspringfield.co.uk/view_episode_scripts.php?tv-show=american-horror-story&episode=s05e10', 'https://www.springfieldspringfield.co.uk/view_episode_scripts.php?tv-show=american-horror-story&episode=s05e11', 'https://www.springfieldspringfield.co.uk/view_episode_scripts.php?tv-show=american-horror-story&episode=s05e12'], 'Season 6', ['https://www.springfieldspringfield.co.uk/view_episode_scripts.php?tv-show=american-horror-story&episode=s06e01', 'https://www.springfieldspringfield.co.uk/view_episode_scripts.php?tv-show=american-horror-story&episode=s06e02', 'https://www.springfieldspringfield.co.uk/view_episode_scripts.php?tv-show=american-horror-story&episode=s06e03', 'https://www.springfieldspringfield.co.uk/view_episode_scripts.php?tv-show=american-horror-story&episode=s06e04', 'https://www.springfieldspringfield.co.uk/view_episode_scripts.php?tv-show=american-horror-story&episode=s06e05', 'https://www.springfieldspringfield.co.uk/view_episode_scripts.php?tv-show=american-horror-story&episode=s06e06', 'https://www.springfieldspringfield.co.uk/view_episode_scripts.php?tv-show=american-horror-story&episode=s06e07', 'https://www.springfieldspringfield.co.uk/view_episode_scripts.php?tv-show=american-horror-story&episode=s06e08', 'https://www.springfieldspringfield.co.uk/view_episode_scripts.php?tv-show=american-horror-story&episode=s06e09', 'https://www.springfieldspringfield.co.uk/view_episode_scripts.php?tv-show=american-horror-story&episode=s06e10'], 'Season 7', ['https://www.springfieldspringfield.co.uk/view_episode_scripts.php?tv-show=american-horror-story&episode=s07e01', 'https://www.springfieldspringfield.co.uk/view_episode_scripts.php?tv-show=american-horror-story&episode=s07e02', 'https://www.springfieldspringfield.co.uk/view_episode_scripts.php?tv-show=american-horror-story&episode=s07e03', 'https://www.springfieldspringfield.co.uk/view_episode_scripts.php?tv-show=american-horror-story&episode=s07e04', 'https://www.springfieldspringfield.co.uk/view_episode_scripts.php?tv-show=american-horror-story&episode=s07e05', 'https://www.springfieldspringfield.co.uk/view_episode_scripts.php?tv-show=american-horror-story&episode=s07e06', 'https://www.springfieldspringfield.co.uk/view_episode_scripts.php?tv-show=american-horror-story&episode=s07e07', 'https://www.springfieldspringfield.co.uk/view_episode_scripts.php?tv-show=american-horror-story&episode=s07e08', 'https://www.springfieldspringfield.co.uk/view_episode_scripts.php?tv-show=american-horror-story&episode=s07e09', 'https://www.springfieldspringfield.co.uk/view_episode_scripts.php?tv-show=american-horror-story&episode=s07e10', 'https://www.springfieldspringfield.co.uk/view_episode_scripts.php?tv-show=american-horror-story&episode=s07e11'], 'Season 8', ['https://www.springfieldspringfield.co.uk/view_episode_scripts.php?tv-show=american-horror-story&episode=s08e01', 'https://www.springfieldspringfield.co.uk/view_episode_scripts.php?tv-show=american-horror-story&episode=s08e02', 'https://www.springfieldspringfield.co.uk/view_episode_scripts.php?tv-show=american-horror-story&episode=s08e03', 'https://www.springfieldspringfield.co.uk/view_episode_scripts.php?tv-show=american-horror-story&episode=s08e04', 'https://www.springfieldspringfield.co.uk/view_episode_scripts.php?tv-show=american-horror-story&episode=s08e05', 'https://www.springfieldspringfield.co.uk/view_episode_scripts.php?tv-show=american-horror-story&episode=s08e06', 'https://www.springfieldspringfield.co.uk/view_episode_scripts.php?tv-show=american-horror-story&episode=s08e07', 'https://www.springfieldspringfield.co.uk/view_episode_scripts.php?tv-show=american-horror-story&episode=s08e08', 'https://www.springfieldspringfield.co.uk/view_episode_scripts.php?tv-show=american-horror-story&episode=s08e09', 'https://www.springfieldspringfield.co.uk/view_episode_scripts.php?tv-show=american-horror-story&episode=s08e10']]\n"
     ]
    }
   ],
   "source": [
    "import requests\n",
    "from bs4 import BeautifulSoup\n",
    "import urllib\n",
    "import pandas as pd\n",
    "  \n",
    "url = '''https://www.springfieldspringfield.co.uk/episode_scripts.php?tv-show=american-horror-story'''\n",
    "\n",
    "resp = requests.get(url)\n",
    "\n",
    "soup = BeautifulSoup(resp.content, 'html.parser')\n",
    "soup\n",
    "\n",
    "find_frame = soup.find('div', class_ = 'main-content-left')  #최고 프레임 설정\n",
    "\n",
    "find_seasons = find_frame.find_all('div', class_ = 'season-episodes') #모든 시즌 가져오기\n",
    "\n",
    "seasons_list = []                 #시즌 순서와 url 모두 이곳으로\n",
    "\n",
    "for season in find_seasons:\n",
    "    #시즌 이름 추출                               \n",
    "    seasons_list.append(season.find('h3').text)  # 몇번째 시즌  \n",
    "                       \n",
    "    a_tags = season.find_all('a')\n",
    "    \n",
    "    url_list = []\n",
    "    \n",
    "    for a in a_tags:\n",
    "        url_tag = a.attrs['href']          #에피소드 별 특별 주소\n",
    "        url_base = 'https://www.springfieldspringfield.co.uk/'  \n",
    "        url_tag = url_base + url_tag            # 대본으로 가는 url 합치기\n",
    "        \n",
    "        url_list.append(url_tag)          #에피소드 대본 url a_tag_list에 넣기\n",
    "        \n",
    "    seasons_list.append(url_list)  #시즌별 에피소드 url_list에 추가\n",
    "    \n",
    "    \n",
    "print(seasons_list)\n",
    "\n",
    "#에피소드별 url에 접속 후 대본 가져오기\n",
    "script_list = []\n",
    "count = 1\n",
    "for script_url in seasons_list[count]:         #seasons_list 각 인덱스에 있는 url에 접속\n",
    "    script_resp = requests.get(script_url)     \n",
    "    script_soup = BeautifulSoup(script_resp.content, 'html.parser')\n",
    "    script_list.append(script_soup.find('div', class_ = 'scrolling-script-container').text)  #본문 긁어 오기\n",
    "    count += 2\n",
    "    if count == 9:\n",
    "        break\n",
    "        \n",
    "\n",
    "#pd.DataFrame(script_list).to_excel('americanhorrorstory.xlsx')\n"
   ]
  }
 ],
 "metadata": {
  "kernelspec": {
   "display_name": "Python 3",
   "language": "python",
   "name": "python3"
  },
  "language_info": {
   "codemirror_mode": {
    "name": "ipython",
    "version": 3
   },
   "file_extension": ".py",
   "mimetype": "text/x-python",
   "name": "python",
   "nbconvert_exporter": "python",
   "pygments_lexer": "ipython3",
   "version": "3.7.3"
  }
 },
 "nbformat": 4,
 "nbformat_minor": 2
}
