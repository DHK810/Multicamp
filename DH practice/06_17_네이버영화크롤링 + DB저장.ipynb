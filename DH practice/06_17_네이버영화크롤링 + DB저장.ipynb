{
 "cells": [
  {
   "cell_type": "code",
   "execution_count": 1,
   "metadata": {},
   "outputs": [],
   "source": [
    "import requests\n",
    "from bs4 import BeautifulSoup\n",
    "import MySQLdb\n",
    "\n",
    "db = MySQLdb.connect(host=\"localhost\",  # host      # 127.0.0.1\n",
    "                     user=\"root\",       # username  # root\n",
    "                     passwd=\"1111\",     # password  # 1234\n",
    "                     db=\"naver_movie\")         # DB NAME\n",
    "\n",
    "db.set_character_set('utf8')"
   ]
  },
  {
   "cell_type": "code",
   "execution_count": 2,
   "metadata": {},
   "outputs": [],
   "source": [
    "# 데이터베이스 커서(Cursor)는 일련의 데이터에 순차적으로 액세스할 때 검색 및 \"현재 위치\"를 포함하는 데이터 요소이다.\n",
    "cur = db.cursor()\n",
    "# https://movie.naver.com/movie/bi/mi/basic.nhn?code=161967"
   ]
  },
  {
   "cell_type": "code",
   "execution_count": 3,
   "metadata": {},
   "outputs": [
    {
     "name": "stderr",
     "output_type": "stream",
     "text": [
      "C:\\Users\\15Z970-GA5BK\\Anaconda3\\lib\\site-packages\\ipykernel_launcher.py:12: Warning: (1050, \"Table 'naver_movie' already exists\")\n",
      "  if sys.path[0] == '':\n"
     ]
    },
    {
     "data": {
      "text/plain": [
       "0"
      ]
     },
     "execution_count": 3,
     "metadata": {},
     "output_type": "execute_result"
    }
   ],
   "source": [
    "\n",
    "# IF(조건, 참값, 거짓값)\n",
    "query = \"\"\"\n",
    "        CREATE TABLE IF NOT EXISTS naver_movie\n",
    "            (code    INTEGER      NOT NULL      PRIMARY KEY,\n",
    "             created_at    DATETIME DEFAULT CURRENT_TIMESTAMP,\n",
    "             title   VARCHAR(100) NOT NULL,\n",
    "             story   TEXT,\n",
    "             released_date  DATETIME)\n",
    "             ENGINE INNODB;\n",
    "        \"\"\"\n",
    "cur.execute(query)"
   ]
  },
  {
   "cell_type": "code",
   "execution_count": 4,
   "metadata": {},
   "outputs": [
    {
     "name": "stderr",
     "output_type": "stream",
     "text": [
      "C:\\Users\\15Z970-GA5BK\\Anaconda3\\lib\\site-packages\\ipykernel_launcher.py:17: Warning: (1050, \"Table 'movie_comment' already exists\")\n"
     ]
    },
    {
     "data": {
      "text/plain": [
       "0"
      ]
     },
     "execution_count": 4,
     "metadata": {},
     "output_type": "execute_result"
    }
   ],
   "source": [
    "query = \"\"\"\n",
    "        CREATE TABLE IF NOT EXISTS movie_comment(\n",
    "            score    INTEGER    NOT NULL,\n",
    "            content TEXT       NOT NULL,\n",
    "            movie_code INTEGER,\n",
    "            writer  VARCHAR(100),\n",
    "            written_at DATETIME,\n",
    "            created_at DATETIME DEFAULT CURRENT_TIMESTAMP,\n",
    "            PRIMARY KEY (writer, written_at),\n",
    "            FOREIGN KEY(movie_code)\n",
    "            REFERENCES naver_movie(code) on delete cascade)\n",
    "            ENGINE INNODB;\n",
    "            \n",
    "\"\"\"\n",
    "#on delete cascase 참조된 테이블의 값이 사라지면 같이 사라진다\n",
    "#on delete None 참조된 테이블의 값이 사라지면 값이 NULL로 변경\n",
    "cur.execute(query)"
   ]
  },
  {
   "cell_type": "code",
   "execution_count": 5,
   "metadata": {},
   "outputs": [],
   "source": [
    "import datetime\n",
    "from urllib import parse\n",
    "import requests\n",
    "from bs4 import BeautifulSoup\n",
    "today = datetime.datetime.now()\n",
    "\n",
    "def get_movie_list(start_page = 1, end_page = 1):\n",
    "    URL = 'https://movie.naver.com/movie/sdb/rank/rmovie.nhn'\n",
    "    params = {\n",
    "        'sel' :'pnt',\n",
    "        'date' : 20190616\n",
    "    }\n",
    "    movie_list = []\n",
    "    for i in range(start_page, end_page+1):\n",
    "        params['page'] = i\n",
    "        \n",
    "        resp = requests.get(URL, params)\n",
    "        soup = BeautifulSoup(resp.content)\n",
    "        list_ranking = soup.find(class_ = 'list_ranking').find_all('tr')\n",
    "        \n",
    "        for movie_tr in list_ranking:\n",
    "            try:\n",
    "                code = movie_tr.find('a')['href'].split('=')[-1]\n",
    "                title = movie_tr.find('a').text\n",
    "                movie_list.append({\n",
    "                    'code' : code,\n",
    "                    'title': title\n",
    "                })\n",
    "            except Exception:\n",
    "                pass\n",
    "            \n",
    "    return movie_list\n"
   ]
  },
  {
   "cell_type": "code",
   "execution_count": 6,
   "metadata": {},
   "outputs": [
    {
     "data": {
      "text/plain": [
       "[{'code': '171539', 'title': '그린 북'},\n",
       " {'code': '174830', 'title': '가버나움'},\n",
       " {'code': '144906', 'title': '베일리 어게인'},\n",
       " {'code': '163788', 'title': '알라딘'},\n",
       " {'code': '169240', 'title': '아일라'},\n",
       " {'code': '151196', 'title': '원더'},\n",
       " {'code': '157243', 'title': '당갈'},\n",
       " {'code': '156464', 'title': '보헤미안 랩소디'},\n",
       " {'code': '17421', 'title': '쇼생크 탈출'},\n",
       " {'code': '154667', 'title': '덕구'},\n",
       " {'code': '10200', 'title': '터미네이터 2'},\n",
       " {'code': '69105', 'title': '월-E'},\n",
       " {'code': '10016', 'title': '나 홀로 집에'},\n",
       " {'code': '18988', 'title': '라이언 일병 구하기'},\n",
       " {'code': '22126', 'title': '인생은 아름다워'},\n",
       " {'code': '24452', 'title': '매트릭스'},\n",
       " {'code': '10102', 'title': '사운드 오브 뮤직'},\n",
       " {'code': '136900', 'title': '어벤져스: 엔드게임'},\n",
       " {'code': '10002', 'title': '빽 투 더 퓨쳐'},\n",
       " {'code': '17159', 'title': '포레스트 검프'},\n",
       " {'code': '82432', 'title': '헬프'},\n",
       " {'code': '92125', 'title': '헌터 킬러'},\n",
       " {'code': '29217', 'title': '글래디에이터'},\n",
       " {'code': '35901', 'title': '살인의 추억'},\n",
       " {'code': '66463', 'title': '토이 스토리 3'},\n",
       " {'code': '32686', 'title': '센과 치히로의 행방불명'},\n",
       " {'code': '106360', 'title': '위대한 쇼맨'},\n",
       " {'code': '10048', 'title': '죽은 시인의 사회'},\n",
       " {'code': '17170', 'title': '레옹'},\n",
       " {'code': '35939', 'title': '클래식'},\n",
       " {'code': '161850', 'title': '아이 캔 스피크'},\n",
       " {'code': '31796', 'title': '반지의 제왕: 왕의 귀환'},\n",
       " {'code': '183132', 'title': '교회오빠'},\n",
       " {'code': '31162', 'title': '캐스트 어웨이'},\n",
       " {'code': '134899', 'title': '동주'},\n",
       " {'code': '17541', 'title': '굿바이 마이 프랜드'},\n",
       " {'code': '12482', 'title': '여인의 향기'},\n",
       " {'code': '130850', 'title': '주토피아'},\n",
       " {'code': '73372', 'title': '세 얼간이'},\n",
       " {'code': '147092', 'title': '히든 피겨스'},\n",
       " {'code': '37886', 'title': '클레멘타인'},\n",
       " {'code': '39636', 'title': '지금, 만나러 갑니다'},\n",
       " {'code': '14450', 'title': '쉰들러 리스트'},\n",
       " {'code': '14448', 'title': '패왕별희'},\n",
       " {'code': '18543', 'title': '서유기 2 - 선리기연'},\n",
       " {'code': '19079', 'title': '굿 윌 헌팅'},\n",
       " {'code': '73476', 'title': '그대를 사랑합니다'},\n",
       " {'code': '87566', 'title': '언터처블: 1%의 우정'},\n",
       " {'code': '154573', 'title': '다시 태어나도 우리'},\n",
       " {'code': '18847', 'title': '타이타닉'}]"
      ]
     },
     "execution_count": 6,
     "metadata": {},
     "output_type": "execute_result"
    }
   ],
   "source": [
    "get_movie_list()"
   ]
  },
  {
   "cell_type": "code",
   "execution_count": 7,
   "metadata": {},
   "outputs": [],
   "source": [
    "def get_movie_info(movie):\n",
    "    code = movie.get('code')\n",
    "    title = movie.get('title')\n",
    "    \n",
    "    base_url = 'https://movie.naver.com/movie/bi/mi/basic.nhn'\n",
    "    params = {\n",
    "        'code': code\n",
    "    }\n",
    "    \n",
    "    resp = requests.get(base_url, params)\n",
    "    soup = BeautifulSoup(resp.content)\n",
    "    \n",
    "    open_date_tag = soup.find('dl', class_='info_spec').find('dd').find_all('span')[-1]\n",
    "    open_date = \"\"\n",
    "    \n",
    "    for date in open_date_tag.find_all('a'):\n",
    "        open_date += date.text\n",
    "        \n",
    "    open_date = \"-\".join(open_date.strip().split('.'))\n",
    "    \n",
    "    \n",
    "    story = soup.find('div', class_= 'story_area').text\n",
    "    \n",
    "    movie['story'] = story\n",
    "    movie['open_date'] = open_date\n",
    "    \n",
    "    return movie"
   ]
  },
  {
   "cell_type": "code",
   "execution_count": 8,
   "metadata": {},
   "outputs": [
    {
     "ename": "NameError",
     "evalue": "name 'movie_list' is not defined",
     "output_type": "error",
     "traceback": [
      "\u001b[1;31m---------------------------------------------------------------------------\u001b[0m",
      "\u001b[1;31mNameError\u001b[0m                                 Traceback (most recent call last)",
      "\u001b[1;32m<ipython-input-8-1f4d7820204b>\u001b[0m in \u001b[0;36m<module>\u001b[1;34m\u001b[0m\n\u001b[0;32m      2\u001b[0m \u001b[0mmovie_lst\u001b[0m\u001b[1;33m[\u001b[0m\u001b[1;36m0\u001b[0m\u001b[1;33m]\u001b[0m\u001b[1;33m\u001b[0m\u001b[1;33m\u001b[0m\u001b[0m\n\u001b[0;32m      3\u001b[0m \u001b[1;33m\u001b[0m\u001b[0m\n\u001b[1;32m----> 4\u001b[1;33m \u001b[0mget_movie_info\u001b[0m\u001b[1;33m(\u001b[0m\u001b[0mmovie_list\u001b[0m\u001b[1;33m[\u001b[0m\u001b[1;36m0\u001b[0m\u001b[1;33m]\u001b[0m\u001b[1;33m)\u001b[0m\u001b[1;33m\u001b[0m\u001b[1;33m\u001b[0m\u001b[0m\n\u001b[0m",
      "\u001b[1;31mNameError\u001b[0m: name 'movie_list' is not defined"
     ]
    }
   ],
   "source": [
    "movie_lst = get_movie_list()\n",
    "movie_lst[0]\n",
    "\n",
    "get_movie_info(movie_list[0])"
   ]
  },
  {
   "cell_type": "code",
   "execution_count": 9,
   "metadata": {},
   "outputs": [],
   "source": [
    "# query = \"\"\"\n",
    "#         CREATE TABLE IF NOT EXISTS naver_movie\n",
    "#             (code    INTEGER      NOT NULL      PRIMARY KEY,\n",
    "#              created_at    DATETIME DEFAULT CURRENT_TIMESTAMP,\n",
    "#              title   VARCHAR(100) NOT NULL,\n",
    "#              story   TEXT,\n",
    "#              released_date  DATETIME)\n",
    "#              ENGINE INNODB;\n",
    "#         \"\"\"\n",
    "def insert_movie(movie):\n",
    "    code = movie.get('code')\n",
    "    title = movie.get('title')\n",
    "    story = movie.get('story')\n",
    "    open_date = movie.get('open_date')\n",
    "    query = \"\"\"\n",
    "    INSERT INTO naver_movie\n",
    "    (code, title, story, released_date)\n",
    "    VALUES('{0}', '{1}', %s, '{2}')\n",
    "    \"\"\".format(code, title, story, open_date)\n",
    "    cur.execute(query, [story])\n",
    "    db.commit()\n",
    "    "
   ]
  },
  {
   "cell_type": "code",
   "execution_count": 10,
   "metadata": {},
   "outputs": [
    {
     "data": {
      "text/plain": [
       "{'code': '171539',\n",
       " 'title': '그린 북',\n",
       " 'story': '\\n\\n줄거리\\n\\n언제 어디서든 바른 생활! 완벽한 천재 뮤지션 ‘돈 셜리’\\r\\n원칙보다 반칙! 다혈질 운전사 ‘토니’\\r\\n취향도, 성격도 완벽히 다른 두 남자의 특별한 우정이 시작된다!\\n1962년 미국, 입담과 주먹만 믿고 살아가던 토니 발레롱가(비고 모텐슨)는 교양과 우아함 그 자체인\\r\\xa0천재 피아니스트 돈 셜리(마허샬라 알리) 박사의 운전기사 면접을 보게 된다.\\r\\xa0\\r\\xa0백악관에도 초청되는 등 미국 전역에서 콘서트 요청을 받으며 명성을 떨치고 있는 돈 셜리는\\r\\xa0위험하기로 소문난 미국 남부 투어 공연을 떠나기로 결심하고,\\r\\xa0투어 기간 동안 자신의 보디가드 겸 운전기사로 토니를 고용한다.\\r\\xa0\\r\\xa0거친 인생을 살아온 토니 발레롱가와 교양과 기품을 지키며 살아온 돈 셜리 박사.\\r\\xa0생각, 행동, 말투, 취향까지 달라도 너무 다른 두 사람은\\r\\xa0그들을 위한 여행안내서 ‘그린북’에 의존해 특별한 남부 투어를 시작하는데…\\n제작노트 보기\\n',\n",
       " 'open_date': '2019-01-09'}"
      ]
     },
     "execution_count": 10,
     "metadata": {},
     "output_type": "execute_result"
    }
   ],
   "source": [
    "sample_movie = get_movie_info(movie_lst[0])\n",
    "sample_movie"
   ]
  },
  {
   "cell_type": "code",
   "execution_count": 11,
   "metadata": {},
   "outputs": [
    {
     "ename": "OperationalError",
     "evalue": "(1366, \"Incorrect string value: '\\\\xEA\\\\xB7\\\\xB8\\\\xEB\\\\xA6\\\\xB0...' for column `naver_movie`.`naver_movie`.`title` at row 1\")",
     "output_type": "error",
     "traceback": [
      "\u001b[1;31m---------------------------------------------------------------------------\u001b[0m",
      "\u001b[1;31mOperationalError\u001b[0m                          Traceback (most recent call last)",
      "\u001b[1;32m<ipython-input-11-e54f2d98c122>\u001b[0m in \u001b[0;36m<module>\u001b[1;34m\u001b[0m\n\u001b[1;32m----> 1\u001b[1;33m \u001b[0minsert_movie\u001b[0m\u001b[1;33m(\u001b[0m\u001b[0msample_movie\u001b[0m\u001b[1;33m)\u001b[0m\u001b[1;33m\u001b[0m\u001b[1;33m\u001b[0m\u001b[0m\n\u001b[0m",
      "\u001b[1;32m<ipython-input-9-01f83c60ce37>\u001b[0m in \u001b[0;36minsert_movie\u001b[1;34m(movie)\u001b[0m\n\u001b[0;32m     18\u001b[0m     \u001b[0mVALUES\u001b[0m\u001b[1;33m(\u001b[0m\u001b[1;34m'{0}'\u001b[0m\u001b[1;33m,\u001b[0m \u001b[1;34m'{1}'\u001b[0m\u001b[1;33m,\u001b[0m \u001b[1;33m%\u001b[0m\u001b[0ms\u001b[0m\u001b[1;33m,\u001b[0m \u001b[1;34m'{2}'\u001b[0m\u001b[1;33m)\u001b[0m\u001b[1;33m\u001b[0m\u001b[1;33m\u001b[0m\u001b[0m\n\u001b[0;32m     19\u001b[0m     \"\"\".format(code, title, story, open_date)\n\u001b[1;32m---> 20\u001b[1;33m     \u001b[0mcur\u001b[0m\u001b[1;33m.\u001b[0m\u001b[0mexecute\u001b[0m\u001b[1;33m(\u001b[0m\u001b[0mquery\u001b[0m\u001b[1;33m,\u001b[0m \u001b[1;33m[\u001b[0m\u001b[0mstory\u001b[0m\u001b[1;33m]\u001b[0m\u001b[1;33m)\u001b[0m\u001b[1;33m\u001b[0m\u001b[1;33m\u001b[0m\u001b[0m\n\u001b[0m\u001b[0;32m     21\u001b[0m     \u001b[0mdb\u001b[0m\u001b[1;33m.\u001b[0m\u001b[0mcommit\u001b[0m\u001b[1;33m(\u001b[0m\u001b[1;33m)\u001b[0m\u001b[1;33m\u001b[0m\u001b[1;33m\u001b[0m\u001b[0m\n\u001b[0;32m     22\u001b[0m \u001b[1;33m\u001b[0m\u001b[0m\n",
      "\u001b[1;32m~\\Anaconda3\\lib\\site-packages\\MySQLdb\\cursors.py\u001b[0m in \u001b[0;36mexecute\u001b[1;34m(self, query, args)\u001b[0m\n\u001b[0;32m    253\u001b[0m         \u001b[1;32mexcept\u001b[0m \u001b[0mException\u001b[0m\u001b[1;33m:\u001b[0m\u001b[1;33m\u001b[0m\u001b[1;33m\u001b[0m\u001b[0m\n\u001b[0;32m    254\u001b[0m             \u001b[0mexc\u001b[0m\u001b[1;33m,\u001b[0m \u001b[0mvalue\u001b[0m \u001b[1;33m=\u001b[0m \u001b[0msys\u001b[0m\u001b[1;33m.\u001b[0m\u001b[0mexc_info\u001b[0m\u001b[1;33m(\u001b[0m\u001b[1;33m)\u001b[0m\u001b[1;33m[\u001b[0m\u001b[1;33m:\u001b[0m\u001b[1;36m2\u001b[0m\u001b[1;33m]\u001b[0m\u001b[1;33m\u001b[0m\u001b[1;33m\u001b[0m\u001b[0m\n\u001b[1;32m--> 255\u001b[1;33m             \u001b[0mself\u001b[0m\u001b[1;33m.\u001b[0m\u001b[0merrorhandler\u001b[0m\u001b[1;33m(\u001b[0m\u001b[0mself\u001b[0m\u001b[1;33m,\u001b[0m \u001b[0mexc\u001b[0m\u001b[1;33m,\u001b[0m \u001b[0mvalue\u001b[0m\u001b[1;33m)\u001b[0m\u001b[1;33m\u001b[0m\u001b[1;33m\u001b[0m\u001b[0m\n\u001b[0m\u001b[0;32m    256\u001b[0m         \u001b[1;32mif\u001b[0m \u001b[1;32mnot\u001b[0m \u001b[0mself\u001b[0m\u001b[1;33m.\u001b[0m\u001b[0m_defer_warnings\u001b[0m\u001b[1;33m:\u001b[0m\u001b[1;33m\u001b[0m\u001b[1;33m\u001b[0m\u001b[0m\n\u001b[0;32m    257\u001b[0m             \u001b[0mself\u001b[0m\u001b[1;33m.\u001b[0m\u001b[0m_warning_check\u001b[0m\u001b[1;33m(\u001b[0m\u001b[1;33m)\u001b[0m\u001b[1;33m\u001b[0m\u001b[1;33m\u001b[0m\u001b[0m\n",
      "\u001b[1;32m~\\Anaconda3\\lib\\site-packages\\MySQLdb\\connections.py\u001b[0m in \u001b[0;36mdefaulterrorhandler\u001b[1;34m(***failed resolving arguments***)\u001b[0m\n\u001b[0;32m     48\u001b[0m     \u001b[1;32mdel\u001b[0m \u001b[0mconnection\u001b[0m\u001b[1;33m\u001b[0m\u001b[1;33m\u001b[0m\u001b[0m\n\u001b[0;32m     49\u001b[0m     \u001b[1;32mif\u001b[0m \u001b[0misinstance\u001b[0m\u001b[1;33m(\u001b[0m\u001b[0merrorvalue\u001b[0m\u001b[1;33m,\u001b[0m \u001b[0mBaseException\u001b[0m\u001b[1;33m)\u001b[0m\u001b[1;33m:\u001b[0m\u001b[1;33m\u001b[0m\u001b[1;33m\u001b[0m\u001b[0m\n\u001b[1;32m---> 50\u001b[1;33m         \u001b[1;32mraise\u001b[0m \u001b[0merrorvalue\u001b[0m\u001b[1;33m\u001b[0m\u001b[1;33m\u001b[0m\u001b[0m\n\u001b[0m\u001b[0;32m     51\u001b[0m     \u001b[1;32mif\u001b[0m \u001b[0merrorclass\u001b[0m \u001b[1;32mis\u001b[0m \u001b[1;32mnot\u001b[0m \u001b[1;32mNone\u001b[0m\u001b[1;33m:\u001b[0m\u001b[1;33m\u001b[0m\u001b[1;33m\u001b[0m\u001b[0m\n\u001b[0;32m     52\u001b[0m         \u001b[1;32mraise\u001b[0m \u001b[0merrorclass\u001b[0m\u001b[1;33m(\u001b[0m\u001b[0merrorvalue\u001b[0m\u001b[1;33m)\u001b[0m\u001b[1;33m\u001b[0m\u001b[1;33m\u001b[0m\u001b[0m\n",
      "\u001b[1;32m~\\Anaconda3\\lib\\site-packages\\MySQLdb\\cursors.py\u001b[0m in \u001b[0;36mexecute\u001b[1;34m(self, query, args)\u001b[0m\n\u001b[0;32m    250\u001b[0m         \u001b[0mres\u001b[0m \u001b[1;33m=\u001b[0m \u001b[1;32mNone\u001b[0m\u001b[1;33m\u001b[0m\u001b[1;33m\u001b[0m\u001b[0m\n\u001b[0;32m    251\u001b[0m         \u001b[1;32mtry\u001b[0m\u001b[1;33m:\u001b[0m\u001b[1;33m\u001b[0m\u001b[1;33m\u001b[0m\u001b[0m\n\u001b[1;32m--> 252\u001b[1;33m             \u001b[0mres\u001b[0m \u001b[1;33m=\u001b[0m \u001b[0mself\u001b[0m\u001b[1;33m.\u001b[0m\u001b[0m_query\u001b[0m\u001b[1;33m(\u001b[0m\u001b[0mquery\u001b[0m\u001b[1;33m)\u001b[0m\u001b[1;33m\u001b[0m\u001b[1;33m\u001b[0m\u001b[0m\n\u001b[0m\u001b[0;32m    253\u001b[0m         \u001b[1;32mexcept\u001b[0m \u001b[0mException\u001b[0m\u001b[1;33m:\u001b[0m\u001b[1;33m\u001b[0m\u001b[1;33m\u001b[0m\u001b[0m\n\u001b[0;32m    254\u001b[0m             \u001b[0mexc\u001b[0m\u001b[1;33m,\u001b[0m \u001b[0mvalue\u001b[0m \u001b[1;33m=\u001b[0m \u001b[0msys\u001b[0m\u001b[1;33m.\u001b[0m\u001b[0mexc_info\u001b[0m\u001b[1;33m(\u001b[0m\u001b[1;33m)\u001b[0m\u001b[1;33m[\u001b[0m\u001b[1;33m:\u001b[0m\u001b[1;36m2\u001b[0m\u001b[1;33m]\u001b[0m\u001b[1;33m\u001b[0m\u001b[1;33m\u001b[0m\u001b[0m\n",
      "\u001b[1;32m~\\Anaconda3\\lib\\site-packages\\MySQLdb\\cursors.py\u001b[0m in \u001b[0;36m_query\u001b[1;34m(self, q)\u001b[0m\n\u001b[0;32m    376\u001b[0m         \u001b[0mdb\u001b[0m \u001b[1;33m=\u001b[0m \u001b[0mself\u001b[0m\u001b[1;33m.\u001b[0m\u001b[0m_get_db\u001b[0m\u001b[1;33m(\u001b[0m\u001b[1;33m)\u001b[0m\u001b[1;33m\u001b[0m\u001b[1;33m\u001b[0m\u001b[0m\n\u001b[0;32m    377\u001b[0m         \u001b[0mself\u001b[0m\u001b[1;33m.\u001b[0m\u001b[0m_result\u001b[0m \u001b[1;33m=\u001b[0m \u001b[1;32mNone\u001b[0m\u001b[1;33m\u001b[0m\u001b[1;33m\u001b[0m\u001b[0m\n\u001b[1;32m--> 378\u001b[1;33m         \u001b[0mdb\u001b[0m\u001b[1;33m.\u001b[0m\u001b[0mquery\u001b[0m\u001b[1;33m(\u001b[0m\u001b[0mq\u001b[0m\u001b[1;33m)\u001b[0m\u001b[1;33m\u001b[0m\u001b[1;33m\u001b[0m\u001b[0m\n\u001b[0m\u001b[0;32m    379\u001b[0m         \u001b[0mself\u001b[0m\u001b[1;33m.\u001b[0m\u001b[0m_do_get_result\u001b[0m\u001b[1;33m(\u001b[0m\u001b[0mdb\u001b[0m\u001b[1;33m)\u001b[0m\u001b[1;33m\u001b[0m\u001b[1;33m\u001b[0m\u001b[0m\n\u001b[0;32m    380\u001b[0m         \u001b[0mself\u001b[0m\u001b[1;33m.\u001b[0m\u001b[0m_post_get_result\u001b[0m\u001b[1;33m(\u001b[0m\u001b[1;33m)\u001b[0m\u001b[1;33m\u001b[0m\u001b[1;33m\u001b[0m\u001b[0m\n",
      "\u001b[1;32m~\\Anaconda3\\lib\\site-packages\\MySQLdb\\connections.py\u001b[0m in \u001b[0;36mquery\u001b[1;34m(self, query)\u001b[0m\n\u001b[0;32m    278\u001b[0m             \u001b[0mself\u001b[0m\u001b[1;33m.\u001b[0m\u001b[0mread_query_result\u001b[0m\u001b[1;33m(\u001b[0m\u001b[1;33m)\u001b[0m\u001b[1;33m\u001b[0m\u001b[1;33m\u001b[0m\u001b[0m\n\u001b[0;32m    279\u001b[0m         \u001b[1;32melse\u001b[0m\u001b[1;33m:\u001b[0m\u001b[1;33m\u001b[0m\u001b[1;33m\u001b[0m\u001b[0m\n\u001b[1;32m--> 280\u001b[1;33m             \u001b[0m_mysql\u001b[0m\u001b[1;33m.\u001b[0m\u001b[0mconnection\u001b[0m\u001b[1;33m.\u001b[0m\u001b[0mquery\u001b[0m\u001b[1;33m(\u001b[0m\u001b[0mself\u001b[0m\u001b[1;33m,\u001b[0m \u001b[0mquery\u001b[0m\u001b[1;33m)\u001b[0m\u001b[1;33m\u001b[0m\u001b[1;33m\u001b[0m\u001b[0m\n\u001b[0m\u001b[0;32m    281\u001b[0m \u001b[1;33m\u001b[0m\u001b[0m\n\u001b[0;32m    282\u001b[0m     \u001b[1;32mdef\u001b[0m \u001b[0m__enter__\u001b[0m\u001b[1;33m(\u001b[0m\u001b[0mself\u001b[0m\u001b[1;33m)\u001b[0m\u001b[1;33m:\u001b[0m\u001b[1;33m\u001b[0m\u001b[1;33m\u001b[0m\u001b[0m\n",
      "\u001b[1;31mOperationalError\u001b[0m: (1366, \"Incorrect string value: '\\\\xEA\\\\xB7\\\\xB8\\\\xEB\\\\xA6\\\\xB0...' for column `naver_movie`.`naver_movie`.`title` at row 1\")"
     ]
    }
   ],
   "source": [
    "insert_movie(sample_movie)"
   ]
  },
  {
   "cell_type": "code",
   "execution_count": 12,
   "metadata": {},
   "outputs": [],
   "source": [
    "def get_comment_list(code, last_page):\n",
    "    url = 'https://movie.naver.com/movie/bi/mi/pointWriteFormList.nhn'\n",
    "    params = {\n",
    "        'code' : code,\n",
    "        'type' : 'after',\n",
    "        'order' : 'newest'\n",
    "    }\n",
    "    result_list = []\n",
    "    for page in range(1, last_page+ 1):\n",
    "        params['page'] = page\n",
    "        \n",
    "        resp = requests.get(url, params)\n",
    "        resp.encoding='utf8'\n",
    "        soup = BeautifulSoup(resp.content)\n",
    "        \n",
    "        reple_list = soup.find('div', class_ = 'score_result').find_all('li')\n",
    "        \n",
    "        for reple in reple_list:\n",
    "            score = reple.find(class_ = 'star_score').text.strip()\n",
    "            content = reple.find('p')\n",
    "            name_n_date = content.find_next_sibling('dl').find_all('em')\n",
    "            content = content.text\n",
    "            \n",
    "            nickname = name_n_date[0].text\n",
    "            date = name_n_date[1]\n",
    "            result_list.append({\n",
    "                'write_name' : nickname,\n",
    "                'write_date' : date.text,\n",
    "                'content' : content,\n",
    "                'score' : score,\n",
    "                'code' : code\n",
    "            })\n",
    "    return result_list"
   ]
  },
  {
   "cell_type": "code",
   "execution_count": 13,
   "metadata": {},
   "outputs": [
    {
     "data": {
      "text/plain": [
       "[{'write_name': '\\n\\n봉봉(lemo****)\\n\\n',\n",
       "  'write_date': '2019.06.17 00:07',\n",
       "  'content': '따뜻한 브로맨스 로드무비.  ',\n",
       "  'score': '10',\n",
       "  'code': '171539'},\n",
       " {'write_name': '\\n\\nWindy(appl****)\\n\\n',\n",
       "  'write_date': '2019.06.15 21:46',\n",
       "  'content': '평점 클라스 봐라 ㅋㅋ 너무한거 아니냐?  ',\n",
       "  'score': '1',\n",
       "  'code': '171539'},\n",
       " {'write_name': '\\n\\nlunasea(luna****)\\n\\n',\n",
       "  'write_date': '2019.06.15 17:51',\n",
       "  'content': '블루레이로 감삼.두 배우의 연기가 대단하고 내용 전개 중에 심한 갈등이 나올거 같았는데 나오지 않아 편하고 재밌게 볼수 있었다.  ',\n",
       "  'score': '10',\n",
       "  'code': '171539'},\n",
       " {'write_name': '\\n\\n임소현(mira****)\\n\\n',\n",
       "  'write_date': '2019.06.15 11:50',\n",
       "  'content': '노잼 노잼 노잼 노잼 노잼  ',\n",
       "  'score': '1',\n",
       "  'code': '171539'},\n",
       " {'write_name': '\\n\\n신검무적 진산월(bajj****)\\n\\n',\n",
       "  'write_date': '2019.06.14 23:43',\n",
       "  'content': '시작은 유쾌했다, 그렇지만 가면 갈수록 묘하게 안타까우면서 슬프고 화가났지만, 토니의 현란한 말빨로 상황을 넘어가며 관객과 배우는 아슬아슬한 줄타기를 이어나갔다, 그러면서 서로를 배우게 되는 두남자의 우정과 빠꾸없는 직진이 맘에들었다. 감독덤앤더머감독  ',\n",
       "  'score': '10',\n",
       "  'code': '171539'},\n",
       " {'write_name': '\\n\\nokcu****\\n\\n',\n",
       "  'write_date': '2019.06.14 12:45',\n",
       "  'content': '이런게 영화지 꼭 보시길..  ',\n",
       "  'score': '8',\n",
       "  'code': '171539'},\n",
       " {'write_name': '\\n\\nnoname(u2ki****)\\n\\n',\n",
       "  'write_date': '2019.06.14 03:08',\n",
       "  'content': '10점 그 이상을 주고 싶은 영화  ',\n",
       "  'score': '10',\n",
       "  'code': '171539'},\n",
       " {'write_name': '\\n\\n대한검도(band****)\\n\\n',\n",
       "  'write_date': '2019.06.14 02:12',\n",
       "  'content': '편견을 버리고 서로의 차이를 받아들이자  ',\n",
       "  'score': '10',\n",
       "  'code': '171539'},\n",
       " {'write_name': '\\n\\n동그리(zzgg****)\\n\\n',\n",
       "  'write_date': '2019.06.13 23:39',\n",
       "  'content': '너무 감동적이고 배울 점이 많은 영화네요. 재밌게 잘봤습니다. 이런 영화가 스크린에 걸려야할텐데..  ',\n",
       "  'score': '10',\n",
       "  'code': '171539'},\n",
       " {'write_name': '\\n\\n직군씨(tjsd****)\\n\\n',\n",
       "  'write_date': '2019.06.13 16:59',\n",
       "  'content': '마음이 따뜻해지는 영화!피부색은 중요하지 않다.  ',\n",
       "  'score': '10',\n",
       "  'code': '171539'},\n",
       " {'write_name': '\\n\\n꼼지락(luna****)\\n\\n',\n",
       "  'write_date': '2019.06.13 13:20',\n",
       "  'content': '모르고 봤다가 뒤통수맞은 느낌이네요. 정말 잘만든 수작입니다. 왜그렇게 상을 많이 받았는지 알겠네요.  아 근데 우리의 마초 아라곤형님이..벌써 저렇게 늙었어..  ',\n",
       "  'score': '10',\n",
       "  'code': '171539'},\n",
       " {'write_name': '\\n\\n르쉐(hmle****)\\n\\n',\n",
       "  'write_date': '2019.06.10 23:59',\n",
       "  'content': '평점을 조작한것 같아 보게 되었다.  ',\n",
       "  'score': '10',\n",
       "  'code': '171539'},\n",
       " {'write_name': '\\n\\n홍명화(mh97****)\\n\\n',\n",
       "  'write_date': '2019.06.10 03:54',\n",
       "  'content': '재밌고 감동적이고 가슴따뜻해지는 영화였습니다.  ',\n",
       "  'score': '10',\n",
       "  'code': '171539'},\n",
       " {'write_name': '\\n\\n마크 와트니(side****)\\n\\n',\n",
       "  'write_date': '2019.06.09 21:51',\n",
       "  'content': '토니가 셜리박사를 가족들에게 소개시켜줄때 정말 멋있고 따뜻했다.  ',\n",
       "  'score': '10',\n",
       "  'code': '171539'},\n",
       " {'write_name': '\\n\\n세정주(ywau****)\\n\\n',\n",
       "  'write_date': '2019.06.09 14:38',\n",
       "  'content': '관람객최고예요  강력추천합니다  ',\n",
       "  'score': '10',\n",
       "  'code': '171539'},\n",
       " {'write_name': '\\n\\n듄을 사랑하는 레비(babo****)\\n\\n',\n",
       "  'write_date': '2019.06.08 23:45',\n",
       "  'content': '감동이다.. 그린북...  ',\n",
       "  'score': '10',\n",
       "  'code': '171539'},\n",
       " {'write_name': '\\n\\n슬럼버(bios****)\\n\\n',\n",
       "  'write_date': '2019.06.08 22:17',\n",
       "  'content': '아니 토니가 반지의제왕 아라곤이라고??이태리 악센트 제스처 그냥 이태리배우겠거니 했는데..감동과 꿀잼이 공존하는 영화입니다..  ',\n",
       "  'score': '10',\n",
       "  'code': '171539'},\n",
       " {'write_name': '\\n\\n생생발칙(seou****)\\n\\n',\n",
       "  'write_date': '2019.06.08 21:35',\n",
       "  'content': '오랫만에 마음이 따뜻해지는 영화를 봤습니다.  ',\n",
       "  'score': '10',\n",
       "  'code': '171539'},\n",
       " {'write_name': '\\n\\nchaffe(sws6****)\\n\\n',\n",
       "  'write_date': '2019.06.08 15:09',\n",
       "  'content': '켄터키에서 먹는 켄터키 프라이드치킨은 무슨맛일까  ',\n",
       "  'score': '10',\n",
       "  'code': '171539'},\n",
       " {'write_name': '\\n\\n주님의 종(junz****)\\n\\n',\n",
       "  'write_date': '2019.06.08 12:33',\n",
       "  'content': '강추또 강추 정말로 볼만합니다. 평점10  ',\n",
       "  'score': '10',\n",
       "  'code': '171539'}]"
      ]
     },
     "execution_count": 13,
     "metadata": {},
     "output_type": "execute_result"
    }
   ],
   "source": [
    "get_comment_list('171539', 2)"
   ]
  },
  {
   "cell_type": "code",
   "execution_count": 14,
   "metadata": {},
   "outputs": [],
   "source": [
    "def insert_comment(comment):\n",
    "    score = comment.get('score')\n",
    "    writer = comment.get('writer')\n",
    "    write_date = comment.get('write_date')\n",
    "    \n",
    "    write_date = '-'.join(write_date.split('.'))\n",
    "    \n",
    "    content = comment.get('content')\n",
    "    movie_code = comment.get('code')\n",
    "    \n",
    "    query = \"\"\"\n",
    "    INSERT INTO movie_comment(score, writer, written_at, content, movie_code)\n",
    "    VALUES('{}', '{}','{}', '{}','{}')\n",
    "    \"\"\".format(score,writer,write_date, content, movie_code)\n",
    "    print(query)\n",
    "    cur.execute(query)\n",
    "    db.commit()"
   ]
  },
  {
   "cell_type": "code",
   "execution_count": 15,
   "metadata": {},
   "outputs": [
    {
     "name": "stdout",
     "output_type": "stream",
     "text": [
      "\n",
      "    INSERT INTO movie_comment(score, writer, written_at, content, movie_code)\n",
      "    VALUES('10', 'None','2019-06-17 00:07', '따뜻한 브로맨스 로드무비.  ','171539')\n",
      "    \n"
     ]
    },
    {
     "ename": "OperationalError",
     "evalue": "(1366, \"Incorrect string value: '\\\\xEB\\\\x94\\\\xB0\\\\xEB\\\\x9C\\\\xBB...' for column `naver_movie`.`movie_comment`.`content` at row 1\")",
     "output_type": "error",
     "traceback": [
      "\u001b[1;31m---------------------------------------------------------------------------\u001b[0m",
      "\u001b[1;31mOperationalError\u001b[0m                          Traceback (most recent call last)",
      "\u001b[1;32m<ipython-input-15-6740ece5a7c0>\u001b[0m in \u001b[0;36m<module>\u001b[1;34m\u001b[0m\n\u001b[0;32m      1\u001b[0m \u001b[0mcomment_list\u001b[0m \u001b[1;33m=\u001b[0m \u001b[0mget_comment_list\u001b[0m\u001b[1;33m(\u001b[0m\u001b[1;34m'171539'\u001b[0m\u001b[1;33m,\u001b[0m \u001b[1;36m3\u001b[0m\u001b[1;33m)\u001b[0m\u001b[1;33m\u001b[0m\u001b[1;33m\u001b[0m\u001b[0m\n\u001b[0;32m      2\u001b[0m \u001b[1;32mfor\u001b[0m \u001b[0mcomment\u001b[0m \u001b[1;32min\u001b[0m \u001b[0mcomment_list\u001b[0m\u001b[1;33m:\u001b[0m\u001b[1;33m\u001b[0m\u001b[1;33m\u001b[0m\u001b[0m\n\u001b[1;32m----> 3\u001b[1;33m     \u001b[0minsert_comment\u001b[0m\u001b[1;33m(\u001b[0m\u001b[0mcomment\u001b[0m\u001b[1;33m)\u001b[0m\u001b[1;33m\u001b[0m\u001b[1;33m\u001b[0m\u001b[0m\n\u001b[0m",
      "\u001b[1;32m<ipython-input-14-7673f4cd15d8>\u001b[0m in \u001b[0;36minsert_comment\u001b[1;34m(comment)\u001b[0m\n\u001b[0;32m     14\u001b[0m     \"\"\".format(score,writer,write_date, content, movie_code)\n\u001b[0;32m     15\u001b[0m     \u001b[0mprint\u001b[0m\u001b[1;33m(\u001b[0m\u001b[0mquery\u001b[0m\u001b[1;33m)\u001b[0m\u001b[1;33m\u001b[0m\u001b[1;33m\u001b[0m\u001b[0m\n\u001b[1;32m---> 16\u001b[1;33m     \u001b[0mcur\u001b[0m\u001b[1;33m.\u001b[0m\u001b[0mexecute\u001b[0m\u001b[1;33m(\u001b[0m\u001b[0mquery\u001b[0m\u001b[1;33m)\u001b[0m\u001b[1;33m\u001b[0m\u001b[1;33m\u001b[0m\u001b[0m\n\u001b[0m\u001b[0;32m     17\u001b[0m     \u001b[0mdb\u001b[0m\u001b[1;33m.\u001b[0m\u001b[0mcommit\u001b[0m\u001b[1;33m(\u001b[0m\u001b[1;33m)\u001b[0m\u001b[1;33m\u001b[0m\u001b[1;33m\u001b[0m\u001b[0m\n",
      "\u001b[1;32m~\\Anaconda3\\lib\\site-packages\\MySQLdb\\cursors.py\u001b[0m in \u001b[0;36mexecute\u001b[1;34m(self, query, args)\u001b[0m\n\u001b[0;32m    253\u001b[0m         \u001b[1;32mexcept\u001b[0m \u001b[0mException\u001b[0m\u001b[1;33m:\u001b[0m\u001b[1;33m\u001b[0m\u001b[1;33m\u001b[0m\u001b[0m\n\u001b[0;32m    254\u001b[0m             \u001b[0mexc\u001b[0m\u001b[1;33m,\u001b[0m \u001b[0mvalue\u001b[0m \u001b[1;33m=\u001b[0m \u001b[0msys\u001b[0m\u001b[1;33m.\u001b[0m\u001b[0mexc_info\u001b[0m\u001b[1;33m(\u001b[0m\u001b[1;33m)\u001b[0m\u001b[1;33m[\u001b[0m\u001b[1;33m:\u001b[0m\u001b[1;36m2\u001b[0m\u001b[1;33m]\u001b[0m\u001b[1;33m\u001b[0m\u001b[1;33m\u001b[0m\u001b[0m\n\u001b[1;32m--> 255\u001b[1;33m             \u001b[0mself\u001b[0m\u001b[1;33m.\u001b[0m\u001b[0merrorhandler\u001b[0m\u001b[1;33m(\u001b[0m\u001b[0mself\u001b[0m\u001b[1;33m,\u001b[0m \u001b[0mexc\u001b[0m\u001b[1;33m,\u001b[0m \u001b[0mvalue\u001b[0m\u001b[1;33m)\u001b[0m\u001b[1;33m\u001b[0m\u001b[1;33m\u001b[0m\u001b[0m\n\u001b[0m\u001b[0;32m    256\u001b[0m         \u001b[1;32mif\u001b[0m \u001b[1;32mnot\u001b[0m \u001b[0mself\u001b[0m\u001b[1;33m.\u001b[0m\u001b[0m_defer_warnings\u001b[0m\u001b[1;33m:\u001b[0m\u001b[1;33m\u001b[0m\u001b[1;33m\u001b[0m\u001b[0m\n\u001b[0;32m    257\u001b[0m             \u001b[0mself\u001b[0m\u001b[1;33m.\u001b[0m\u001b[0m_warning_check\u001b[0m\u001b[1;33m(\u001b[0m\u001b[1;33m)\u001b[0m\u001b[1;33m\u001b[0m\u001b[1;33m\u001b[0m\u001b[0m\n",
      "\u001b[1;32m~\\Anaconda3\\lib\\site-packages\\MySQLdb\\connections.py\u001b[0m in \u001b[0;36mdefaulterrorhandler\u001b[1;34m(***failed resolving arguments***)\u001b[0m\n\u001b[0;32m     48\u001b[0m     \u001b[1;32mdel\u001b[0m \u001b[0mconnection\u001b[0m\u001b[1;33m\u001b[0m\u001b[1;33m\u001b[0m\u001b[0m\n\u001b[0;32m     49\u001b[0m     \u001b[1;32mif\u001b[0m \u001b[0misinstance\u001b[0m\u001b[1;33m(\u001b[0m\u001b[0merrorvalue\u001b[0m\u001b[1;33m,\u001b[0m \u001b[0mBaseException\u001b[0m\u001b[1;33m)\u001b[0m\u001b[1;33m:\u001b[0m\u001b[1;33m\u001b[0m\u001b[1;33m\u001b[0m\u001b[0m\n\u001b[1;32m---> 50\u001b[1;33m         \u001b[1;32mraise\u001b[0m \u001b[0merrorvalue\u001b[0m\u001b[1;33m\u001b[0m\u001b[1;33m\u001b[0m\u001b[0m\n\u001b[0m\u001b[0;32m     51\u001b[0m     \u001b[1;32mif\u001b[0m \u001b[0merrorclass\u001b[0m \u001b[1;32mis\u001b[0m \u001b[1;32mnot\u001b[0m \u001b[1;32mNone\u001b[0m\u001b[1;33m:\u001b[0m\u001b[1;33m\u001b[0m\u001b[1;33m\u001b[0m\u001b[0m\n\u001b[0;32m     52\u001b[0m         \u001b[1;32mraise\u001b[0m \u001b[0merrorclass\u001b[0m\u001b[1;33m(\u001b[0m\u001b[0merrorvalue\u001b[0m\u001b[1;33m)\u001b[0m\u001b[1;33m\u001b[0m\u001b[1;33m\u001b[0m\u001b[0m\n",
      "\u001b[1;32m~\\Anaconda3\\lib\\site-packages\\MySQLdb\\cursors.py\u001b[0m in \u001b[0;36mexecute\u001b[1;34m(self, query, args)\u001b[0m\n\u001b[0;32m    250\u001b[0m         \u001b[0mres\u001b[0m \u001b[1;33m=\u001b[0m \u001b[1;32mNone\u001b[0m\u001b[1;33m\u001b[0m\u001b[1;33m\u001b[0m\u001b[0m\n\u001b[0;32m    251\u001b[0m         \u001b[1;32mtry\u001b[0m\u001b[1;33m:\u001b[0m\u001b[1;33m\u001b[0m\u001b[1;33m\u001b[0m\u001b[0m\n\u001b[1;32m--> 252\u001b[1;33m             \u001b[0mres\u001b[0m \u001b[1;33m=\u001b[0m \u001b[0mself\u001b[0m\u001b[1;33m.\u001b[0m\u001b[0m_query\u001b[0m\u001b[1;33m(\u001b[0m\u001b[0mquery\u001b[0m\u001b[1;33m)\u001b[0m\u001b[1;33m\u001b[0m\u001b[1;33m\u001b[0m\u001b[0m\n\u001b[0m\u001b[0;32m    253\u001b[0m         \u001b[1;32mexcept\u001b[0m \u001b[0mException\u001b[0m\u001b[1;33m:\u001b[0m\u001b[1;33m\u001b[0m\u001b[1;33m\u001b[0m\u001b[0m\n\u001b[0;32m    254\u001b[0m             \u001b[0mexc\u001b[0m\u001b[1;33m,\u001b[0m \u001b[0mvalue\u001b[0m \u001b[1;33m=\u001b[0m \u001b[0msys\u001b[0m\u001b[1;33m.\u001b[0m\u001b[0mexc_info\u001b[0m\u001b[1;33m(\u001b[0m\u001b[1;33m)\u001b[0m\u001b[1;33m[\u001b[0m\u001b[1;33m:\u001b[0m\u001b[1;36m2\u001b[0m\u001b[1;33m]\u001b[0m\u001b[1;33m\u001b[0m\u001b[1;33m\u001b[0m\u001b[0m\n",
      "\u001b[1;32m~\\Anaconda3\\lib\\site-packages\\MySQLdb\\cursors.py\u001b[0m in \u001b[0;36m_query\u001b[1;34m(self, q)\u001b[0m\n\u001b[0;32m    376\u001b[0m         \u001b[0mdb\u001b[0m \u001b[1;33m=\u001b[0m \u001b[0mself\u001b[0m\u001b[1;33m.\u001b[0m\u001b[0m_get_db\u001b[0m\u001b[1;33m(\u001b[0m\u001b[1;33m)\u001b[0m\u001b[1;33m\u001b[0m\u001b[1;33m\u001b[0m\u001b[0m\n\u001b[0;32m    377\u001b[0m         \u001b[0mself\u001b[0m\u001b[1;33m.\u001b[0m\u001b[0m_result\u001b[0m \u001b[1;33m=\u001b[0m \u001b[1;32mNone\u001b[0m\u001b[1;33m\u001b[0m\u001b[1;33m\u001b[0m\u001b[0m\n\u001b[1;32m--> 378\u001b[1;33m         \u001b[0mdb\u001b[0m\u001b[1;33m.\u001b[0m\u001b[0mquery\u001b[0m\u001b[1;33m(\u001b[0m\u001b[0mq\u001b[0m\u001b[1;33m)\u001b[0m\u001b[1;33m\u001b[0m\u001b[1;33m\u001b[0m\u001b[0m\n\u001b[0m\u001b[0;32m    379\u001b[0m         \u001b[0mself\u001b[0m\u001b[1;33m.\u001b[0m\u001b[0m_do_get_result\u001b[0m\u001b[1;33m(\u001b[0m\u001b[0mdb\u001b[0m\u001b[1;33m)\u001b[0m\u001b[1;33m\u001b[0m\u001b[1;33m\u001b[0m\u001b[0m\n\u001b[0;32m    380\u001b[0m         \u001b[0mself\u001b[0m\u001b[1;33m.\u001b[0m\u001b[0m_post_get_result\u001b[0m\u001b[1;33m(\u001b[0m\u001b[1;33m)\u001b[0m\u001b[1;33m\u001b[0m\u001b[1;33m\u001b[0m\u001b[0m\n",
      "\u001b[1;32m~\\Anaconda3\\lib\\site-packages\\MySQLdb\\connections.py\u001b[0m in \u001b[0;36mquery\u001b[1;34m(self, query)\u001b[0m\n\u001b[0;32m    278\u001b[0m             \u001b[0mself\u001b[0m\u001b[1;33m.\u001b[0m\u001b[0mread_query_result\u001b[0m\u001b[1;33m(\u001b[0m\u001b[1;33m)\u001b[0m\u001b[1;33m\u001b[0m\u001b[1;33m\u001b[0m\u001b[0m\n\u001b[0;32m    279\u001b[0m         \u001b[1;32melse\u001b[0m\u001b[1;33m:\u001b[0m\u001b[1;33m\u001b[0m\u001b[1;33m\u001b[0m\u001b[0m\n\u001b[1;32m--> 280\u001b[1;33m             \u001b[0m_mysql\u001b[0m\u001b[1;33m.\u001b[0m\u001b[0mconnection\u001b[0m\u001b[1;33m.\u001b[0m\u001b[0mquery\u001b[0m\u001b[1;33m(\u001b[0m\u001b[0mself\u001b[0m\u001b[1;33m,\u001b[0m \u001b[0mquery\u001b[0m\u001b[1;33m)\u001b[0m\u001b[1;33m\u001b[0m\u001b[1;33m\u001b[0m\u001b[0m\n\u001b[0m\u001b[0;32m    281\u001b[0m \u001b[1;33m\u001b[0m\u001b[0m\n\u001b[0;32m    282\u001b[0m     \u001b[1;32mdef\u001b[0m \u001b[0m__enter__\u001b[0m\u001b[1;33m(\u001b[0m\u001b[0mself\u001b[0m\u001b[1;33m)\u001b[0m\u001b[1;33m:\u001b[0m\u001b[1;33m\u001b[0m\u001b[1;33m\u001b[0m\u001b[0m\n",
      "\u001b[1;31mOperationalError\u001b[0m: (1366, \"Incorrect string value: '\\\\xEB\\\\x94\\\\xB0\\\\xEB\\\\x9C\\\\xBB...' for column `naver_movie`.`movie_comment`.`content` at row 1\")"
     ]
    }
   ],
   "source": [
    "comment_list = get_comment_list('171539', 3)\n",
    "for comment in comment_list:\n",
    "    insert_comment(comment)"
   ]
  },
  {
   "cell_type": "code",
   "execution_count": null,
   "metadata": {},
   "outputs": [],
   "source": [
    "for movie in movie_lst:\n",
    "    try:\n",
    "        comment_list = get_comment_list(movie['code'])\n",
    "        for comment in comment_list:\n",
    "            insert_comment(comment)\n",
    "            \n",
    "    except Exception:\n",
    "        pass"
   ]
  },
  {
   "cell_type": "code",
   "execution_count": null,
   "metadata": {},
   "outputs": [],
   "source": []
  }
 ],
 "metadata": {
  "kernelspec": {
   "display_name": "Python 3",
   "language": "python",
   "name": "python3"
  },
  "language_info": {
   "codemirror_mode": {
    "name": "ipython",
    "version": 3
   },
   "file_extension": ".py",
   "mimetype": "text/x-python",
   "name": "python",
   "nbconvert_exporter": "python",
   "pygments_lexer": "ipython3",
   "version": "3.7.3"
  }
 },
 "nbformat": 4,
 "nbformat_minor": 2
}
