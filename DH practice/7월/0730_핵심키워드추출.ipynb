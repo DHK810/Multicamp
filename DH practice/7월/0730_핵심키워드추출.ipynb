{
 "cells": [
  {
   "cell_type": "code",
   "execution_count": 1,
   "metadata": {},
   "outputs": [],
   "source": [
    "d1 = \"The cat sat on my face. I hate a cat.\"\n",
    "d2 = \"The dog sat on my bed. I love a dog.\""
   ]
  },
  {
   "cell_type": "code",
   "execution_count": 2,
   "metadata": {},
   "outputs": [],
   "source": [
    "from sklearn.feature_extraction.text import TfidfVectorizer\n",
    "from collections import defaultdict\n",
    "\n",
    "document_ls = [d1, d2]\n",
    "\n",
    "vectorizer = TfidfVectorizer()\n",
    "tfidf = vectorizer.fit_transform(document_ls)\n",
    "\n",
    "word2id = defaultdict(lambda: 0)\n",
    "\n",
    "for idx, feature in enumerate(vectorizer.get_feature_names()):\n",
    "    word2id[feature] = idx"
   ]
  },
  {
   "cell_type": "code",
   "execution_count": 12,
   "metadata": {},
   "outputs": [
    {
     "name": "stdout",
     "output_type": "stream",
     "text": [
      "defaultdict(<function <lambda> at 0x0000020B5135C620>, {'bed': 0, 'cat': 1, 'dog': 2, 'face': 3, 'hate': 4, 'love': 5, 'my': 6, 'on': 7, 'sat': 8, 'the': 9})\n"
     ]
    }
   ],
   "source": [
    "print(word2id)"
   ]
  },
  {
   "cell_type": "code",
   "execution_count": 3,
   "metadata": {},
   "outputs": [
    {
     "data": {
      "text/html": [
       "<div>\n",
       "<style scoped>\n",
       "    .dataframe tbody tr th:only-of-type {\n",
       "        vertical-align: middle;\n",
       "    }\n",
       "\n",
       "    .dataframe tbody tr th {\n",
       "        vertical-align: top;\n",
       "    }\n",
       "\n",
       "    .dataframe thead th {\n",
       "        text-align: right;\n",
       "    }\n",
       "</style>\n",
       "<table border=\"1\" class=\"dataframe\">\n",
       "  <thead>\n",
       "    <tr style=\"text-align: right;\">\n",
       "      <th></th>\n",
       "      <th>bed</th>\n",
       "      <th>cat</th>\n",
       "      <th>dog</th>\n",
       "      <th>face</th>\n",
       "      <th>hate</th>\n",
       "      <th>love</th>\n",
       "      <th>my</th>\n",
       "      <th>on</th>\n",
       "      <th>sat</th>\n",
       "      <th>the</th>\n",
       "    </tr>\n",
       "  </thead>\n",
       "  <tbody>\n",
       "    <tr>\n",
       "      <th>0</th>\n",
       "      <td>0.000000</td>\n",
       "      <td>0.706006</td>\n",
       "      <td>0.000000</td>\n",
       "      <td>0.353003</td>\n",
       "      <td>0.353003</td>\n",
       "      <td>0.000000</td>\n",
       "      <td>0.251164</td>\n",
       "      <td>0.251164</td>\n",
       "      <td>0.251164</td>\n",
       "      <td>0.251164</td>\n",
       "    </tr>\n",
       "    <tr>\n",
       "      <th>1</th>\n",
       "      <td>0.353003</td>\n",
       "      <td>0.000000</td>\n",
       "      <td>0.706006</td>\n",
       "      <td>0.000000</td>\n",
       "      <td>0.000000</td>\n",
       "      <td>0.353003</td>\n",
       "      <td>0.251164</td>\n",
       "      <td>0.251164</td>\n",
       "      <td>0.251164</td>\n",
       "      <td>0.251164</td>\n",
       "    </tr>\n",
       "  </tbody>\n",
       "</table>\n",
       "</div>"
      ],
      "text/plain": [
       "        bed       cat       dog      face      hate      love        my  \\\n",
       "0  0.000000  0.706006  0.000000  0.353003  0.353003  0.000000  0.251164   \n",
       "1  0.353003  0.000000  0.706006  0.000000  0.000000  0.353003  0.251164   \n",
       "\n",
       "         on       sat       the  \n",
       "0  0.251164  0.251164  0.251164  \n",
       "1  0.251164  0.251164  0.251164  "
      ]
     },
     "execution_count": 3,
     "metadata": {},
     "output_type": "execute_result"
    }
   ],
   "source": [
    "import pandas as pd\n",
    "count_vect_df = pd.DataFrame(tfidf.todense(), columns = vectorizer.get_feature_names())\n",
    "count_vect_df"
   ]
  },
  {
   "cell_type": "code",
   "execution_count": 4,
   "metadata": {},
   "outputs": [
    {
     "data": {
      "text/plain": [
       "matrix([[0.        , 0.70600557, 0.        , 0.35300279, 0.35300279,\n",
       "         0.        , 0.25116439, 0.25116439, 0.25116439, 0.25116439],\n",
       "        [0.35300279, 0.        , 0.70600557, 0.        , 0.        ,\n",
       "         0.35300279, 0.25116439, 0.25116439, 0.25116439, 0.25116439]])"
      ]
     },
     "execution_count": 4,
     "metadata": {},
     "output_type": "execute_result"
    }
   ],
   "source": [
    "tfidf.todense()\n"
   ]
  },
  {
   "cell_type": "code",
   "execution_count": 7,
   "metadata": {},
   "outputs": [
    {
     "data": {
      "text/plain": [
       "array(['cat', 'hate', 'face'], dtype='<U4')"
      ]
     },
     "execution_count": 7,
     "metadata": {},
     "output_type": "execute_result"
    }
   ],
   "source": [
    "import numpy as np\n",
    "feature_array = np.array(vectorizer.get_feature_names())\n",
    "tfidf_sorting = np.argsort(tfidf[0].toarray()).flatten()[::-1]\n",
    "n= 3\n",
    "top_n = feature_array[tfidf_sorting][:n]\n",
    "top_n"
   ]
  },
  {
   "cell_type": "code",
   "execution_count": null,
   "metadata": {},
   "outputs": [],
   "source": []
  }
 ],
 "metadata": {
  "kernelspec": {
   "display_name": "Python 3",
   "language": "python",
   "name": "python3"
  },
  "language_info": {
   "codemirror_mode": {
    "name": "ipython",
    "version": 3
   },
   "file_extension": ".py",
   "mimetype": "text/x-python",
   "name": "python",
   "nbconvert_exporter": "python",
   "pygments_lexer": "ipython3",
   "version": "3.7.3"
  }
 },
 "nbformat": 4,
 "nbformat_minor": 2
}
