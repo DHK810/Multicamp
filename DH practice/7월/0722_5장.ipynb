{
 "cells": [
  {
   "cell_type": "code",
   "execution_count": 1,
   "metadata": {},
   "outputs": [
    {
     "name": "stderr",
     "output_type": "stream",
     "text": [
      "[nltk_data] Downloading package punkt to\n",
      "[nltk_data]     C:\\Users\\15Z970-GA5BK\\AppData\\Roaming\\nltk_data...\n",
      "[nltk_data]   Package punkt is already up-to-date!\n",
      "[nltk_data] Downloading package averaged_perceptron_tagger to\n",
      "[nltk_data]     C:\\Users\\15Z970-GA5BK\\AppData\\Roaming\\nltk_data...\n",
      "[nltk_data]   Package averaged_perceptron_tagger is already up-to-\n",
      "[nltk_data]       date!\n"
     ]
    },
    {
     "name": "stdout",
     "output_type": "stream",
     "text": [
      "['Seoul', 'is', 'the', 'capital', 'of', 'Korea', '.']\n",
      "[('Seoul', 'NNP'), ('is', 'VBZ'), ('the', 'DT'), ('capital', 'NN'), ('of', 'IN'), ('Korea', 'NNP'), ('.', '.')]\n"
     ]
    }
   ],
   "source": [
    "import nltk\n",
    "nltk.download('punkt')\n",
    "nltk.download('averaged_perceptron_tagger')\n",
    "simpleSentence = \"Seoul is the capital of Korea.\"\n",
    "wordsInSentence = nltk.word_tokenize(simpleSentence)\n",
    "print(wordsInSentence)\n",
    "partsOfSpeechTags = nltk.pos_tag(wordsInSentence)\n",
    "print(partsOfSpeechTags)"
   ]
  },
  {
   "cell_type": "code",
   "execution_count": 3,
   "metadata": {},
   "outputs": [
    {
     "name": "stdout",
     "output_type": "stream",
     "text": [
      "[('Reykjavik', 'NN'), ('is', 'NN'), ('an', 'NN'), ('amazing', 'NN'), ('place', 'NN'), ('on', 'NN'), ('earth', 'NN'), ('.', 'NN'), ('I', 'NN'), ('have', 'NN'), ('visited', 'NN'), ('Reykjavik', 'NN')]\n",
      "[('Reykjavik', None), ('is', 'VERB'), ('an', 'INDEFINITE-ARTICLE'), ('amazing', 'ADJECTIVE'), ('place', None), ('on', 'PREPOSITION'), ('earth', None), ('.', None), ('I', None), ('have', None), ('visited', None), ('Reykjavik', None)]\n",
      "[('Reykjavik', 'NNP'), ('is', 'VBZ'), ('an', 'DT'), ('amazing', 'JJ'), ('place', 'NN'), ('on', 'IN'), ('earth', 'NN'), ('.', '.'), ('I', None), ('have', None), ('visited', None), ('Reykjavik', 'NNP')]\n"
     ]
    }
   ],
   "source": [
    "import nltk\n",
    "def learnDefaultTagger(simpleSentence):\n",
    "    wordsInSentence = nltk.word_tokenize(simpleSentence)\n",
    "    tagger = nltk.DefaultTagger(\"NN\")\n",
    "    posEnabledTags = tagger.tag(wordsInSentence)\n",
    "    print(posEnabledTags)\n",
    "def learnRETagger(simpleSentence):\n",
    "    customPatterns = [\n",
    "        (r'.*ing$', 'ADJECTIVE'), # running\n",
    "        (r'.*ly$', 'ADVERB'), # willingly\n",
    "        (r'.*ion$', 'NOUN'), # intimation\n",
    "        (r'(.*ate|.*en|is)$', 'VERB'), # terminate, darken, lighten\n",
    "        (r'^an$', 'INDEFINITE-ARTICLE'), # terminate\n",
    "        (r'^(with|on|at)$', 'PREPOSITION'), # on\n",
    "        (r'^\\-?[0-9]+(\\.[0-9]+)$', 'NUMBER'), # -1.0, 12345.123\n",
    "        (r'.*$', None),\n",
    "    ]\n",
    "    tagger = nltk.RegexpTagger(customPatterns)\n",
    "    wordsInSentence = nltk.word_tokenize(simpleSentence)\n",
    "    posEnabledTags = tagger.tag(wordsInSentence)\n",
    "    print(posEnabledTags)\n",
    "def learnLookupTagger(simpleSentence):\n",
    "    mapping = {\n",
    "    '.': '.', 'place': 'NN', 'on': 'IN',\n",
    "    'earth': 'NN', 'Reykjavik' : 'NNP', 'is': 'VBZ',\n",
    "    'an': 'DT', 'amazing': 'JJ'\n",
    "    }\n",
    "    tagger = nltk.UnigramTagger(model=mapping)\n",
    "    wordsInSentence = nltk.word_tokenize(simpleSentence)\n",
    "    posEnabledTags = tagger.tag(wordsInSentence)\n",
    "    print(posEnabledTags)\n",
    "if __name__ == '__main__':\n",
    "    testSentence = \"Reykjavik is an amazing place on earth. I have visited Reykjavik\"\n",
    "    learnDefaultTagger(testSentence)\n",
    "    learnRETagger(testSentence)\n",
    "    learnLookupTagger(testSentence)"
   ]
  },
  {
   "cell_type": "markdown",
   "metadata": {},
   "source": [
    "# 자체 태거로 학습"
   ]
  },
  {
   "cell_type": "code",
   "execution_count": 4,
   "metadata": {},
   "outputs": [],
   "source": [
    "import nltk\n",
    "import pickle\n",
    "def sampleData():\n",
    "    return [\n",
    "    \"Bangalore is the capital of Karnataka.\",\n",
    "    \"Steve Jobs was the CEO of Apple.\",\n",
    "    \"iPhone was Invented by Apple.\",\n",
    "    \"Books can be purchased in Market.\",\n",
    "    ]\n",
    "def buildDictionary():\n",
    "    dictionary = {}\n",
    "    for sent in sampleData():\n",
    "        partsOfSpeechTags = nltk.pos_tag(nltk.word_tokenize(sent))\n",
    "        for tag in partsOfSpeechTags:\n",
    "            value = tag[0]\n",
    "            pos = tag[1]\n",
    "            dictionary[value] = pos\n",
    "    return dictionary # nltk posTagging의 함수화.\n",
    "def saveMyTagger(tagger, fileName):\n",
    "    fileHandle = open(fileName, \"wb\")\n",
    "    pickle.dump(tagger, fileHandle)\n",
    "    fileHandle.close()\n",
    "def saveMyTraining(fileName):\n",
    "    tagger = nltk.UnigramTagger(model=buildDictionary()) # buildDictionary()로 Tagger 만듦\n",
    "    saveMyTagger(tagger, fileName)\n",
    "def loadMyTagger(fileName):\n",
    "    return pickle.load(open(fileName, \"rb\")) # returns nlt Tagger "
   ]
  },
  {
   "cell_type": "code",
   "execution_count": 5,
   "metadata": {},
   "outputs": [
    {
     "name": "stdout",
     "output_type": "stream",
     "text": [
      "[('Iphone', None), ('is', 'VBZ'), ('purchased', 'VBN'), ('by', 'IN'), ('Steve', 'NNP'), ('Jobs', 'NNP'), ('in', 'IN'), ('Bangalore', 'NNP'), ('Market', 'NNP')]\n"
     ]
    }
   ],
   "source": [
    "sentence = 'Iphone is purchased by Steve Jobs in Bangalore Market'\n",
    "fileName = \"myTagger.pickle\"\n",
    "saveMyTraining(fileName)\n",
    "myTagger = loadMyTagger(fileName)\n",
    "print(myTagger.tag(nltk.word_tokenize(sentence)))"
   ]
  },
  {
   "cell_type": "markdown",
   "metadata": {},
   "source": [
    "# 문법 정의(예: 프로그래밍 언어 만들 때)"
   ]
  },
  {
   "cell_type": "code",
   "execution_count": 22,
   "metadata": {},
   "outputs": [
    {
     "name": "stdout",
     "output_type": "stream",
     "text": [
      "Grammar with 12 productions (start state = ROOT)\n",
      "    ROOT -> WORD\n",
      "    WORD -> ' '\n",
      "    WORD -> NUMBER LETTER\n",
      "    WORD -> LETTER NUMBER\n",
      "    NUMBER -> '0'\n",
      "    NUMBER -> '1'\n",
      "    NUMBER -> '2'\n",
      "    NUMBER -> '3'\n",
      "    LETTER -> 'a'\n",
      "    LETTER -> 'b'\n",
      "    LETTER -> 'c'\n",
      "    LETTER -> 'd'\n",
      "생성된 단어: , 크기: 0\n",
      "생성된 단어: 0a, 크기: 2\n",
      "생성된 단어: 0b, 크기: 2\n",
      "생성된 단어: 0c, 크기: 2\n",
      "생성된 단어: 0d, 크기: 2\n",
      "생성된 단어: 1a, 크기: 2\n",
      "생성된 단어: 1b, 크기: 2\n",
      "생성된 단어: 1c, 크기: 2\n",
      "생성된 단어: 1d, 크기: 2\n",
      "생성된 단어: 2a, 크기: 2\n",
      "생성된 단어: 2b, 크기: 2\n",
      "생성된 단어: 2c, 크기: 2\n",
      "생성된 단어: 2d, 크기: 2\n",
      "생성된 단어: 3a, 크기: 2\n",
      "생성된 단어: 3b, 크기: 2\n",
      "생성된 단어: 3c, 크기: 2\n",
      "생성된 단어: 3d, 크기: 2\n",
      "생성된 단어: a0, 크기: 2\n",
      "생성된 단어: a1, 크기: 2\n",
      "생성된 단어: a2, 크기: 2\n"
     ]
    }
   ],
   "source": [
    "import nltk\n",
    "import string\n",
    "from nltk.parse.generate import generate\n",
    "productions = [\n",
    "    \"ROOT -> WORD\",\n",
    "    \"WORD -> ' '\",\n",
    "    \"WORD -> NUMBER LETTER\",\n",
    "    \"WORD -> LETTER NUMBER\",\n",
    "    ]\n",
    "digits = list(string.digits)\n",
    "for digit in digits[:4]:\n",
    "    productions.append(\"NUMBER -> '{w}'\".format(w= digit))#productions.append(\"NUMBER -> '{0}'\".format(digit))\n",
    "letters = \"' | '\".join(list(string.ascii_lowercase)[:4])\n",
    "productions.append(\"LETTER -> '{w}'\".format(w=letters))\n",
    "grammarString = \"\\n\".join(productions)\n",
    "grammar = nltk.CFG.fromstring(grammarString)\n",
    "print(grammar)\n",
    "for sentence in generate(grammar, n=20, depth=4):\n",
    "    palindrome = \"\".join(sentence).replace(\" \", \"\")\n",
    "    print(\"생성된 단어: {}, 크기: {}\".format(palindrome, len(palindrome)))ㅌ"
   ]
  },
  {
   "cell_type": "markdown",
   "metadata": {},
   "source": [
    "# PCFG 확률"
   ]
  },
  {
   "cell_type": "code",
   "execution_count": 26,
   "metadata": {},
   "outputs": [
    {
     "name": "stdout",
     "output_type": "stream",
     "text": [
      "------------------------------\n",
      "ROOT -> WORD [1.0]\n",
      "WORD -> P1 [0.25]\n",
      "WORD -> P1 P2 [0.25]\n",
      "WORD -> P1 P2 P3 [0.25]\n",
      "WORD -> P1 P2 P3 P4 [0.25]\n",
      "P1 -> 'A' [1.0]\n",
      "P2 -> 'B' [0.5]\n",
      "P2 -> 'C' [0.5]\n",
      "P3 -> 'D' [0.3]\n",
      "P3 -> 'E' [0.3]\n",
      "P3 -> 'F' [0.4]\n",
      "P4 -> 'G' [0.9]\n",
      "P4 -> 'H' [0.1]\n",
      "------------------------------\n",
      "Grammar with 13 productions (start state = ROOT)\n",
      "    ROOT -> WORD [1.0]\n",
      "    WORD -> P1 [0.25]\n",
      "    WORD -> P1 P2 [0.25]\n",
      "    WORD -> P1 P2 P3 [0.25]\n",
      "    WORD -> P1 P2 P3 P4 [0.25]\n",
      "    P1 -> 'A' [1.0]\n",
      "    P2 -> 'B' [0.5]\n",
      "    P2 -> 'C' [0.5]\n",
      "    P3 -> 'D' [0.3]\n",
      "    P3 -> 'E' [0.3]\n",
      "    P3 -> 'F' [0.4]\n",
      "    P4 -> 'G' [0.9]\n",
      "    P4 -> 'H' [0.1]\n",
      "------------------------------\n",
      "문자열 : A, 크기 : 1\n",
      "문자열 : AB, 크기 : 2\n",
      "문자열 : AC, 크기 : 2\n",
      "문자열 : ABD, 크기 : 3\n",
      "문자열 : ABE, 크기 : 3\n",
      "문자열 : ABF, 크기 : 3\n",
      "문자열 : ACD, 크기 : 3\n",
      "문자열 : ACE, 크기 : 3\n",
      "문자열 : ACF, 크기 : 3\n",
      "문자열 : ABDG, 크기 : 4\n",
      "문자열 : ABDH, 크기 : 4\n",
      "문자열 : ABEG, 크기 : 4\n",
      "문자열 : ABEH, 크기 : 4\n",
      "문자열 : ABFG, 크기 : 4\n",
      "문자열 : ABFH, 크기 : 4\n",
      "문자열 : ACDG, 크기 : 4\n",
      "문자열 : ACDH, 크기 : 4\n",
      "문자열 : ACEG, 크기 : 4\n",
      "문자열 : ACEH, 크기 : 4\n",
      "문자열 : ACFG, 크기 : 4\n"
     ]
    }
   ],
   "source": [
    "import nltk\n",
    "from nltk.parse.generate import generate\n",
    "productions = [\n",
    "\"ROOT -> WORD [1.0]\",\n",
    "\"WORD -> P1 [0.25]\",\n",
    "\"WORD -> P1 P2 [0.25]\",\n",
    "\"WORD -> P1 P2 P3 [0.25]\",\n",
    "\"WORD -> P1 P2 P3 P4 [0.25]\",\n",
    "\"P1 -> 'A' [1.0]\",\n",
    "\"P2 -> 'B' [0.5]\",\n",
    "\"P2 -> 'C' [0.5]\",\n",
    "\"P3 -> 'D' [0.3]\",\n",
    "\"P3 -> 'E' [0.3]\",\n",
    "\"P3 -> 'F' [0.4]\",\n",
    "\"P4 -> 'G' [0.9]\",\n",
    "\"P4 -> 'H' [0.1]\",\n",
    "]\n",
    "grammarString = \"\\n\".join(productions)\n",
    "print('-' * 30)\n",
    "print(grammarString)\n",
    "grammar = nltk.PCFG.fromstring(grammarString) #문법을 문자열로 반환하겠다는 뜻\n",
    "print('-' * 30)\n",
    "print(grammar)\n",
    "print('-' * 30)\n",
    "for sentence in generate(grammar, n=20, depth=5): # generate = 문법에 기반해서 단어를 생성\n",
    "    palindrome = \"\".join(sentence).replace(\" \", \"\")\n",
    "    print(\"문자열 : {}, 크기 : {}\".format(palindrome, len(palindrome)))"
   ]
  },
  {
   "cell_type": "markdown",
   "metadata": {},
   "source": [
    "# recursive CFG"
   ]
  },
  {
   "cell_type": "code",
   "execution_count": 44,
   "metadata": {},
   "outputs": [
    {
     "name": "stdout",
     "output_type": "stream",
     "text": [
      "Grammar with 12 productions (start state = ROOT)\n",
      "    ROOT -> WORD\n",
      "    WORD -> ' '\n",
      "    WORD -> '0' WORD '0'\n",
      "    WORD -> '1' WORD '1'\n",
      "    WORD -> '2' WORD '2'\n",
      "    WORD -> '3' WORD '3'\n",
      "    WORD -> '4' WORD '4'\n",
      "    WORD -> '5' WORD '5'\n",
      "    WORD -> '6' WORD '6'\n",
      "    WORD -> '7' WORD '7'\n",
      "    WORD -> '8' WORD '8'\n",
      "    WORD -> '9' WORD '9'\n",
      "sentence:  [' ']\n",
      "Palindrome : , Size : 0\n",
      "sentence:  ['0', ' ', '0']\n",
      "Palindrome : 00, Size : 2\n",
      "sentence:  ['0', '0', ' ', '0', '0']\n",
      "Palindrome : 0000, Size : 4\n",
      "sentence:  ['0', '1', ' ', '1', '0']\n",
      "Palindrome : 0110, Size : 4\n",
      "sentence:  ['0', '2', ' ', '2', '0']\n",
      "Palindrome : 0220, Size : 4\n",
      "sentence:  ['0', '3', ' ', '3', '0']\n",
      "Palindrome : 0330, Size : 4\n",
      "sentence:  ['0', '4', ' ', '4', '0']\n",
      "Palindrome : 0440, Size : 4\n",
      "sentence:  ['0', '5', ' ', '5', '0']\n",
      "Palindrome : 0550, Size : 4\n",
      "sentence:  ['0', '6', ' ', '6', '0']\n",
      "Palindrome : 0660, Size : 4\n",
      "sentence:  ['0', '7', ' ', '7', '0']\n",
      "Palindrome : 0770, Size : 4\n",
      "sentence:  ['0', '8', ' ', '8', '0']\n",
      "Palindrome : 0880, Size : 4\n",
      "sentence:  ['0', '9', ' ', '9', '0']\n",
      "Palindrome : 0990, Size : 4\n",
      "sentence:  ['1', ' ', '1']\n",
      "Palindrome : 11, Size : 2\n",
      "sentence:  ['1', '0', ' ', '0', '1']\n",
      "Palindrome : 1001, Size : 4\n",
      "sentence:  ['1', '1', ' ', '1', '1']\n",
      "Palindrome : 1111, Size : 4\n",
      "sentence:  ['1', '2', ' ', '2', '1']\n",
      "Palindrome : 1221, Size : 4\n",
      "sentence:  ['1', '3', ' ', '3', '1']\n",
      "Palindrome : 1331, Size : 4\n",
      "sentence:  ['1', '4', ' ', '4', '1']\n",
      "Palindrome : 1441, Size : 4\n",
      "sentence:  ['1', '5', ' ', '5', '1']\n",
      "Palindrome : 1551, Size : 4\n",
      "sentence:  ['1', '6', ' ', '6', '1']\n",
      "Palindrome : 1661, Size : 4\n"
     ]
    }
   ],
   "source": [
    "import nltk\n",
    "import string\n",
    "from nltk.parse.generate import generate\n",
    "productions = [\n",
    "\"ROOT -> WORD\",\n",
    "\"WORD -> ' '\"\n",
    "]\n",
    "alphabets = list(string.digits)\n",
    "\n",
    "for alphabet in alphabets:\n",
    "    productions.append(\"WORD -> '{w}' WORD '{w}'\".format(w=alphabet))\n",
    "grammarString = \"\\n\".join(productions)\n",
    "\n",
    "grammar = nltk.CFG.fromstring(grammarString)\n",
    "\n",
    "print(grammar)\n",
    "for sentence in generate(grammar, n=20, depth=5):\n",
    "    print('sentence: ',sentence)\n",
    "    palindrome = \"\".join(sentence).replace(\" \", \"\")\n",
    "    print(\"Palindrome : {}, Size : {}\".format(palindrome, len(palindrome)))"
   ]
  }
 ],
 "metadata": {
  "kernelspec": {
   "display_name": "Python 3",
   "language": "python",
   "name": "python3"
  },
  "language_info": {
   "codemirror_mode": {
    "name": "ipython",
    "version": 3
   },
   "file_extension": ".py",
   "mimetype": "text/x-python",
   "name": "python",
   "nbconvert_exporter": "python",
   "pygments_lexer": "ipython3",
   "version": "3.7.3"
  }
 },
 "nbformat": 4,
 "nbformat_minor": 2
}
