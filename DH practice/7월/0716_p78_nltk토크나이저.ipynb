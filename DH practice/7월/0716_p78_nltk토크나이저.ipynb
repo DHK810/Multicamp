{
 "cells": [
  {
   "cell_type": "markdown",
   "metadata": {},
   "source": [
    "# LineTokenizer : 개행문자(/n)를 기준으로 토큰화. 마침표나 문장 단위가 아님\n",
    "# SpaceTokenizer : 공백을 기준으로 토큰화\n",
    "# TweetTokenizer : 트위터에 특화한 토큰화. 이모티콘도 하나의 토큰으로 인지\n",
    "# word_tokenize : 단어 기준 토큰화"
   ]
  },
  {
   "cell_type": "code",
   "execution_count": 7,
   "metadata": {},
   "outputs": [
    {
     "name": "stdout",
     "output_type": "stream",
     "text": [
      "Line tokenizer 출력 :  ['My name is Maximus Decimus Meridiu', ' 브라브라ㅡ비라ㅡ']\n",
      "Space Tokenizer 출력 : ['By', '11', \"o'clock\", 'on', 'Sunday,', 'the', 'doctor', 'shall', 'open', 'the', 'dispensary', ':)']\n",
      "Word Tokenizer 출력 :  ['By', '11', \"o'clock\", 'on', 'Sunday', ',', 'the', 'doctor', 'shall', 'open', 'the', 'dispensary', ':', ')']\n",
      "Tweet Tokenizer 출력 :  ['This', 'is', 'a', 'cooool', '#dummysmiley', ':', ':=']\n"
     ]
    },
    {
     "name": "stderr",
     "output_type": "stream",
     "text": [
      "[nltk_data] Downloading package punkt to\n",
      "[nltk_data]     C:\\Users\\15Z970-GA5BK\\AppData\\Roaming\\nltk_data...\n",
      "[nltk_data]   Package punkt is already up-to-date!\n"
     ]
    }
   ],
   "source": [
    "import nltk\n",
    "nltk.download('punkt')\n",
    "from nltk.tokenize import LineTokenizer, SpaceTokenizer, TweetTokenizer\n",
    "from nltk import word_tokenize\n",
    "\n",
    "lTokenizer = LineTokenizer();\n",
    "\n",
    "\n",
    "print(\"Line tokenizer 출력 : \", lTokenizer.tokenize(\"My name is Maximus Decimus Meridiu\\n 브라브라ㅡ비라ㅡ\"))\n",
    "rawText = \"By 11 o'clock on Sunday, the doctor shall open the dispensary :)\"\n",
    "sTokenizer = SpaceTokenizer()\n",
    "print(\"Space Tokenizer 출력 :\", sTokenizer.tokenize(rawText))\n",
    "print(\"Word Tokenizer 출력 : \", word_tokenize(rawText))\n",
    "tTokenizer = TweetTokenizer()\n",
    "print(\"Tweet Tokenizer 출력 : \", tTokenizer.tokenize(\"This is a cooool #dummysmiley: :=\"))"
   ]
  },
  {
   "cell_type": "markdown",
   "metadata": {},
   "source": [
    "# 어간추출(Stemming)\n",
    "# 단어의 어근을 중심으로 규칙에 기반하여 어미를 제거 혹은 변화하여 표준화\n",
    "# PorterStemmer 에 비교하여 LancasterStemmer의 예문에서 더 많은 제거가 일어났음을 확인할 수 있음 (name -> #na\n",
    "# 규칙에 기반하여 표준화 하여 새로운 단어도 처리가 가능함 => 규칙에만 일치하면 처리가 가능"
   ]
  },
  {
   "cell_type": "code",
   "execution_count": 12,
   "metadata": {},
   "outputs": [
    {
     "name": "stdout",
     "output_type": "stream",
     "text": [
      "['My', 'name', 'is', 'maximu', 'decimu', 'meridiu', ',', 'command', 'of', 'the', 'armi', 'of', 'the', 'north', ',', 'gene']\n",
      "['my', 'nam', 'is', 'maxim', 'decim', 'meridi', ',', 'command', 'of', 'the', 'army', 'of', 'the', 'nor', ',', 'gen']\n"
     ]
    }
   ],
   "source": [
    "from nltk import PorterStemmer, LancasterStemmer, word_tokenize\n",
    "raw = \"My name is Maximus Decimus Meridius, commander of the Armies of the North, Gene\"\n",
    "tokens = word_tokenize(raw)\n",
    "porter = PorterStemmer()\n",
    "pStems = [porter.stem(t) for t in tokens]\n",
    "print(pStems)\n",
    "lancaster = LancasterStemmer()\n",
    "lStems = [lancaster.stem(t) for t in tokens]\n",
    "print(lStems)"
   ]
  },
  {
   "cell_type": "code",
   "execution_count": 13,
   "metadata": {},
   "outputs": [
    {
     "name": "stderr",
     "output_type": "stream",
     "text": [
      "[nltk_data] Downloading package wordnet to\n",
      "[nltk_data]     C:\\Users\\15Z970-GA5BK\\AppData\\Roaming\\nltk_data...\n",
      "[nltk_data]   Package wordnet is already up-to-date!\n"
     ]
    },
    {
     "name": "stdout",
     "output_type": "stream",
     "text": [
      "['My', 'name', 'is', 'maximu', 'decimu', 'meridiu', ',', 'command', 'of', 'the', 'armi', 'of', 'the', 'north', ',', 'gene']\n",
      "['My', 'name', 'is', 'Maximus', 'Decimus', 'Meridius', ',', 'commander', 'of', 'the', 'army', 'of', 'the', 'north', ',', 'Gene']\n"
     ]
    }
   ],
   "source": [
    "import nltk\n",
    "nltk.download('wordnet')\n",
    "from nltk import word_tokenize, PorterStemmer, WordNetLemmatizer\n",
    "raw = \"My name is Maximus Decimus Meridius, commander of the armies of the north, Gene\"\n",
    "tokens = word_tokenize(raw)\n",
    "porter = PorterStemmer()\n",
    "stems = [porter.stem(t) for t in tokens]\n",
    "print(stems)\n",
    "lemmatizer = WordNetLemmatizer()\n",
    "lemmas = [lemmatizer.lemmatize(t) for t in tokens]\n",
    "print(lemmas)\n"
   ]
  },
  {
   "cell_type": "code",
   "execution_count": 14,
   "metadata": {},
   "outputs": [
    {
     "name": "stderr",
     "output_type": "stream",
     "text": [
      "[nltk_data] Downloading package gutenberg to\n",
      "[nltk_data]     C:\\Users\\15Z970-GA5BK\\AppData\\Roaming\\nltk_data...\n",
      "[nltk_data]   Unzipping corpora\\gutenberg.zip.\n",
      "[nltk_data] Downloading package stopwords to\n",
      "[nltk_data]     C:\\Users\\15Z970-GA5BK\\AppData\\Roaming\\nltk_data...\n",
      "[nltk_data]   Unzipping corpora\\stopwords.zip.\n"
     ]
    },
    {
     "name": "stdout",
     "output_type": "stream",
     "text": [
      "['austen-emma.txt', 'austen-persuasion.txt', 'austen-sense.txt', 'bible-kjv.txt', 'blake-poems.txt', 'bryant-stories.txt', 'burgess-busterbrown.txt', 'carroll-alice.txt', 'chesterton-ball.txt', 'chesterton-brown.txt', 'chesterton-thursday.txt', 'edgeworth-parents.txt', 'melville-moby_dick.txt', 'milton-paradise.txt', 'shakespeare-caesar.txt', 'shakespeare-hamlet.txt', 'shakespeare-macbeth.txt', 'whitman-leaves.txt']\n",
      "Following are the most common 10 words in the bag\n",
      "[(',', 70509), ('the', 62103), (':', 43766), ('and', 38847), ('of', 34480), ('.', 26160), ('to', 13396), ('And', 12846), ('that', 12576), ('in', 12331)]\n",
      "Following are the most common 10 words in the bag minus the stopwords\n",
      "[('shall', 9838), ('unto', 8997), ('lord', 7964), ('thou', 5474), ('thy', 4600), ('god', 4472), ('said', 3999), ('thee', 3827), ('upon', 2748), ('man', 2735)]\n"
     ]
    },
    {
     "data": {
      "text/plain": [
       "<Figure size 640x480 with 1 Axes>"
      ]
     },
     "metadata": {},
     "output_type": "display_data"
    }
   ],
   "source": [
    "import nltk\n",
    "nltk.download('gutenberg')\n",
    "nltk.download('stopwords')\n",
    "from nltk.corpus import gutenberg\n",
    "print(gutenberg.fileids())\n",
    "gb_words = gutenberg.words('bible-kjv.txt')\n",
    "words_filtered = [e.lower() for e in gb_words if len(e) >= 3]\n",
    "\n",
    "stopwords = nltk.corpus.stopwords.words('english')\n",
    "words = [w for w in words_filtered if w.lower() not in stopwords]\n",
    "fdist = nltk.FreqDist(words)\n",
    "fdist2 = nltk.FreqDist(gb_words)\n",
    "print('Following are the most common 10 words in the bag')\n",
    "print(fdist2.most_common(10))\n",
    "print('Following are the most common 10 words in the bag minus the stopwords')\n",
    "print(fdist.most_common(10))\n",
    "fdist.plot()"
   ]
  },
  {
   "cell_type": "code",
   "execution_count": 15,
   "metadata": {},
   "outputs": [
    {
     "name": "stdout",
     "output_type": "stream",
     "text": [
      "Our Algorithm : 1\n",
      "NLTK Algorithm : 1\n"
     ]
    }
   ],
   "source": [
    "from nltk.metrics.distance import edit_distance\n",
    "def my_edit_distance(str1, str2):\n",
    "    m= len(str1) + 1\n",
    "    n= len(str2) + 1\n",
    "\n",
    "    table = {}\n",
    "    for i in range(m): table[i,0]=i\n",
    "    for j in range(n): table[0,j]=j\n",
    "    for i in range(1, m):\n",
    "        for j in range(1, n):\n",
    "            cost = 0 if str1[i - 1] == str2[j - 1] else 1\n",
    "            table[i,j] = min(table[i, j-1]+1, table[i-1, j]+1, table[i-1, j-1]+cost)\n",
    "    return table[i,j]\n",
    "print(\"Our Algorithm :\",my_edit_distance(\"hand\", \"and\"))\n",
    "print(\"NLTK Algorithm :\",edit_distance(\"hand\", \"and\"))"
   ]
  },
  {
   "cell_type": "code",
   "execution_count": 16,
   "metadata": {},
   "outputs": [
    {
     "name": "stdout",
     "output_type": "stream",
     "text": [
      "첫 번째 이야기 단어 : ['in', 'a', 'far', 'away', 'kingdom', 'there', 'was', 'a', 'river', 'this', 'river', 'was', 'home', 'to', 'many', 'goldone', 'day', 'a', 'homeless', 'bird', 'saw', 'the', 'river', 'the', 'water', 'in', 'this', 'river', 'seems', 'so', 'cool', 'and', 'sooas', 'soon', 'as', 'the', 'bird', 'settled', 'down', 'near', 'the', 'river', 'the', 'golden', 'swans', 'noticed', 'her', 'they', 'cai', 'am', 'homeless', 'brothers', 'i', 'too', 'will', 'pay', 'the', 'rent', 'please', 'give', 'me', 'shelter', 'the', 'bird', 'pi', 'will', 'teach', 'them', 'a', 'lesson', 'decided', 'the', 'humiliated', 'birdshe', 'went', 'to', 'the', 'king', 'and', 'said', 'o', 'king', 'the', 'swans', 'in', 'your', 'river', 'are', 'impolite', 'and', 'unkinthe', 'king', 'was', 'angry', 'with', 'the', 'arrogant', 'swans', 'for', 'having', 'insulted', 'the', 'homeless', 'bird', 'he', 'odo', 'you', 'think', 'the', 'royal', 'treasury', 'depends', 'upon', 'your', 'golden', 'feathers', 'you', 'can', 'not', 'decidethe', 'swans', 'shivered', 'with', 'fear', 'on', 'hearing', 'the', 'king', 'they', 'flew', 'away', 'never', 'to', 'return', 'the']\n",
      "두 번째 이야기 단어 : ['long', 'time', 'ago', 'there', 'lived', 'a', 'king', 'he', 'was', 'lazy', 'and', 'liked', 'all', 'the', 'comfortsone', 'day', 'the', 'king', 'went', 'into', 'the', 'forest', 'to', 'hunt', 'after', 'having', 'wandered', 'for', 'quite', 'sometbut', 'as', 'soon', 'as', 'he', 'held', 'his', 'bow', 'up', 'the', 'swan', 'disappeared', 'and', 'the', 'king', 'heard', 'a', 'voicesurprised', 'the', 'king', 'said', '“please', 'show', 'me', 'the', 'way', 'to', 'heaven', '“do', 'good', 'deeds', 'serve', 'yothe', 'selfish', 'king', 'eager', 'to', 'capture', 'the', 'swan', 'tried', 'doing', 'some', 'good', 'deeds', 'in', 'his', 'kingdothe', 'king', 'then', 'disguised', 'himself', 'and', 'went', 'out', 'into', 'the', 'street', 'there', 'he', 'tried', 'helping', 'asuddenly', 'the', 'king', 'heard', 'the', 'golden', 'swan’s', 'voice', '“do', 'good', 'deeds', 'and', 'you', 'will', 'come', 'tohe', 'realized', 'that', 'his', 'people', 'needed', 'him', 'and', 'carrying', 'out', 'his', 'duties', 'was', 'the', 'only', 'way', 'to']\n",
      "첫 번째 이야기 어휘 : {'bird', 'so', 'day', 'home', 'arrogant', 'on', 'having', 'shivered', 'and', 'away', 'give', 'treasury', 'your', 'noticed', 'birdshe', 'return', 'teach', 'king', 'brothers', 'near', 'they', 'are', 'down', 'the', 'not', 'me', 'am', 'settled', 'there', 'goldone', 'this', 'unkinthe', 'river', 'for', 'pi', 'golden', 'swans', 'royal', 'far', 'said', 'will', 'pay', 'homeless', 'her', 'you', 'decidethe', 'flew', 'feathers', 'seems', 'never', 'he', 'insulted', 'decided', 'humiliated', 'o', 'hearing', 'kingdom', 'as', 'i', 'upon', 'in', 'odo', 'fear', 'with', 'to', 'was', 'them', 'went', 'can', 'soon', 'rent', 'cool', 'think', 'please', 'cai', 'many', 'impolite', 'a', 'angry', 'water', 'sooas', 'shelter', 'depends', 'saw', 'too', 'lesson'}\n",
      "두 번째 이야기 어휘 : {'quite', 'needed', 'day', 'tried', 'liked', 'show', 'lived', 'having', 'up', '“do', 'voice', 'some', 'way', 'good', 'and', 'serve', 'that', 'after', 'lazy', 'heaven', 'king', 'deeds', 'into', 'asuddenly', 'himself', 'the', 'out', 'me', 'there', 'all', 'only', 'disappeared', 'for', 'him', 'golden', 'said', 'swan', 'will', 'street', 'wandered', 'his', 'ago', 'time', 'you', 'held', 'realized', 'he', 'yothe', 'capture', 'duties', 'eager', 'as', 'swan’s', 'long', 'in', 'forest', 'bow', 'disguised', 'to', 'was', 'went', 'soon', '“please', 'doing', 'hunt', 'comfortsone', 'sometbut', 'kingdothe', 'then', 'a', 'people', 'selfish', 'tohe', 'helping', 'heard', 'carrying', 'voicesurprised', 'come'}\n",
      "공통 어휘 : {'day', 'the', 'you', 'me', 'having', 'there', 'a', 'he', 'and', 'for', 'as', 'golden', 'said', 'in', 'king', 'will', 'to', 'was', 'went', 'soon'}\n"
     ]
    }
   ],
   "source": [
    "story1 = \"\"\"In a far away kingdom, there was a river. This river was home to many gold\n",
    "One day, a homeless bird saw the river. \"The water in this river seems so cool and soo\n",
    "As soon as the bird settled down near the river, the golden swans noticed her. They ca\n",
    "\"I am homeless, brothers. I too will pay the rent. Please give me shelter,\" the bird p\n",
    "\"I will teach them a lesson!\" decided the humiliated bird.\n",
    "She went to the King and said, \"O King! The swans in your river are impolite and unkin\n",
    "The King was angry with the arrogant swans for having insulted the homeless bird. He o\n",
    "\"Do you think the royal treasury depends upon your golden feathers? You can not decide\n",
    "The swans shivered with fear on hearing the King. They flew away never to return. The\"\"\"\n",
    "story2 = \"\"\"Long time ago, there lived a King. He was lazy and liked all the comforts\n",
    "One day, the King went into the forest to hunt. After having wandered for quite somet\n",
    "But as soon as he held his bow up, the swan disappeared. And the King heard a voice,\n",
    "Surprised, the King said, “Please show me the way to heaven.\" “Do good deeds, serve yo\n",
    "The selfish King, eager to capture the Swan, tried doing some good deeds in his Kingdo\n",
    "The King then disguised himself and went out into the street. There he tried helping a\n",
    "Suddenly, the King heard the golden swan’s voice, “Do good deeds and you will come to\n",
    "He realized that his people needed him and carrying out his duties was the only way to\n",
    "\"\"\"\n",
    "story1 = story1.replace(\",\",\"\").replace(\"\\n\",\"\").replace('.','').replace('\"','').replace(\"!\",\"\").replace(\"?\", \"\").casefold()\n",
    "\n",
    "story2 = story2.replace(\",\",\"\").replace(\"\\n\",\"\").replace('.','').replace('\"','').replace(\"!\",\"\").replace(\"?\", \"\").casefold()\n",
    "\n",
    "story1_words = story1.split(\" \")\n",
    "print(\"첫 번째 이야기 단어 :\", story1_words)\n",
    "story2_words = story2.split(\" \")\n",
    "print(\"두 번째 이야기 단어 :\", story2_words)\n",
    "story1_vocab = set(story1_words)\n",
    "print(\"첫 번째 이야기 어휘 :\", story1_vocab)\n",
    "story2_vocab = set(story2_words)\n",
    "print(\"두 번째 이야기 어휘 :\", story2_vocab)\n",
    "common_vocab = story1_vocab & story2_vocab\n",
    "print(\"공통 어휘 :\", common_vocab)"
   ]
  }
 ],
 "metadata": {
  "kernelspec": {
   "display_name": "Python 3",
   "language": "python",
   "name": "python3"
  },
  "language_info": {
   "codemirror_mode": {
    "name": "ipython",
    "version": 3
   },
   "file_extension": ".py",
   "mimetype": "text/x-python",
   "name": "python",
   "nbconvert_exporter": "python",
   "pygments_lexer": "ipython3",
   "version": "3.7.3"
  }
 },
 "nbformat": 4,
 "nbformat_minor": 2
}
