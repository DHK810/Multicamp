{
 "cells": [
  {
   "cell_type": "code",
   "execution_count": 9,
   "metadata": {},
   "outputs": [],
   "source": [
    "import os\n",
    "\n",
    "#테스트파일 경로 만들기 & 폴더 만들기\n",
    "BASE_DIR = os.getcwd()\n",
    "\n",
    "\n",
    "#파일이 없으면 생성\n",
    "twitter_id = os.path.join(BASE_DIR, 'twitter_id.txt')\n",
    "id_list = []\n",
    "file = open(twitter_id, 'r')\n",
    "lines = file.readlines()\n",
    "for line in lines:\n",
    "    id_list.append(line)\n",
    "    \n",
    "\n"
   ]
  },
  {
   "cell_type": "code",
   "execution_count": 10,
   "metadata": {},
   "outputs": [
    {
     "data": {
      "text/plain": [
       "126269"
      ]
     },
     "execution_count": 10,
     "metadata": {},
     "output_type": "execute_result"
    }
   ],
   "source": [
    "len(id_list)"
   ]
  },
  {
   "cell_type": "code",
   "execution_count": 13,
   "metadata": {},
   "outputs": [
    {
     "data": {
      "text/plain": [
       "<!DOCTYPE html>\n",
       "<html lang=\"en\">\n",
       "<head>\n",
       "<meta charset=\"utf-8\"/>\n",
       "<title>TweeterID - Twitter ID and username converter</title>\n",
       "<meta content=\"TweeterID - Twitter ID and username converter\" name=\"title\"/>\n",
       "<meta content=\"twitter API, twitter ID, twitter username, get twitter ID, get Twitter username, username from ID, twitter ID lookup, twitter, api, twitter convert, twitter converter, user, find your twitter id, tweet id, tweeter id\" name=\"keywords\"/>\n",
       "<meta content=\"Convert any Twitter account's username or @handle into its respective Twitter ID, or convert ID to username\" name=\"description\"/>\n",
       "<meta content=\"Jared Feldman and Dillon Hess\" name=\"author\"/>\n",
       "<meta content=\"Copyright TweeterID 2019. All Rights Reserved.\" name=\"Copyright\"/>\n",
       "<meta content=\"TweeterID - Twitter ID and username converter\" property=\"og:title\"/>\n",
       "<meta content=\"website\" property=\"og:type\"/>\n",
       "<meta content=\"https://tweeterid.com\" property=\"og:url\"/>\n",
       "<meta content=\"/images/logo.png\" property=\"og:image\"/>\n",
       "<meta content=\"Convert any Twitter account's username or @handle into its respective Twitter ID, or convert ID to username\" property=\"og:description\"/>\n",
       "<link href=\"style.css\" rel=\"stylesheet\"/>\n",
       "<link href=\"/images/favicon.ico\" rel=\"shortcut icon\"/>\n",
       "<script src=\"//ajax.googleapis.com/ajax/libs/jquery/1.8.2/jquery.min.js\"></script>\n",
       "<script src=\"//ajax.googleapis.com/ajax/libs/jqueryui/1.9.1/jquery-ui.min.js\"></script>\n",
       "<link href=\"//fonts.googleapis.com/css?family=Open+Sans:400,700\" rel=\"stylesheet\" type=\"text/css\"/>\n",
       "<!-- Mobile Compatibility -->\n",
       "<meta content=\"width=device-width, minimum-scale=1.0, maximum-scale=1.0\" name=\"viewport\"/>\n",
       "<meta content=\"yes\" name=\"apple-mobile-web-app-capable\"/>\n",
       "</head>\n",
       "<body>\n",
       "<div class=\"top\">\n",
       "<div class=\"content\">\n",
       "<h1>TweeterID</h1>\n",
       "<h2>Twitter ID and username converter</h2>\n",
       "<div class=\"leftColumn\">\n",
       "<p class=\"instructions\">Type in any Twitter ID or @handle below, and it will be\n",
       "\t\t\t\tconverted into the respective ID or username <span class=\"viewportNormal\">on the right</span><span class=\"viewportMobile\">below</span>:</p>\n",
       "<form action=\"javascript:twitterID;\" id=\"twitterInput\">\n",
       "<input class=\"twitter\" id=\"twitter\" maxlength=\"30\" name=\"twitter\" type=\"text\"/>\n",
       "</form>\n",
       "<div class=\"twitterButton\" id=\"twitterButton\"><div class=\"innerborder\"><p>Convert</p></div></div>\n",
       "<div class=\"blockAd\">\n",
       "<script async=\"\" src=\"//pagead2.googlesyndication.com/pagead/js/adsbygoogle.js\"></script>\n",
       "<!-- TweeterID (Block) -->\n",
       "<ins class=\"adsbygoogle\" data-ad-client=\"ca-pub-2723092998487179\" data-ad-slot=\"2765827484\" style=\"display:inline-block;width:300px;height:250px\"></ins>\n",
       "<script>\n",
       "\t\t\t\t(adsbygoogle = window.adsbygoogle || []).push({});\n",
       "\t\t\t\t</script>\n",
       "</div>\n",
       "</div><!-- End leftColumn -->\n",
       "<div class=\"rightColumn\">\n",
       "<div class=\"outputSection\" id=\"outputSection\">\n",
       "<div class=\"output\" id=\"output\"></div>\n",
       "<p class=\"originalOutputPrompt\" id=\"oop\">Enter a Twitter ID or @handle<br/><span class=\"viewportNormal\">on the left</span><span class=\"viewportMobile\">above</span><br/>and it will be converted here.</p>\n",
       "</div>\n",
       "</div><!-- End rightColumn -->\n",
       "<div class=\"spacer\"></div>\n",
       "</div><!-- End Content -->\n",
       "</div><!-- End Top -->\n",
       "<div class=\"bottom\">\n",
       "<div class=\"content\">\n",
       "<div class=\"foot1\">\n",
       "<p class=\"title\">What is a Twitter ID?</p>\n",
       "<p>The Twitter ID is a unique value that every account on Twitter\n",
       "\t\t\t\thas.  No two people have the same ID.  Although an account can\n",
       "\t\t\t\tchange its @handle, it can never change its Twitter ID.\n",
       "\t\t\t</p>\n",
       "</div>\n",
       "<div class=\"foot2\">\n",
       "<p class=\"title\">How can you use TweeterID?</p>\n",
       "<p>TweeterID allows you to easily look up any username (@handle) on\n",
       "\t\t\t\tTwitter and find out what their corresponding ID is.  Alternatively,\n",
       "\t\t\t\tyou can also use it to convert an ID into a username.\n",
       "\t\t\t</p>\n",
       "</div>\n",
       "<div class=\"foot3\">\n",
       "<p class=\"title\">Twitter API with ID?</p>\n",
       "<p>Using the TweeterID converter enables developers working with the\n",
       "\t\t\t\tTwitter API to easily transition between the primary key usage\n",
       "\t\t\t\tof the Twitter ID, and the publicly visible\n",
       "\t\t\t\tusername (or @handle) of an account.\n",
       "\t\t\t</p>\n",
       "</div>\n",
       "<div class=\"footSpacer\"></div>\n",
       "</div><!-- End content -->\n",
       "</div><!-- End Bottom -->\n",
       "<script language=\"javascript\" src=\"script.js\" type=\"text/javascript\"></script>\n",
       "<!-- Start Google Analytics Tracking -->\n",
       "<script type=\"text/javascript\">\n",
       "\n",
       "  var _gaq = _gaq || [];\n",
       "  _gaq.push(['_setAccount', 'UA-37123644-1']);\n",
       "  _gaq.push(['_trackPageview']);\n",
       "\n",
       "  (function() {\n",
       "    var ga = document.createElement('script'); ga.type = 'text/javascript'; ga.async = true;\n",
       "    ga.src = ('https:' == document.location.protocol ? 'https://ssl' : 'http://www') + '.google-analytics.com/ga.js';\n",
       "    var s = document.getElementsByTagName('script')[0]; s.parentNode.insertBefore(ga, s);\n",
       "  })();\n",
       "\n",
       "</script>\n",
       "<!-- End Google Analytics Tracking -->\n",
       "</body>\n",
       "</html>"
      ]
     },
     "execution_count": 13,
     "metadata": {},
     "output_type": "execute_result"
    }
   ],
   "source": [
    "from bs4 import BeautifulSoup\n",
    "import requests\n",
    "\n",
    "url = 'https://tweeterid.com/'\n",
    "\n",
    "resp = requests.get(url)\n",
    "soup = BeautifulSoup(resp.content)\n",
    "\n",
    "soup\n",
    "    "
   ]
  },
  {
   "cell_type": "code",
   "execution_count": 43,
   "metadata": {},
   "outputs": [],
   "source": [
    "from selenium import webdriver\n",
    "import time\n",
    "driver_path = 'C:\\\\Users\\\\15Z970-GA5BK\\\\Downloads\\\\chromedriver.exe'\n",
    "\n",
    "driver = webdriver.Chrome(driver_path)\n",
    "\n",
    "driver.get('https://tweeterid.com/')\n",
    "\n",
    "id_input = driver.find_element_by_xpath('//*[@id=\"twitter\"]')\n",
    "id_input\n",
    "\n",
    "search_btn = driver.find_element_by_xpath('//*[@id=\"twitterButton\"]/div')\n",
    "search_btn.click()\n",
    "id_input.clear()\n",
    "\n",
    "count = 0\n",
    "wait = WebDriverWait(driver, 1)\n",
    "for i in id_list:\n",
    "    id_input = driver.find_element_by_xpath('//*[@id=\"twitter\"]')\n",
    "    id_input.send_keys(i)\n",
    "    \n",
    "    search_btn = driver.find_element_by_xpath('//*[@id=\"twitterButton\"]/div')\n",
    "    search_btn.click()\n",
    "    time.sleep(3)\n",
    "    id_input.clear()\n",
    "    count += 1\n",
    "    if count == 20:\n",
    "        break"
   ]
  },
  {
   "cell_type": "code",
   "execution_count": 45,
   "metadata": {},
   "outputs": [],
   "source": []
  },
  {
   "cell_type": "code",
   "execution_count": 34,
   "metadata": {},
   "outputs": [
    {
     "data": {
      "text/plain": [
       "<selenium.webdriver.remote.webelement.WebElement (session=\"3c2cabb63b5165aeb67db39cd3454312\", element=\"0.24110367732026416-1\")>"
      ]
     },
     "execution_count": 34,
     "metadata": {},
     "output_type": "execute_result"
    }
   ],
   "source": []
  },
  {
   "cell_type": "code",
   "execution_count": 35,
   "metadata": {},
   "outputs": [],
   "source": [
    "id_input.send_keys('dhkang810')\n"
   ]
  },
  {
   "cell_type": "code",
   "execution_count": 36,
   "metadata": {},
   "outputs": [],
   "source": [
    "search_btn = driver.find_element_by_xpath('//*[@id=\"twitterButton\"]/div')\n",
    "search_btn.click()\n",
    "id_input.clear()"
   ]
  },
  {
   "cell_type": "code",
   "execution_count": 48,
   "metadata": {},
   "outputs": [],
   "source": [
    "count = 0\n",
    "wait = WebDriverWait(driver, 1)\n",
    "for i in id_list:\n",
    "    id_input = driver.find_element_by_xpath('//*[@id=\"twitter\"]')\n",
    "    id_input.send_keys(i)\n",
    "    \n",
    "    search_btn = driver.find_element_by_xpath('//*[@id=\"twitterButton\"]/div')\n",
    "    search_btn.click()\n",
    "    time.sleep(3)\n",
    "    id_input.clear()\n",
    "    count += 1\n",
    "    if count == 20:\n",
    "        break"
   ]
  },
  {
   "cell_type": "code",
   "execution_count": null,
   "metadata": {},
   "outputs": [],
   "source": []
  }
 ],
 "metadata": {
  "kernelspec": {
   "display_name": "Python 3",
   "language": "python",
   "name": "python3"
  },
  "language_info": {
   "codemirror_mode": {
    "name": "ipython",
    "version": 3
   },
   "file_extension": ".py",
   "mimetype": "text/x-python",
   "name": "python",
   "nbconvert_exporter": "python",
   "pygments_lexer": "ipython3",
   "version": "3.7.3"
  }
 },
 "nbformat": 4,
 "nbformat_minor": 2
}
