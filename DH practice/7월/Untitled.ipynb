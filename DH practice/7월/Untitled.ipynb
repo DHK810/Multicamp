{
 "cells": [
  {
   "cell_type": "code",
   "execution_count": 7,
   "metadata": {},
   "outputs": [
    {
     "data": {
      "text/plain": [
       "{'where': ['post'], 'sm': ['tab_jum'], 'query': ['마라탕']}"
      ]
     },
     "execution_count": 7,
     "metadata": {},
     "output_type": "execute_result"
    }
   ],
   "source": [
    "# -*- coding: utf-8 -*-\n",
    "import re\n",
    "import scrapy\n",
    "\n",
    "from datetime import timedelta, date\n",
    "from urllib import parse\n",
    "import time\n",
    "import random\n",
    "from time import sleep\n",
    "url = 'https://search.naver.com/search.naver?where=post&sm=tab_jum&query=%EB%A7%88%EB%9D%BC%ED%83%95'\n",
    "\n",
    "query_str = parse.parse_qs(parse.urlsplit(url).query)\n",
    "query_str"
   ]
  }
 ],
 "metadata": {
  "kernelspec": {
   "display_name": "Python 3",
   "language": "python",
   "name": "python3"
  },
  "language_info": {
   "codemirror_mode": {
    "name": "ipython",
    "version": 3
   },
   "file_extension": ".py",
   "mimetype": "text/x-python",
   "name": "python",
   "nbconvert_exporter": "python",
   "pygments_lexer": "ipython3",
   "version": "3.7.3"
  }
 },
 "nbformat": 4,
 "nbformat_minor": 2
}
