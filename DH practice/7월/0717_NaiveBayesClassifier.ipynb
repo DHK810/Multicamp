{
 "cells": [
  {
   "cell_type": "code",
   "execution_count": 2,
   "metadata": {},
   "outputs": [
    {
     "name": "stdout",
     "output_type": "stream",
     "text": [
      "[['me free lottery' 1]\n",
      " ['free get free you' 1]\n",
      " ['you free scholarship' 0]\n",
      " ['free to contact me' 0]\n",
      " ['you won award' 0]\n",
      " ['you ticket lottery' 1]]\n"
     ]
    }
   ],
   "source": [
    "from collections import defaultdict\n",
    "import pandas as pd\n",
    "import numpy as np\n",
    "import math\n",
    "\n",
    "k = 0.5\n",
    "\n",
    "input_file = pd.read_csv('9_spam.csv')\n",
    "training_set = np.array(input_file)\n",
    "print(training_set)"
   ]
  },
  {
   "cell_type": "code",
   "execution_count": 19,
   "metadata": {},
   "outputs": [
    {
     "name": "stdout",
     "output_type": "stream",
     "text": [
      "defaultdict(<function <lambda> at 0x000002B2D920E9D8>, {})\n",
      "defaultdict(<function <lambda> at 0x000002B2D920E9D8>, {'me': [1, 1], 'free': [3, 2], 'lottery': [2, 0], 'get': [1, 0], 'you': [2, 2], 'scholarship': [0, 1], 'to': [0, 1], 'contact': [0, 1], 'won': [0, 1], 'award': [0, 1], 'ticket': [1, 0]})\n",
      "defaultdict(<function <lambda> at 0x000002B2D920E9D8>, {'me': [1, 1], 'free': [3, 2], 'lottery': [2, 0], 'get': [1, 0], 'you': [2, 2], 'scholarship': [0, 1], 'to': [0, 1], 'contact': [0, 1], 'won': [0, 1], 'award': [0, 1], 'ticket': [1, 0]})\n",
      "6\n",
      "8\n"
     ]
    }
   ],
   "source": [
    "# 1 = 긍정, 스팸\n",
    "# 0 = 부정, 정상\n",
    "doccnt1 = 0\n",
    "doccnt0 = 0\n",
    "\n",
    "wordfreq = defaultdict(lambda : [0, 0]) \n",
    "print(wordfreq)\n",
    "#defaultdict = lambda - key값, value - (x, y)값으로 반환함.\n",
    "for doc, point in training_set:\n",
    "    #trainint_set = mail + label\n",
    "    #doc = key = mail, point = span/non-spam = label\n",
    "    words = doc.split()\n",
    "    \n",
    "    for word in words:\n",
    "        if point == 1:\n",
    "            wordfreq[word][0] += 1\n",
    "            #wordfreq(key)[x값]\n",
    "            #x값 = 스팸\n",
    "            #word가 스팸일 경우 wordfreqp[word][x] 증가\n",
    "        else:\n",
    "            wordfreq[word][1] += 1\n",
    "            #wordfreq(key)[y값]\n",
    "            #y값 = 논스팸\n",
    "            #word가 논스팸일 경우 wordfreqp[word][y] 증가\n",
    "            \n",
    "print(wordfreq)\n",
    "# wordfreq 내부 데이터는 key : (x, y)로 되어있음\n",
    "for key, (cnt1, cnt0) in wordfreq.items():\n",
    "    \n",
    "    if cnt1 >0:\n",
    "        doccnt1 += 1\n",
    "    #cnt1 = 스팸 중 key가 들어간 빈도\n",
    "    #doccnt1 = 스팸에 속하는 모든 단어들 수\n",
    "   \n",
    "    if cnt0 > 0:\n",
    "        doccnt0 += 1\n",
    "     #cnt0 = 논스팸\n",
    "     #doccnt1 = 논스팸에 속하는 모든 단어들 수\n",
    "# 단어별 \n",
    "print(wordfreq)\n",
    "print(doccnt1)\n",
    "print(doccnt0)"
   ]
  },
  {
   "cell_type": "code",
   "execution_count": 26,
   "metadata": {},
   "outputs": [
    {
     "name": "stdout",
     "output_type": "stream",
     "text": [
      "dict_items([('me', [1, 1]), ('free', [3, 2]), ('lottery', [2, 0]), ('get', [1, 0]), ('you', [2, 2]), ('scholarship', [0, 1]), ('to', [0, 1]), ('contact', [0, 1]), ('won', [0, 1]), ('award', [0, 1]), ('ticket', [1, 0])])\n",
      "me word가 등장한 빈도 수 1\n",
      "me 스팸으로 지정된 모든 단어 수 6\n",
      "me word가 등장한 빈도 수 1\n",
      "me 논스팸으로 지정된 모든 단어 수 8\n",
      "free word가 등장한 빈도 수 3\n",
      "free 스팸으로 지정된 모든 단어 수 6\n",
      "free word가 등장한 빈도 수 2\n",
      "free 논스팸으로 지정된 모든 단어 수 8\n",
      "lottery word가 등장한 빈도 수 2\n",
      "lottery 스팸으로 지정된 모든 단어 수 6\n",
      "lottery word가 등장한 빈도 수 0\n",
      "lottery 논스팸으로 지정된 모든 단어 수 8\n",
      "get word가 등장한 빈도 수 1\n",
      "get 스팸으로 지정된 모든 단어 수 6\n",
      "get word가 등장한 빈도 수 0\n",
      "get 논스팸으로 지정된 모든 단어 수 8\n",
      "you word가 등장한 빈도 수 2\n",
      "you 스팸으로 지정된 모든 단어 수 6\n",
      "you word가 등장한 빈도 수 2\n",
      "you 논스팸으로 지정된 모든 단어 수 8\n",
      "scholarship word가 등장한 빈도 수 0\n",
      "scholarship 스팸으로 지정된 모든 단어 수 6\n",
      "scholarship word가 등장한 빈도 수 1\n",
      "scholarship 논스팸으로 지정된 모든 단어 수 8\n",
      "to word가 등장한 빈도 수 0\n",
      "to 스팸으로 지정된 모든 단어 수 6\n",
      "to word가 등장한 빈도 수 1\n",
      "to 논스팸으로 지정된 모든 단어 수 8\n",
      "contact word가 등장한 빈도 수 0\n",
      "contact 스팸으로 지정된 모든 단어 수 6\n",
      "contact word가 등장한 빈도 수 1\n",
      "contact 논스팸으로 지정된 모든 단어 수 8\n",
      "won word가 등장한 빈도 수 0\n",
      "won 스팸으로 지정된 모든 단어 수 6\n",
      "won word가 등장한 빈도 수 1\n",
      "won 논스팸으로 지정된 모든 단어 수 8\n",
      "award word가 등장한 빈도 수 0\n",
      "award 스팸으로 지정된 모든 단어 수 6\n",
      "award word가 등장한 빈도 수 1\n",
      "award 논스팸으로 지정된 모든 단어 수 8\n",
      "ticket word가 등장한 빈도 수 1\n",
      "ticket 스팸으로 지정된 모든 단어 수 6\n",
      "ticket word가 등장한 빈도 수 0\n",
      "ticket 논스팸으로 지정된 모든 단어 수 8\n",
      "defaultdict(<function <lambda> at 0x000002B2D923CC80>, {'me': [0.21428571428571427, 0.16666666666666666], 'free': [0.5, 0.2777777777777778], 'lottery': [0.35714285714285715, 0.05555555555555555], 'get': [0.21428571428571427, 0.05555555555555555], 'you': [0.35714285714285715, 0.2777777777777778], 'scholarship': [0.07142857142857142, 0.16666666666666666], 'to': [0.07142857142857142, 0.16666666666666666], 'contact': [0.07142857142857142, 0.16666666666666666], 'won': [0.07142857142857142, 0.16666666666666666], 'award': [0.07142857142857142, 0.16666666666666666], 'ticket': [0.21428571428571427, 0.05555555555555555]})\n"
     ]
    }
   ],
   "source": [
    "wordprobs = defaultdict(lambda : [0,0])\n",
    "print(wordfreq.items())\n",
    "\n",
    "\n",
    "for key, (cnt1, cnt0) in wordfreq.items():\n",
    "    print(key , \"word가 등장한 빈도 수\" , cnt1)\n",
    "    print(key , \"스팸으로 지정된 모든 단어 수\" , doccnt1)\n",
    "\n",
    "    print(key , \"word가 등장한 빈도 수\" , cnt0)\n",
    "    print(key , \"논스팸으로 지정된 모든 단어 수\" , doccnt0)\n",
    "    wordprobs[key][0] = (cnt1 + k) / (doccnt1 + 2*k)\n",
    "    wordprobs[key][1] = (cnt0 + k) / (doccnt0 + 2*k)\n",
    "    \n",
    "print(wordprobs)"
   ]
  },
  {
   "cell_type": "code",
   "execution_count": 8,
   "metadata": {},
   "outputs": [],
   "source": [
    "doc = 'free lottery'\n",
    "tokens = doc.split()\n",
    "\n",
    "log_prob1 = log_prob0 = 0.0\n",
    "\n",
    "for word, (prob1, prob0) in wordprobs.items():\n",
    "    if word in tokens:\n",
    "        log_prob1 += math.log(prob1)\n",
    "        log_prob0 += math.log(prob0)\n",
    "        \n",
    "    else:\n",
    "        log_prob1 += math.log(1.0 - prob1)\n",
    "        log_prob0 += math.log(1.0 - prob0)\n",
    "        \n",
    "log_prob1 += math.log(doccnt1/len(wordfreq))\n",
    "log_prob0 += math.log(doccnt0/len(wordfreq))\n",
    "\n",
    "prob1 = math.exp(log_prob1)\n",
    "prob0 = math.exp(log_prob0)\n",
    "\n"
   ]
  },
  {
   "cell_type": "code",
   "execution_count": 9,
   "metadata": {},
   "outputs": [
    {
     "name": "stdout",
     "output_type": "stream",
     "text": [
      "free lottery\n",
      "스팸확률: 89.64758762435878%\n",
      "정상확률: 10.352412375641222%\n"
     ]
    }
   ],
   "source": [
    "print(doc)\n",
    "print(\"스팸확률: {}%\".format(prob1/ (prob1 + prob0) * 100))\n",
    "print('정상확률: {}%'.format(prob0/ (prob1 + prob0) * 100))"
   ]
  }
 ],
 "metadata": {
  "kernelspec": {
   "display_name": "Python 3",
   "language": "python",
   "name": "python3"
  },
  "language_info": {
   "codemirror_mode": {
    "name": "ipython",
    "version": 3
   },
   "file_extension": ".py",
   "mimetype": "text/x-python",
   "name": "python",
   "nbconvert_exporter": "python",
   "pygments_lexer": "ipython3",
   "version": "3.7.3"
  }
 },
 "nbformat": 4,
 "nbformat_minor": 2
}
