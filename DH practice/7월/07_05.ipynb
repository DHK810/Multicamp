{
 "cells": [
  {
   "cell_type": "code",
   "execution_count": 174,
   "metadata": {},
   "outputs": [],
   "source": [
    "import datetime as dt\n",
    "import pandas as pd\n",
    "from bs4 import BeautifulSoup\n",
    "import requests\n",
    "import re\n",
    "import requests\n",
    "import pandas as pd\n",
    "from urllib.request import urlopen\n",
    "import xml.etree.ElementTree as ET\n",
    "\n",
    "def date_format(d):\n",
    "    d = str(d).replace('-', '.')\n",
    "    yyyy = int(d.split('.')[0])\n",
    "    mm = int(d.split('.')[1])\n",
    "    dd = int(d.split('.')[2])\n",
    "    \n",
    "    this_date = dt.date(yyyy, mm, dd)\n",
    "    return this_date\n",
    "               \n",
    "            \n",
    "def historical_stock_naver(stock_cd, start_date='', end_date= '', page_n = 1, last_page =0):\n",
    "    \n",
    "    if start_date:\n",
    "        start_date = date_format(start_date)\n",
    "    else:\n",
    "        start_Date = dt.date.today()\n",
    "    if end_date:\n",
    "        end_date = date_format(end_date)\n",
    "    else:\n",
    "        end_date = dt.date.today()\n",
    "        \n",
    "    naver_stock = 'http://finance.naver.com/item/sise_day.nhn?code='+  stock_cd + '&page=' + str(page_n)\n",
    "    \n",
    "    source = urlopen(naver_stock).read()\n",
    "    source = BeautifulSoup(source, 'lxml')\n",
    "    \n",
    "    dates = source.find_all('span', class_ = 'tah p10 gray03')\n",
    "    prices = source.find_all('td', class_ = 'num')\n",
    "    \n",
    "    for n in range(len(dates)):\n",
    "        \n",
    "        if len(dates) >0:\n",
    "            this_date = dates[n].text\n",
    "            this_date = date_format(this_date)\n",
    "            \n",
    "            if this_date <= end_date and this_date >= start_date:\n",
    "                this_close = prices[n*6].text\n",
    "                this_close = this_close.replace(',', '')\n",
    "                this_close = float(this_close)\n",
    "\n",
    "                historical_prices[this_date] = this_close\n",
    "            elif this_date < start_date:\n",
    "                return historical_prices\n",
    "            \n",
    "    if last_page == 0:\n",
    "        last_page = source.find_all('table')[1].find('td', class_='pgRR').find('a')['href']\n",
    "        last_page = last_page.split('&')[1]\n",
    "        last_page = last_page.split('=')[1]\n",
    "        last_page = float(last_page)\n",
    "        #last_page = 580\n",
    "    \n",
    "    if page_n < last_page:\n",
    "        page_n = page_n + 1\n",
    "        historical_stock_naver(stock_cd, start_date, end_date, page_n, last_page)\n",
    "    \n",
    "    return historical_prices"
   ]
  },
  {
   "cell_type": "code",
   "execution_count": 175,
   "metadata": {},
   "outputs": [],
   "source": [
    "k10_historical_prices = dict()\n",
    "\n",
    "for stock_cd in K10:\n",
    "    historical_prices = dict()\n",
    "    start_date = '2018-7-4'\n",
    "    end_date = '2019-7-5'\n",
    "    historical_prices = historical_stock_naver(stock_cd, start_date, end_date)\n",
    "    \n",
    "    k10_historical_prices[stock_cd] = historical_prices"
   ]
  },
  {
   "cell_type": "code",
   "execution_count": 177,
   "metadata": {},
   "outputs": [
    {
     "data": {
      "text/html": [
       "<div>\n",
       "<style scoped>\n",
       "    .dataframe tbody tr th:only-of-type {\n",
       "        vertical-align: middle;\n",
       "    }\n",
       "\n",
       "    .dataframe tbody tr th {\n",
       "        vertical-align: top;\n",
       "    }\n",
       "\n",
       "    .dataframe thead th {\n",
       "        text-align: right;\n",
       "    }\n",
       "</style>\n",
       "<table border=\"1\" class=\"dataframe\">\n",
       "  <thead>\n",
       "    <tr style=\"text-align: right;\">\n",
       "      <th></th>\n",
       "      <th>000660</th>\n",
       "      <th>005380</th>\n",
       "      <th>005490</th>\n",
       "      <th>005930</th>\n",
       "      <th>012330</th>\n",
       "      <th>028260</th>\n",
       "      <th>035420</th>\n",
       "      <th>051910</th>\n",
       "      <th>068270</th>\n",
       "      <th>207940</th>\n",
       "    </tr>\n",
       "  </thead>\n",
       "  <tbody>\n",
       "    <tr>\n",
       "      <th>2018-07-04</th>\n",
       "      <td>85000.0</td>\n",
       "      <td>119500.0</td>\n",
       "      <td>305000.0</td>\n",
       "      <td>46250.0</td>\n",
       "      <td>198500.0</td>\n",
       "      <td>113500.0</td>\n",
       "      <td>768000.0</td>\n",
       "      <td>317500.0</td>\n",
       "      <td>291500.0</td>\n",
       "      <td>421500.0</td>\n",
       "    </tr>\n",
       "    <tr>\n",
       "      <th>2018-07-05</th>\n",
       "      <td>86200.0</td>\n",
       "      <td>121500.0</td>\n",
       "      <td>309000.0</td>\n",
       "      <td>45950.0</td>\n",
       "      <td>200000.0</td>\n",
       "      <td>113500.0</td>\n",
       "      <td>765000.0</td>\n",
       "      <td>320500.0</td>\n",
       "      <td>282000.0</td>\n",
       "      <td>413000.0</td>\n",
       "    </tr>\n",
       "    <tr>\n",
       "      <th>2018-07-06</th>\n",
       "      <td>85300.0</td>\n",
       "      <td>123500.0</td>\n",
       "      <td>312500.0</td>\n",
       "      <td>44900.0</td>\n",
       "      <td>205500.0</td>\n",
       "      <td>116000.0</td>\n",
       "      <td>749000.0</td>\n",
       "      <td>322000.0</td>\n",
       "      <td>289500.0</td>\n",
       "      <td>410000.0</td>\n",
       "    </tr>\n",
       "    <tr>\n",
       "      <th>2018-07-09</th>\n",
       "      <td>87600.0</td>\n",
       "      <td>124500.0</td>\n",
       "      <td>305000.0</td>\n",
       "      <td>45600.0</td>\n",
       "      <td>206000.0</td>\n",
       "      <td>119000.0</td>\n",
       "      <td>755000.0</td>\n",
       "      <td>322500.0</td>\n",
       "      <td>284000.0</td>\n",
       "      <td>427000.0</td>\n",
       "    </tr>\n",
       "    <tr>\n",
       "      <th>2018-07-10</th>\n",
       "      <td>87300.0</td>\n",
       "      <td>123500.0</td>\n",
       "      <td>309000.0</td>\n",
       "      <td>46300.0</td>\n",
       "      <td>205000.0</td>\n",
       "      <td>118000.0</td>\n",
       "      <td>760000.0</td>\n",
       "      <td>325500.0</td>\n",
       "      <td>281000.0</td>\n",
       "      <td>417000.0</td>\n",
       "    </tr>\n",
       "  </tbody>\n",
       "</table>\n",
       "</div>"
      ],
      "text/plain": [
       "             000660    005380    005490   005930    012330    028260  \\\n",
       "2018-07-04  85000.0  119500.0  305000.0  46250.0  198500.0  113500.0   \n",
       "2018-07-05  86200.0  121500.0  309000.0  45950.0  200000.0  113500.0   \n",
       "2018-07-06  85300.0  123500.0  312500.0  44900.0  205500.0  116000.0   \n",
       "2018-07-09  87600.0  124500.0  305000.0  45600.0  206000.0  119000.0   \n",
       "2018-07-10  87300.0  123500.0  309000.0  46300.0  205000.0  118000.0   \n",
       "\n",
       "              035420    051910    068270    207940  \n",
       "2018-07-04  768000.0  317500.0  291500.0  421500.0  \n",
       "2018-07-05  765000.0  320500.0  282000.0  413000.0  \n",
       "2018-07-06  749000.0  322000.0  289500.0  410000.0  \n",
       "2018-07-09  755000.0  322500.0  284000.0  427000.0  \n",
       "2018-07-10  760000.0  325500.0  281000.0  417000.0  "
      ]
     },
     "execution_count": 177,
     "metadata": {},
     "output_type": "execute_result"
    }
   ],
   "source": [
    "k10_historical_price = pd.DataFrame(k10_historical_prices)\n",
    "k10_historical_price.sort_index(axis=1, inplace = True)\n",
    "\n",
    "k10_historical_price = k10_historical_price.fillna(method='ffill')\n",
    "if k10_historical_price.isnull().values.any():\n",
    "    k10_historical_price = k10_historical_price.fillna(method='bfill')\n",
    "k10_historical_price.head()"
   ]
  },
  {
   "cell_type": "code",
   "execution_count": 187,
   "metadata": {},
   "outputs": [
    {
     "data": {
      "text/plain": [
       "45950.0"
      ]
     },
     "execution_count": 187,
     "metadata": {},
     "output_type": "execute_result"
    }
   ],
   "source": [
    "historical_prices = dict()\n",
    "df = pd.DataFrame()\n",
    "df = k10_historical_price['005930']\n",
    "df.iloc[1]"
   ]
  },
  {
   "cell_type": "code",
   "execution_count": null,
   "metadata": {},
   "outputs": [],
   "source": []
  },
  {
   "cell_type": "code",
   "execution_count": 162,
   "metadata": {},
   "outputs": [
    {
     "data": {
      "text/html": [
       "<div>\n",
       "<style scoped>\n",
       "    .dataframe tbody tr th:only-of-type {\n",
       "        vertical-align: middle;\n",
       "    }\n",
       "\n",
       "    .dataframe tbody tr th {\n",
       "        vertical-align: top;\n",
       "    }\n",
       "\n",
       "    .dataframe thead th {\n",
       "        text-align: right;\n",
       "    }\n",
       "</style>\n",
       "<table border=\"1\" class=\"dataframe\">\n",
       "  <thead>\n",
       "    <tr style=\"text-align: right;\">\n",
       "      <th></th>\n",
       "      <th>stock_price</th>\n",
       "    </tr>\n",
       "  </thead>\n",
       "  <tbody>\n",
       "    <tr>\n",
       "      <th>2019-07-05</th>\n",
       "      <td>45450.0</td>\n",
       "    </tr>\n",
       "    <tr>\n",
       "      <th>2019-07-04</th>\n",
       "      <td>46000.0</td>\n",
       "    </tr>\n",
       "    <tr>\n",
       "      <th>2019-07-03</th>\n",
       "      <td>45400.0</td>\n",
       "    </tr>\n",
       "    <tr>\n",
       "      <th>2019-07-02</th>\n",
       "      <td>46250.0</td>\n",
       "    </tr>\n",
       "    <tr>\n",
       "      <th>2019-07-01</th>\n",
       "      <td>46600.0</td>\n",
       "    </tr>\n",
       "  </tbody>\n",
       "</table>\n",
       "</div>"
      ],
      "text/plain": [
       "            stock_price\n",
       "2019-07-05      45450.0\n",
       "2019-07-04      46000.0\n",
       "2019-07-03      45400.0\n",
       "2019-07-02      46250.0\n",
       "2019-07-01      46600.0"
      ]
     },
     "execution_count": 162,
     "metadata": {},
     "output_type": "execute_result"
    }
   ],
   "source": [
    "\n",
    "samsung = pd.DataFrame.from_dict(historical_prices, orient = 'index', columns =['stock_price'])\n",
    "samsung.name = 'samsung'\n",
    "samsung.head()"
   ]
  },
  {
   "cell_type": "code",
   "execution_count": 128,
   "metadata": {},
   "outputs": [
    {
     "data": {
      "text/html": [
       "<div>\n",
       "<style scoped>\n",
       "    .dataframe tbody tr th:only-of-type {\n",
       "        vertical-align: middle;\n",
       "    }\n",
       "\n",
       "    .dataframe tbody tr th {\n",
       "        vertical-align: top;\n",
       "    }\n",
       "\n",
       "    .dataframe thead th {\n",
       "        text-align: right;\n",
       "    }\n",
       "</style>\n",
       "<table border=\"1\" class=\"dataframe\">\n",
       "  <thead>\n",
       "    <tr style=\"text-align: right;\">\n",
       "      <th></th>\n",
       "      <th>stock_price</th>\n",
       "    </tr>\n",
       "  </thead>\n",
       "  <tbody>\n",
       "    <tr>\n",
       "      <th>2019-07-05</th>\n",
       "      <td>45450.0</td>\n",
       "    </tr>\n",
       "    <tr>\n",
       "      <th>2019-07-04</th>\n",
       "      <td>46000.0</td>\n",
       "    </tr>\n",
       "    <tr>\n",
       "      <th>2019-07-03</th>\n",
       "      <td>45400.0</td>\n",
       "    </tr>\n",
       "    <tr>\n",
       "      <th>2019-07-02</th>\n",
       "      <td>46250.0</td>\n",
       "    </tr>\n",
       "    <tr>\n",
       "      <th>2019-07-01</th>\n",
       "      <td>46600.0</td>\n",
       "    </tr>\n",
       "  </tbody>\n",
       "</table>\n",
       "</div>"
      ],
      "text/plain": [
       "            stock_price\n",
       "2019-07-05      45450.0\n",
       "2019-07-04      46000.0\n",
       "2019-07-03      45400.0\n",
       "2019-07-02      46250.0\n",
       "2019-07-01      46600.0"
      ]
     },
     "execution_count": 128,
     "metadata": {},
     "output_type": "execute_result"
    }
   ],
   "source": [
    "samsung.head()"
   ]
  },
  {
   "cell_type": "markdown",
   "metadata": {},
   "source": [
    "# 로그 함수"
   ]
  },
  {
   "cell_type": "code",
   "execution_count": 167,
   "metadata": {},
   "outputs": [
    {
     "data": {
      "text/html": [
       "<div>\n",
       "<style scoped>\n",
       "    .dataframe tbody tr th:only-of-type {\n",
       "        vertical-align: middle;\n",
       "    }\n",
       "\n",
       "    .dataframe tbody tr th {\n",
       "        vertical-align: top;\n",
       "    }\n",
       "\n",
       "    .dataframe thead th {\n",
       "        text-align: right;\n",
       "    }\n",
       "</style>\n",
       "<table border=\"1\" class=\"dataframe\">\n",
       "  <thead>\n",
       "    <tr style=\"text-align: right;\">\n",
       "      <th></th>\n",
       "      <th>stock_price</th>\n",
       "      <th>log_calc</th>\n",
       "    </tr>\n",
       "  </thead>\n",
       "  <tbody>\n",
       "    <tr>\n",
       "      <th>2019-07-05</th>\n",
       "      <td>45450.0</td>\n",
       "      <td>0.000000</td>\n",
       "    </tr>\n",
       "    <tr>\n",
       "      <th>2019-07-04</th>\n",
       "      <td>46000.0</td>\n",
       "      <td>0.012029</td>\n",
       "    </tr>\n",
       "    <tr>\n",
       "      <th>2019-07-03</th>\n",
       "      <td>45400.0</td>\n",
       "      <td>-0.013129</td>\n",
       "    </tr>\n",
       "    <tr>\n",
       "      <th>2019-07-02</th>\n",
       "      <td>46250.0</td>\n",
       "      <td>0.018549</td>\n",
       "    </tr>\n",
       "    <tr>\n",
       "      <th>2019-07-01</th>\n",
       "      <td>46600.0</td>\n",
       "      <td>0.007539</td>\n",
       "    </tr>\n",
       "  </tbody>\n",
       "</table>\n",
       "</div>"
      ],
      "text/plain": [
       "            stock_price  log_calc\n",
       "2019-07-05      45450.0  0.000000\n",
       "2019-07-04      46000.0  0.012029\n",
       "2019-07-03      45400.0 -0.013129\n",
       "2019-07-02      46250.0  0.018549\n",
       "2019-07-01      46600.0  0.007539"
      ]
     },
     "execution_count": 167,
     "metadata": {},
     "output_type": "execute_result"
    }
   ],
   "source": [
    "def getLogReturns(df_price):\n",
    "    logReturn = np.log(df_price / df_price.shift(1))\n",
    "    logReturn = logReturn.fillna(0)\n",
    "    return logReturn\n",
    "\n",
    "log_price = samsung['stock_price']\n",
    "samsung['log_calc'] = getLogReturns(log_price)\n",
    "\n",
    "samsung.head()\n"
   ]
  },
  {
   "cell_type": "markdown",
   "metadata": {},
   "source": [
    "# 로그 수익률 평균"
   ]
  },
  {
   "cell_type": "code",
   "execution_count": 168,
   "metadata": {},
   "outputs": [
    {
     "data": {
      "text/plain": [
       "7.064228070828483e-05"
      ]
     },
     "execution_count": 168,
     "metadata": {},
     "output_type": "execute_result"
    }
   ],
   "source": [
    "def log_avg(dataframe):\n",
    "    sum = 0\n",
    "    for i in range(len(dataframe)):\n",
    "        sum += dataframe.iloc[i]\n",
    "    return sum / len(dataframe)\n",
    "\n",
    "log_avg(samsung['log_calc'])\n",
    "    "
   ]
  },
  {
   "cell_type": "markdown",
   "metadata": {},
   "source": [
    "# 표준편차 함수"
   ]
  },
  {
   "cell_type": "code",
   "execution_count": 171,
   "metadata": {},
   "outputs": [
    {
     "data": {
      "text/plain": [
       "0.015379976127506884"
      ]
     },
     "execution_count": 171,
     "metadata": {},
     "output_type": "execute_result"
    }
   ],
   "source": [
    "def standard_deviation(dataframe):\n",
    "    sum = 0.0\n",
    "    sqrsum = 0.0\n",
    "    for i in range(len(dataframe)):\n",
    "        sum += (float)(dataframe['log_calc'].iloc[i])\n",
    "        sqrsum += (float)(dataframe['log_calc'].iloc[i] ** 2)\n",
    "        \n",
    "                          \n",
    "    mean = sum / len(dataframe)\n",
    "    sqrmean = sqrsum / len(dataframe)\n",
    "    \n",
    "    stdev = sqrmean - mean * mean\n",
    "    stdev = np.power(stdev, 1/2)\n",
    "    \n",
    "    return stdev\n",
    "       \n",
    "    \n",
    "#standard_deviation(samsung['log_calc'])\n",
    "standard_deviation(samsung)"
   ]
  },
  {
   "cell_type": "markdown",
   "metadata": {},
   "source": [
    "# 변동성함수"
   ]
  },
  {
   "cell_type": "code",
   "execution_count": 173,
   "metadata": {},
   "outputs": [
    {
     "data": {
      "text/plain": [
       "0.24414955202096067"
      ]
     },
     "execution_count": 173,
     "metadata": {},
     "output_type": "execute_result"
    }
   ],
   "source": [
    "def volatility(dataframe):\n",
    "    return standard_deviation(dataframe) * np.sqrt(252)\n",
    "\n",
    "volatility(samsung)"
   ]
  },
  {
   "cell_type": "markdown",
   "metadata": {},
   "source": [
    "# 종목별 변동성"
   ]
  },
  {
   "cell_type": "code",
   "execution_count": null,
   "metadata": {},
   "outputs": [],
   "source": []
  }
 ],
 "metadata": {
  "kernelspec": {
   "display_name": "Python 3",
   "language": "python",
   "name": "python3"
  },
  "language_info": {
   "codemirror_mode": {
    "name": "ipython",
    "version": 3
   },
   "file_extension": ".py",
   "mimetype": "text/x-python",
   "name": "python",
   "nbconvert_exporter": "python",
   "pygments_lexer": "ipython3",
   "version": "3.7.3"
  }
 },
 "nbformat": 4,
 "nbformat_minor": 2
}
