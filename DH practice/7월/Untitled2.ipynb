{
 "cells": [
  {
   "cell_type": "code",
   "execution_count": 85,
   "metadata": {},
   "outputs": [],
   "source": [
    "import pandas as pd\n",
    "dict_ = dict()\n",
    "file = pd.read_csv('9_spam.csv')\n",
    "\n",
    "file = pd.DataFrame(file)\n",
    "\n",
    "file = file.drop('label', axis= 1)"
   ]
  },
  {
   "cell_type": "code",
   "execution_count": 120,
   "metadata": {},
   "outputs": [
    {
     "name": "stdout",
     "output_type": "stream",
     "text": [
      "                   mail\n",
      "0       me free lottery\n",
      "1     free get free you\n",
      "2  you free scholarship\n",
      "3    free to contact me\n",
      "4         you won award\n",
      "5    you ticket lottery\n",
      "mail\n",
      "dict_values(['mail'])\n"
     ]
    }
   ],
   "source": [
    "print(file)\n",
    "list_ = {}\n",
    "\n",
    "for idx, text in enumerate(file.keys()):\n",
    "    print(text)\n",
    "    list_.update({idx : text})\n",
    "    \n",
    "\n",
    "print(list_.values())\n"
   ]
  },
  {
   "cell_type": "code",
   "execution_count": 21,
   "metadata": {},
   "outputs": [
    {
     "data": {
      "text/plain": [
       "dict_items([('index', 1), ('text', 'label')])"
      ]
     },
     "execution_count": 21,
     "metadata": {},
     "output_type": "execute_result"
    }
   ],
   "source": []
  }
 ],
 "metadata": {
  "kernelspec": {
   "display_name": "Python 3",
   "language": "python",
   "name": "python3"
  },
  "language_info": {
   "codemirror_mode": {
    "name": "ipython",
    "version": 3
   },
   "file_extension": ".py",
   "mimetype": "text/x-python",
   "name": "python",
   "nbconvert_exporter": "python",
   "pygments_lexer": "ipython3",
   "version": "3.7.3"
  }
 },
 "nbformat": 4,
 "nbformat_minor": 2
}
