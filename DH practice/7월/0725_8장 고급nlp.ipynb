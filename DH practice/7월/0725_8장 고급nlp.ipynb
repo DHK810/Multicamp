{
 "cells": [
  {
   "cell_type": "markdown",
   "metadata": {},
   "source": [
    "# queue = First In First Out 동시에 여러 개의 작업을 진행하고자 할 때 사용"
   ]
  },
  {
   "cell_type": "code",
   "execution_count": null,
   "metadata": {},
   "outputs": [],
   "source": [
    "import queue\n",
    "\n",
    "q1 = queue.Queue() # 큐의 크기가 무한대\n",
    "q2 = queue.Queue(100) #큐의 크기가 100\n",
    "\n",
    "q1.put('spam')\n",
    "print(q1.qsize())\n",
    "q1.put('asdf')\n",
    "print(q1.qsize())"
   ]
  },
  {
   "cell_type": "code",
   "execution_count": 24,
   "metadata": {},
   "outputs": [
    {
     "name": "stdout",
     "output_type": "stream",
     "text": [
      "3\n"
     ]
    }
   ],
   "source": [
    "q1.put_nowait('ham')\n",
    "print(q1.qsize())"
   ]
  },
  {
   "cell_type": "code",
   "execution_count": 25,
   "metadata": {},
   "outputs": [
    {
     "name": "stdout",
     "output_type": "stream",
     "text": [
      "spam\n",
      "2\n",
      "asdf\n",
      "ham\n"
     ]
    }
   ],
   "source": [
    "print(q1.get())\n",
    "print(q1.qsize())\n",
    "print(q1.get_nowait())\n",
    "print(q1.get())\n"
   ]
  },
  {
   "cell_type": "code",
   "execution_count": 21,
   "metadata": {},
   "outputs": [
    {
     "name": "stdout",
     "output_type": "stream",
     "text": [
      "1\n",
      "False\n",
      "False\n"
     ]
    }
   ],
   "source": [
    "print(q1.qsize())\n",
    "print(q1.empty())\n",
    "print(q1.full())"
   ]
  },
  {
   "cell_type": "markdown",
   "metadata": {},
   "source": [
    "# thread \n",
    "join 하지 않으면 서로 다른 함수 동시에 실행 가능\n",
    "가볍게 사용할 수 있지만 python Global Interpreter Lock때문에 한번에 하나의 쓰레드만 자원을 컨트롤하여 동작하도록 되어있다."
   ]
  },
  {
   "cell_type": "code",
   "execution_count": null,
   "metadata": {},
   "outputs": [],
   "source": [
    "from threading import Thread\n",
    "import time\n",
    "def my_thread(val):\n",
    "    for i in range(3):\n",
    "        print(\"I'm Thread\")\n",
    "        time.sleep(1)\n",
    "## 인스턴스 만들기\n",
    "## 첫번째 argu는 스레드 함수 이름, 두번째 argu는 매개변수를 튜플 형태로 전달한 것.\n",
    "t1 = Thread(target = my_thread, args=(1,))\n",
    "## 스레드 시작.\n",
    "t1.start()\n",
    "#t1.join()\n",
    "## main\n",
    "for i in range(3):\n",
    "    print(\"I'm main Thread\")\n",
    "    time.sleep(1)\n",
    "    print(\"----the end----\")"
   ]
  },
  {
   "cell_type": "markdown",
   "metadata": {},
   "source": [
    "# multiprocess"
   ]
  },
  {
   "cell_type": "code",
   "execution_count": 37,
   "metadata": {},
   "outputs": [
    {
     "name": "stdout",
     "output_type": "stream",
     "text": [
      "<multiprocessing.queues.Queue object at 0x0000018B86CB90F0>\n",
      "Result: 0\n"
     ]
    }
   ],
   "source": [
    "from multiprocessing import Process, Queue\n",
    "\n",
    "def work(id, start, end, result):\n",
    "    total = 0\n",
    "    for i in range(start, end):\n",
    "        total += i\n",
    "    result.put(total)\n",
    "    return\n",
    "\n",
    "if __name__ == \"__main__\":\n",
    "    START, END = 0, 100000000\n",
    "    result = Queue()\n",
    "    th1 = Process(target=work, args=(1, START, END, result))\n",
    "    th2 = Process(target=work, args=(2, END, END, result))\n",
    "    \n",
    "    th1.start()\n",
    "    th2.start()\n",
    "    th1.join()\n",
    "    th2.join()\n",
    "    \n",
    "    result.put('STOP')\n",
    "    total = 0\n",
    "    while True:\n",
    "        tmp = result.get()\n",
    "        if tmp == 'STOP':\n",
    "            break\n",
    "        else:\n",
    "            total += tmp\n",
    "    print(f\"Result: {total}\")"
   ]
  },
  {
   "cell_type": "markdown",
   "metadata": {},
   "source": [
    "# pipeline"
   ]
  },
  {
   "cell_type": "code",
   "execution_count": 38,
   "metadata": {},
   "outputs": [
    {
     "name": "stderr",
     "output_type": "stream",
     "text": [
      "[nltk_data] Downloading package averaged_perceptron_tagger to\n",
      "[nltk_data]     C:\\Users\\15Z970-GA5BK\\AppData\\Roaming\\nltk_data...\n",
      "[nltk_data]   Package averaged_perceptron_tagger is already up-to-\n",
      "[nltk_data]       date!\n",
      "[nltk_data] Downloading package maxent_ne_chunker to\n",
      "[nltk_data]     C:\\Users\\15Z970-GA5BK\\AppData\\Roaming\\nltk_data...\n",
      "[nltk_data]   Package maxent_ne_chunker is already up-to-date!\n",
      "[nltk_data] Downloading package words to\n",
      "[nltk_data]     C:\\Users\\15Z970-GA5BK\\AppData\\Roaming\\nltk_data...\n",
      "[nltk_data]   Package words is already up-to-date!\n"
     ]
    },
    {
     "name": "stdout",
     "output_type": "stream",
     "text": [
      ">> 8ad9196e-c7c6-4316-9c50-f82626b1e07f : Watch: Journey of Hrithik's Super 30 students\n",
      ">> 43a0cc43-a0ff-44ae-8bbf-3ae63ec9c09f : Batla House song Rula Diya to be unveiled tom\n",
      ">> 3215b11b-ecda-4f0e-ba05-9e3fb33f47f5 : Rahul on being charged Rs 442 for bananas\n",
      ">> 70c998e7-5ec0-4ed0-9bcb-f57aef20854b : Taimur and Inaaya's fun day out in London\n",
      ">> bf3da3d1-cd49-4e93-98d2-1553515f66b0 : Female action heroes take lead in Hollywood\n",
      " << 8ad9196e-c7c6-4316-9c50-f82626b1e07f : (GPE Watch/NN), (GPE Hrithik/NNP), \n",
      " << 43a0cc43-a0ff-44ae-8bbf-3ae63ec9c09f : (PERSON Batla/NNP), (ORGANIZATION House/NNP), (PERSON Rula/NNP Diya/NNP), \n",
      " << 3215b11b-ecda-4f0e-ba05-9e3fb33f47f5 : (GPE Rahul/NN), \n",
      " << 70c998e7-5ec0-4ed0-9bcb-f57aef20854b : (GPE Taimur/NNP), (PERSON Inaaya/NNP), (GPE London/NNP), \n",
      " << bf3da3d1-cd49-4e93-98d2-1553515f66b0 : (GPE Female/JJ), (GPE Hollywood/NNP), \n"
     ]
    }
   ],
   "source": [
    "import nltk\n",
    "nltk.download('averaged_perceptron_tagger')\n",
    "nltk.download('maxent_ne_chunker')\n",
    "nltk.download('words')\n",
    "import threading\n",
    "import queue\n",
    "import feedparser\n",
    "import uuid\n",
    "threads = []\n",
    "queues = [queue.Queue(), queue.Queue()]\n",
    "def extractWords():\n",
    "    url = 'https://timesofindia.indiatimes.com/rssfeeds/1081479906.cms'\n",
    "    feed = feedparser.parse(url)\n",
    "    for entry in feed['entries'][:5]:\n",
    "        text = entry['title']\n",
    "        if 'ex' in text:\n",
    "            continue\n",
    "        words = nltk.word_tokenize(text)\n",
    "        data = {'uuid': uuid.uuid4(), 'input': words}\n",
    "        queues[0].put(data, True)\n",
    "        print(\">> {} : {}\".format(data['uuid'], text))\n",
    "def extractPOS():\n",
    "    while True:\n",
    "        if queues[0].empty():\n",
    "            break\n",
    "        else:\n",
    "            data = queues[0].get()\n",
    "            words = data['input']\n",
    "            postags = nltk.pos_tag(words)\n",
    "            queues[0].task_done()\n",
    "            queues[1].put({'uuid': data['uuid'], 'input': postags}, True)\n",
    "def extractNE():\n",
    "    while True:\n",
    "        if queues[1].empty():\n",
    "            break\n",
    "        else:\n",
    "            data = queues[1].get()\n",
    "            postags = data['input']\n",
    "            queues[1].task_done()\n",
    "            chunks = nltk.ne_chunk(postags, binary=False)\n",
    "            print(\" << {} : \".format(data['uuid']), end = '')\n",
    "\n",
    "            for path in chunks:\n",
    "                try:\n",
    "                    label = path.label()\n",
    "                    print(path, end=', ')\n",
    "                except:\n",
    "                    pass\n",
    "            print()\n",
    "            \n",
    "def runProgram():\n",
    "    e = threading.Thread(target=extractWords())\n",
    "    e.start()\n",
    "    threads.append(e)\n",
    "    p = threading.Thread(target=extractPOS())\n",
    "    p.start()\n",
    "    threads.append(p)\n",
    "    n = threading.Thread(target=extractNE())\n",
    "    n.start()\n",
    "    threads.append(n)\n",
    "    queues[0].join()\n",
    "    queues[1].join()\n",
    "    #print(queues[0].empty())\n",
    "    #print(queues[1].empty())\n",
    "    for t in threads:\n",
    "        t.join()\n",
    "if __name__ == '__main__':\n",
    "    runProgram()"
   ]
  }
 ],
 "metadata": {
  "kernelspec": {
   "display_name": "Python 3",
   "language": "python",
   "name": "python3"
  },
  "language_info": {
   "codemirror_mode": {
    "name": "ipython",
    "version": 3
   },
   "file_extension": ".py",
   "mimetype": "text/x-python",
   "name": "python",
   "nbconvert_exporter": "python",
   "pygments_lexer": "ipython3",
   "version": "3.7.3"
  }
 },
 "nbformat": 4,
 "nbformat_minor": 2
}
