{
 "cells": [
  {
   "cell_type": "markdown",
   "metadata": {},
   "source": [
    "# What is Pandas? Why and How to Use Pandas in Python"
   ]
  },
  {
   "cell_type": "code",
   "execution_count": 13,
   "metadata": {},
   "outputs": [
    {
     "name": "stdout",
     "output_type": "stream",
     "text": [
      "Collecting quandl\n",
      "  Downloading https://files.pythonhosted.org/packages/12/64/6314547cb01fa75697ddba6d6d43a9f1d023c1730ffc6abf3db7a0c89222/Quandl-3.4.8-py2.py3-none-any.whl\n",
      "Requirement already satisfied: six in c:\\users\\15z970-ga5bk\\anaconda3\\lib\\site-packages (from quandl) (1.12.0)\n",
      "Requirement already satisfied: pyasn1 in c:\\users\\15z970-ga5bk\\anaconda3\\lib\\site-packages (from quandl) (0.4.5)\n",
      "Collecting ndg-httpsclient (from quandl)\n",
      "  Downloading https://files.pythonhosted.org/packages/fb/67/c2f508c00ed2a6911541494504b7cac16fe0b0473912568df65fd1801132/ndg_httpsclient-0.5.1-py3-none-any.whl\n",
      "Collecting inflection>=0.3.1 (from quandl)\n",
      "  Downloading https://files.pythonhosted.org/packages/d5/35/a6eb45b4e2356fe688b21570864d4aa0d0a880ce387defe9c589112077f8/inflection-0.3.1.tar.gz\n",
      "Requirement already satisfied: pyOpenSSL in c:\\users\\15z970-ga5bk\\anaconda3\\lib\\site-packages (from quandl) (19.0.0)\n",
      "Requirement already satisfied: pandas>=0.14 in c:\\users\\15z970-ga5bk\\anaconda3\\lib\\site-packages (from quandl) (0.24.2)\n",
      "Requirement already satisfied: requests>=2.7.0 in c:\\users\\15z970-ga5bk\\anaconda3\\lib\\site-packages (from quandl) (2.21.0)\n",
      "Requirement already satisfied: numpy>=1.8 in c:\\users\\15z970-ga5bk\\anaconda3\\lib\\site-packages (from quandl) (1.16.2)\n",
      "Requirement already satisfied: python-dateutil in c:\\users\\15z970-ga5bk\\anaconda3\\lib\\site-packages (from quandl) (2.8.0)\n",
      "Collecting more-itertools<=5.0.0 (from quandl)\n",
      "  Downloading https://files.pythonhosted.org/packages/a4/a6/42f17d065bda1fac255db13afc94c93dbfb64393eae37c749b4cb0752fc7/more_itertools-5.0.0-py3-none-any.whl (52kB)\n",
      "Requirement already satisfied: cryptography>=2.3 in c:\\users\\15z970-ga5bk\\anaconda3\\lib\\site-packages (from pyOpenSSL->quandl) (2.6.1)\n",
      "Requirement already satisfied: pytz>=2011k in c:\\users\\15z970-ga5bk\\anaconda3\\lib\\site-packages (from pandas>=0.14->quandl) (2018.9)\n",
      "Requirement already satisfied: certifi>=2017.4.17 in c:\\users\\15z970-ga5bk\\anaconda3\\lib\\site-packages (from requests>=2.7.0->quandl) (2019.3.9)\n",
      "Requirement already satisfied: urllib3<1.25,>=1.21.1 in c:\\users\\15z970-ga5bk\\anaconda3\\lib\\site-packages (from requests>=2.7.0->quandl) (1.24.1)\n",
      "Requirement already satisfied: idna<2.9,>=2.5 in c:\\users\\15z970-ga5bk\\anaconda3\\lib\\site-packages (from requests>=2.7.0->quandl) (2.8)\n",
      "Requirement already satisfied: chardet<3.1.0,>=3.0.2 in c:\\users\\15z970-ga5bk\\anaconda3\\lib\\site-packages (from requests>=2.7.0->quandl) (3.0.4)\n",
      "Requirement already satisfied: cffi!=1.11.3,>=1.8 in c:\\users\\15z970-ga5bk\\anaconda3\\lib\\site-packages (from cryptography>=2.3->pyOpenSSL->quandl) (1.12.2)\n",
      "Requirement already satisfied: asn1crypto>=0.21.0 in c:\\users\\15z970-ga5bk\\anaconda3\\lib\\site-packages (from cryptography>=2.3->pyOpenSSL->quandl) (0.24.0)\n",
      "Requirement already satisfied: pycparser in c:\\users\\15z970-ga5bk\\anaconda3\\lib\\site-packages (from cffi!=1.11.3,>=1.8->cryptography>=2.3->pyOpenSSL->quandl) (2.19)\n",
      "Building wheels for collected packages: inflection\n",
      "  Building wheel for inflection (setup.py): started\n",
      "  Building wheel for inflection (setup.py): finished with status 'done'\n",
      "  Stored in directory: C:\\Users\\15Z970-GA5BK\\AppData\\Local\\pip\\Cache\\wheels\\9f\\5a\\d3\\6fc3bf6516d2a3eb7e18f9f28b472110b59325f3f258fe9211\n",
      "Successfully built inflection\n",
      "Installing collected packages: ndg-httpsclient, inflection, more-itertools, quandl\n",
      "  Found existing installation: more-itertools 6.0.0\n",
      "    Uninstalling more-itertools-6.0.0:\n",
      "      Successfully uninstalled more-itertools-6.0.0\n",
      "Successfully installed inflection-0.3.1 more-itertools-5.0.0 ndg-httpsclient-0.5.1 quandl-3.4.8\n",
      "Note: you may need to restart the kernel to use updated packages.\n"
     ]
    }
   ],
   "source": [
    "pip install quandl\n"
   ]
  },
  {
   "cell_type": "code",
   "execution_count": 14,
   "metadata": {},
   "outputs": [
    {
     "ename": "NameError",
     "evalue": "name 'quand1' is not defined",
     "output_type": "error",
     "traceback": [
      "\u001b[1;31m---------------------------------------------------------------------------\u001b[0m",
      "\u001b[1;31mNameError\u001b[0m                                 Traceback (most recent call last)",
      "\u001b[1;32m<ipython-input-14-8c831610cc3f>\u001b[0m in \u001b[0;36m<module>\u001b[1;34m\u001b[0m\n\u001b[0;32m      3\u001b[0m \u001b[1;32mimport\u001b[0m \u001b[0mpandas\u001b[0m \u001b[1;32mas\u001b[0m \u001b[0mpd\u001b[0m\u001b[1;33m\u001b[0m\u001b[1;33m\u001b[0m\u001b[0m\n\u001b[0;32m      4\u001b[0m \u001b[1;33m\u001b[0m\u001b[0m\n\u001b[1;32m----> 5\u001b[1;33m \u001b[0mquand1\u001b[0m\u001b[1;33m.\u001b[0m\u001b[0mApiConfig\u001b[0m\u001b[1;33m.\u001b[0m\u001b[0mapi_key\u001b[0m \u001b[1;33m=\u001b[0m \u001b[1;34m''\u001b[0m\u001b[1;33m\u001b[0m\u001b[1;33m\u001b[0m\u001b[0m\n\u001b[0m\u001b[0;32m      6\u001b[0m \u001b[1;33m\u001b[0m\u001b[0m\n\u001b[0;32m      7\u001b[0m \u001b[0mapple\u001b[0m \u001b[1;33m=\u001b[0m \u001b[0mquand1\u001b[0m\u001b[1;33m.\u001b[0m\u001b[0mget\u001b[0m\u001b[1;33m(\u001b[0m\u001b[1;34m'WIKI/AAPL'\u001b[0m\u001b[1;33m)\u001b[0m\u001b[1;33m\u001b[0m\u001b[1;33m\u001b[0m\u001b[0m\n",
      "\u001b[1;31mNameError\u001b[0m: name 'quand1' is not defined"
     ]
    }
   ],
   "source": [
    "import quandl\n",
    "mydata = quandl.get(\"FRED/GDP\")\n",
    "import pandas as pd\n",
    "\n",
    "quand1.ApiConfig.api_key = ''\n",
    "\n",
    "apple = quand1.get('WIKI/AAPL')\n",
    "\n",
    "ms = quand1.get('WIKI/MSFT')"
   ]
  },
  {
   "cell_type": "code",
   "execution_count": null,
   "metadata": {},
   "outputs": [],
   "source": []
  }
 ],
 "metadata": {
  "kernelspec": {
   "display_name": "Python 3",
   "language": "python",
   "name": "python3"
  },
  "language_info": {
   "codemirror_mode": {
    "name": "ipython",
    "version": 3
   },
   "file_extension": ".py",
   "mimetype": "text/x-python",
   "name": "python",
   "nbconvert_exporter": "python",
   "pygments_lexer": "ipython3",
   "version": "3.7.3"
  }
 },
 "nbformat": 4,
 "nbformat_minor": 2
}
