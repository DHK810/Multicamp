{
 "cells": [
  {
   "cell_type": "code",
   "execution_count": 5,
   "metadata": {},
   "outputs": [
    {
     "name": "stdout",
     "output_type": "stream",
     "text": [
      "<class 'str'> : 유나;지은;스튜어트;케빈\n",
      "<class 'list'> : ['우리', '강아지는', '소파', '위에서', '잔다']\n",
      "텍스트 덧셈 : 파이썬파이썬파이썬\n",
      "텍스트 곱셈 : 파이썬파이썬\n",
      "y\n",
      "L\n"
     ]
    }
   ],
   "source": [
    "namesList = ['유나', '지은', '스튜어트', '케빈']\n",
    "sentence = '우리 강아지는 소파 위에서 잔다'\n",
    "\n",
    "names = ';'.join(namesList)\n",
    "print(type(names), ':', names)\n",
    "\n",
    "wordList = sentence.split(' ')\n",
    "print((type(wordList)), ':', wordList)\n",
    "\n",
    "additionExample = '파이썬' + '파이썬' + '파이썬'\n",
    "multiplicationExample = '파이썬' * 2\n",
    "print('텍스트 덧셈 :', additionExample)\n",
    "print('텍스트 곱셈 :', multiplicationExample)\n",
    "\n",
    "str_ = 'Python NLTK'\n",
    "print(str_[1])\n",
    "print(str_[-3])"
   ]
  },
  {
   "cell_type": "code",
   "execution_count": 7,
   "metadata": {},
   "outputs": [
    {
     "name": "stdout",
     "output_type": "stream",
     "text": [
      "Collecting feedparser\n",
      "  Downloading https://files.pythonhosted.org/packages/91/d8/7d37fec71ff7c9dbcdd80d2b48bcdd86d6af502156fc93846fb0102cb2c4/feedparser-5.2.1.tar.bz2 (192kB)\n",
      "Building wheels for collected packages: feedparser\n",
      "  Building wheel for feedparser (setup.py): started\n",
      "  Building wheel for feedparser (setup.py): finished with status 'done'\n",
      "  Stored in directory: C:\\Users\\15Z970-GA5BK\\AppData\\Local\\pip\\Cache\\wheels\\8c\\69\\b7\\f52763c41c5471df57703a0ef718a32a5e81ee35dcf6d4f97f\n",
      "Successfully built feedparser\n",
      "Installing collected packages: feedparser\n",
      "Successfully installed feedparser-5.2.1\n",
      "Note: you may need to restart the kernel to use updated packages.\n"
     ]
    }
   ],
   "source": [
    "pip install feedparser"
   ]
  },
  {
   "cell_type": "code",
   "execution_count": 9,
   "metadata": {},
   "outputs": [
    {
     "name": "stdout",
     "output_type": "stream",
     "text": [
      "피드 제목 : Mashable\n",
      "포스트 수 : 30\n",
      "포스트 제목 : Everything you need to know about Amazon Prime for Australia\n",
      "콘텐츠 원본 :\n",
      " <img alt=\"\" src=\"https://mondrian.mashable.com/uploads%252Fcard%252Fimage%252F1008660%252Fc07f261b-6976-4e54-b610-407897d6ca56.jpg%252F575x323__filters%253Aquality%252880%2529.jpg?signature=ePOOeg4URuno32qUgZRMNcmZWus=&amp;source=https%3A%2F%2Fblueprint-api-production.s3.amazonaws.com\" /><div style=\"float: right; width: 50px;\"><a href=\"https://twitter.com/share?via=Mashable&text=Everything+you+need+to+know+about+Amazon+Prime+for+Australia&url=https%3A%2F%2Fmashable.com%2Fshopping%2Feverything-about-amazon-prime-australia%2F\" style=\"margin: 10px;\"><img alt=\"Twitter\" border=\"0\" src=\"https://a.amz.mshcdn.com/assets/feed-tw-e71baf64f2ec58d01cd28f4e9ef6b2ce0370b42fbd965068e9e7b58be198fb13.jpg\" /></a><a href=\"https://www.facebook.com/sharer.php?u=https%3A%2F%2Fmashable.com%2Fshopping%2Feverything-about-amazon-prime-australia%2F&src=sp\" style=\"margin: 10px;\"><img alt=\"Facebook\" border=\"0\" src=\"https://a.amz.mshcdn.com/assets/feed-fb-8e3bd31e201ea65385a524ef67519d031e6851071807055648790d6a4ca77139.jpg\" /></a></div><p>Although it's been long enjoyed and fretted over across the globe, Australians had been anticipating the arrival of Amazon's <a href=\"https://www.amazon.com.au/l/5602577051/ref=as_li_ss_tl?ie=UTF8&amp;linkCode=sl2&amp;linkId=a79ba790a8b9eba1cd729082a9dcf913&amp;tag=mashable0c-20&amp;tag=mashableau-22\" class=\"product-url\" rel=\"noskim\">Prime Day</a> for quite some time &#8212; and now, it's officially part of the calendar.</p>\n",
      "<p>Following the event's 2018 debut, Amazon is bringing Prime Day back to Australia, as part of its signature worldwide shopping marathon. Being ahead of the timezone, Aussie Prime members will get first access to some pretty epic deals.&#160;</p>\n",
      "<p>Prime members get fast and free delivery, a range of entertainment options, early access to content as well as tonnes of deals and events like the much-anticipated Prime Day. This is all provided through an annual or monthly subscription &#8212; and so far, there&#8217;s more than 100 million paid members around the globe. <a href=\"https://mashable.com/shopping/everything-about-amazon-prime-australia/\">Read more...</a></p>More about <a href=\"https://mashable.com/category/amazon/?utm_campaign=Mash-Prod-RSS-Feedburner-All-Partial&amp;utm_cid=Mash-Prod-RSS-Feedburner-All-Partial\">Amazon</a>, <a href=\"https://mashable.com/category/prime-day/?utm_campaign=Mash-Prod-RSS-Feedburner-All-Partial&amp;utm_cid=Mash-Prod-RSS-Feedburner-All-Partial\">Prime Day</a>, <a href=\"https://mashable.com/category/amazon-prime-day/?utm_campaign=Mash-Prod-RSS-Feedburner-All-Partial&amp;utm_cid=Mash-Prod-RSS-Feedburner-All-Partial\">Amazon Prime Day</a>, <a href=\"https://mashable.com/category/online-shopping/?utm_campaign=Mash-Prod-RSS-Feedburner-All-Partial&amp;utm_cid=Mash-Prod-RSS-Feedburner-All-Partial\">Online Shopping</a>, and <a href=\"https://mashable.com/category/mashable-shopping/?utm_campaign=Mash-Prod-RSS-Feedburner-All-Partial&amp;utm_cid=Mash-Prod-RSS-Feedburner-All-Partial\">Mashable Shopping</a><img src=\"http://feeds.feedburner.com/~r/Mashable/~4/uHpU-WEIPyg\" height=\"1\" width=\"1\" alt=\"\"/>\n"
     ]
    }
   ],
   "source": [
    "import feedparser\n",
    "myFeed = feedparser.parse(\"http://feeds.mashable.com/Mashable\")\n",
    "print('피드 제목 :', myFeed['feed']['title'])\n",
    "print('포스트 수 :', len(myFeed.entries))\n",
    "post = myFeed.entries[0]\n",
    "print('포스트 제목 :', post.title)\n",
    "content = post.content[0].value\n",
    "print('콘텐츠 원본 :\\n', content)\n"
   ]
  },
  {
   "cell_type": "code",
   "execution_count": 15,
   "metadata": {},
   "outputs": [
    {
     "name": "stdout",
     "output_type": "stream",
     "text": [
      "일치하는 항목을 찾았습니다!\n",
      "일치하는 항목을 찾았습니다!\n",
      "일치하는 항목을 찾았습니다!\n",
      "일치하는 항목을 찾았습니다!\n",
      "일치하는 항목을 찾았습니다!\n",
      "일치하는 항목을 찾았습니다!\n",
      "일치하지 않음!\n",
      "일치하는 항목을 찾았습니다!\n",
      "일치하는 항목을 찾았습니다!\n",
      "일치하는 항목을 찾았습니다!\n",
      "일치하는 항목을 찾았습니다!\n"
     ]
    }
   ],
   "source": [
    "'''\n",
    "? : 물음표는 0번 또는 1차례까지의 발생을 의미한다. 이를테면 colou?r는 \"color\"와 \"colour\"를 둘 다 일치시킨\n",
    "* : 별표는 0번 이상의 발생을 의미한다. 이를테면 ab*c는 \"ac\", \"abc\", \"abbc\", \"abbbc\" 등을 일치시킨다.\n",
    "+ : 덧셈 기호는 1번 이상의 발생을 의미한다. 이를테면 ab+c는 \"abc\", \"abbc\", \"abbbc\" 등을 일치시키지만 \"ac\n",
    "{n} : 정확히 n 번만큼 일치시킨다.\n",
    "{min,} : \"min\"번 이상만큼 일치시킨다.\n",
    "{min,max} : 적어도 \"min\"번만큼 일치시키지만 \"max\"번을 초과하여 일치시키지는 않는다.\n",
    "'''\n",
    "import re\n",
    "def text_match(text, patterns):\n",
    "    if re.search(patterns, text):\n",
    "        return('일치하는 항목을 찾았습니다!')\n",
    "    else:\n",
    "        return('일치하지 않음!')\n",
    "print(text_match(\"ac\", \"ab?\"))\n",
    "print(text_match(\"abc\", \"ab?\"))\n",
    "print(text_match(\"abbc\", \"ab?\"))\n",
    "print(text_match(\"ac\", \"ab*\"))\n",
    "print(text_match(\"abc\", \"ab*\"))\n",
    "print(text_match(\"abbc\", \"ab*\"))\n",
    "print(text_match(\"ac\", \"ab+\"))\n",
    "print(text_match(\"abc\", \"ab+\"))\n",
    "print(text_match(\"abbc\", \"ab+\"))\n",
    "print(text_match(\"abbc\", \"ab{2}\"))\n",
    "print(text_match(\"aabbbbbbc\", \"ab{3,5}?\"))"
   ]
  },
  {
   "cell_type": "code",
   "execution_count": 19,
   "metadata": {},
   "outputs": [
    {
     "name": "stdout",
     "output_type": "stream",
     "text": [
      "테스트 패턴은 다음으로 시작하고 끝남\n",
      "('일치하는 항목을 찾았습니다!', '^a.*c$')\n",
      "단어로 시작함\n",
      "('일치하는 항목을 찾았습니다!', '^\\\\w+')\n",
      "단어와 선택적 문장부호로 끝남\n",
      "('일치하는 항목을 찾았습니다!', '\\\\w+\\\\S*?$')\n",
      "단어의 시작이나 끝이 아닌 문자가 포함된 단어 찾기\n",
      "('일치하는 항목을 찾았습니다!', '\\\\Bu\\\\B')\n"
     ]
    }
   ],
   "source": [
    "import re\n",
    "def text_match(text, patterns):\n",
    "    if re.search(patterns, text):\n",
    "        return('일치하는 항목을 찾았습니다!'), patterns\n",
    "    else:\n",
    "        return('일치하지 않음!')\n",
    "print(\"테스트 패턴은 다음으로 시작하고 끝남\")\n",
    "print(text_match(\"abbbbbc\", \"^a.*c$\"))\n",
    "print(\"단어로 시작함\")\n",
    "print(text_match(\"Tuffy eats pie, Loki eats peas!\", \"^\\w+\")) #숫자 또는 영문으로 시작하는 단어가 있는가?\n",
    "print(\"단어와 선택적 문장부호로 끝남\")\n",
    "print(text_match(\"Tuffy eats pie, Loki eats peas!\", \"\\w+\\S*?$\")) #영문이나 숫자로 시작하는 단어, + = 1번 이상, \\S = 특수문자있는 단어\n",
    "print(\"단어의 시작이나 끝이 아닌 문자가 포함된 단어 찾기\")\n",
    "print(text_match(\"Tuffy eats pie, Loki eats peas!\", \"\\Bu\\B\"))"
   ]
  },
  {
   "cell_type": "code",
   "execution_count": 20,
   "metadata": {},
   "outputs": [
    {
     "name": "stdout",
     "output_type": "stream",
     "text": [
      "\"Tuffy eats pie, Loki eats peas!\"에서 \"Tuffy\" 검색 중 ->\n",
      "찾았습니다!\n",
      "\"Tuffy eats pie, Loki eats peas!\"에서 \"Pie\" 검색 중 ->\n",
      "찾을 수 없습니다!\n",
      "\"Tuffy eats pie, Loki eats peas!\"에서 \"Loki\" 검색 중 ->\n",
      "찾았습니다!\n",
      "12:20에서 \"festival\"을(를) 찾았습니다.\n",
      "42:50에서 \"festival\"을(를) 찾았습니다.\n"
     ]
    }
   ],
   "source": [
    "import re\n",
    "#search for literal strings in sentence\n",
    "patterns = [ 'Tuffy', 'Pie', 'Loki' ]\n",
    "text = 'Tuffy eats pie, Loki eats peas!'\n",
    "for pattern in patterns:\n",
    "    print('\"%s\"에서 \"%s\" 검색 중 ->' % (text, pattern),)\n",
    "    if re.search(pattern, text):\n",
    "        print('찾았습니다!')\n",
    "    else:\n",
    "        print('찾을 수 없습니다!')\n",
    "#search a substring and find it's location too\n",
    "text = 'Diwali is a festival of lights, Holi is a festival of colors!'\n",
    "pattern = 'festival'\n",
    "for match in re.finditer(pattern, text):\n",
    "    s = match.start()\n",
    "    e = match.end()\n",
    "    print('%d:%d에서 \"%s\"을(를) 찾았습니다.' % (s, e, text[s:e])) \n",
    "\n",
    "# pattern을 만족하는 단어의 시작점과 끝점을 찾음."
   ]
  },
  {
   "cell_type": "code",
   "execution_count": 21,
   "metadata": {},
   "outputs": [
    {
     "name": "stdout",
     "output_type": "stream",
     "text": [
      "URL에서 찾은 날짜 : [('2019', '07', '14')]\n",
      "True\n",
      "False\n"
     ]
    }
   ],
   "source": [
    "\n",
    "    \n",
    "import re\n",
    "url= \"https://www.telegraph.co.uk/cricket/2019/07/14/england-shatter-new-zealand-hearts-world-cup-super-drama-english/\"\n",
    "\n",
    "date_regex = '/(\\d{4})/(\\d{1,2})/(\\d{1,2})/'\n",
    "print(\"URL에서 찾은 날짜 :\", re.findall(date_regex, url))\n",
    "def is_allowed_specific_char(string):\n",
    "    charRe = re.compile(r'[^a-zA-Z0-9.]')\n",
    "    string = charRe.search(string)\n",
    "    return not bool(string)\n",
    "print(is_allowed_specific_char(\"ABCDEFabcdef123450.\"))\n",
    "print(is_allowed_specific_char(\"*&%@#!}{\"))"
   ]
  },
  {
   "cell_type": "code",
   "execution_count": 34,
   "metadata": {},
   "outputs": [],
   "source": [
    "import re\n",
    "re.compile?"
   ]
  },
  {
   "cell_type": "code",
   "execution_count": 29,
   "metadata": {},
   "outputs": [
    {
     "ename": "SyntaxError",
     "evalue": "invalid syntax (<ipython-input-29-b3f21565d070>, line 4)",
     "output_type": "error",
     "traceback": [
      "\u001b[1;36m  File \u001b[1;32m\"<ipython-input-29-b3f21565d070>\"\u001b[1;36m, line \u001b[1;32m4\u001b[0m\n\u001b[1;33m    pip install mecab_python-0.996_ko_0.9.2_msvc-cp37-cp37m-win_amd64.whl\u001b[0m\n\u001b[1;37m              ^\u001b[0m\n\u001b[1;31mSyntaxError\u001b[0m\u001b[1;31m:\u001b[0m invalid syntax\n"
     ]
    }
   ],
   "source": [
    "import os\n",
    "os.getcwd()\n",
    "os.chdir('C:\\\\Users\\\\15Z970-GA5BK\\\\AppData\\\\Local\\\\Programs\\\\Python\\\\Python37-32\\\\Lib\\\\site-packages')\n"
   ]
  },
  {
   "cell_type": "code",
   "execution_count": 30,
   "metadata": {},
   "outputs": [
    {
     "name": "stdout",
     "output_type": "stream",
     "text": [
      "Processing c:\\users\\15z970-ga5bk\\appdata\\local\\programs\\python\\python37-32\\lib\\site-packages\\mecab_python-0.996_ko_0.9.2_msvc-cp37-cp37m-win_amd64.whl\n",
      "Installing collected packages: mecab-python\n",
      "Successfully installed mecab-python-0.996-ko-0.9.2-msvc\n",
      "Note: you may need to restart the kernel to use updated packages.\n"
     ]
    },
    {
     "name": "stderr",
     "output_type": "stream",
     "text": [
      "You are using pip version 19.0.3, however version 19.1.1 is available.\n",
      "You should consider upgrading via the 'python -m pip install --upgrade pip' command.\n"
     ]
    }
   ],
   "source": [
    "pip install mecab_python-0.996_ko_0.9.2_msvc-cp37-cp37m-win_amd64.whl"
   ]
  },
  {
   "cell_type": "code",
   "execution_count": 31,
   "metadata": {},
   "outputs": [
    {
     "name": "stdout",
     "output_type": "stream",
     "text": [
      "미\tNNG,*,F,미,*,*,*,*\n",
      "캡\tNNG,*,T,캡,*,*,*,*\n",
      "이\tJKS,*,F,이,*,*,*,*\n",
      "잘\tMAG,*,T,잘,*,*,*,*\n",
      "설치\tNNG,행위,F,설치,*,*,*,*\n",
      "되\tXSV,*,F,되,*,*,*,*\n",
      "었\tEP,*,T,었,*,*,*,*\n",
      "습니다\tEF,*,F,습니다,*,*,*,*\n",
      ".\tSF,*,*,*,*,*,*,*\n",
      "EOS\n",
      "\n"
     ]
    }
   ],
   "source": [
    "import MeCab\n",
    "m = MeCab.Tagger()\n",
    "out = m.parse(\"미캡이 잘 설치되었습니다.\")\n",
    "print(out)"
   ]
  },
  {
   "cell_type": "code",
   "execution_count": 35,
   "metadata": {},
   "outputs": [
    {
     "name": "stdout",
     "output_type": "stream",
     "text": [
      "21 Teheran Rd\n",
      "['light', 'color']\n"
     ]
    }
   ],
   "source": [
    "import re\n",
    "street = '21 Teheran Road'\n",
    "print(re.sub('Road', 'Rd', street))\n",
    "text = 'Diwali is a festival of light, Holi is a festival of color!'\n",
    "print(re.findall(r\"\\b\\w{5}\\b\", text)) #5자리 단어만 가져와라"
   ]
  },
  {
   "cell_type": "code",
   "execution_count": 37,
   "metadata": {},
   "outputs": [
    {
     "name": "stdout",
     "output_type": "stream",
     "text": [
      "['I', 'am', 'big!', \"It's\", 'the', 'pictures', 'that', 'got', 'small.']\n",
      "['I', 'am', 'big', 'It', 's', 'the', 'pictures', 'that', 'got', 'small', '']\n",
      "['I', 'am', 'big', '!', 'It', \"'s\", 'the', 'pictures', 'that', 'got', 'small', '.']\n"
     ]
    }
   ],
   "source": [
    "import re\n",
    "raw = \"I am big! It's the pictures that got small.\"\n",
    "print(re.split(r' +', raw))\n",
    "print(re.split(r'\\W+', raw))\n",
    "print(re.findall(r'\\w+|\\S\\w*', raw))  #\\S\\w* = \\s= 공백, \\S= 공백이 아닌것들(특수문자 가능) \n",
    "                                      "
   ]
  },
  {
   "cell_type": "code",
   "execution_count": 50,
   "metadata": {},
   "outputs": [
    {
     "name": "stdout",
     "output_type": "stream",
     "text": [
      "['Keep', 'your', 'friends', 'close', ',', 'but', 'your', 'enemies', 'closer', '.']\n",
      "[('Keep', '')]\n",
      "'Keep'\n",
      "[('your', '')]\n",
      "'your'\n",
      "[('friend', 's')]\n",
      "'friend'\n",
      "[('close', '')]\n",
      "'close'\n",
      "[(',', '')]\n",
      "','\n",
      "[('but', '')]\n",
      "'but'\n",
      "[('your', '')]\n",
      "'your'\n",
      "[('enem', 'ies')]\n",
      "'enem'\n",
      "[('closer', '')]\n",
      "'closer'\n",
      "[('.', '')]\n",
      "'.'\n"
     ]
    }
   ],
   "source": [
    "import re\n",
    "def stem(word):\n",
    "    splits = re.findall(r'^(.*?)(ing|ly|ed|ious|ies|ive|es|s|ment)?$', word)\n",
    "    # . = 어떤 문자든 0번 이상 발생,\n",
    "    # ?$ = (ing| ...)로 끝나는 단어들)\n",
    "    print(splits)\n",
    "    stem = splits[0][0]  # 딕셔너리안에 인덱스 0의 0번째 값\n",
    "    return stem\n",
    "raw = \"Keep your friends close, but your enemies closer.\"\n",
    "tokens = re.findall(r'\\w+|\\S\\w*', raw)\n",
    "print(tokens)\n",
    "for t in tokens:\n",
    "    print(\"'\"+stem(t)+\"'\")"
   ]
  },
  {
   "cell_type": "code",
   "execution_count": 52,
   "metadata": {},
   "outputs": [],
   "source": [
    "import os\n",
    "\n",
    "os.chdir('C:\\eKoNLPy')\n"
   ]
  },
  {
   "cell_type": "code",
   "execution_count": 1,
   "metadata": {},
   "outputs": [
    {
     "ename": "ImportError",
     "evalue": "cannot import name 'MeCab' from 'ekonlpy.tag' (C:\\Users\\15Z970-GA5BK\\Anaconda3\\lib\\site-packages\\ekonlpy\\tag\\__init__.py)",
     "output_type": "error",
     "traceback": [
      "\u001b[1;31m---------------------------------------------------------------------------\u001b[0m",
      "\u001b[1;31mImportError\u001b[0m                               Traceback (most recent call last)",
      "\u001b[1;32m<ipython-input-1-de06db844c87>\u001b[0m in \u001b[0;36m<module>\u001b[1;34m\u001b[0m\n\u001b[1;32m----> 1\u001b[1;33m \u001b[1;32mfrom\u001b[0m \u001b[0mekonlpy\u001b[0m\u001b[1;33m.\u001b[0m\u001b[0mtag\u001b[0m \u001b[1;32mimport\u001b[0m \u001b[0mMeCab\u001b[0m\u001b[1;33m\u001b[0m\u001b[1;33m\u001b[0m\u001b[0m\n\u001b[0m\u001b[0;32m      2\u001b[0m \u001b[0mmecab\u001b[0m \u001b[1;33m=\u001b[0m \u001b[0mMeCab\u001b[0m\u001b[1;33m(\u001b[0m\u001b[1;33m)\u001b[0m\u001b[1;33m\u001b[0m\u001b[1;33m\u001b[0m\u001b[0m\n\u001b[0;32m      3\u001b[0m \u001b[0mmecab\u001b[0m\u001b[1;33m.\u001b[0m\u001b[0mpos\u001b[0m\u001b[1;33m(\u001b[0m\u001b[1;34m'금통위는 따라서 물가안정과 병행, 경기상황에 유의하는 금리정책을 펼쳐나가기로 했다고 밝혔다.'\u001b[0m\u001b[1;33m)\u001b[0m\u001b[1;33m\u001b[0m\u001b[1;33m\u001b[0m\u001b[0m\n",
      "\u001b[1;31mImportError\u001b[0m: cannot import name 'MeCab' from 'ekonlpy.tag' (C:\\Users\\15Z970-GA5BK\\Anaconda3\\lib\\site-packages\\ekonlpy\\tag\\__init__.py)"
     ]
    }
   ],
   "source": [
    "from ekonlpy.tag import Mecab\n",
    "mecab = Mecab()\n",
    "mecab.pos('금통위는 따라서 물가안정과 병행, 경기상황에 유의하는 금리정책을 펼쳐나가기로 했다고 밝혔다.')"
   ]
  },
  {
   "cell_type": "code",
   "execution_count": 53,
   "metadata": {},
   "outputs": [
    {
     "name": "stdout",
     "output_type": "stream",
     "text": [
      "Processing c:\\ekonlpy\n",
      "Requirement already satisfied: konlpy>=0.4.4 in c:\\users\\15z970-ga5bk\\anaconda3\\lib\\site-packages (from eKoNLPy==0.5.30) (0.5.1)\n",
      "Requirement already satisfied: nltk>=2.0 in c:\\users\\15z970-ga5bk\\anaconda3\\lib\\site-packages (from eKoNLPy==0.5.30) (3.4)\n",
      "Collecting gensim>=3.1.0 (from eKoNLPy==0.5.30)\n",
      "  Using cached https://files.pythonhosted.org/packages/3a/bc/1415be59292a23ff123298b4b46ec4be80b3bfe72c8d188b58ab2653dee4/gensim-3.8.0.tar.gz\n",
      "Requirement already satisfied: scipy>=0.19.1 in c:\\users\\15z970-ga5bk\\anaconda3\\lib\\site-packages (from eKoNLPy==0.5.30) (1.2.1)\n",
      "Requirement already satisfied: numpy>=1.13 in c:\\users\\15z970-ga5bk\\anaconda3\\lib\\site-packages (from eKoNLPy==0.5.30) (1.16.2)\n",
      "Requirement already satisfied: JPype1>=0.5.7 in c:\\users\\15z970-ga5bk\\anaconda3\\lib\\site-packages (from konlpy>=0.4.4->eKoNLPy==0.5.30) (0.7.0)\n",
      "Requirement already satisfied: six in c:\\users\\15z970-ga5bk\\anaconda3\\lib\\site-packages (from nltk>=2.0->eKoNLPy==0.5.30) (1.12.0)\n",
      "Requirement already satisfied: singledispatch in c:\\users\\15z970-ga5bk\\anaconda3\\lib\\site-packages (from nltk>=2.0->eKoNLPy==0.5.30) (3.4.0.3)\n",
      "Collecting smart_open>=1.7.0 (from gensim>=3.1.0->eKoNLPy==0.5.30)\n",
      "  Using cached https://files.pythonhosted.org/packages/37/c0/25d19badc495428dec6a4bf7782de617ee0246a9211af75b302a2681dea7/smart_open-1.8.4.tar.gz\n",
      "Requirement already satisfied: boto>=2.32 in c:\\users\\15z970-ga5bk\\anaconda3\\lib\\site-packages (from smart_open>=1.7.0->gensim>=3.1.0->eKoNLPy==0.5.30) (2.49.0)\n",
      "Requirement already satisfied: requests in c:\\users\\15z970-ga5bk\\anaconda3\\lib\\site-packages (from smart_open>=1.7.0->gensim>=3.1.0->eKoNLPy==0.5.30) (2.21.0)\n",
      "Collecting boto3 (from smart_open>=1.7.0->gensim>=3.1.0->eKoNLPy==0.5.30)\n",
      "  Downloading https://files.pythonhosted.org/packages/66/fa/8b48eaf034186c938b96f121acc0df17ed9ad63d03bfd672ef538b1acfbd/boto3-1.9.188-py2.py3-none-any.whl (128kB)\n",
      "Requirement already satisfied: urllib3<1.25,>=1.21.1 in c:\\users\\15z970-ga5bk\\anaconda3\\lib\\site-packages (from requests->smart_open>=1.7.0->gensim>=3.1.0->eKoNLPy==0.5.30) (1.24.1)\n",
      "Requirement already satisfied: idna<2.9,>=2.5 in c:\\users\\15z970-ga5bk\\anaconda3\\lib\\site-packages (from requests->smart_open>=1.7.0->gensim>=3.1.0->eKoNLPy==0.5.30) (2.8)\n",
      "Requirement already satisfied: chardet<3.1.0,>=3.0.2 in c:\\users\\15z970-ga5bk\\anaconda3\\lib\\site-packages (from requests->smart_open>=1.7.0->gensim>=3.1.0->eKoNLPy==0.5.30) (3.0.4)\n",
      "Requirement already satisfied: certifi>=2017.4.17 in c:\\users\\15z970-ga5bk\\anaconda3\\lib\\site-packages (from requests->smart_open>=1.7.0->gensim>=3.1.0->eKoNLPy==0.5.30) (2019.3.9)\n",
      "Collecting jmespath<1.0.0,>=0.7.1 (from boto3->smart_open>=1.7.0->gensim>=3.1.0->eKoNLPy==0.5.30)\n",
      "  Using cached https://files.pythonhosted.org/packages/83/94/7179c3832a6d45b266ddb2aac329e101367fbdb11f425f13771d27f225bb/jmespath-0.9.4-py2.py3-none-any.whl\n",
      "Collecting botocore<1.13.0,>=1.12.188 (from boto3->smart_open>=1.7.0->gensim>=3.1.0->eKoNLPy==0.5.30)\n",
      "  Downloading https://files.pythonhosted.org/packages/10/cb/8dcfb3e035a419f228df7d3a0eea5d52b528bde7ca162f62f3096a930472/botocore-1.12.188-py2.py3-none-any.whl (5.6MB)\n",
      "Collecting s3transfer<0.3.0,>=0.2.0 (from boto3->smart_open>=1.7.0->gensim>=3.1.0->eKoNLPy==0.5.30)\n",
      "  Using cached https://files.pythonhosted.org/packages/16/8a/1fc3dba0c4923c2a76e1ff0d52b305c44606da63f718d14d3231e21c51b0/s3transfer-0.2.1-py2.py3-none-any.whl\n",
      "Requirement already satisfied: python-dateutil<3.0.0,>=2.1; python_version >= \"2.7\" in c:\\users\\15z970-ga5bk\\anaconda3\\lib\\site-packages (from botocore<1.13.0,>=1.12.188->boto3->smart_open>=1.7.0->gensim>=3.1.0->eKoNLPy==0.5.30) (2.8.0)\n",
      "Requirement already satisfied: docutils>=0.10 in c:\\users\\15z970-ga5bk\\anaconda3\\lib\\site-packages (from botocore<1.13.0,>=1.12.188->boto3->smart_open>=1.7.0->gensim>=3.1.0->eKoNLPy==0.5.30) (0.14)\n",
      "Building wheels for collected packages: eKoNLPy, gensim, smart-open\n",
      "  Building wheel for eKoNLPy (setup.py): started\n",
      "  Building wheel for eKoNLPy (setup.py): finished with status 'done'\n",
      "  Stored in directory: C:\\Users\\15Z970~1\\AppData\\Local\\Temp\\pip-ephem-wheel-cache-832ugbe6\\wheels\\a8\\32\\1e\\f667f15876972e7ae12bbe8cda7ed8d9911357ee9fb2709a3a\n",
      "  Building wheel for gensim (setup.py): started\n",
      "  Building wheel for gensim (setup.py): finished with status 'done'\n",
      "  Stored in directory: C:\\Users\\15Z970-GA5BK\\AppData\\Local\\pip\\Cache\\wheels\\2c\\19\\c6\\bf38e867cb6e75999e3ff80302eb27bdf488b333efadfbfed7\n",
      "  Building wheel for smart-open (setup.py): started\n",
      "  Building wheel for smart-open (setup.py): finished with status 'done'\n",
      "  Stored in directory: C:\\Users\\15Z970-GA5BK\\AppData\\Local\\pip\\Cache\\wheels\\5f\\ea\\fb\\5b1a947b369724063b2617011f1540c44eb00e28c3d2ca8692\n",
      "Successfully built eKoNLPy gensim smart-open\n",
      "Installing collected packages: jmespath, botocore, s3transfer, boto3, smart-open, gensim, eKoNLPy\n",
      "Successfully installed boto3-1.9.188 botocore-1.12.188 eKoNLPy-0.5.30 gensim-3.8.0 jmespath-0.9.4 s3transfer-0.2.1 smart-open-1.8.4\n",
      "Note: you may need to restart the kernel to use updated packages.\n"
     ]
    }
   ],
   "source": [
    "pip install .\n"
   ]
  },
  {
   "cell_type": "code",
   "execution_count": 55,
   "metadata": {},
   "outputs": [
    {
     "name": "stdout",
     "output_type": "stream",
     "text": [
      "미\tNNG,*,F,미,*,*,*,*\n",
      "캡\tNNG,*,T,캡,*,*,*,*\n",
      "이\tJKS,*,F,이,*,*,*,*\n",
      "잘\tMAG,*,T,잘,*,*,*,*\n",
      "설치\tNNG,행위,F,설치,*,*,*,*\n",
      "EOS\n",
      "\n"
     ]
    }
   ],
   "source": [
    "import MeCab\n",
    "m = MeCab.Tagger()\n",
    "out = m.parse('미캡이 잘 설치')\n",
    "print(out)"
   ]
  }
 ],
 "metadata": {
  "kernelspec": {
   "display_name": "Python 3",
   "language": "python",
   "name": "python3"
  },
  "language_info": {
   "codemirror_mode": {
    "name": "ipython",
    "version": 3
   },
   "file_extension": ".py",
   "mimetype": "text/x-python",
   "name": "python",
   "nbconvert_exporter": "python",
   "pygments_lexer": "ipython3",
   "version": "3.7.3"
  }
 },
 "nbformat": 4,
 "nbformat_minor": 2
}
