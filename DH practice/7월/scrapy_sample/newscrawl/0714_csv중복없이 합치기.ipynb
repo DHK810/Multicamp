{
 "cells": [
  {
   "cell_type": "code",
   "execution_count": 10,
   "metadata": {},
   "outputs": [
    {
     "data": {
      "text/plain": [
       "['news20062007.csv',\n",
       " 'news20072008.csv',\n",
       " 'news2009.csv',\n",
       " 'news20102011.csv',\n",
       " 'news20122013.csv',\n",
       " 'news2013-201510.csv',\n",
       " 'news201511-2017.csv',\n",
       " 'newsdata_2005-2017.csv',\n",
       " 'news_aftercorrection_two_media3.csv',\n",
       " 'news_aftercorrection_two_media4.csv']"
      ]
     },
     "execution_count": 10,
     "metadata": {},
     "output_type": "execute_result"
    }
   ],
   "source": [
    "\n",
    "\n",
    "import os\n",
    "import glob\n",
    "\n",
    "\n",
    "\n",
    "import pandas as pd\n",
    "\n",
    "newsdata_files = glob.glob(\"news*.csv\") \n",
    "newsdata_files"
   ]
  },
  {
   "cell_type": "code",
   "execution_count": 11,
   "metadata": {},
   "outputs": [
    {
     "name": "stderr",
     "output_type": "stream",
     "text": [
      "C:\\Users\\15Z970-GA5BK\\Anaconda3\\lib\\site-packages\\ipykernel_launcher.py:1: FutureWarning: Sorting because non-concatenation axis is not aligned. A future version\n",
      "of pandas will change to not sort by default.\n",
      "\n",
      "To accept the future behavior, pass 'sort=False'.\n",
      "\n",
      "To retain the current behavior and silence the warning, pass 'sort=True'.\n",
      "\n",
      "  \"\"\"Entry point for launching an IPython kernel.\n"
     ]
    }
   ],
   "source": [
    "df = pd.concat((pd.read_csv(f, header = 0) for f in newsdata_files))\n",
    "df_deduplicated = df.drop_duplicates()\n",
    "df_deduplicated.to_csv(\"newsdata_2005-2017.csv\")"
   ]
  },
  {
   "cell_type": "code",
   "execution_count": null,
   "metadata": {},
   "outputs": [],
   "source": []
  }
 ],
 "metadata": {
  "kernelspec": {
   "display_name": "Python 3",
   "language": "python",
   "name": "python3"
  },
  "language_info": {
   "codemirror_mode": {
    "name": "ipython",
    "version": 3
   },
   "file_extension": ".py",
   "mimetype": "text/x-python",
   "name": "python",
   "nbconvert_exporter": "python",
   "pygments_lexer": "ipython3",
   "version": "3.7.3"
  }
 },
 "nbformat": 4,
 "nbformat_minor": 2
}
