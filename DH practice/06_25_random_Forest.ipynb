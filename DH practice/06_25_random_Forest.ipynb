{
 "cells": [
  {
   "cell_type": "code",
   "execution_count": null,
   "metadata": {},
   "outputs": [],
   "source": [
    "import os\n",
    "import pandas as pd\n",
    "import numpy as np\n",
    "from matplotlib import pyplot as plt\n",
    "import graphviz # pip install\n",
    "\n",
    "DATASET_DIR = os.path.join(os.path.dirname(os.getcwd()), 'DH practice')\n",
    "\n",
    "red_file = os.path.join(DATASET_DIR, 'ML/winequality-red.csv')\n",
    "white_file = os.path.join(DATASET_DIR, 'ML/winequality-white.csv')\n",
    "                           \n",
    "\n",
    "wine_red = pd.read_csv(red_file, sep=';')\n",
    "wine_white = pd.read_csv(white_file, sep=';')\n",
    "\n"
   ]
  },
  {
   "cell_type": "code",
   "execution_count": null,
   "metadata": {},
   "outputs": [],
   "source": [
    "wine_red.head(2)"
   ]
  },
  {
   "cell_type": "code",
   "execution_count": null,
   "metadata": {},
   "outputs": [],
   "source": [
    "wine_white.head(2)"
   ]
  },
  {
   "cell_type": "code",
   "execution_count": null,
   "metadata": {},
   "outputs": [],
   "source": [
    "from sklearn.ensemble import RandomForestClassifier\n",
    "from sklearn.datasets import make_classification\n",
    "\n",
    "new_red = wine_red.copy()\n",
    "new_red['is_red'] = 1\n",
    "new_white = wine_white.copy()\n",
    "new_white['is_red'] = 0\n",
    "\n",
    "wine = new_red.append(new_white, ignore_index=True)\n",
    "wine.tail(2)\n"
   ]
  },
  {
   "cell_type": "code",
   "execution_count": null,
   "metadata": {},
   "outputs": [],
   "source": [
    "X = wine.drop('quality', axis=1)\n",
    "y = wine['quality']\n",
    "\n",
    "from sklearn.model_selection import train_test_split\n",
    "\n",
    "train_X, test_X, train_y, test_y = train_test_split(X, y, stratify=wine['is_red'], random_state=42)"
   ]
  },
  {
   "cell_type": "code",
   "execution_count": null,
   "metadata": {},
   "outputs": [],
   "source": [
    "from sklearn.ensemble import RandomForestClassifier\n",
    "\"\"\"\n",
    "RandomForestClassifier(n_estimators=’warn’, criterion=’gini’, max_depth=None, \n",
    "                       min_samples_split=2, min_samples_leaf=1, min_weight_fraction_leaf=0.0, \n",
    "                        max_features=’auto’, max_leaf_nodes=None, min_impurity_decrease=0.0, \n",
    "                        min_impurity_split=None, bootstrap=True, oob_score=False, n_jobs=None, \n",
    "                        random_state=None, verbose=0, warm_start=False, class_weight=None)\n",
    "                        \n",
    "# n_estimators : integer, optional (default=10)\n",
    "- The number of trees in the forest.\n",
    "\n",
    "# criterion : string, optional (default=”gini”)\n",
    "- The function to measure the quality of a split. \n",
    "- Supported criteria are “gini” for the Gini impurity and “entropy” for the information gain. \n",
    "Note: this parameter is tree-specific\n",
    "\n",
    "# max-depth: \n",
    "# max_features: \n",
    "# max_leaf_nodes:\n",
    "# ... (decision Tree 상속)\n",
    "\n",
    "# bootstrap : boolean, optional (default=True)\n",
    "        Whether bootstrap samples are used when building trees. If False, the\n",
    "        whole datset is used to build each tree.\n",
    "        \n",
    "# oob_score : bool (default=False)\n",
    "        Whether to use out-of-bag samples to estimate\n",
    "        the generalization accuracy.\n",
    "\"\"\"\n",
    "clf =  RandomForestClassifier(10, criterion='entropy', random_state=0)\n",
    "clf.fit(train_X, train_y)"
   ]
  },
  {
   "cell_type": "code",
   "execution_count": null,
   "metadata": {},
   "outputs": [],
   "source": [
    "clf.score(train_X, train_y)"
   ]
  },
  {
   "cell_type": "code",
   "execution_count": null,
   "metadata": {},
   "outputs": [],
   "source": [
    "clf.score(test_X, test_y)"
   ]
  },
  {
   "cell_type": "code",
   "execution_count": null,
   "metadata": {},
   "outputs": [],
   "source": [
    "# list of DecisionTreeClassifier\n",
    "clf.estimators_"
   ]
  },
  {
   "cell_type": "code",
   "execution_count": null,
   "metadata": {},
   "outputs": [],
   "source": [
    "# feature_len/3\n",
    "from sklearn.model_selection import GridSearchCV\n",
    "clf = RandomForestClassifier(random_state = 42)\n",
    "param_grid = { \n",
    "    'n_estimators': [200, 500],\n",
    "    'max_features': ['auto', 'sqrt', 'log2'],\n",
    "    'max_depth' : [10, 12, 14, 16, 18, 20],\n",
    "    'criterion' :['gini', 'entropy']\n",
    "}\n",
    "\n",
    "CV_clf = GridSearchCV(estimator=clf, param_grid=param_grid, cv= 5)\n",
    "\n",
    "CV_clf.fit(train_X, train_y)"
   ]
  },
  {
   "cell_type": "code",
   "execution_count": null,
   "metadata": {},
   "outputs": [],
   "source": []
  },
  {
   "cell_type": "code",
   "execution_count": null,
   "metadata": {},
   "outputs": [],
   "source": []
  },
  {
   "cell_type": "code",
   "execution_count": null,
   "metadata": {},
   "outputs": [],
   "source": []
  }
 ],
 "metadata": {
  "kernelspec": {
   "display_name": "Python 3",
   "language": "python",
   "name": "python3"
  },
  "language_info": {
   "codemirror_mode": {
    "name": "ipython",
    "version": 3
   },
   "file_extension": ".py",
   "mimetype": "text/x-python",
   "name": "python",
   "nbconvert_exporter": "python",
   "pygments_lexer": "ipython3",
   "version": "3.7.3"
  }
 },
 "nbformat": 4,
 "nbformat_minor": 2
}
