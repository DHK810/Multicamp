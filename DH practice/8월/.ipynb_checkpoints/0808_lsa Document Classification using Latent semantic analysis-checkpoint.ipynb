{
 "cells": [
  {
   "cell_type": "code",
   "execution_count": 1,
   "metadata": {},
   "outputs": [],
   "source": [
    "\n",
    "doc_ls = ['바나나 사과 포도 포도',\n",
    "'사과 포도',\n",
    "'포도 바나나',\n",
    "'짜장면 짬뽕 탕수욕',\n",
    "'볶음밥 탕수욕',\n",
    "'짜장면 짬뽕',\n",
    "'라면 스시',\n",
    "'스시',\n",
    "'가츠동 스시 소바',\n",
    "'된장찌개 김치찌개 김치',\n",
    "'김치 된장',\n",
    "'비빔밥 김치'\n",
    "]\n"
   ]
  },
  {
   "cell_type": "code",
   "execution_count": 3,
   "metadata": {},
   "outputs": [],
   "source": [
    "from sklearn.feature_extraction.text import TfidfVectorizer\n",
    "vectorizer = TfidfVectorizer()\n",
    "\n"
   ]
  },
  {
   "cell_type": "code",
   "execution_count": 4,
   "metadata": {},
   "outputs": [],
   "source": [
    "X = vectorizer.fit_transform(doc_ls)"
   ]
  },
  {
   "cell_type": "code",
   "execution_count": 5,
   "metadata": {},
   "outputs": [
    {
     "name": "stdout",
     "output_type": "stream",
     "text": [
      "  (0, 6)\t0.4418867148991048\n",
      "  (0, 9)\t0.4418867148991048\n",
      "  (0, 15)\t0.7806870451028085\n",
      "  (1, 9)\t0.7494645793884686\n",
      "  (1, 15)\t0.662044442799776\n",
      "  (2, 6)\t0.7494645793884686\n",
      "  (2, 15)\t0.662044442799776\n",
      "  (3, 12)\t0.5773502691896258\n",
      "  (3, 13)\t0.5773502691896258\n",
      "  (3, 14)\t0.5773502691896258\n",
      "  (4, 14)\t0.6515208683486948\n",
      "  (4, 7)\t0.7586307126040724\n",
      "  (5, 12)\t0.7071067811865476\n",
      "  (5, 13)\t0.7071067811865476\n",
      "  (6, 5)\t0.7966850663542188\n",
      "  (6, 11)\t0.6043946600096447\n",
      "  (7, 11)\t1.0\n",
      "  (8, 11)\t0.47271637301705055\n",
      "  (8, 0)\t0.6231128431839633\n",
      "  (8, 10)\t0.6231128431839633\n",
      "  (9, 4)\t0.6231128431839633\n",
      "  (9, 2)\t0.6231128431839633\n",
      "  (9, 1)\t0.47271637301705055\n",
      "  (10, 1)\t0.6043946600096447\n",
      "  (10, 3)\t0.7966850663542188\n",
      "  (11, 1)\t0.6043946600096447\n",
      "  (11, 8)\t0.7966850663542188\n"
     ]
    }
   ],
   "source": [
    "print(X)"
   ]
  },
  {
   "cell_type": "code",
   "execution_count": 6,
   "metadata": {},
   "outputs": [],
   "source": [
    "from sklearn.decomposition import TruncatedSVD\n",
    "lsa = TruncatedSVD(n_components=4, n_iter = 100)"
   ]
  },
  {
   "cell_type": "code",
   "execution_count": 11,
   "metadata": {},
   "outputs": [
    {
     "name": "stdout",
     "output_type": "stream",
     "text": [
      "TruncatedSVD(algorithm='randomized', n_components=2, n_iter=100,\n",
      "       random_state=None, tol=0.0)\n"
     ]
    }
   ],
   "source": []
  },
  {
   "cell_type": "code",
   "execution_count": 7,
   "metadata": {},
   "outputs": [
    {
     "data": {
      "text/plain": [
       "TruncatedSVD(algorithm='randomized', n_components=2, n_iter=100,\n",
       "       random_state=None, tol=0.0)"
      ]
     },
     "execution_count": 7,
     "metadata": {},
     "output_type": "execute_result"
    }
   ],
   "source": [
    "lsa.fit(X)"
   ]
  },
  {
   "cell_type": "code",
   "execution_count": 9,
   "metadata": {},
   "outputs": [],
   "source": [
    "terms = vectorizer.get_feature_names()"
   ]
  },
  {
   "cell_type": "code",
   "execution_count": 12,
   "metadata": {},
   "outputs": [
    {
     "data": {
      "text/plain": [
       "array([[ 7.16555611e-17,  2.22367196e-17, -8.02346265e-17,\n",
       "         7.81142254e-18, -5.78354872e-18,  1.06344755e-16,\n",
       "         4.41886715e-01, -7.33318621e-19,  7.81192518e-18,\n",
       "         4.41886715e-01,  1.26834379e-17,  1.67299132e-17,\n",
       "        -2.81743359e-18, -2.81743359e-18, -1.96355759e-18,\n",
       "         7.80687045e-01],\n",
       "       [ 2.28195410e-01, -8.54123826e-16, -2.88305417e-16,\n",
       "        -3.10179034e-16, -4.73691229e-16,  3.31891086e-01,\n",
       "         4.58116937e-16, -3.52727244e-16, -2.53628403e-16,\n",
       "        -2.17956295e-16,  2.28195410e-01,  8.86398340e-01,\n",
       "        -1.25609012e-15, -1.25609012e-15, -9.20700983e-16,\n",
       "        -1.75089678e-16]])"
      ]
     },
     "execution_count": 12,
     "metadata": {},
     "output_type": "execute_result"
    }
   ],
   "source": [
    "lsa.components_"
   ]
  },
  {
   "cell_type": "code",
   "execution_count": 14,
   "metadata": {},
   "outputs": [
    {
     "name": "stdout",
     "output_type": "stream",
     "text": [
      "concept 0: \n",
      "포도\n",
      "바나나\n",
      "사과\n",
      "라면\n",
      "가츠동\n",
      "김치\n",
      "스시\n",
      "소바\n",
      "비빔밥\n",
      "된장\n",
      " \n",
      "concept 1: \n",
      "스시\n",
      "라면\n",
      "소바\n",
      "가츠동\n",
      "바나나\n",
      "포도\n",
      "사과\n",
      "비빔밥\n",
      "김치찌개\n",
      "된장\n",
      " \n"
     ]
    }
   ],
   "source": [
    "for i, comp in enumerate(lsa.components_):\n",
    "    termsInComp = zip(terms, comp)\n",
    "    sortedterms = sorted(termsInComp, key= lambda x : x[1], reverse=True)[:10]\n",
    "    \n",
    "    print('concept %d: ' % i)\n",
    "    for term in sortedterms:\n",
    "        print(term[0])\n",
    "    print(\" \")"
   ]
  },
  {
   "cell_type": "code",
   "execution_count": null,
   "metadata": {},
   "outputs": [],
   "source": []
  }
 ],
 "metadata": {
  "kernelspec": {
   "display_name": "Python 3",
   "language": "python",
   "name": "python3"
  },
  "language_info": {
   "codemirror_mode": {
    "name": "ipython",
    "version": 3
   },
   "file_extension": ".py",
   "mimetype": "text/x-python",
   "name": "python",
   "nbconvert_exporter": "python",
   "pygments_lexer": "ipython3",
   "version": "3.7.3"
  }
 },
 "nbformat": 4,
 "nbformat_minor": 2
}
