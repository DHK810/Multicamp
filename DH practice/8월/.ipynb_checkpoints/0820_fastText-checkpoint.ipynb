{
 "cells": [
  {
   "cell_type": "code",
   "execution_count": 5,
   "metadata": {},
   "outputs": [],
   "source": [
    "from gensim.models.word2vec import Text8Corpus\n",
    "from gensim.models import FastText\n",
    "\n",
    "# size = 차원의 수\n",
    "# min_count = n-gram 개수의 합이 150개 미만은 생략\n",
    "\n",
    "ft_model = FastText(Text8Corpus('1_text8'), size=100, window=5, min_count=150, workers=4, min_n=3, max_n=10)"
   ]
  },
  {
   "cell_type": "code",
   "execution_count": 6,
   "metadata": {},
   "outputs": [
    {
     "name": "stdout",
     "output_type": "stream",
     "text": [
      "[('vienna', 0.7458604574203491), ('venice', 0.7300825119018555), ('florence', 0.7080246210098267), ('brussels', 0.7051385045051575), ('leipzig', 0.6949868202209473), ('francesco', 0.6565255522727966), ('france', 0.6564090251922607), ('barcelona', 0.6555732488632202), ('milan', 0.6329236030578613), ('berlin', 0.6323604583740234)]\n",
      "[('emperor', 0.7125878930091858), ('throne', 0.6866112947463989), ('queen', 0.6837645173072815)]\n",
      "[('mother', 0.7684885263442993), ('grandfather', 0.7608587145805359), ('wife', 0.7360149621963501)]\n",
      "[('vienna', 0.688582181930542), ('venice', 0.6787264347076416), ('rome', 0.6049897074699402)]\n"
     ]
    },
    {
     "name": "stderr",
     "output_type": "stream",
     "text": [
      "C:\\Users\\15Z970-GA5BK\\Anaconda3\\lib\\site-packages\\ipykernel_launcher.py:14: DeprecationWarning: Call to deprecated `most_similar` (Method will be removed in 4.0.0, use self.wv.most_similar() instead).\n",
      "  \n",
      "C:\\Users\\15Z970-GA5BK\\Anaconda3\\lib\\site-packages\\ipykernel_launcher.py:17: DeprecationWarning: Call to deprecated `most_similar` (Method will be removed in 4.0.0, use self.wv.most_similar() instead).\n",
      "C:\\Users\\15Z970-GA5BK\\Anaconda3\\lib\\site-packages\\ipykernel_launcher.py:20: DeprecationWarning: Call to deprecated `most_similar` (Method will be removed in 4.0.0, use self.wv.most_similar() instead).\n"
     ]
    }
   ],
   "source": [
    "# Getting most similar vectors\n",
    "print(ft_model.wv.most_similar('paris'))\n",
    "# [('vienna', 0.7305958271026611),\n",
    "# ('venice', 0.7068097591400146),\n",
    "# ('florence', 0.6955196261405945),\n",
    "# ('brussels', 0.682724118232727),\n",
    "# ('leipzig', 0.6486526131629944),\n",
    "# ('francesco', 0.6461360454559326),\n",
    "# ('amsterdam', 0.6385960578918457),\n",
    "# ('france', 0.6323560476303101),\n",
    "# ('cemetery', 0.6285153031349182),\n",
    "# ('hamburg', 0.6284394264221191)]\n",
    "# \"King\" - \"Man\" + \"Woman\" == \"Queen\"\n",
    "print(ft_model.most_similar(['woman', 'king'], ['man'], topn=3))\n",
    "# [('emperor', 0.68890380859375), ('queen', 0.6823415160179138), ('princess', 0.6764928102493286)]\n",
    "# \"Father\" - \"Boy\" + \"Girl\" == \"Mother\"\n",
    "print(ft_model.most_similar(['girl', 'father'], ['boy'], topn=3))\n",
    "# [('mother', 0.7996115684509277), ('grandfather', 0.7629683613777161), ('wife', 0.7478234767913818)]\n",
    "# \"Paris\" - \"France\" + \"Italy\" = \"Rome\"\n",
    "print(ft_model.most_similar(['paris', 'italy'], ['france'], topn=3))\n",
    "# [('vienna', 0.6932680606842041), ('venice', 0.652579128742218), ('moscow', 0.6098273992538452)]"
   ]
  },
  {
   "cell_type": "code",
   "execution_count": 7,
   "metadata": {},
   "outputs": [
    {
     "name": "stdout",
     "output_type": "stream",
     "text": [
      "[-0.40084577  0.19983107 -0.16768122 -0.06044077 -0.06583949 -0.05299987\n",
      " -0.04397397  0.05161285  0.08280072 -0.5860973   0.03107764  0.01277239\n",
      " -0.13182403 -0.02255506 -0.08190405 -0.10249403 -0.20136535 -0.2012892\n",
      " -0.10495847  0.1654877  -0.1771394  -0.20735562 -0.2443992  -0.11220957\n",
      " -0.20138814 -0.05125307  0.00974615 -0.04261389  0.16158246  0.17173018\n",
      " -0.27661374  0.05714934  0.13515937 -0.15941842  0.3429477  -0.1544137\n",
      "  0.03220855 -0.18402867 -0.05606079 -0.11645355  0.04773133 -0.06731019\n",
      " -0.04663235 -0.47986627 -0.06043513  0.1394783   0.22280668 -0.0581209\n",
      " -0.04363627 -0.08795503 -0.13362344  0.09953769 -0.00573572  0.05717039\n",
      "  0.30053195  0.2645654   0.20290193  0.25250366 -0.21710677 -0.18788119\n",
      " -0.00252918 -0.21608752 -0.22945088  0.02819325 -0.28650665  0.17037739\n",
      "  0.06132207 -0.12572494 -0.2658472   0.21483043  0.1523234   0.17341149\n",
      " -0.3475941  -0.07444243 -0.02263649  0.04306635  0.15508185  0.1550546\n",
      " -0.21310388  0.3194916  -0.07167128  0.27580723 -0.17819703  0.13657312\n",
      " -0.01634867 -0.13801064  0.0346887   0.22703089  0.03957241  0.0883767\n",
      " -0.45851082  0.27246854  0.03297415 -0.09285266  0.15658243 -0.13673125\n",
      "  0.23903373  0.48397458  0.2377408   0.32779667]\n",
      "[('venice', 0.5205240249633789), ('pedro', 0.5200694799423218), ('nuremberg', 0.5200304985046387)]\n",
      "[('what', 0.45760631561279297), ('whatever', 0.43707945942878723), ('obviously', 0.3895193934440613)]\n"
     ]
    },
    {
     "name": "stderr",
     "output_type": "stream",
     "text": [
      "C:\\Users\\15Z970-GA5BK\\Anaconda3\\lib\\site-packages\\ipykernel_launcher.py:5: DeprecationWarning: Call to deprecated `most_similar` (Method will be removed in 4.0.0, use self.wv.most_similar() instead).\n",
      "  \"\"\"\n",
      "C:\\Users\\15Z970-GA5BK\\Anaconda3\\lib\\site-packages\\ipykernel_launcher.py:8: DeprecationWarning: Call to deprecated `most_similar` (Method will be removed in 4.0.0, use self.wv.most_similar() instead).\n",
      "  \n"
     ]
    }
   ],
   "source": [
    "# Misspell something similar to Venice and we still get a vector ...\n",
    "print(ft_model.wv['veniciaaaaaa'])\n",
    "# [-6.31419778e-01 9.52705503e-01 1.35608479e-01 4.74076539e-01 ...\n",
    "# Let's see if indeed it understood we're trying to say Venice\n",
    "print(ft_model.most_similar('veniciaaaaaa', topn=3))\n",
    "# [('venice', 0.7861752510070801), ('brussels', 0.771102786064148), ('francesco', 0.7474006414413452)]\n",
    "# What?\n",
    "print(ft_model.most_similar('whaaaa', topn=3))\n",
    "# [('what', 0.8659393787384033), ('whatever', 0.7308462858200073), ('why', 0.6594464778900146)]"
   ]
  },
  {
   "cell_type": "code",
   "execution_count": null,
   "metadata": {},
   "outputs": [],
   "source": []
  }
 ],
 "metadata": {
  "kernelspec": {
   "display_name": "Python 3",
   "language": "python",
   "name": "python3"
  },
  "language_info": {
   "codemirror_mode": {
    "name": "ipython",
    "version": 3
   },
   "file_extension": ".py",
   "mimetype": "text/x-python",
   "name": "python",
   "nbconvert_exporter": "python",
   "pygments_lexer": "ipython3",
   "version": "3.7.3"
  }
 },
 "nbformat": 4,
 "nbformat_minor": 2
}
