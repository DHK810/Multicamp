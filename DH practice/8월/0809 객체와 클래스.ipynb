{
 "cells": [
  {
   "cell_type": "markdown",
   "metadata": {},
   "source": [
    "# __언더바 2개 넣으면 비공개 변수"
   ]
  },
  {
   "cell_type": "code",
   "execution_count": 21,
   "metadata": {},
   "outputs": [],
   "source": [
    "class Dog:\n",
    "    def __init__(self, name, color):\n",
    "        self.name = name\n",
    "        self.color = color\n",
    "        self.__hungry = 0\n",
    "        \n",
    "    def eat(self):\n",
    "        if self.__hungry <= 0:\n",
    "            print('배불러!!')\n",
    "        else:\n",
    "            self.__hungry -= 10\n",
    "            print('밥먹음 ', self.__hungry)\n",
    "        \n",
    "    def walk(self):\n",
    "        self.__hungry += 10\n",
    "        print('산책', self.__hungry)\n",
    "        \n",
    "    def hunger(self):\n",
    "        print('%s 배고픔 : %d' % (self.name, self.__hungry))\n",
    "        \n"
   ]
  },
  {
   "cell_type": "code",
   "execution_count": 22,
   "metadata": {},
   "outputs": [
    {
     "name": "stdout",
     "output_type": "stream",
     "text": [
      "산책 10\n",
      "산책 20\n",
      "밥먹음  10\n"
     ]
    }
   ],
   "source": [
    "choco = Dog('choco', 'black')\n",
    "jjong = Dog('jjong', 'white')\n",
    "\n",
    "choco.walk()\n",
    "choco.walk()\n",
    "choco.eat()"
   ]
  },
  {
   "cell_type": "code",
   "execution_count": 24,
   "metadata": {},
   "outputs": [
    {
     "name": "stdout",
     "output_type": "stream",
     "text": [
      "choco 배고픔 : 10\n"
     ]
    },
    {
     "ename": "AttributeError",
     "evalue": "'Dog' object has no attribute '__hungry'",
     "output_type": "error",
     "traceback": [
      "\u001b[1;31m---------------------------------------------------------------------------\u001b[0m",
      "\u001b[1;31mAttributeError\u001b[0m                            Traceback (most recent call last)",
      "\u001b[1;32m<ipython-input-24-b8160cdefc40>\u001b[0m in \u001b[0;36m<module>\u001b[1;34m\u001b[0m\n\u001b[0;32m      1\u001b[0m \u001b[0mchoco\u001b[0m\u001b[1;33m.\u001b[0m\u001b[0mhunger\u001b[0m\u001b[1;33m(\u001b[0m\u001b[1;33m)\u001b[0m\u001b[1;33m\u001b[0m\u001b[1;33m\u001b[0m\u001b[0m\n\u001b[1;32m----> 2\u001b[1;33m \u001b[0mchoco\u001b[0m\u001b[1;33m.\u001b[0m\u001b[0m__hungry\u001b[0m \u001b[1;33m+=\u001b[0m \u001b[1;36m100\u001b[0m\u001b[1;33m\u001b[0m\u001b[1;33m\u001b[0m\u001b[0m\n\u001b[0m",
      "\u001b[1;31mAttributeError\u001b[0m: 'Dog' object has no attribute '__hungry'"
     ]
    }
   ],
   "source": [
    "choco.hunger()\n",
    "choco.__hungry += 100"
   ]
  },
  {
   "cell_type": "code",
   "execution_count": 25,
   "metadata": {
    "scrolled": true
   },
   "outputs": [
    {
     "ename": "AttributeError",
     "evalue": "'Dog' object has no attribute '__hungry'",
     "output_type": "error",
     "traceback": [
      "\u001b[1;31m---------------------------------------------------------------------------\u001b[0m",
      "\u001b[1;31mAttributeError\u001b[0m                            Traceback (most recent call last)",
      "\u001b[1;32m<ipython-input-25-dd9799340a90>\u001b[0m in \u001b[0;36m<module>\u001b[1;34m\u001b[0m\n\u001b[1;32m----> 1\u001b[1;33m \u001b[0mprint\u001b[0m\u001b[1;33m(\u001b[0m\u001b[1;34m'choco 배고픔: '\u001b[0m\u001b[1;33m,\u001b[0m \u001b[0mchoco\u001b[0m\u001b[1;33m.\u001b[0m\u001b[0m__hungry\u001b[0m\u001b[1;33m)\u001b[0m\u001b[1;33m\u001b[0m\u001b[1;33m\u001b[0m\u001b[0m\n\u001b[0m\u001b[0;32m      2\u001b[0m \u001b[0mprint\u001b[0m\u001b[1;33m(\u001b[0m\u001b[1;34m'jjong 배고픔: '\u001b[0m\u001b[1;33m,\u001b[0m \u001b[0mjjong\u001b[0m\u001b[1;33m.\u001b[0m\u001b[0m__hungry\u001b[0m\u001b[1;33m)\u001b[0m\u001b[1;33m\u001b[0m\u001b[1;33m\u001b[0m\u001b[0m\n",
      "\u001b[1;31mAttributeError\u001b[0m: 'Dog' object has no attribute '__hungry'"
     ]
    }
   ],
   "source": [
    "print('choco 배고픔: ', choco.__hungry)\n",
    "print('jjong 배고픔: ', jjong.__hungry)"
   ]
  },
  {
   "cell_type": "markdown",
   "metadata": {},
   "source": [
    "# 클래스 속성"
   ]
  },
  {
   "cell_type": "code",
   "execution_count": 32,
   "metadata": {},
   "outputs": [],
   "source": [
    "class Dog:\n",
    "    dog_count = 0\n",
    "    \n",
    "    def __init__(self, name, color):\n",
    "        self.name = name\n",
    "        self.color = color\n",
    "        Dog.dog_count += 1\n",
    "        \n",
    "    def dogCount(self):\n",
    "        print('총 강아지는: ', Dog.dog_count)\n",
    "        \n",
    "    "
   ]
  },
  {
   "cell_type": "code",
   "execution_count": 33,
   "metadata": {},
   "outputs": [
    {
     "name": "stdout",
     "output_type": "stream",
     "text": [
      "총 강아지는:  1\n"
     ]
    }
   ],
   "source": [
    "hello = Dog('hello', 'black')\n",
    "hello.dogCount()"
   ]
  },
  {
   "cell_type": "code",
   "execution_count": 34,
   "metadata": {},
   "outputs": [
    {
     "name": "stdout",
     "output_type": "stream",
     "text": [
      "총 강아지는:  2\n"
     ]
    }
   ],
   "source": [
    "happy = Dog('happy', 'white')\n",
    "hello.dogCount()"
   ]
  },
  {
   "cell_type": "code",
   "execution_count": 41,
   "metadata": {},
   "outputs": [],
   "source": [
    "class Calc:\n",
    "    count = 0\n",
    "    @staticmethod\n",
    "    def add(a, b):\n",
    "        Calc.count += 1\n",
    "        return a+ b\n",
    "    \n",
    "    @classmethod\n",
    "    def sum_(cls, a, b):\n",
    "        print(a + b)\n",
    "        cls.count += 1\n",
    "        print('계산된 횟수: ', cls.count)"
   ]
  },
  {
   "cell_type": "code",
   "execution_count": 45,
   "metadata": {},
   "outputs": [
    {
     "data": {
      "text/plain": [
       "7"
      ]
     },
     "execution_count": 45,
     "metadata": {},
     "output_type": "execute_result"
    }
   ],
   "source": [
    "Calc.add(3,4)"
   ]
  },
  {
   "cell_type": "code",
   "execution_count": 46,
   "metadata": {},
   "outputs": [
    {
     "name": "stdout",
     "output_type": "stream",
     "text": [
      "30\n",
      "계산된 횟수:  5\n"
     ]
    }
   ],
   "source": [
    "Calc.sum_(10, 20)"
   ]
  },
  {
   "cell_type": "code",
   "execution_count": 47,
   "metadata": {},
   "outputs": [
    {
     "name": "stdout",
     "output_type": "stream",
     "text": [
      "50\n",
      "계산된 횟수:  6\n"
     ]
    }
   ],
   "source": [
    "Calc.sum_(30, 20)"
   ]
  },
  {
   "cell_type": "markdown",
   "metadata": {},
   "source": [
    "# 실습19\n",
    "## Car class\n",
    "## 객체 생서시 차이름, 배기량, 생산년도 (직접 변경 불가)\n",
    "## 차 이름을 변경하는 함수\n",
    "## 배기량에 따라 1000CC 이상 2000CC 이하 중형\n",
    "## 1000 이하 소형\n",
    "## 2000이상 대형\n",
    "## 객체 생성시마다 등록된 차량 갯수 기록\n",
    "# 총 등록된 차량개수를 출력하는 함수\n"
   ]
  },
  {
   "cell_type": "code",
   "execution_count": 102,
   "metadata": {},
   "outputs": [],
   "source": [
    "class Car:\n",
    "    \n",
    "    count_car = 0\n",
    "    \n",
    "    def __init__(self, name, power, date):\n",
    "        self.__name = name\n",
    "        self.__power = power\n",
    "        self.__date = date\n",
    "        Car.count_car += 1\n",
    "        \n",
    "    def change_car_name(self, ch_name):\n",
    "        self.__name = ch_name\n",
    "        \n",
    "    def distinguish(self):\n",
    "        if self.__power < 1000:\n",
    "            print('소형')\n",
    "        elif  1000 <= self.__power < self.__power < 2000:\n",
    "            print('중형')\n",
    "        else:\n",
    "            print('대형')\n",
    "    @classmethod        \n",
    "    def count_cars(cls):\n",
    "        return Car.count_car\n",
    "        "
   ]
  },
  {
   "cell_type": "code",
   "execution_count": 103,
   "metadata": {},
   "outputs": [],
   "source": [
    "merce = Car('merce', 1500, 2009)\n",
    "kia = Car('kia', 900, 2008)\n",
    "lamborgini = Car('lamborgini', 2300, 2019)"
   ]
  },
  {
   "cell_type": "code",
   "execution_count": 104,
   "metadata": {},
   "outputs": [
    {
     "name": "stdout",
     "output_type": "stream",
     "text": [
      "대형\n"
     ]
    }
   ],
   "source": [
    "lamborgini.distinguish()"
   ]
  },
  {
   "cell_type": "code",
   "execution_count": 100,
   "metadata": {},
   "outputs": [
    {
     "data": {
      "text/plain": [
       "3"
      ]
     },
     "execution_count": 100,
     "metadata": {},
     "output_type": "execute_result"
    }
   ],
   "source": [
    "Car.count_cars()"
   ]
  },
  {
   "cell_type": "code",
   "execution_count": 96,
   "metadata": {},
   "outputs": [],
   "source": [
    "Car.count_car = 0"
   ]
  },
  {
   "cell_type": "markdown",
   "metadata": {},
   "source": [
    "# 상속클래스"
   ]
  },
  {
   "cell_type": "code",
   "execution_count": 105,
   "metadata": {},
   "outputs": [],
   "source": [
    "class Animal:\n",
    "    def __init__(self):\n",
    "        self.hungry = 0\n",
    "    def eat(self):\n",
    "        self.hungry -= 10\n",
    "        print('밥먹음', self.hungry)\n",
    "        \n",
    "    def walk(self):\n",
    "        self.hungry += 10\n",
    "        print('산책', self.hungry)\n",
    "        \n"
   ]
  },
  {
   "cell_type": "code",
   "execution_count": 106,
   "metadata": {},
   "outputs": [],
   "source": [
    "class Dog(Animal):\n",
    "    def __init__(self):\n",
    "        super().__init__()\n",
    "    \n",
    "    def sound(self):\n",
    "        print('멍멍')\n",
    "        "
   ]
  },
  {
   "cell_type": "code",
   "execution_count": 122,
   "metadata": {},
   "outputs": [],
   "source": [
    "class Cat(Animal):\n",
    "    def __init__(self):\n",
    "        super().__init__()\n",
    "        super().eat()\n",
    "        \n",
    "    def sound(self):\n",
    "        print('야옹')"
   ]
  },
  {
   "cell_type": "code",
   "execution_count": 135,
   "metadata": {},
   "outputs": [
    {
     "name": "stdout",
     "output_type": "stream",
     "text": [
      "밥먹음 -10\n"
     ]
    }
   ],
   "source": [
    "dog = Dog()\n",
    "dog.eat()"
   ]
  },
  {
   "cell_type": "code",
   "execution_count": 124,
   "metadata": {},
   "outputs": [
    {
     "name": "stdout",
     "output_type": "stream",
     "text": [
      "밥먹음 -10\n",
      "야옹\n"
     ]
    }
   ],
   "source": [
    "cat = Cat()\n",
    "cat.sound()"
   ]
  },
  {
   "cell_type": "markdown",
   "metadata": {},
   "source": [
    "# 오버라이딩"
   ]
  },
  {
   "cell_type": "code",
   "execution_count": 127,
   "metadata": {},
   "outputs": [],
   "source": [
    "class Cat(Animal):\n",
    "    def __init__(self):\n",
    "        super().__init__()\n",
    "        super().eat()\n",
    "        \n",
    "    def sound(self):\n",
    "        print('야옹')\n",
    "        \n",
    "    def eat(self):\n",
    "        super().eat()\n",
    "        print('왈왈')"
   ]
  },
  {
   "cell_type": "code",
   "execution_count": 130,
   "metadata": {},
   "outputs": [
    {
     "name": "stdout",
     "output_type": "stream",
     "text": [
      "밥먹음 -10\n",
      "밥먹음 -20\n",
      "왈왈\n"
     ]
    }
   ],
   "source": [
    "cat = Cat()\n",
    "cat.eat()"
   ]
  },
  {
   "cell_type": "markdown",
   "metadata": {},
   "source": [
    "# 추상화 클래스"
   ]
  },
  {
   "cell_type": "code",
   "execution_count": 132,
   "metadata": {},
   "outputs": [],
   "source": [
    "from abc import *\n",
    "\n",
    "class Animal(metaclass = ABCMeta):\n",
    "    def __init__(self):\n",
    "        self.hungry = 0\n",
    "        \n",
    "    def eat(self):\n",
    "        self.hungry -= 10\n",
    "        print('밥먹음', self.hungry)\n",
    "        \n",
    "    def walk(self):\n",
    "        self.hungry += 10\n",
    "        print('산책', self.hungry)\n",
    "        \n",
    "    @abstractmethod\n",
    "    def sound(self):\n",
    "        pass\n",
    "    \n",
    "class Dog(Animal):\n",
    "    def __init__(self):\n",
    "        super().__init__()\n",
    "        \n",
    "    def sound(self):\n",
    "        print('멍멍')"
   ]
  },
  {
   "cell_type": "code",
   "execution_count": 134,
   "metadata": {},
   "outputs": [
    {
     "name": "stdout",
     "output_type": "stream",
     "text": [
      "멍멍\n",
      "밥먹음 -10\n"
     ]
    }
   ],
   "source": [
    "dog = Dog()\n",
    "# 추상화 sound 는 직접 dog클래스에서 정의\n",
    "\n",
    "dog.sound()\n",
    "# 상속받은 함수 사용 가능\n",
    "dog.eat()"
   ]
  },
  {
   "cell_type": "markdown",
   "metadata": {},
   "source": [
    "# 실습 게임 케릭터"
   ]
  },
  {
   "cell_type": "code",
   "execution_count": 237,
   "metadata": {},
   "outputs": [],
   "source": [
    "class Character():\n",
    "    def __init__(self):\n",
    "        self.health = 200\n",
    "        \n",
    "    def Move(self):\n",
    "        self.health -= 10\n",
    "        print(self, '움직임')\n",
    "    \n",
    "    def Rest(self):\n",
    "        \n",
    "        self.health += 10\n",
    "        if self.health >= 200:\n",
    "            self.health = 200\n",
    "        print(self, '휴식', self.health)\n",
    "        \n",
    "    def checkHealth(self):\n",
    "        print(self, self.health)\n",
    "    \n",
    "    \n",
    "class Knight(Character):\n",
    "    def __init__(self):\n",
    "        super().__init__()\n",
    "        \n",
    "    def Move(self):\n",
    "        super().Move()\n",
    "        self.health -= 5\n",
    "        print(self, '움직임')\n",
    "        \n",
    "    def Attack(self):\n",
    "        print(self, '공격!')\n",
    "        \n",
    "class Healer(Character):\n",
    "    def __init__(self):\n",
    "        super().__init__()\n",
    "        self.mana = 100\n",
    "        \n",
    "    def Heal(self):\n",
    "        self.mana -= 10\n",
    "        print(self, '힐!')\n",
    "        \n",
    "    def Rest(self):\n",
    "        super().Rest()\n",
    "        self.mana += 10\n",
    "    def checkMana(self):\n",
    "        print(self, self.mana)"
   ]
  },
  {
   "cell_type": "code",
   "execution_count": 238,
   "metadata": {},
   "outputs": [],
   "source": [
    "DH = Knight()\n",
    "DY = Healer()"
   ]
  },
  {
   "cell_type": "code",
   "execution_count": 239,
   "metadata": {},
   "outputs": [
    {
     "name": "stdout",
     "output_type": "stream",
     "text": [
      "<__main__.Knight object at 0x00000206B5B6AD30> 움직임\n",
      "<__main__.Knight object at 0x00000206B5B6AD30> 움직임\n",
      "<__main__.Healer object at 0x00000206B5B6AAC8> 움직임\n"
     ]
    }
   ],
   "source": [
    "DH.Move()\n",
    "DY.Move()"
   ]
  },
  {
   "cell_type": "code",
   "execution_count": 240,
   "metadata": {},
   "outputs": [
    {
     "name": "stdout",
     "output_type": "stream",
     "text": [
      "<__main__.Knight object at 0x00000206B5B6AD30> 공격!\n",
      "<__main__.Healer object at 0x00000206B5B6AAC8> 힐!\n"
     ]
    }
   ],
   "source": [
    "DH.Attack()\n",
    "DY.Heal()"
   ]
  },
  {
   "cell_type": "code",
   "execution_count": 241,
   "metadata": {},
   "outputs": [
    {
     "name": "stdout",
     "output_type": "stream",
     "text": [
      "<__main__.Knight object at 0x00000206B5B6AD30> 185\n",
      "<__main__.Healer object at 0x00000206B5B6AAC8> 90\n"
     ]
    }
   ],
   "source": [
    "DH.checkHealth()\n",
    "DY.checkMana()"
   ]
  },
  {
   "cell_type": "code",
   "execution_count": 242,
   "metadata": {},
   "outputs": [
    {
     "name": "stdout",
     "output_type": "stream",
     "text": [
      "<__main__.Healer object at 0x00000206B5B6AAC8> 힐!\n",
      "<__main__.Healer object at 0x00000206B5B6AAC8> 힐!\n",
      "<__main__.Healer object at 0x00000206B5B6AAC8> 힐!\n",
      "<__main__.Healer object at 0x00000206B5B6AAC8> 힐!\n",
      "<__main__.Healer object at 0x00000206B5B6AAC8> 휴식 200\n"
     ]
    }
   ],
   "source": [
    "DY.Heal()\n",
    "DY.Heal()\n",
    "DY.Heal()\n",
    "DY.Heal()\n",
    "DY.Rest()"
   ]
  },
  {
   "cell_type": "code",
   "execution_count": 243,
   "metadata": {},
   "outputs": [
    {
     "name": "stdout",
     "output_type": "stream",
     "text": [
      "<__main__.Knight object at 0x00000206B5B6AD30> 휴식 195\n",
      "<__main__.Healer object at 0x00000206B5B6AAC8> 휴식 200\n",
      "<__main__.Knight object at 0x00000206B5B6AD30> 휴식 200\n",
      "<__main__.Healer object at 0x00000206B5B6AAC8> 휴식 200\n",
      "<__main__.Knight object at 0x00000206B5B6AD30> 휴식 200\n",
      "<__main__.Healer object at 0x00000206B5B6AAC8> 휴식 200\n",
      "<__main__.Knight object at 0x00000206B5B6AD30> 휴식 200\n",
      "<__main__.Healer object at 0x00000206B5B6AAC8> 휴식 200\n"
     ]
    }
   ],
   "source": [
    "DH.Rest()\n",
    "DY.Rest()\n",
    "DH.Rest()\n",
    "DY.Rest()\n",
    "DH.Rest()\n",
    "DY.Rest()\n",
    "DH.Rest()\n",
    "DY.Rest()"
   ]
  },
  {
   "cell_type": "code",
   "execution_count": null,
   "metadata": {},
   "outputs": [],
   "source": []
  },
  {
   "cell_type": "code",
   "execution_count": null,
   "metadata": {},
   "outputs": [],
   "source": []
  },
  {
   "cell_type": "code",
   "execution_count": null,
   "metadata": {},
   "outputs": [],
   "source": []
  },
  {
   "cell_type": "code",
   "execution_count": null,
   "metadata": {},
   "outputs": [],
   "source": []
  },
  {
   "cell_type": "code",
   "execution_count": null,
   "metadata": {},
   "outputs": [],
   "source": []
  }
 ],
 "metadata": {
  "kernelspec": {
   "display_name": "Python 3",
   "language": "python",
   "name": "python3"
  },
  "language_info": {
   "codemirror_mode": {
    "name": "ipython",
    "version": 3
   },
   "file_extension": ".py",
   "mimetype": "text/x-python",
   "name": "python",
   "nbconvert_exporter": "python",
   "pygments_lexer": "ipython3",
   "version": "3.7.3"
  }
 },
 "nbformat": 4,
 "nbformat_minor": 2
}
