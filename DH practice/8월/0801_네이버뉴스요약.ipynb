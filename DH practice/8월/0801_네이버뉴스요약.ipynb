{
 "cells": [
  {
   "cell_type": "code",
   "execution_count": 2,
   "metadata": {},
   "outputs": [],
   "source": [
    "from bs4 import BeautifulSoup\n",
    "import requests\n",
    "from nltk.tokenize import sent_tokenize\n",
    "import numpy as np\n",
    "import re\n",
    "from operator import itemgetter\n",
    "# 코사인 유사도 (1. 단어의 표현 예제 참고)\n",
    "def cosine_similarity(x, y):\n",
    "    \n",
    "    # x와 y, 두 벡터의 코사인 유사도를 계산하는 함수\n",
    "    nominator = np.dot(x, y) # 분자\n",
    "    denominator = np.linalg.norm(x)*np.linalg.norm(y) # 분모\n",
    "    return nominator/denominator\n",
    "\n",
    "# 문장간 유사도 측정 (BoW를 활용 코사인 유사도 측정)\n",
    "def sentence_similarity(sentence1, sentence2):\n",
    "    \n",
    "    # 각 문장을 소문자로 변환\n",
    "    sentence1 = [word.lower() for word in sentence1.split()]\n",
    "    sentence2 = [word.lower() for word in sentence2.split()]\n",
    "    \n",
    "    # BoW 생성을 위한 unique한 단어로 배열 생성\n",
    "    words_ls = list(set(sentence1 + sentence2))\n",
    "    bow1 = [0] * len(words_ls)\n",
    "    bow2 = [0] * len(words_ls)\n",
    "    \n",
    "    # 첫번째 문장 BoW 생성\n",
    "    for word in sentence1:\n",
    "        bow1[words_ls.index(word)] += 1\n",
    "        \n",
    "    # 두번째 문장 BoW 생성\n",
    "    for word in sentence2:\n",
    "        bow2[words_ls.index(word)] += 1\n",
    "    return cosine_similarity(bow1, bow2)\n",
    "\n",
    "def buildMatrix(sentences):\n",
    "    \n",
    "    # 문장별로 그래프 edge를 Matrix 형태로 생성\n",
    "    weighted_edge = np.zeros((len(sentences), len(sentences)),dtype=np.float32)\n",
    "    #print(len(weighted_edge))\n",
    "    #print(len(sentences))\n",
    "    \n",
    "    for i in range(len(sentences)):\n",
    "        for j in range(len(sentences)):\n",
    "            if i == j:\n",
    "                continue\n",
    "            weighted_edge[i][j] = sentence_similarity(sentences[i], sentences[j])\n",
    "            \n",
    "    #print('[' + str(i) + ',' + str(j)+'] = ' + str(weighted_edge[i][j]))\n",
    "    # normalize\n",
    "    for i in range(len(weighted_edge)):\n",
    "        \n",
    "        #아래 코드 해석 = 값의 총합이 1이 된다. 이걸로 가중치를 계산, 표준화 작업.\n",
    "        weighted_edge[i] /= weighted_edge[i].sum()\n",
    "    \n",
    "    return weighted_edge\n",
    "\n",
    "def scoring(A, eps=0.0001, d=0.85, max_iter = 50):\n",
    "    P = np.ones(len(A)) / len(A)\n",
    "    print(P)\n",
    "    for iter in range(0,max_iter):\n",
    "        \n",
    "        newP = (1 - d) + d * A.T.dot(P)\n",
    "        print(newP)\n",
    "        print('-------')\n",
    "        \n",
    "        if abs((newP - P).sum()) <= eps:\n",
    "            return newP\n",
    "        P = newP\n",
    "    return newP\n",
    "\n",
    "\n",
    "def summarizeNaverNews(url, linesinSummary = 3) :\n",
    "    resp = requests.get(url)\n",
    "    soup = BeautifulSoup(resp.content, 'html.parser')\n",
    "    text = soup.find('div', class_ = '_article_body_contents').text\n",
    "\n",
    "    text = sent_tokenize(text)\n",
    "    weighted_edge = buildMatrix(text)\n",
    "    score = scoring(weighted_edge)    \n",
    "    #print(score)\n",
    "    rankedSentenceIndexes = [item[0] for item in sorted(enumerate(score), key=lambda item: -item[1])]\n",
    "    #-item은 내림차순\n",
    "    #-없으면 오름차순\n",
    "    #enumerate(score) = (0, socre값), (1, score값)....\n",
    "    \n",
    "    selectedSentences = sorted(rankedSentenceIndexes[:linesinSummary])\n",
    "    summary = itemgetter(*selectedSentences)(text)\n",
    "    return summary"
   ]
  },
  {
   "cell_type": "code",
   "execution_count": 20,
   "metadata": {},
   "outputs": [
    {
     "name": "stdout",
     "output_type": "stream",
     "text": [
      "Collecting soynlp\n",
      "  Downloading https://files.pythonhosted.org/packages/11/8d/d147e7b4adf0625d471387856aacfaabfb8e7e49e479009eabc45f727966/soynlp-0.0.492-py3-none-any.whl (1.8MB)\n",
      "Requirement already satisfied: numpy>=1.12.1 in c:\\users\\15z970-ga5bk\\anaconda3\\lib\\site-packages (from soynlp) (1.16.2)\n",
      "Requirement already satisfied: scikit-learn>=0.20.0 in c:\\users\\15z970-ga5bk\\anaconda3\\lib\\site-packages (from soynlp) (0.20.3)\n",
      "Requirement already satisfied: psutil>=5.0.1 in c:\\users\\15z970-ga5bk\\anaconda3\\lib\\site-packages (from soynlp) (5.6.1)\n",
      "Requirement already satisfied: scipy>=1.1.0 in c:\\users\\15z970-ga5bk\\anaconda3\\lib\\site-packages (from soynlp) (1.2.1)\n",
      "Installing collected packages: soynlp\n",
      "Successfully installed soynlp-0.0.492\n",
      "Note: you may need to restart the kernel to use updated packages.\n"
     ]
    }
   ],
   "source": [
    "pip install soynlp"
   ]
  },
  {
   "cell_type": "code",
   "execution_count": 18,
   "metadata": {},
   "outputs": [
    {
     "data": {
      "text/plain": [
       "'\\n\\n\\n\\n\\n// flash 오류를 우회하기 위한 함수 추가\\nfunction _flash_removeCallback() {}\\n\\n\\t\\n 아세안지역안보포럼(ARF) 참석차 태국을 방문중인 강경화 외교부장관과 고노 다로 일본 외무상이 1일 오전(현지시간) 방콕 센타라 그랜드호텔에서 열린 양자회담에서 악수한뒤 각자의 자리로 향하고 있다.2019.8.1/뉴스1  <저작권자 © 뉴스1코리아, 무단전재 및 재배포 금지>강경화 외교부 장관과 고노 다로 일본 외무상이 일본 정부의 ‘화이트리스트(백색국가)’ 제외 결정을 하루 앞둔 1일 태국 방콕에서 만났다. 두 장관이 만나는 것은 일본의 대한(對韓) 수출규제 등 경제보복 이후 처음이다. 두 장관의 태국 방문은 아세안지역안보포럼(ARF)을 비롯한 아세안 관련 외교장관회의를 위한 것이지만, 두 사람의 만남은 악화일로를 걷는 한일관계에 중대 분기점이 될 전망이다. 일본은 2일 열리는 각의(국무회의)를 통해 한국을 화이트리스트에서 제외하는 결정을 할 가능성이 크다. 배제 결정이 이뤄지면 3주 후부터 조치가 시행된다. 일본의 화이트리스트는 안보상 우호국가를 대상으로 수출관리에 우대조치를 해주는 것이다. 여기서 제외된다는 것은 한국 산업에 대한 타격뿐만 아니라 동북아 안보지형에도 적지 않은 영향을 미칠 것으로 보인다. 강 장관은 전날 방콕 태국 수완나품 공항에 도착한 직후 기자들을 만나 고노 외무상과의 회담에 대해 “화이트리스트 제외 결정 등 일본의 부당함을 지적하고 중단을 요청하겠다”고 밝혔다. 하지만 일본이 입장을 바꿀 가능성은 크지 않다는 관측이다. 한국을 화이트리스트에서 배제하는 것과 관련한 의견수렴 결과 찬성 의견이 압도적이었던 것으로 전해졌다. 고노 외무상도 이번 회담에서 일본 조치의 정당성을 주장할 것으로 보인다. 이날 회담장에 도착한 고노 외무상은 취재진이 ‘한국과 회담에 임하는 각오가 어떠냐’, ‘이번 회담이 관계개선으로 이어질 것 같으냐’고 질문했지만 아무런 답을 하지 않고 입을 굳게 다문 채 입구로 들어갔다. 한일 양자간 해소 기미가 보이지 않으면 미국이 중재에 나설 가능성도 있다. 아사히신문에 따르면 미국은 일본에 ‘한국을 화이트리스트 제외하지 말아달라’고 요청했고, 한국에는 ‘강제징용 배상판결에 따른 일본기업 대상 자산매각 등의 집행에 나서지 말 것’을 당부했다. 강 장관과 고노 외무상의 회담 다음날인 2일에는 마이크 폼페이오 미 국무장관을 포함한 한미일 외교장관회담이 이뤄질 것으로 예상된다. 미국이 3국 회담을 시작으로 본격적인 중재모드에 나설 것이란 관측이 나온다.방콕(태국)=최태범  기자 bum_t@mt.co.kr\\n\\t\\n'"
      ]
     },
     "execution_count": 18,
     "metadata": {},
     "output_type": "execute_result"
    }
   ],
   "source": [
    "import re\n",
    "url = 'https://news.naver.com/main/read.nhn?mode=LSD&mid=shm&sid1=100&oid=008&aid=0004257362'\n",
    "resp = requests.get(url)\n",
    "soup = BeautifulSoup(resp.content, 'html.parser')\n",
    "text = soup.find('div', class_ = '_article_body_contents').text\n",
    "x = re.sub(\".*\\[\\[.*?기자 =|▶.*\",'', text)\n",
    "x"
   ]
  },
  {
   "cell_type": "code",
   "execution_count": 16,
   "metadata": {},
   "outputs": [
    {
     "data": {
      "text/plain": [
       "\"\\n\\n\\n\\n\\n// flash 오류를 우회하기 위한 함수 추가\\nfunction _flash_removeCallback() {}\\n\\n\\t\\n\\t[머니투데이 방콕(태국)=최태범  기자] [[the300]폼페이오 2일 가세, 한미일 3국 회담으로 중재나설 가능성](방콕(태국)=뉴스1) 이광호 기자 = 아세안지역안보포럼(ARF) 참석차 태국을 방문중인 강경화 외교부장관과 고노 다로 일본 외무상이 1일 오전(현지시간) 방콕 센타라 그랜드호텔에서 열린 양자회담에서 악수한뒤 각자의 자리로 향하고 있다.2019.8.1/뉴스1  <저작권자 © 뉴스1코리아, 무단전재 및 재배포 금지>강경화 외교부 장관과 고노 다로 일본 외무상이 일본 정부의 ‘화이트리스트(백색국가)’ 제외 결정을 하루 앞둔 1일 태국 방콕에서 만났다. 두 장관이 만나는 것은 일본의 대한(對韓) 수출규제 등 경제보복 이후 처음이다. 두 장관의 태국 방문은 아세안지역안보포럼(ARF)을 비롯한 아세안 관련 외교장관회의를 위한 것이지만, 두 사람의 만남은 악화일로를 걷는 한일관계에 중대 분기점이 될 전망이다. 일본은 2일 열리는 각의(국무회의)를 통해 한국을 화이트리스트에서 제외하는 결정을 할 가능성이 크다. 배제 결정이 이뤄지면 3주 후부터 조치가 시행된다. 일본의 화이트리스트는 안보상 우호국가를 대상으로 수출관리에 우대조치를 해주는 것이다. 여기서 제외된다는 것은 한국 산업에 대한 타격뿐만 아니라 동북아 안보지형에도 적지 않은 영향을 미칠 것으로 보인다. 강 장관은 전날 방콕 태국 수완나품 공항에 도착한 직후 기자들을 만나 고노 외무상과의 회담에 대해 “화이트리스트 제외 결정 등 일본의 부당함을 지적하고 중단을 요청하겠다”고 밝혔다. 하지만 일본이 입장을 바꿀 가능성은 크지 않다는 관측이다. 한국을 화이트리스트에서 배제하는 것과 관련한 의견수렴 결과 찬성 의견이 압도적이었던 것으로 전해졌다. 고노 외무상도 이번 회담에서 일본 조치의 정당성을 주장할 것으로 보인다. 이날 회담장에 도착한 고노 외무상은 취재진이 ‘한국과 회담에 임하는 각오가 어떠냐’, ‘이번 회담이 관계개선으로 이어질 것 같으냐’고 질문했지만 아무런 답을 하지 않고 입을 굳게 다문 채 입구로 들어갔다. 한일 양자간 해소 기미가 보이지 않으면 미국이 중재에 나설 가능성도 있다. 아사히신문에 따르면 미국은 일본에 ‘한국을 화이트리스트 제외하지 말아달라’고 요청했고, 한국에는 ‘강제징용 배상판결에 따른 일본기업 대상 자산매각 등의 집행에 나서지 말 것’을 당부했다. 강 장관과 고노 외무상의 회담 다음날인 2일에는 마이크 폼페이오 미 국무장관을 포함한 한미일 외교장관회담이 이뤄질 것으로 예상된다. 미국이 3국 회담을 시작으로 본격적인 중재모드에 나설 것이란 관측이 나온다.방콕(태국)=최태범  기자 bum_t@mt.co.kr▶이코노미스트들의 투자칼럼▶조 변호사의 가정상담소 ▶더 많은 기사 보러가기  <저작권자 ⓒ '돈이 보이는 리얼타임 뉴스' 머니투데이, 무단전재 및 재배포 금지>\\n\\t\\n\""
      ]
     },
     "execution_count": 16,
     "metadata": {},
     "output_type": "execute_result"
    }
   ],
   "source": [
    "text"
   ]
  },
  {
   "cell_type": "code",
   "execution_count": 19,
   "metadata": {},
   "outputs": [
    {
     "name": "stdout",
     "output_type": "stream",
     "text": [
      "아세안지역안보포럼(ARF) 참석차 태국을 방문중인 강경화 외교부장관과 고노 다로 일본 외무상이 1일 오전(현지시간) 방콕 센타라 그랜드호텔에서 열린 양자회담에서 악수한뒤 각자의 자리로 향하고 있다.2019.8.1/뉴스1  <저작권자 © 뉴스1코리아, 무단전재 및 재배포 금지>강경화 외교부 장관과 고노 다로 일본 외무상이 일본 정부의 ‘화이트리스트(백색국가)’ 제외 결정을 하루 앞둔 1일 태국 방콕에서 만났다.\n",
      "강 장관은 전날 방콕 태국 수완나품 공항에 도착한 직후 기자들을 만나 고노 외무상과의 회담에 대해 “화이트리스트 제외 결정 등 일본의 부당함을 지적하고 중단을 요청하겠다”고 밝혔다.\n",
      "한국을 화이트리스트에서 배제하는 것과 관련한 의견수렴 결과 찬성 의견이 압도적이었던 것으로 전해졌다.\n"
     ]
    }
   ],
   "source": [
    "from gensim.summarization.summarizer import summarize\n",
    "\n",
    "print(summarize(x))"
   ]
  },
  {
   "cell_type": "code",
   "execution_count": null,
   "metadata": {},
   "outputs": [],
   "source": []
  }
 ],
 "metadata": {
  "kernelspec": {
   "display_name": "Python 3",
   "language": "python",
   "name": "python3"
  },
  "language_info": {
   "codemirror_mode": {
    "name": "ipython",
    "version": 3
   },
   "file_extension": ".py",
   "mimetype": "text/x-python",
   "name": "python",
   "nbconvert_exporter": "python",
   "pygments_lexer": "ipython3",
   "version": "3.7.3"
  }
 },
 "nbformat": 4,
 "nbformat_minor": 2
}
