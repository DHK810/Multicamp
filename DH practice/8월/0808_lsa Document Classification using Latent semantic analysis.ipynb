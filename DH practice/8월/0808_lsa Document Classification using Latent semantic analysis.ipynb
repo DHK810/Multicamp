{
 "cells": [
  {
   "cell_type": "code",
   "execution_count": 1,
   "metadata": {},
   "outputs": [],
   "source": [
    "\n",
    "doc_ls = ['바나나 사과 포도 포도',\n",
    "'사과 포도',\n",
    "'포도 바나나',\n",
    "'짜장면 짬뽕 탕수욕',\n",
    "'볶음밥 탕수욕',\n",
    "'짜장면 짬뽕',\n",
    "'라면 스시',\n",
    "'스시',\n",
    "'가츠동 스시 소바',\n",
    "'된장찌개 김치찌개 김치',\n",
    "'김치 된장',\n",
    "'비빔밥 김치'\n",
    "]\n"
   ]
  },
  {
   "cell_type": "code",
   "execution_count": 3,
   "metadata": {},
   "outputs": [],
   "source": [
    "from sklearn.feature_extraction.text import TfidfVectorizer\n",
    "vectorizer = TfidfVectorizer()\n",
    "\n"
   ]
  },
  {
   "cell_type": "code",
   "execution_count": 4,
   "metadata": {},
   "outputs": [],
   "source": [
    "X = vectorizer.fit_transform(doc_ls)"
   ]
  },
  {
   "cell_type": "code",
   "execution_count": 5,
   "metadata": {},
   "outputs": [
    {
     "name": "stdout",
     "output_type": "stream",
     "text": [
      "  (0, 6)\t0.4418867148991048\n",
      "  (0, 9)\t0.4418867148991048\n",
      "  (0, 15)\t0.7806870451028085\n",
      "  (1, 9)\t0.7494645793884686\n",
      "  (1, 15)\t0.662044442799776\n",
      "  (2, 6)\t0.7494645793884686\n",
      "  (2, 15)\t0.662044442799776\n",
      "  (3, 12)\t0.5773502691896258\n",
      "  (3, 13)\t0.5773502691896258\n",
      "  (3, 14)\t0.5773502691896258\n",
      "  (4, 14)\t0.6515208683486948\n",
      "  (4, 7)\t0.7586307126040724\n",
      "  (5, 12)\t0.7071067811865476\n",
      "  (5, 13)\t0.7071067811865476\n",
      "  (6, 5)\t0.7966850663542188\n",
      "  (6, 11)\t0.6043946600096447\n",
      "  (7, 11)\t1.0\n",
      "  (8, 11)\t0.47271637301705055\n",
      "  (8, 0)\t0.6231128431839633\n",
      "  (8, 10)\t0.6231128431839633\n",
      "  (9, 4)\t0.6231128431839633\n",
      "  (9, 2)\t0.6231128431839633\n",
      "  (9, 1)\t0.47271637301705055\n",
      "  (10, 1)\t0.6043946600096447\n",
      "  (10, 3)\t0.7966850663542188\n",
      "  (11, 1)\t0.6043946600096447\n",
      "  (11, 8)\t0.7966850663542188\n"
     ]
    }
   ],
   "source": [
    "print(X)"
   ]
  },
  {
   "cell_type": "code",
   "execution_count": 15,
   "metadata": {},
   "outputs": [],
   "source": [
    "from sklearn.decomposition import TruncatedSVD\n",
    "lsa = TruncatedSVD(n_components=4, n_iter = 100)"
   ]
  },
  {
   "cell_type": "code",
   "execution_count": null,
   "metadata": {},
   "outputs": [],
   "source": []
  },
  {
   "cell_type": "code",
   "execution_count": 16,
   "metadata": {},
   "outputs": [
    {
     "data": {
      "text/plain": [
       "TruncatedSVD(algorithm='randomized', n_components=4, n_iter=100,\n",
       "       random_state=None, tol=0.0)"
      ]
     },
     "execution_count": 16,
     "metadata": {},
     "output_type": "execute_result"
    }
   ],
   "source": [
    "lsa.fit(X)"
   ]
  },
  {
   "cell_type": "code",
   "execution_count": 17,
   "metadata": {},
   "outputs": [],
   "source": [
    "terms = vectorizer.get_feature_names()"
   ]
  },
  {
   "cell_type": "code",
   "execution_count": 18,
   "metadata": {},
   "outputs": [
    {
     "data": {
      "text/plain": [
       "array([[-1.46280038e-17,  1.21138287e-18, -6.60605498e-18,\n",
       "         3.66610289e-18, -7.16078194e-18,  1.04361827e-17,\n",
       "         4.41886715e-01, -4.21929880e-18,  3.66749808e-18,\n",
       "         4.41886715e-01, -5.19779867e-17,  8.69124857e-18,\n",
       "        -1.62106809e-17, -1.62106809e-17, -1.12977305e-17,\n",
       "         7.80687045e-01],\n",
       "       [ 2.28195410e-01, -1.44957516e-15, -1.33471903e-16,\n",
       "        -8.30235872e-16, -3.03151713e-18,  3.31891086e-01,\n",
       "        -1.22778137e-16,  3.14992302e-15, -7.70877600e-16,\n",
       "         8.98843111e-17,  2.28195410e-01,  8.86398340e-01,\n",
       "         1.17660169e-14,  1.17660169e-14,  8.20691499e-15,\n",
       "         2.08941388e-17],\n",
       "       [-4.28554997e-15, -3.41893679e-16, -5.32208096e-17,\n",
       "        -1.29153462e-16, -1.28404965e-16, -6.28344739e-15,\n",
       "        -2.99434446e-16,  1.62882579e-01, -1.33125067e-16,\n",
       "         3.27697105e-16, -4.31202558e-15, -1.62605578e-14,\n",
       "         6.25800077e-01,  6.25800077e-01,  4.36139648e-01,\n",
       "        -1.46980921e-18],\n",
       "       [ 5.06559476e-16,  7.64210753e-01,  2.64975471e-01,\n",
       "         3.71185886e-01,  2.64975471e-01,  9.98936303e-16,\n",
       "         2.39148068e-16, -4.60016875e-16,  3.71185886e-01,\n",
       "        -2.40329018e-16,  2.90657542e-16,  1.22354787e-15,\n",
       "         5.12197170e-16,  5.12197170e-16, -3.42625936e-16,\n",
       "         6.68440894e-19]])"
      ]
     },
     "execution_count": 18,
     "metadata": {},
     "output_type": "execute_result"
    }
   ],
   "source": [
    "lsa.components_"
   ]
  },
  {
   "cell_type": "code",
   "execution_count": 19,
   "metadata": {},
   "outputs": [
    {
     "name": "stdout",
     "output_type": "stream",
     "text": [
      "concept 0: \n",
      "포도\n",
      "바나나\n",
      "사과\n",
      "라면\n",
      "스시\n",
      "비빔밥\n",
      "된장\n",
      "김치\n",
      "볶음밥\n",
      "김치찌개\n",
      " \n",
      "concept 1: \n",
      "스시\n",
      "라면\n",
      "가츠동\n",
      "소바\n",
      "짜장면\n",
      "짬뽕\n",
      "탕수욕\n",
      "볶음밥\n",
      "사과\n",
      "포도\n",
      " \n",
      "concept 2: \n",
      "짜장면\n",
      "짬뽕\n",
      "탕수욕\n",
      "볶음밥\n",
      "사과\n",
      "포도\n",
      "김치찌개\n",
      "된장찌개\n",
      "된장\n",
      "비빔밥\n",
      " \n",
      "concept 3: \n",
      "김치\n",
      "된장\n",
      "비빔밥\n",
      "된장찌개\n",
      "김치찌개\n",
      "스시\n",
      "라면\n",
      "짜장면\n",
      "짬뽕\n",
      "가츠동\n",
      " \n"
     ]
    }
   ],
   "source": [
    "for i, comp in enumerate(lsa.components_):\n",
    "    termsInComp = zip(terms, comp)\n",
    "    sortedterms = sorted(termsInComp, key= lambda x : x[1], reverse=True)[:10]\n",
    "    \n",
    "    print('concept %d: ' % i)\n",
    "    for term in sortedterms:\n",
    "        print(term[0])\n",
    "    print(\" \")"
   ]
  },
  {
   "cell_type": "code",
   "execution_count": null,
   "metadata": {},
   "outputs": [],
   "source": []
  },
  {
   "cell_type": "code",
   "execution_count": null,
   "metadata": {},
   "outputs": [],
   "source": []
  }
 ],
 "metadata": {
  "kernelspec": {
   "display_name": "Python 3",
   "language": "python",
   "name": "python3"
  },
  "language_info": {
   "codemirror_mode": {
    "name": "ipython",
    "version": 3
   },
   "file_extension": ".py",
   "mimetype": "text/x-python",
   "name": "python",
   "nbconvert_exporter": "python",
   "pygments_lexer": "ipython3",
   "version": "3.7.3"
  }
 },
 "nbformat": 4,
 "nbformat_minor": 2
}
