{
 "cells": [
  {
   "cell_type": "code",
   "execution_count": 1,
   "metadata": {},
   "outputs": [],
   "source": [
    "import pandas as pd\n",
    "it_df = pd.read_csv('0814_word_embedding_it.csv').dropna() # 디폴트로 NaN이 1개라도 포함되면 해당 행이 삭제\n",
    "culture_df = pd.read_csv('0814_word_embedding_culture.csv').dropna()"
   ]
  },
  {
   "cell_type": "code",
   "execution_count": 2,
   "metadata": {},
   "outputs": [],
   "source": [
    "it_token_ls = list(it_df.loc[:,'1'])\n",
    "culture_token_ls = list(culture_df.loc[:,'1'])\n",
    "total_token_ls = it_token_ls + culture_token_ls"
   ]
  },
  {
   "cell_type": "code",
   "execution_count": 3,
   "metadata": {},
   "outputs": [
    {
     "data": {
      "text/plain": [
       "'배,정회,신임,과학기술,일자리,진흥,원장,아시아,경제,이민,우,배,정회,전,국립,중앙,과학,관,전시,연구,단장,과학기술,일자리,진흥,제,원장,취임,과학기술,정보,통신,같은,인사,발표,임기,날,동안,배,신임,원장,행정,고등고시,공직,입문,교육,과학기술,부,융합,기술,과장,중앙대,경영,경제,초빙교수,과기,정통부,연구,성과,활용,정책,과장,연구,성과,혁신,기획,과장,과학기술,정책,수립,정부,연구개발,연구,기술,이전,사업,두루,경험,보유,평가,배,신임,원장,날,환담,회,새로운,임무,조직,신속히,성하고,직원,역량,강화하겠다,며,실험실,유망,기술,전,문,기업,연결하며,기술,이전,효과,지원,신,기술,창업,통한,미래,일자리,많이,창,고,이민,우,네이버,홈,아시아,경제,뉴스,확인,재미,신기,과학,꿀,잼,인,기,만화,경제,눈,세계,창,아시아,경제,전,재'"
      ]
     },
     "execution_count": 3,
     "metadata": {},
     "output_type": "execute_result"
    }
   ],
   "source": [
    "total_token_ls[0]"
   ]
  },
  {
   "cell_type": "code",
   "execution_count": 4,
   "metadata": {},
   "outputs": [],
   "source": [
    "total_token_ls = [tokens.split(',') for tokens in total_token_ls]"
   ]
  },
  {
   "cell_type": "code",
   "execution_count": 5,
   "metadata": {},
   "outputs": [
    {
     "data": {
      "text/plain": [
       "['배', '정회', '신임', '과학기술', '일자리', '진흥', '원장', '아시아', '경제', '이민']"
      ]
     },
     "execution_count": 5,
     "metadata": {},
     "output_type": "execute_result"
    }
   ],
   "source": [
    "total_token_ls[0][:10]"
   ]
  },
  {
   "cell_type": "code",
   "execution_count": 6,
   "metadata": {},
   "outputs": [
    {
     "name": "stdout",
     "output_type": "stream",
     "text": [
      "Collecting paramiko\n",
      "  Downloading https://files.pythonhosted.org/packages/4b/80/74dace9e48b0ef923633dfb5e48798f58a168e4734bca8ecfaf839ba051a/paramiko-2.6.0-py2.py3-none-any.whl (199kB)\n",
      "Requirement already satisfied: cryptography>=2.5 in c:\\users\\15z970-ga5bk\\anaconda3\\lib\\site-packages (from paramiko) (2.6.1)\n",
      "Collecting bcrypt>=3.1.3 (from paramiko)\n",
      "  Downloading https://files.pythonhosted.org/packages/ad/99/e2b9327b569965f5abb4788b4d485fcd5feec34f381e080ab5a5fa283d19/bcrypt-3.1.7-cp37-cp37m-win_amd64.whl\n",
      "Collecting pynacl>=1.0.1 (from paramiko)\n",
      "  Downloading https://files.pythonhosted.org/packages/fc/e7/179847c0dce637c59cea416c75b8de1ec1e862358c7369ad99c1fad00158/PyNaCl-1.3.0-cp37-cp37m-win_amd64.whl (188kB)\n",
      "Requirement already satisfied: cffi!=1.11.3,>=1.8 in c:\\users\\15z970-ga5bk\\anaconda3\\lib\\site-packages (from cryptography>=2.5->paramiko) (1.12.2)\n",
      "Requirement already satisfied: six>=1.4.1 in c:\\users\\15z970-ga5bk\\anaconda3\\lib\\site-packages (from cryptography>=2.5->paramiko) (1.12.0)\n",
      "Requirement already satisfied: asn1crypto>=0.21.0 in c:\\users\\15z970-ga5bk\\anaconda3\\lib\\site-packages (from cryptography>=2.5->paramiko) (0.24.0)\n",
      "Requirement already satisfied: pycparser in c:\\users\\15z970-ga5bk\\anaconda3\\lib\\site-packages (from cffi!=1.11.3,>=1.8->cryptography>=2.5->paramiko) (2.19)\n",
      "Installing collected packages: bcrypt, pynacl, paramiko\n",
      "Successfully installed bcrypt-3.1.7 paramiko-2.6.0 pynacl-1.3.0\n"
     ]
    }
   ],
   "source": [
    "!pip install paramiko\n",
    "from gensim.models import Word2Vec"
   ]
  },
  {
   "cell_type": "code",
   "execution_count": 7,
   "metadata": {},
   "outputs": [],
   "source": [
    "word2vec = Word2Vec(\n",
    "    sentences = total_token_ls,  # 학습시킬 문장\n",
    "    size = 30,                  # 임베딩된 단어 벡터의 차원 크기\n",
    "    alpha = 0.025,               # 학습률(Learning rate)\n",
    "    min_count=2,                 # 2번 미만 등장한 단어는 제외\n",
    "    window = 8,                  # 문맥의 크기 (window_size)\n",
    "    sample = 0.001,              # sub-sampling\n",
    "    sg = 1,                      # 0: CBOW, 1: Skip-gram\n",
    "    iter = 10                    # 전체 문장 반복학습 횟수(epoch)\n",
    "    )"
   ]
  },
  {
   "cell_type": "code",
   "execution_count": 8,
   "metadata": {},
   "outputs": [
    {
     "data": {
      "text/plain": [
       "array([ 4.2288953e-01,  4.0146983e-01, -4.0052977e-01,  1.2736255e-01,\n",
       "       -4.4018579e-01,  9.4092762e-01, -7.2334212e-01, -1.1692129e+00,\n",
       "       -3.7431300e-01, -7.3852208e-03,  1.9926208e-01, -4.5931470e-01,\n",
       "        4.2394501e-01, -8.7938941e-01, -1.0421786e+00,  3.1717744e-01,\n",
       "        1.0595020e+00,  3.3912161e-01, -2.5301686e-02, -2.0295380e-01,\n",
       "        1.1961545e-01,  1.3557595e-01,  3.7944466e-01,  5.7017720e-01,\n",
       "        1.3474359e-01,  2.3387042e-01, -6.0534477e-04,  3.0984730e-01,\n",
       "        1.9208901e-01,  1.2910138e+00], dtype=float32)"
      ]
     },
     "execution_count": 8,
     "metadata": {},
     "output_type": "execute_result"
    }
   ],
   "source": [
    "word2vec.wv.__getitem__('문화')"
   ]
  },
  {
   "cell_type": "code",
   "execution_count": 9,
   "metadata": {},
   "outputs": [
    {
     "data": {
      "text/plain": [
       "[('지능', 0.9600118398666382),\n",
       " ('학습', 0.8727588653564453),\n",
       " ('결합', 0.8609855771064758),\n",
       " ('프로젝트', 0.8351868987083435),\n",
       " ('블록', 0.8316760659217834),\n",
       " ('유전자', 0.827271044254303),\n",
       " ('의료', 0.8243082165718079),\n",
       " ('커뮤니티', 0.8206310272216797),\n",
       " ('정확성', 0.8197436332702637),\n",
       " ('높아', 0.8150026798248291)]"
      ]
     },
     "execution_count": 9,
     "metadata": {},
     "output_type": "execute_result"
    }
   ],
   "source": [
    "word2vec.wv.most_similar('인공')"
   ]
  },
  {
   "cell_type": "code",
   "execution_count": 10,
   "metadata": {},
   "outputs": [
    {
     "data": {
      "text/plain": [
       "[('회관', 0.9284383654594421),\n",
       " ('국악', 0.9230795502662659),\n",
       " ('관현악단', 0.9137392640113831),\n",
       " ('극장', 0.9126248359680176),\n",
       " ('기원', 0.9087554216384888),\n",
       " ('예술', 0.904289186000824),\n",
       " ('그림', 0.9032298922538757),\n",
       " ('연주', 0.8912868499755859),\n",
       " ('사물놀이', 0.8828365802764893),\n",
       " ('평양', 0.8733419179916382)]"
      ]
     },
     "execution_count": 10,
     "metadata": {},
     "output_type": "execute_result"
    }
   ],
   "source": [
    "word2vec.wv.most_similar('공연')"
   ]
  },
  {
   "cell_type": "markdown",
   "metadata": {},
   "source": [
    "# 차원축소 활용 시각화"
   ]
  },
  {
   "cell_type": "code",
   "execution_count": 12,
   "metadata": {
    "scrolled": true
   },
   "outputs": [
    {
     "data": {
      "text/plain": [
       "{'문화': ['체육',\n",
       "  '대학교',\n",
       "  '홍보',\n",
       "  '회관',\n",
       "  '평화',\n",
       "  '확산',\n",
       "  '교류',\n",
       "  '예술',\n",
       "  '우영',\n",
       "  '겸',\n",
       "  '한류',\n",
       "  '정원',\n",
       "  '문화유산',\n",
       "  '정규',\n",
       "  '핵',\n",
       "  '경호',\n",
       "  '이미지',\n",
       "  '요인',\n",
       "  '북한',\n",
       "  '남북'],\n",
       " '인공': ['지능',\n",
       "  '학습',\n",
       "  '결합',\n",
       "  '프로젝트',\n",
       "  '블록',\n",
       "  '유전자',\n",
       "  '의료',\n",
       "  '커뮤니티',\n",
       "  '정확성',\n",
       "  '높아',\n",
       "  '체인',\n",
       "  '접목',\n",
       "  '필수',\n",
       "  '러닝',\n",
       "  '핀란드',\n",
       "  '에너지',\n",
       "  '증강현실',\n",
       "  '지향',\n",
       "  '친환경',\n",
       "  '처방전'],\n",
       " '공연': ['회관',\n",
       "  '국악',\n",
       "  '관현악단',\n",
       "  '극장',\n",
       "  '기원',\n",
       "  '예술',\n",
       "  '그림',\n",
       "  '연주',\n",
       "  '사물놀이',\n",
       "  '평양',\n",
       "  '베토벤',\n",
       "  '클래식',\n",
       "  '신명',\n",
       "  '남',\n",
       "  '영화인',\n",
       "  '겸',\n",
       "  '초청',\n",
       "  '단',\n",
       "  '특별',\n",
       "  '매력']}"
      ]
     },
     "execution_count": 12,
     "metadata": {},
     "output_type": "execute_result"
    }
   ],
   "source": [
    "similar_words = {search_term: [item[0] for item in word2vec.wv.most_similar([search_term], topn=20)]\n",
    "                  for search_term in ['문화','인공','공연']}\n",
    "similar_words"
   ]
  },
  {
   "cell_type": "code",
   "execution_count": 18,
   "metadata": {},
   "outputs": [],
   "source": [
    "# 그래프에 retina display 적용\n",
    "%config InlineBackend.figure_format = 'retina'\n",
    "\n",
    "# 기본 글꼴 변경\n",
    "import matplotlib as mpl\n",
    "import matplotlib.pyplot as plt\n",
    "mpl.font_manager._rebuild()"
   ]
  },
  {
   "cell_type": "code",
   "execution_count": 19,
   "metadata": {},
   "outputs": [
    {
     "name": "stderr",
     "output_type": "stream",
     "text": [
      "C:\\Users\\15Z970-GA5BK\\Anaconda3\\lib\\site-packages\\matplotlib\\font_manager.py:1241: UserWarning: findfont: Font family ['NanumBarunGothic'] not found. Falling back to DejaVu Sans.\n",
      "  (prop.get_family(), self.defaultFamily[fontext]))\n"
     ]
    },
    {
     "data": {
      "image/png": "[encoded data removed]",
      "text/plain": [
       "<Figure size 1008x576 with 1 Axes>"
      ]
     },
     "metadata": {
      "image/png": {
       "height": 467,
       "width": 838
      },
      "needs_background": "light"
     },
     "output_type": "display_data"
    }
   ],
   "source": [
    "from sklearn.manifold import TSNE\n",
    "import numpy as np\n",
    "\n",
    "words = sum([[k] + v for k, v in similar_words.items()], [])\n",
    "wvs = word2vec.wv[words]\n",
    "\n",
    "tsne = TSNE(n_components=2, random_state=0, n_iter=10000, perplexity=2)\n",
    "np.set_printoptions(suppress=True)\n",
    "T = tsne.fit_transform(wvs)\n",
    "labels = words\n",
    "\n",
    "plt.figure(figsize=(14, 8))\n",
    "plt.scatter(T[:, 0], T[:, 1], c='orange', edgecolors='r')\n",
    "for label, x, y in zip(labels, T[:, 0], T[:, 1]):\n",
    "    plt.annotate(label, xy=(x+1, y+1), xytext=(0, 0), textcoords='offset points')"
   ]
  },
  {
   "cell_type": "code",
   "execution_count": null,
   "metadata": {},
   "outputs": [],
   "source": []
  }
 ],
 "metadata": {
  "kernelspec": {
   "display_name": "Python 3",
   "language": "python",
   "name": "python3"
  },
  "language_info": {
   "codemirror_mode": {
    "name": "ipython",
    "version": 3
   },
   "file_extension": ".py",
   "mimetype": "text/x-python",
   "name": "python",
   "nbconvert_exporter": "python",
   "pygments_lexer": "ipython3",
   "version": "3.7.3"
  }
 },
 "nbformat": 4,
 "nbformat_minor": 2
}
