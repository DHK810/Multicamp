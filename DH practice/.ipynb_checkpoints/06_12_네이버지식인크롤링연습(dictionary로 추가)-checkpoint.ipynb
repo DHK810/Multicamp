{
 "cells": [
  {
   "cell_type": "code",
   "execution_count": null,
   "metadata": {
    "scrolled": false
   },
   "outputs": [],
   "source": [
    "from bs4 import BeautifulSoup\n",
    "import requests\n",
    "\n",
    "list = {}\n",
    "count = 1\n",
    "url = 'https://search.naver.com/search.naver'\n",
    "params = {\n",
    "\t'where' : 'kin',\n",
    "    'kin_display' : 10,\n",
    "\t'query' : '국가보훈의 달',\n",
    "    'kin_start' : count\n",
    "}\n",
    "\n",
    "for count in range(1,50, 10):\n",
    "    resp = requests.get(url, params = params)\n",
    "    soup = BeautifulSoup(resp.content, 'html.parser')\n",
    "\n",
    "    all_naver_jisik = soup.find('div', class_ = 'kinn section _kinBase')\n",
    "    li_tag = all_naver_jisik.find_all('li')\n",
    "    li_tag\n",
    "\n",
    "    for dl in li_tag:\n",
    "        question_title = dl.find('a').text\n",
    "        dd_tag = dl.find_all('dd')\n",
    "        question_summary = dd_tag[1].text\n",
    "    \n",
    "        question_answer = dd_tag[2].text\n",
    "        answer = dd_tag[2].find_all('hl')\n",
    "        \n",
    "        print(f'제목:\\n {question_title} \\n질문요약: \\n{question_summary} \\n질문답변: \\n{question_answer}')\n",
    "        print('-' * 20)\n",
    "\n",
    "    \n"
   ]
  },
  {
   "cell_type": "markdown",
   "metadata": {},
   "source": [
    "# 강사님 답"
   ]
  },
  {
   "cell_type": "code",
   "execution_count": 6,
   "metadata": {
    "scrolled": false
   },
   "outputs": [
    {
     "name": "stdout",
     "output_type": "stream",
     "text": [
      "<ul class=\"type01\" id=\"elThumbnailResultArea\" style=\"padding-left: 0px;\"> <li> <dl> <dt class=\"question\"> <strong class=\"spkn\">질문</strong> <a href=\"https://kin.naver.com/qna/detail.nhn?d1id=6&amp;dirId=603&amp;docId=291460190&amp;qb=6rWt6rCA67O07ZuI7J2YIOuLrA==&amp;enc=utf8§ion=kin&amp;rank=1&amp;search_sort=0&amp;spq=0\" onclick=\"return goOtherCR(this,'a=kin*q.tit&amp;r=1&amp;i=10000009_0000115f545e&amp;u='+urlencode(this.href));\" target=\"_blank\"> <strong class=\"hl\">국가</strong>유공자 자녀 <strong class=\"hl\">보훈의달</strong> 포상휴가 </a> </dt> <dd class=\"txt_inline\">2018.01.01. </dd> <dd> 제 아버지가 <strong class=\"hl\">국가</strong>유공자이신데 제가 현재 군복무 중입니다 <strong class=\"hl\">보훈의달</strong>에 <strong class=\"hl\">국가</strong>유공자 자손한테 포상휴가를 준다는데 어떻게 받아야 하나요? 부대에 건의를 해야 받을 수... </dd> <dd class=\"answer\"> <strong class=\"spkn\">답변</strong> <strong class=\"hl\">국가</strong>유공자 자녀라고 6월 호국<strong class=\"hl\">보훈</strong>에 달에 포상휴가 주라는 규정은 없습니다 자대에서 특별휴가로 줄수는 있으니 이는 부대 행보관에게 문의하세요 </dd> <dd class=\"txt_block\"> <span class=\"inline\"> </span> </dd> </dl> </li> <li> <dl> <dt class=\"question\"> <strong class=\"spkn\">질문</strong> <a href=\"https://kin.naver.com/qna/detail.nhn?d1id=6&amp;dirId=6080401&amp;docId=291453922&amp;qb=6rWt6rCA67O07ZuI7J2YIOuLrA==&amp;enc=utf8§ion=kin&amp;rank=2&amp;search_sort=0&amp;spq=0\" onclick=\"return goOtherCR(this,'a=kin*q.tit&amp;r=2&amp;i=10000009_0000115f3be2&amp;u='+urlencode(this.href));\" target=\"_blank\"> <strong class=\"hl\">국가</strong>유공자, <strong class=\"hl\">보훈</strong>보상대상자 신청 </a> </dt> <dd class=\"txt_inline\">2018.01.01. </dd> <dd> 이제 전역까지 3달도 안남았는데 그냥 있기는 그렇고 <strong class=\"hl\">국가</strong>유공자,<strong class=\"hl\">보훈</strong>보상 이런거 신청할수 있다고해서 질문 올립니다. 제가 지금 있는 부대에서 전역전까지... </dd> <dd class=\"answer\"> <strong class=\"spkn\">답변</strong> 시 한번에 하시는 것이 나으실 것이시기에.... 2. 전역 후 주소지 관할 <strong class=\"hl\">보훈</strong>지청에 구비서류 준비하셔서 신청하시면 됩니다. http://www.mpva.go.kr/support/support122.asp </dd> <dd class=\"txt_block\"> <span class=\"inline\"> </span> </dd> </dl> </li> <li> <dl> <dt class=\"question\"> <strong class=\"spkn\">질문</strong> <a href=\"https://kin.naver.com/qna/detail.nhn?d1id=6&amp;dirId=603&amp;docId=317067058&amp;qb=6rWt6rCA67O07ZuI7J2YIOuLrA==&amp;enc=utf8§ion=kin&amp;rank=3&amp;search_sort=0&amp;spq=0\" onclick=\"return goOtherCR(this,'a=kin*q.tit&amp;r=3&amp;i=10000009_000012e60f32&amp;u='+urlencode(this.href));\" target=\"_blank\"> <strong class=\"hl\">국가</strong>유공자 또는 <strong class=\"hl\">보훈</strong>대상자에 해당될수 </a> </dt> <dd class=\"txt_inline\">2018.12.20. </dd> <dd> 오늘로 전역한지4년의시간이 지났고 그때의 카톡내용등 자료가 남지않아 증명이힘들것같은데 이같은 사유로 <strong class=\"hl\">국가</strong>유공자또는 <strong class=\"hl\">보훈</strong>대상자에 제가 해당이될수있을까요? </dd> <dd class=\"answer\"> <strong class=\"spkn\">답변</strong> 결론적으로, 이하에서 설명하고 있는 바와 같이, <strong class=\"hl\">국가</strong>유공자(유족)가 되기 위해서는, ① 먼저 '<strong class=\"hl\">국가</strong>유공자(유족) 등록신청'을 하여 <strong class=\"hl\">국가보훈</strong>처로부터 그 상당 인과관계(즉... </dd> <dd class=\"txt_block\"> <span class=\"inline\"> </span> </dd> </dl> </li> <li> <dl> <dt class=\"question\"> <strong class=\"spkn\">질문</strong> <a href=\"https://kin.naver.com/qna/detail.nhn?d1id=6&amp;dirId=603&amp;docId=247051152&amp;qb=6rWt6rCA67O07ZuI7J2YIOuLrA==&amp;enc=utf8§ion=kin&amp;rank=4&amp;search_sort=0&amp;spq=0\" onclick=\"return goOtherCR(this,'a=kin*q.tit&amp;r=4&amp;i=10000009_00000eb9b390&amp;u='+urlencode(this.href));\" target=\"_blank\"> <strong class=\"hl\">국가</strong>유공자신청 후 <strong class=\"hl\">보훈</strong>대상자 </a> </dt> <dd class=\"txt_inline\">2016.03.01. </dd> <dd> 하고 신체검사 받으러 오라고하는데 어떻게된건가요? <strong class=\"hl\">국가</strong>유공자와 <strong class=\"hl\">보훈</strong>대상자 차이점은뭔가요 신체검사 받으러오라는데 검사만받으면 <strong class=\"hl\">보훈</strong>대상자가 되는건가요? </dd> <dd class=\"answer\"> <strong class=\"spkn\">답변</strong> 해당 <strong class=\"hl\">보훈</strong>지청에 <strong class=\"hl\">국가</strong>유공자 등록 신청 →<strong class=\"hl\">보훈</strong>심사위원회→요건해당 비해당여부결정 -요건해당일 경우 <strong class=\"hl\">보훈</strong>병원에서 상이등급에 대한신체검사를 받은 후 결정된... </dd> <dd class=\"txt_block\"> <span class=\"inline\"> </span> </dd> </dl> </li> <li> <dl> <dt class=\"question\"> <strong class=\"spkn\">질문</strong> <a href=\"https://kin.naver.com/qna/detail.nhn?d1id=11&amp;dirId=1102&amp;docId=276876216&amp;qb=6rWt6rCA67O07ZuI7J2YIOuLrA==&amp;enc=utf8§ion=kin&amp;rank=5&amp;search_sort=0&amp;spq=0\" onclick=\"return goOtherCR(this,'a=kin*q.tit&amp;r=5&amp;i=10000009_00001080cbb8&amp;u='+urlencode(this.href));\" target=\"_blank\"> <strong class=\"hl\">보훈의달</strong>이 뭐에요? </a> </dt> <dd class=\"txt_inline\">2017.05.18. </dd> <dd> 학교에서 글짓기 하는데 <strong class=\"hl\">보훈의달</strong>이 뭐에요? </dd> <dd class=\"answer\"> <strong class=\"spkn\">답변</strong> 및 애국정신을 함양하기 위해 지정한 것으로 현충일, 6ㆍ25 한국전쟁, 6ㆍ29 제2연평해전이 모두 일어난 6월을 기념하기 위해 <strong class=\"hl\">국가보훈</strong>처에서 지정했습니다 </dd> <dd class=\"txt_block\"> <span class=\"inline\"> </span> </dd> </dl> </li> <li> <dl> <dt class=\"question\"> <strong class=\"spkn\">질문</strong> <a href=\"https://kin.naver.com/qna/detail.nhn?d1id=6&amp;dirId=6130102&amp;docId=174119476&amp;qb=6rWt6rCA67O07ZuI7J2YIOuLrA==&amp;enc=utf8§ion=kin&amp;rank=6&amp;search_sort=0&amp;spq=0\" onclick=\"return goOtherCR(this,'a=kin*q.tit&amp;r=6&amp;i=10000009_00000a60da34&amp;u='+urlencode(this.href));\" target=\"_blank\"> 6월은 <strong class=\"hl\">보훈의 달</strong>이라고 하는데 <strong class=\"hl\">국가</strong>유공자들에게 헤택은? </a> </dt> <dd class=\"txt_inline\">2013.06.06. </dd> <dd> 많은분들이 <strong class=\"hl\">국가</strong>를 위해 헌신하신 <strong class=\"hl\">국가</strong>유공자분들께 6월 <strong class=\"hl\">보훈의 달</strong>에 어떤혜택이 돌아 가는지 알고 싶습니다 </dd> <dd class=\"answer\"> <strong class=\"spkn\">답변</strong> 기존의 혜택 이외에 \" 호국<strong class=\"hl\">보훈의 달</strong> \" 이라고 다른 혜택이 있지는 않습니다. </dd> <dd class=\"txt_block\"> <span class=\"inline\"> </span> </dd> </dl> </li> <li> <dl> <dt class=\"question\"> <strong class=\"spkn\">질문</strong> <a href=\"https://kin.naver.com/qna/detail.nhn?d1id=13&amp;dirId=130101&amp;docId=174811731&amp;qb=6rWt6rCA67O07ZuI7J2YIOuLrA==&amp;enc=utf8§ion=kin&amp;rank=7&amp;search_sort=0&amp;spq=0\" onclick=\"return goOtherCR(this,'a=kin*q.tit&amp;r=7&amp;i=10000009_00000a6b6a53&amp;u='+urlencode(this.href));\" target=\"_blank\"> 호국<strong class=\"hl\">보훈의 달</strong> 글짓기 </a> </dt> <dd class=\"txt_inline\">2013.06.16. </dd> <dd> 호국<strong class=\"hl\">보훈의 달</strong> 글짓기 내일인데 생각이 잘 안나요. 간단하게 글짓기 좀 해주세요 빨리요! 급해요! PLEASE!!!!!!!!!! </dd> <dd class=\"answer\"> <strong class=\"spkn\">답변</strong> 개의 <strong class=\"hl\">국가</strong>라는 인식을 갖게 만들었다. 이런 인식이 남아 있는 한 ‘한반도의 통일’... 호국<strong class=\"hl\">보훈의 달</strong> - 손병흥 순국선열 전몰장병 호국영령 명복 빌고 숭고한 위훈... </dd> <dd class=\"txt_block\"> <span class=\"inline\"> </span> </dd> </dl> </li> <li> <dl> <dt class=\"question\"> <strong class=\"spkn\">질문</strong> <a href=\"https://kin.naver.com/qna/detail.nhn?d1id=13&amp;dirId=130101&amp;docId=132065321&amp;qb=6rWt6rCA67O07ZuI7J2YIOuLrA==&amp;enc=utf8§ion=kin&amp;rank=8&amp;search_sort=0&amp;spq=0\" onclick=\"return goOtherCR(this,'a=kin*q.tit&amp;r=8&amp;i=10000009_34094df5e9ce&amp;u='+urlencode(this.href));\" target=\"_blank\"> 호국 <strong class=\"hl\">보훈의 달</strong> 글짓기 </a> </dt> <dd class=\"txt_inline\">2011.06.13. </dd> <dd> 제가 학교 대표로 호국<strong class=\"hl\">보훈의 달</strong> 글짓기에 나가는데 생각이 잘 안나서요 빠르고 자세한 내용을 써주신분께채택 해드립니다. 시간은 8시 30분 까지 입니다. 욕설 등... </dd> <dd class=\"answer\"> <strong class=\"spkn\">답변</strong> 호국<strong class=\"hl\">보훈의</strong> 뜻은 호국은 나라를 지키고 보호하려는 것기고 주로 외적의 침입에 대한... 안타까운 <strong class=\"hl\">국가</strong>이다.세계 제2차 대전이 벌어진 이후로 많은 분단 <strong class=\"hl\">국가</strong>들이 나타났다.... </dd> <dd class=\"txt_block\"> <span class=\"inline\"> </span> </dd> </dl> </li> <li> <dl> <dt class=\"question\"> <strong class=\"spkn\">질문</strong> <a href=\"https://kin.naver.com/qna/detail.nhn?d1id=13&amp;dirId=130101&amp;docId=198444498&amp;qb=6rWt6rCA67O07ZuI7J2YIOuLrA==&amp;enc=utf8§ion=kin&amp;rank=9&amp;search_sort=0&amp;spq=0\" onclick=\"return goOtherCR(this,'a=kin*q.tit&amp;r=9&amp;i=10000009_00000bd405d2&amp;u='+urlencode(this.href));\" target=\"_blank\"> 호국<strong class=\"hl\">보훈의 달</strong> 글짓기 </a> </dt> <dd class=\"txt_inline\">2014.05.24. </dd> <dd> 월요일에 학교에서 호국<strong class=\"hl\">보훈의 달</strong>을 맞이하여서,글짓기나 포스터 표어 등등..행사를 한다고 합니다. 저는 글짓기를 할건데..이놈에 학교가 원고지 10매내외로 쓰라고 합니다.... </dd> <dd class=\"answer\"> <strong class=\"spkn\">답변</strong> ■호국<strong class=\"hl\">보훈</strong>■이라는 말은 나라를 외적으로 부터 지키고 보호 하자 즉 나라를 아끼고... 개의 <strong class=\"hl\">국가</strong>라는 인식을 갖게 만들었다. 이런 인식이 남아 있는 한 ‘한반도의 통일’... </dd> <dd class=\"txt_block\"> <span class=\"inline\"> </span> </dd> </dl> </li> <li> <dl> <dt class=\"question\"> <strong class=\"spkn\">질문</strong> <a href=\"https://kin.naver.com/qna/detail.nhn?d1id=6&amp;dirId=61001&amp;docId=216427167&amp;qb=6rWt6rCA67O07ZuI7J2YIOuLrA==&amp;enc=utf8§ion=kin&amp;rank=10&amp;search_sort=0&amp;spq=0\" onclick=\"return goOtherCR(this,'a=kin*q.tit&amp;r=10&amp;i=10000009_00000ce66a9f&amp;u='+urlencode(this.href));\" target=\"_blank\"> <strong class=\"hl\">국가</strong>유공자및 <strong class=\"hl\">보훈</strong>대상자 </a> </dt> <dd class=\"txt_inline\">2015.01.25. </dd> <dd> 후에 10년동안 못받은 연금을 받을수 있는지 아니면 받을수 있는 해결책이 있는지 물어보고 싶습니다 <strong class=\"hl\">국가</strong>유공자및<strong class=\"hl\">보훈</strong>대상자의 따른 변호사도 있다고 들었습니다 </dd> <dd class=\"answer\"> <strong class=\"spkn\">답변</strong> 대해서는 <strong class=\"hl\">국가보훈</strong>처 홈페이지에서 관련 내용을 참고하거나 관할 <strong class=\"hl\">보훈</strong>(지)청 등에 문의하시기 바랍니다. <strong class=\"hl\">국가</strong>유공자및<strong class=\"hl\">보훈</strong>대상자의 따른 변호사도 있다고 들었습니다... </dd> <dd class=\"txt_block\"> <span class=\"inline\"> </span> </dd> </dl> </li> </ul>\n"
     ]
    }
   ],
   "source": [
    "from bs4 import BeautifulSoup\n",
    "import requests\n",
    "\n",
    "list = {}\n",
    "count = 1\n",
    "url = 'https://search.naver.com/search.naver'\n",
    "params = {\n",
    "\t'where' : 'kin',\n",
    "    'kin_display' : 10,\n",
    "\t'query' : '국가보훈의 달',\n",
    "    'kin_start' : count\n",
    "}\n",
    "resp = requests.get(url, params = params)\n",
    "soup = BeautifulSoup(resp.content, 'html.parser')\n",
    "\n",
    "ul_tag = soup.find('ul', class_ = 'type01')\n",
    "print(ul_tag)\n",
    "\n"
   ]
  },
  {
   "cell_type": "code",
   "execution_count": 7,
   "metadata": {
    "scrolled": true
   },
   "outputs": [],
   "source": [
    "li_tag_list = ul_tag.find_all('li', recursive = False)\n",
    "\n"
   ]
  },
  {
   "cell_type": "code",
   "execution_count": 10,
   "metadata": {},
   "outputs": [
    {
     "data": {
      "text/plain": [
       "[{'title': ' 국가유공자 자녀 보훈의달 포상휴가 ',\n",
       "  'qs': ' 제 아버지가 국가유공자이신데 제가 현재 군복무 중입니다 보훈의달에 국가유공자 자손한테 포상휴가를 준다는데 어떻게 받아야 하나요? 부대에 건의를 해야 받을 수... ',\n",
       "  'ans': ' 답변 국가유공자 자녀라고 6월 호국보훈에 달에 포상휴가 주라는 규정은 없습니다 자대에서 특별휴가로 줄수는 있으니 이는 부대 행보관에게 문의하세요 ',\n",
       "  'url': 'https://kin.naver.com/qna/detail.nhn?d1id=6&dirId=603&docId=291460190&qb=6rWt6rCA67O07ZuI7J2YIOuLrA==&enc=utf8§ion=kin&rank=1&search_sort=0&spq=0'},\n",
       " {'title': ' 국가유공자, 보훈보상대상자 신청 ',\n",
       "  'qs': ' 이제 전역까지 3달도 안남았는데 그냥 있기는 그렇고 국가유공자,보훈보상 이런거 신청할수 있다고해서 질문 올립니다. 제가 지금 있는 부대에서 전역전까지... ',\n",
       "  'ans': ' 답변 시 한번에 하시는 것이 나으실 것이시기에.... 2. 전역 후 주소지 관할 보훈지청에 구비서류 준비하셔서 신청하시면 됩니다. http://www.mpva.go.kr/support/support122.asp ',\n",
       "  'url': 'https://kin.naver.com/qna/detail.nhn?d1id=6&dirId=6080401&docId=291453922&qb=6rWt6rCA67O07ZuI7J2YIOuLrA==&enc=utf8§ion=kin&rank=2&search_sort=0&spq=0'},\n",
       " {'title': ' 국가유공자 또는 보훈대상자에 해당될수 ',\n",
       "  'qs': ' 오늘로 전역한지4년의시간이 지났고 그때의 카톡내용등 자료가 남지않아 증명이힘들것같은데 이같은 사유로 국가유공자또는 보훈대상자에 제가 해당이될수있을까요? ',\n",
       "  'ans': \" 답변 결론적으로, 이하에서 설명하고 있는 바와 같이, 국가유공자(유족)가 되기 위해서는, ① 먼저 '국가유공자(유족) 등록신청'을 하여 국가보훈처로부터 그 상당 인과관계(즉... \",\n",
       "  'url': 'https://kin.naver.com/qna/detail.nhn?d1id=6&dirId=603&docId=317067058&qb=6rWt6rCA67O07ZuI7J2YIOuLrA==&enc=utf8§ion=kin&rank=3&search_sort=0&spq=0'},\n",
       " {'title': ' 국가유공자신청 후 보훈대상자 ',\n",
       "  'qs': ' 하고 신체검사 받으러 오라고하는데 어떻게된건가요? 국가유공자와 보훈대상자 차이점은뭔가요 신체검사 받으러오라는데 검사만받으면 보훈대상자가 되는건가요? ',\n",
       "  'ans': ' 답변 해당 보훈지청에 국가유공자 등록 신청 →보훈심사위원회→요건해당 비해당여부결정 -요건해당일 경우 보훈병원에서 상이등급에 대한신체검사를 받은 후 결정된... ',\n",
       "  'url': 'https://kin.naver.com/qna/detail.nhn?d1id=6&dirId=603&docId=247051152&qb=6rWt6rCA67O07ZuI7J2YIOuLrA==&enc=utf8§ion=kin&rank=4&search_sort=0&spq=0'},\n",
       " {'title': ' 보훈의달이 뭐에요? ',\n",
       "  'qs': ' 학교에서 글짓기 하는데 보훈의달이 뭐에요? ',\n",
       "  'ans': ' 답변 및 애국정신을 함양하기 위해 지정한 것으로 현충일, 6ㆍ25 한국전쟁, 6ㆍ29 제2연평해전이 모두 일어난 6월을 기념하기 위해 국가보훈처에서 지정했습니다 ',\n",
       "  'url': 'https://kin.naver.com/qna/detail.nhn?d1id=11&dirId=1102&docId=276876216&qb=6rWt6rCA67O07ZuI7J2YIOuLrA==&enc=utf8§ion=kin&rank=5&search_sort=0&spq=0'},\n",
       " {'title': ' 6월은 보훈의 달이라고 하는데 국가유공자들에게 헤택은? ',\n",
       "  'qs': ' 많은분들이 국가를 위해 헌신하신 국가유공자분들께 6월 보훈의 달에 어떤혜택이 돌아 가는지 알고 싶습니다 ',\n",
       "  'ans': ' 답변 기존의 혜택 이외에 \" 호국보훈의 달 \" 이라고 다른 혜택이 있지는 않습니다. ',\n",
       "  'url': 'https://kin.naver.com/qna/detail.nhn?d1id=6&dirId=6130102&docId=174119476&qb=6rWt6rCA67O07ZuI7J2YIOuLrA==&enc=utf8§ion=kin&rank=6&search_sort=0&spq=0'},\n",
       " {'title': ' 호국보훈의 달 글짓기 ',\n",
       "  'qs': ' 호국보훈의 달 글짓기 내일인데 생각이 잘 안나요. 간단하게 글짓기 좀 해주세요 빨리요! 급해요! PLEASE!!!!!!!!!! ',\n",
       "  'ans': ' 답변 개의 국가라는 인식을 갖게 만들었다. 이런 인식이 남아 있는 한 ‘한반도의 통일’... 호국보훈의 달 - 손병흥 순국선열 전몰장병 호국영령 명복 빌고 숭고한 위훈... ',\n",
       "  'url': 'https://kin.naver.com/qna/detail.nhn?d1id=13&dirId=130101&docId=174811731&qb=6rWt6rCA67O07ZuI7J2YIOuLrA==&enc=utf8§ion=kin&rank=7&search_sort=0&spq=0'},\n",
       " {'title': ' 호국 보훈의 달 글짓기 ',\n",
       "  'qs': ' 제가 학교 대표로 호국보훈의 달 글짓기에 나가는데 생각이 잘 안나서요 빠르고 자세한 내용을 써주신분께채택 해드립니다. 시간은 8시 30분 까지 입니다. 욕설 등... ',\n",
       "  'ans': ' 답변 호국보훈의 뜻은 호국은 나라를 지키고 보호하려는 것기고 주로 외적의 침입에 대한... 안타까운 국가이다.세계 제2차 대전이 벌어진 이후로 많은 분단 국가들이 나타났다.... ',\n",
       "  'url': 'https://kin.naver.com/qna/detail.nhn?d1id=13&dirId=130101&docId=132065321&qb=6rWt6rCA67O07ZuI7J2YIOuLrA==&enc=utf8§ion=kin&rank=8&search_sort=0&spq=0'},\n",
       " {'title': ' 호국보훈의 달 글짓기 ',\n",
       "  'qs': ' 월요일에 학교에서 호국보훈의 달을 맞이하여서,글짓기나 포스터 표어 등등..행사를 한다고 합니다. 저는 글짓기를 할건데..이놈에 학교가 원고지 10매내외로 쓰라고 합니다.... ',\n",
       "  'ans': ' 답변 ■호국보훈■이라는 말은 나라를 외적으로 부터 지키고 보호 하자 즉 나라를 아끼고... 개의 국가라는 인식을 갖게 만들었다. 이런 인식이 남아 있는 한 ‘한반도의 통일’... ',\n",
       "  'url': 'https://kin.naver.com/qna/detail.nhn?d1id=13&dirId=130101&docId=198444498&qb=6rWt6rCA67O07ZuI7J2YIOuLrA==&enc=utf8§ion=kin&rank=9&search_sort=0&spq=0'},\n",
       " {'title': ' 국가유공자및 보훈대상자 ',\n",
       "  'qs': ' 후에 10년동안 못받은 연금을 받을수 있는지 아니면 받을수 있는 해결책이 있는지 물어보고 싶습니다 국가유공자및보훈대상자의 따른 변호사도 있다고 들었습니다 ',\n",
       "  'ans': ' 답변 대해서는 국가보훈처 홈페이지에서 관련 내용을 참고하거나 관할 보훈(지)청 등에 문의하시기 바랍니다. 국가유공자및보훈대상자의 따른 변호사도 있다고 들었습니다... ',\n",
       "  'url': 'https://kin.naver.com/qna/detail.nhn?d1id=6&dirId=61001&docId=216427167&qb=6rWt6rCA67O07ZuI7J2YIOuLrA==&enc=utf8§ion=kin&rank=10&search_sort=0&spq=0'}]"
      ]
     },
     "execution_count": 10,
     "metadata": {},
     "output_type": "execute_result"
    }
   ],
   "source": [
    "kin_list = []\n",
    "\n",
    "for li_tag in li_tag_list:\n",
    "    a_tag = li_tag.find('dt').find('a')\n",
    "    title = a_tag.text\n",
    "    \n",
    "    content_box = li_tag.find_all('dd')\n",
    "    \n",
    "    qs = content_box[1].text\n",
    "    ans = content_box[2].text\n",
    "    url = a_tag['href']\n",
    "    #url = a_tag.attrs['href']\n",
    "    \n",
    "    kin_dict = {\n",
    "        'title' : title,\n",
    "        'qs' : qs,\n",
    "        'ans' : ans,\n",
    "        'url' : url\n",
    "    }\n",
    "    kin_list.append(kin_dict)\n",
    "    \n",
    "kin_list"
   ]
  },
  {
   "cell_type": "code",
   "execution_count": 12,
   "metadata": {},
   "outputs": [
    {
     "data": {
      "text/plain": [
       "{'where': 'kin', 'kin_display': 10, 'query': '국가보훈의 달', 'kin_start': 1}"
      ]
     },
     "execution_count": 12,
     "metadata": {},
     "output_type": "execute_result"
    }
   ],
   "source": [
    "params"
   ]
  },
  {
   "cell_type": "markdown",
   "metadata": {},
   "source": [
    "# function"
   ]
  },
  {
   "cell_type": "code",
   "execution_count": 30,
   "metadata": {},
   "outputs": [],
   "source": [
    "from bs4 import BeautifulSoup\n",
    "import requests\n",
    "\n",
    "list = {}\n",
    "url = 'https://search.naver.com/search.naver'\n",
    "params = {\n",
    "\t'where' : 'kin',\n",
    "    'kin_display' : 10,\n",
    "\t'query' : '국가보훈의 달',\n",
    "    'kin_start' : 1\n",
    "}\n",
    "\n",
    "def parse_kin_page(url, params):\n",
    "    kin_list = []\n",
    "    resp = requests.get(url, params)\n",
    "    soup = BeautifulSoup(resp.content)\n",
    "    ul_tag = soup.find('ul', class_ = 'type01')\n",
    "    li_tag_list = soup.find_all('li')\n",
    "\n",
    "    for li_tag in li_tag_list:\n",
    "        a_tag = li_tag.find('dt').find('a')\n",
    "        title = a_tag.text\n",
    "\n",
    "        content_box = li_tag.find_all('dd')\n",
    "\n",
    "        qs = content_box[1].text\n",
    "        ans = content_box[2].text\n",
    "        url = a_tag['href']\n",
    "        #url = a_tag.attrs['href']\n",
    "\n",
    "        kin_dict = {\n",
    "            'title' : title,\n",
    "            'qs' : qs,\n",
    "            'ans' : ans,\n",
    "            'url' : url\n",
    "        }\n",
    "   \n",
    "        kin_list.append(kin_dict)\n",
    "    return kin_list\n"
   ]
  },
  {
   "cell_type": "code",
   "execution_count": 34,
   "metadata": {},
   "outputs": [],
   "source": [
    "def crawl_kin_with_range(base_url = url, query = '', where = 'nexearch', start_page = 1, end_page = 50): #base_url = url << default value\n",
    "    kin_lst = []\n",
    "    \n",
    "    for i in range(start_page, end_page, 10):\n",
    "        params['kin_start'] = i\n",
    "        kin_lst.extend(parse_kin_page(url, params))\n",
    "    return kin_list\n",
    "\n"
   ]
  },
  {
   "cell_type": "code",
   "execution_count": 35,
   "metadata": {},
   "outputs": [
    {
     "ename": "AttributeError",
     "evalue": "'NoneType' object has no attribute 'find'",
     "output_type": "error",
     "traceback": [
      "\u001b[1;31m---------------------------------------------------------------------------\u001b[0m",
      "\u001b[1;31mAttributeError\u001b[0m                            Traceback (most recent call last)",
      "\u001b[1;32m<ipython-input-35-b4ccdee4d241>\u001b[0m in \u001b[0;36m<module>\u001b[1;34m\u001b[0m\n\u001b[0;32m      1\u001b[0m \u001b[1;33m\u001b[0m\u001b[0m\n\u001b[1;32m----> 2\u001b[1;33m \u001b[0mkin_list\u001b[0m \u001b[1;33m=\u001b[0m \u001b[0mcrawl_kin_with_range\u001b[0m\u001b[1;33m(\u001b[0m\u001b[0mstart_page\u001b[0m \u001b[1;33m=\u001b[0m \u001b[1;36m1\u001b[0m\u001b[1;33m,\u001b[0m \u001b[0mend_page\u001b[0m \u001b[1;33m=\u001b[0m \u001b[1;36m50\u001b[0m\u001b[1;33m)\u001b[0m\u001b[1;33m\u001b[0m\u001b[1;33m\u001b[0m\u001b[0m\n\u001b[0m",
      "\u001b[1;32m<ipython-input-34-198d167367e8>\u001b[0m in \u001b[0;36mcrawl_kin_with_range\u001b[1;34m(base_url, params, start_page, end_page)\u001b[0m\n\u001b[0;32m      3\u001b[0m     \u001b[1;32mfor\u001b[0m \u001b[0mi\u001b[0m \u001b[1;32min\u001b[0m \u001b[0mrange\u001b[0m\u001b[1;33m(\u001b[0m\u001b[0mstart_page\u001b[0m\u001b[1;33m,\u001b[0m \u001b[0mend_page\u001b[0m\u001b[1;33m,\u001b[0m \u001b[1;36m10\u001b[0m\u001b[1;33m)\u001b[0m\u001b[1;33m:\u001b[0m\u001b[1;33m\u001b[0m\u001b[1;33m\u001b[0m\u001b[0m\n\u001b[0;32m      4\u001b[0m         \u001b[0mparams\u001b[0m\u001b[1;33m[\u001b[0m\u001b[1;34m'kin_start'\u001b[0m\u001b[1;33m]\u001b[0m \u001b[1;33m=\u001b[0m \u001b[0mi\u001b[0m\u001b[1;33m\u001b[0m\u001b[1;33m\u001b[0m\u001b[0m\n\u001b[1;32m----> 5\u001b[1;33m         \u001b[0mkin_lst\u001b[0m\u001b[1;33m.\u001b[0m\u001b[0mextend\u001b[0m\u001b[1;33m(\u001b[0m\u001b[0mparse_kin_page\u001b[0m\u001b[1;33m(\u001b[0m\u001b[0murl\u001b[0m\u001b[1;33m,\u001b[0m \u001b[0mparams\u001b[0m\u001b[1;33m)\u001b[0m\u001b[1;33m)\u001b[0m\u001b[1;33m\u001b[0m\u001b[1;33m\u001b[0m\u001b[0m\n\u001b[0m\u001b[0;32m      6\u001b[0m     \u001b[1;32mreturn\u001b[0m \u001b[0mkin_list\u001b[0m\u001b[1;33m\u001b[0m\u001b[1;33m\u001b[0m\u001b[0m\n\u001b[0;32m      7\u001b[0m \u001b[1;33m\u001b[0m\u001b[0m\n",
      "\u001b[1;32m<ipython-input-30-633c2a1daa49>\u001b[0m in \u001b[0;36mparse_kin_page\u001b[1;34m(url, params)\u001b[0m\n\u001b[0;32m     19\u001b[0m \u001b[1;33m\u001b[0m\u001b[0m\n\u001b[0;32m     20\u001b[0m     \u001b[1;32mfor\u001b[0m \u001b[0mli_tag\u001b[0m \u001b[1;32min\u001b[0m \u001b[0mli_tag_list\u001b[0m\u001b[1;33m:\u001b[0m\u001b[1;33m\u001b[0m\u001b[1;33m\u001b[0m\u001b[0m\n\u001b[1;32m---> 21\u001b[1;33m         \u001b[0ma_tag\u001b[0m \u001b[1;33m=\u001b[0m \u001b[0mli_tag\u001b[0m\u001b[1;33m.\u001b[0m\u001b[0mfind\u001b[0m\u001b[1;33m(\u001b[0m\u001b[1;34m'dt'\u001b[0m\u001b[1;33m)\u001b[0m\u001b[1;33m.\u001b[0m\u001b[0mfind\u001b[0m\u001b[1;33m(\u001b[0m\u001b[1;34m'a'\u001b[0m\u001b[1;33m)\u001b[0m\u001b[1;33m\u001b[0m\u001b[1;33m\u001b[0m\u001b[0m\n\u001b[0m\u001b[0;32m     22\u001b[0m         \u001b[0mtitle\u001b[0m \u001b[1;33m=\u001b[0m \u001b[0ma_tag\u001b[0m\u001b[1;33m.\u001b[0m\u001b[0mtext\u001b[0m\u001b[1;33m\u001b[0m\u001b[1;33m\u001b[0m\u001b[0m\n\u001b[0;32m     23\u001b[0m \u001b[1;33m\u001b[0m\u001b[0m\n",
      "\u001b[1;31mAttributeError\u001b[0m: 'NoneType' object has no attribute 'find'"
     ]
    }
   ],
   "source": [
    "\n",
    "kin_list = crawl_kin_with_range(start_page = 1, end_page = 50)"
   ]
  },
  {
   "cell_type": "markdown",
   "metadata": {},
   "source": [
    "# function"
   ]
  },
  {
   "cell_type": "code",
   "execution_count": null,
   "metadata": {},
   "outputs": [],
   "source": []
  }
 ],
 "metadata": {
  "kernelspec": {
   "display_name": "Python 3",
   "language": "python",
   "name": "python3"
  },
  "language_info": {
   "codemirror_mode": {
    "name": "ipython",
    "version": 3
   },
   "file_extension": ".py",
   "mimetype": "text/x-python",
   "name": "python",
   "nbconvert_exporter": "python",
   "pygments_lexer": "ipython3",
   "version": "3.7.3"
  }
 },
 "nbformat": 4,
 "nbformat_minor": 2
}
