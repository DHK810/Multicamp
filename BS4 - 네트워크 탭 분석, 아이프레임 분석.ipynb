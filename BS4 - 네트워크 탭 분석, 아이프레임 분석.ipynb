{
 "cells": [
  {
   "cell_type": "code",
   "execution_count": null,
   "metadata": {},
   "outputs": [],
   "source": [
    "# bitcoin_url = \"https://crix-api-cdn.upbit.com/v1/crix/trades/days\"\n",
    "time_list = ['240', '60', '30', '10']\n",
    "bitcoin_url = \"https://crix-api-cdn.upbit.com/v1/crix/candles/minutes/\"\n",
    "\n",
    "url_list = []\n",
    "for time in time_list:\n",
    "    url_list.append(\"{}{}\".format(bitcoin_url, time))\n",
    "\n",
    "print(url_list)\n",
    "\n",
    "count = 200\n",
    "params ={\n",
    "    'code': 'CRIX.UPBIT.KRW-BTC',\n",
    "    'count': count\n",
    "}"
   ]
  },
  {
   "cell_type": "code",
   "execution_count": null,
   "metadata": {},
   "outputs": [],
   "source": [
    "resp = requests.get(bitcoin_url, params=params)\n",
    "resp"
   ]
  },
  {
   "cell_type": "markdown",
   "metadata": {},
   "source": [
    "# 블로그 상세페이지 가져오기"
   ]
  },
  {
   "cell_type": "code",
   "execution_count": null,
   "metadata": {},
   "outputs": [],
   "source": [
    "blog_url = \"https://search.naver.com/search.naver\"\n",
    "params = dict(\n",
    "    where='post',\n",
    "    query=\"놀란 라이언\"\n",
    ")"
   ]
  },
  {
   "cell_type": "code",
   "execution_count": null,
   "metadata": {},
   "outputs": [],
   "source": [
    "resp = requests.get(blog_url, params=params)\n",
    "resp"
   ]
  },
  {
   "cell_type": "code",
   "execution_count": null,
   "metadata": {
    "scrolled": true
   },
   "outputs": [],
   "source": [
    "soup = BeautifulSoup(resp.content)\n",
    "blog_list = soup.find_all('li', class_='sh_blog_top')\n",
    "for blog in blog_list:\n",
    "    a_tag = blog.find('a')\n",
    "    link = a_tag['href']\n",
    "    detail_resp = requests.get(link)\n",
    "#     print(detail_resp)\n",
    "    detail_soup = BeautifulSoup(detail_resp.content)\n",
    "#     print(detail_soup)\n",
    "    detail_iframe = detail_soup.find('iframe', id=\"mainFrame\")\n",
    "    \n",
    "    iframe_src = detail_iframe['src']\n",
    "    iframe_src = \"https://blog.naver.com{}\".format(iframe_src)\n",
    "    print(iframe_src)\n",
    "#     print(detail_iframe)\n",
    "    iframe_resp = requests.get(iframe_src)\n",
    "    iframe_soup = BeautifulSoup(iframe_resp.content)\n",
    "    blog_post = iframe_soup.find('div', class_=\"se_doc_viewer se_body_wrap se_theme_transparent\")\n",
    "    print(blog_post)\n",
    "    break"
   ]
  },
  {
   "cell_type": "code",
   "execution_count": null,
   "metadata": {},
   "outputs": [],
   "source": []
  },
  {
   "cell_type": "markdown",
   "metadata": {},
   "source": [
    "### iframe 실습"
   ]
  },
  {
   "cell_type": "code",
   "execution_count": null,
   "metadata": {},
   "outputs": [],
   "source": [
    "resp = requests.get(\"https://blog.naver.com/PostView.nhn?blogId=jjys9047&logNo=221306678552&from=search&redirect=Log&widgetTypeCall=true&topReferer=http%3A%2F%2Flocalhost%3A8888%2Fnotebooks%2FDesktop%2F%25EA%25B3%25B5%25EB%25B6%2580%25EC%259E%2590%25EB%25A3%258C%2F%25EC%2588%2598%25EA%25B0%2595%25EC%2583%259D%25EC%259E%2590%25EB%25A3%258C%2Fipynb.ipynb&directAccess=false%22\")"
   ]
  },
  {
   "cell_type": "code",
   "execution_count": null,
   "metadata": {},
   "outputs": [],
   "source": [
    "resp"
   ]
  },
  {
   "cell_type": "code",
   "execution_count": null,
   "metadata": {},
   "outputs": [],
   "source": [
    "soup3 = BeautifulSoup(resp.content, 'html.parser')\n",
    "soup3"
   ]
  },
  {
   "cell_type": "code",
   "execution_count": null,
   "metadata": {},
   "outputs": [],
   "source": [
    "post_content = soup3.find('div', class_=\"se_doc_viewer se_body_wrap se_theme_transparent\")\n",
    "post_content"
   ]
  },
  {
   "cell_type": "code",
   "execution_count": null,
   "metadata": {},
   "outputs": [],
   "source": []
  },
  {
   "cell_type": "code",
   "execution_count": null,
   "metadata": {},
   "outputs": [],
   "source": []
  },
  {
   "cell_type": "code",
   "execution_count": null,
   "metadata": {},
   "outputs": [],
   "source": []
  },
  {
   "cell_type": "code",
   "execution_count": null,
   "metadata": {},
   "outputs": [],
   "source": []
  }
 ],
 "metadata": {
  "kernelspec": {
   "display_name": "Python 3",
   "language": "python",
   "name": "python3"
  },
  "language_info": {
   "codemirror_mode": {
    "name": "ipython",
    "version": 3
   },
   "file_extension": ".py",
   "mimetype": "text/x-python",
   "name": "python",
   "nbconvert_exporter": "python",
   "pygments_lexer": "ipython3",
   "version": "3.7.3"
  }
 },
 "nbformat": 4,
 "nbformat_minor": 2
}
