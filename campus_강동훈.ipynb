{
 "cells": [
  {
   "cell_type": "code",
   "execution_count": 1,
   "metadata": {},
   "outputs": [
    {
     "data": {
      "text/plain": [
       "{'name': '동훈', 'age': 27, 'phone': '01099319914'}"
      ]
     },
     "execution_count": 1,
     "metadata": {},
     "output_type": "execute_result"
    }
   ],
   "source": [
    "\n",
    "def profile_to_dict(name, age, phone):\n",
    "    profile_list = {\n",
    "        'name' : name,\n",
    "        'age' : age,\n",
    "        'phone' : phone\n",
    "    }\n",
    "    return profile_list\n",
    "    \n",
    "profile_to_dict('동훈', 27, '01099319914')"
   ]
  },
  {
   "cell_type": "code",
   "execution_count": 128,
   "metadata": {},
   "outputs": [
    {
     "name": "stdout",
     "output_type": "stream",
     "text": [
      "50\n"
     ]
    }
   ],
   "source": [
    "import requests\n",
    "from bs4 import BeautifulSoup\n",
    "\n",
    "\n",
    "count = 1\n",
    "news_list = []\n",
    "for i in range(5):\n",
    "    BASE_URL = 'https://search.naver.com/search.naver?where=news'\n",
    "\n",
    "    params = {\n",
    "        'query' : '머신러닝',\n",
    "        'start' : count\n",
    "    }\n",
    "    resp = requests.get(BASE_URL, params)\n",
    "    soup = BeautifulSoup(resp.content)\n",
    "    all_news = soup.find('ul', class_ = 'type01')\n",
    "    #print(all_news)\n",
    "\n",
    "    news_headlines = all_news.find_all('dl')\n",
    "    for dl_tag in news_headlines:\n",
    "        title = dl_tag.find('dt').text#li_tag.find('dl').find('dt').find('a')['title']\n",
    "        if type(title) == None:\n",
    "            pass\n",
    "        link = dl_tag.find('a').attrs['href']#li_tag.find('dl').find('dt').find('a')['title']\n",
    "        news  = {\n",
    "             'title' : title,\n",
    "             'link' : link\n",
    "        }\n",
    "        news_list.append(news)\n",
    "    count += 10\n",
    "    \n",
    "print(len(news_list))\n"
   ]
  },
  {
   "cell_type": "code",
   "execution_count": null,
   "metadata": {},
   "outputs": [],
   "source": []
  },
  {
   "cell_type": "code",
   "execution_count": null,
   "metadata": {},
   "outputs": [],
   "source": []
  }
 ],
 "metadata": {
  "kernelspec": {
   "display_name": "Python 3",
   "language": "python",
   "name": "python3"
  },
  "language_info": {
   "codemirror_mode": {
    "name": "ipython",
    "version": 3
   },
   "file_extension": ".py",
   "mimetype": "text/x-python",
   "name": "python",
   "nbconvert_exporter": "python",
   "pygments_lexer": "ipython3",
   "version": "3.7.3"
  }
 },
 "nbformat": 4,
 "nbformat_minor": 2
}
