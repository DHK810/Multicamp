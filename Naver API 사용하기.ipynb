{
 "cells": [
  {
   "cell_type": "code",
   "execution_count": null,
   "metadata": {},
   "outputs": [],
   "source": [
    "import requests\n"
   ]
  },
  {
   "cell_type": "code",
   "execution_count": null,
   "metadata": {},
   "outputs": [],
   "source": [
    "AUTH_URL = 'https://nid.naver.com/oauth2.0/authorize'\n",
    "\n",
    "CLIENT_ID = ''\n",
    "CLIENT_SECRET = ''\n",
    "\n",
    "redirect_uri = 'http://127.0.0.1:8080'\n",
    "\n",
    "params = {\n",
    "    'client_id': CLIENT_ID,\n",
    "    'response_type': 'code',\n",
    "    'redirect_uri': redirect_uri,\n",
    "    'state': 'abcde12345'\n",
    "}\n",
    "# ?client_id={클라이언트 아이디}&\n",
    "# response_type=code&\n",
    "# redirect_uri={개발자 센터에 등록한 콜백 URL(URL 인코딩)}\n",
    "# &state={상태 토큰}\n"
   ]
  },
  {
   "cell_type": "code",
   "execution_count": null,
   "metadata": {},
   "outputs": [],
   "source": [
    "resp = requests.get(AUTH_URL, params)"
   ]
  },
  {
   "cell_type": "code",
   "execution_count": null,
   "metadata": {
    "scrolled": true
   },
   "outputs": [],
   "source": [
    "resp.url"
   ]
  },
  {
   "cell_type": "code",
   "execution_count": null,
   "metadata": {},
   "outputs": [],
   "source": [
    "# ?code=5tvWWINjGfZI6Wj81B&\n",
    "# state=abcde12345"
   ]
  },
  {
   "cell_type": "code",
   "execution_count": null,
   "metadata": {},
   "outputs": [],
   "source": [
    "TOKEN_URL = 'https://nid.naver.com/oauth2.0/token'\n",
    "params = {\n",
    "    'client_id': CLIENT_ID,\n",
    "    'client_secret': CLIENT_SECRET,\n",
    "    'grant_type': 'authorization_code',\n",
    "    'state': 'abcde12345',\n",
    "    'code': '5tvWWINjGfZI6Wj81B'\n",
    "}\n",
    "\n",
    "# ?client_id={클라이언트 아이디}\n",
    "# &client_secret={클라이언트 시크릿}\n",
    "# &grant_type=authorization_code\n",
    "# &state={상태 토큰}\n",
    "# &code={인증 코드}"
   ]
  },
  {
   "cell_type": "code",
   "execution_count": null,
   "metadata": {},
   "outputs": [],
   "source": [
    "resp = requests.get(TOKEN_URL, params)"
   ]
  },
  {
   "cell_type": "code",
   "execution_count": null,
   "metadata": {},
   "outputs": [],
   "source": [
    "resp"
   ]
  },
  {
   "cell_type": "code",
   "execution_count": null,
   "metadata": {
    "scrolled": true
   },
   "outputs": [],
   "source": [
    "json_text = resp.json()\n",
    "json_text"
   ]
  },
  {
   "cell_type": "code",
   "execution_count": null,
   "metadata": {},
   "outputs": [],
   "source": [
    "access_token = json_text['access_token']\n",
    "refresh_token = json_text['refresh_token']\n",
    "token_type = json_text['token_type']\n",
    "expires_in = json_text['expires_in']"
   ]
  },
  {
   "cell_type": "code",
   "execution_count": null,
   "metadata": {},
   "outputs": [],
   "source": [
    "PROFILE_URL = 'https://openapi.naver.com/v1/nid/me'\n",
    "\n",
    "headers = {\n",
    "    'Authorization': \"{} {}\".format(token_type, access_token)\n",
    "}\n"
   ]
  },
  {
   "cell_type": "code",
   "execution_count": null,
   "metadata": {},
   "outputs": [],
   "source": [
    "resp = requests.get(PROFILE_URL, headers=headers)"
   ]
  },
  {
   "cell_type": "code",
   "execution_count": null,
   "metadata": {},
   "outputs": [],
   "source": [
    "resp"
   ]
  },
  {
   "cell_type": "code",
   "execution_count": null,
   "metadata": {},
   "outputs": [],
   "source": [
    "resp.json()"
   ]
  },
  {
   "cell_type": "code",
   "execution_count": null,
   "metadata": {},
   "outputs": [],
   "source": [
    "cgr_list_url = \"https://openapi.naver.com/blog/listCategory.json\"\n",
    "post_url = \"https://openapi.naver.com/blog/writePost.json\"\n",
    "\n"
   ]
  },
  {
   "cell_type": "code",
   "execution_count": null,
   "metadata": {},
   "outputs": [],
   "source": [
    "resp = requests.get(cgr_list_url, headers=headers)\n",
    "resp"
   ]
  },
  {
   "cell_type": "code",
   "execution_count": null,
   "metadata": {},
   "outputs": [],
   "source": [
    "resp.json()"
   ]
  },
  {
   "cell_type": "code",
   "execution_count": null,
   "metadata": {},
   "outputs": [],
   "source": []
  }
 ],
 "metadata": {
  "kernelspec": {
   "display_name": "Python 3",
   "language": "python",
   "name": "python3"
  },
  "language_info": {
   "codemirror_mode": {
    "name": "ipython",
    "version": 3
   },
   "file_extension": ".py",
   "mimetype": "text/x-python",
   "name": "python",
   "nbconvert_exporter": "python",
   "pygments_lexer": "ipython3",
   "version": "3.6.8"
  }
 },
 "nbformat": 4,
 "nbformat_minor": 2
}
