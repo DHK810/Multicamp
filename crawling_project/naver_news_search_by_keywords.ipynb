{
 "cells": [
  {
   "cell_type": "markdown",
   "metadata": {},
   "source": [
    "# 네이버 키워드로 뉴스 수집하기 "
   ]
  },
  {
   "cell_type": "code",
   "execution_count": 1,
   "metadata": {},
   "outputs": [],
   "source": [
    "import requests\n",
    "from bs4 import BeautifulSoup"
   ]
  },
  {
   "cell_type": "code",
   "execution_count": 2,
   "metadata": {},
   "outputs": [],
   "source": [
    "NAVER_SEARCH_URL = \"https://search.naver.com/search.naver\"\n",
    "query = \"무역전쟁\"\n",
    "params = {\n",
    "    'where': 'news',\n",
    "    'query': query\n",
    "}\n"
   ]
  },
  {
   "cell_type": "code",
   "execution_count": 3,
   "metadata": {},
   "outputs": [
    {
     "data": {
      "text/plain": [
       "200"
      ]
     },
     "execution_count": 3,
     "metadata": {},
     "output_type": "execute_result"
    }
   ],
   "source": [
    "resp = requests.get(NAVER_SEARCH_URL, params=params)\n",
    "resp.status_code"
   ]
  },
  {
   "cell_type": "markdown",
   "metadata": {},
   "source": [
    "## soup만들기"
   ]
  },
  {
   "cell_type": "code",
   "execution_count": null,
   "metadata": {},
   "outputs": [],
   "source": [
    "soup = BeautifulSoup(resp.content, 'html.parser')\n"
   ]
  },
  {
   "cell_type": "code",
   "execution_count": null,
   "metadata": {},
   "outputs": [],
   "source": [
    "ul_contents = soup.find('ul', class_='type01')"
   ]
  },
  {
   "cell_type": "code",
   "execution_count": null,
   "metadata": {},
   "outputs": [],
   "source": [
    "ul_contents.contents"
   ]
  },
  {
   "cell_type": "code",
   "execution_count": null,
   "metadata": {},
   "outputs": [],
   "source": [
    "new_ul = []\n",
    "for content in ul_contents.contents:\n",
    "    if not str(content).strip():\n",
    "        continue\n",
    "    new_ul.append(content)\n"
   ]
  },
  {
   "cell_type": "code",
   "execution_count": null,
   "metadata": {},
   "outputs": [],
   "source": [
    "len(new_ul)"
   ]
  },
  {
   "cell_type": "code",
   "execution_count": null,
   "metadata": {},
   "outputs": [],
   "source": [
    "news_list = []\n",
    "\n",
    "for li in new_ul:\n",
    "    news_dict = {}\n",
    "    a_tag = li.find('dl').find('dt').find('a')\n",
    "#     print(a_tag)\n",
    "    \n",
    "    news_dict['link'] = a_tag['href']\n",
    "    \n",
    "    detail_resp = requests.get(news_dict['link'])\n",
    "    detail_soup = BeautifulSoup(detail_resp.content, 'html.parser')\n",
    "    \n",
    "    \n",
    "    news_dict['title'] = a_tag.text\n",
    "    \n",
    "#     print(news_dict)\n",
    "    news_list.append(news_dict)\n",
    "    \n",
    "print(news_list)"
   ]
  },
  {
   "cell_type": "code",
   "execution_count": null,
   "metadata": {},
   "outputs": [],
   "source": [
    "from pprint import pprint\n",
    "pprint(news_list)"
   ]
  },
  {
   "cell_type": "markdown",
   "metadata": {},
   "source": [
    "# 실습예제"
   ]
  },
  {
   "cell_type": "markdown",
   "metadata": {},
   "source": [
    "###  10 페이지 이동"
   ]
  },
  {
   "cell_type": "code",
   "execution_count": 4,
   "metadata": {},
   "outputs": [
    {
     "name": "stdout",
     "output_type": "stream",
     "text": [
      "http://www.segye.com/content/html/2019/06/02/20190602507402.html?OutUrl=naver 에 들어갑니다.\n",
      "http://news.einfomax.co.kr/news/articleView.html?idxno=4032751 에 들어갑니다.\n",
      "http://news.einfomax.co.kr/news/articleView.html?idxno=4032890 에 들어갑니다.\n",
      "http://www.dt.co.kr/contents.html?article_no=2019060302109957607012&ref=naver 에 들어갑니다.\n",
      "http://news.mk.co.kr/newsRead.php?year=2019&no=375487 에 들어갑니다.\n",
      "http://www.fnnews.com/news/201906022014497975 에 들어갑니다.\n",
      "http://news.khan.co.kr/kh_news/khan_art_view.html?artid=201906031531001&code=960100 에 들어갑니다.\n",
      "http://www.inews24.com/view/1183114 에 들어갑니다.\n",
      "http://news.jtbc.joins.com/article/article.aspx?news_id=NB11827155 에 들어갑니다.\n",
      "http://www.newsis.com/view/?id=NISX20190603_0000669509&cID=10101&pID=10100 에 들어갑니다.\n",
      "http://www.edaily.co.kr/news/newspath.asp?newsid=01118486622517784 에 들어갑니다.\n",
      "http://www.hani.co.kr/arti/economy/marketing/896335.html 에 들어갑니다.\n",
      "http://weeklytrade.co.kr/news/view.html?section=1&category=136&item=&no=53378 에 들어갑니다.\n",
      "https://www.sedaily.com/NewsView/1VK9FMVOKS 에 들어갑니다.\n",
      "http://www.inews24.com/view/1183071 에 들어갑니다.\n",
      "https://view.asiae.co.kr/news/view.htm?idxno=2019060314383693810 에 들어갑니다.\n",
      "http://yna.kr/AKR20190603073700074?did=1195m 에 들어갑니다.\n",
      "http://www.joseilbo.com/news/news_read.php?uid=377813&class=42&grp= 에 들어갑니다.\n",
      "http://www.kidd.co.kr/news/209219 에 들어갑니다.\n",
      "http://weeklytrade.co.kr/news/view.html?section=1&category=136&item=&no=53379 에 들어갑니다.\n",
      "https://view.asiae.co.kr/news/view.htm?idxno=2019060312302990772 에 들어갑니다.\n",
      "http://www.pressian.com/news/article.html?no=243346&utm_source=naver&utm_medium=search 에 들어갑니다.\n",
      "http://www.newsfc.co.kr/news/articleView.html?idxno=36546 에 들어갑니다.\n",
      "http://www.inews24.com/view/1183524 에 들어갑니다.\n",
      "http://www.etnews.com/20190603000325 에 들어갑니다.\n",
      "http://news.mt.co.kr/mtview.php?no=2019060310502547099 에 들어갑니다.\n",
      "http://news.mtn.co.kr/newscenter/news_viewer.mtn?gidx=2019060310351145084 에 들어갑니다.\n",
      "http://www.edaily.co.kr/news/newspath.asp?newsid=01105366622518112 에 들어갑니다.\n",
      "http://news.heraldcorp.com/view.php?ud=20190603000198 에 들어갑니다.\n"
     ]
    },
    {
     "name": "stderr",
     "output_type": "stream",
     "text": [
      "Some characters could not be decoded, and were replaced with REPLACEMENT CHARACTER.\n"
     ]
    },
    {
     "name": "stdout",
     "output_type": "stream",
     "text": [
      "http://news.heraldcorp.com/view.php?ud=20190603000402 에 들어갑니다.\n"
     ]
    },
    {
     "name": "stderr",
     "output_type": "stream",
     "text": [
      "Some characters could not be decoded, and were replaced with REPLACEMENT CHARACTER.\n"
     ]
    },
    {
     "name": "stdout",
     "output_type": "stream",
     "text": [
      "http://news.mk.co.kr/newsRead.php?year=2019&no=375468 에 들어갑니다.\n",
      "https://www.sedaily.com/NewsView/1VK9G16PCU 에 들어갑니다.\n",
      "http://news.wowtv.co.kr/NewsCenter/News/Read?articleId=A201906030024&t=NNv 에 들어갑니다.\n",
      "http://news1.kr/articles/?3636522 에 들어갑니다.\n",
      "http://yna.kr/AKR20190602040900009?did=1195m 에 들어갑니다.\n",
      "https://view.asiae.co.kr/news/view.htm?idxno=2019060308224282199 에 들어갑니다.\n",
      "http://www.sportsworldi.com/content/html/2019/06/02/20190602505862.html 에 들어갑니다.\n",
      "http://www.sisajournal-e.com/news/articleView.html?idxno=201084 에 들어갑니다.\n",
      "http://news.mk.co.kr/v2/economy/view.php?year=2019&no=377155 에 들어갑니다.\n",
      "https://view.asiae.co.kr/news/view.htm?idxno=2019060122042172255 에 들어갑니다.\n",
      "https://view.asiae.co.kr/news/view.htm?idxno=2019060308025099974 에 들어갑니다.\n",
      "http://news.mt.co.kr/mtview.php?no=2019060311183017507 에 들어갑니다.\n",
      "http://www.newstomato.com/ReadNews.aspx?no=898969 에 들어갑니다.\n",
      "http://www.ekn.kr/news/article.html?no=435523 에 들어갑니다.\n",
      "http://www.ccdailynews.com/news/articleView.html?idxno=1011577 에 들어갑니다.\n",
      "http://yna.kr/AKR20190603055900083?did=1195m 에 들어갑니다.\n",
      "http://www.yonhapnewstv.co.kr/MYH20190601006000038/?did=1825m 에 들어갑니다.\n",
      "http://www.dt.co.kr/contents.html?article_no=2019060302100132048001&ref=naver 에 들어갑니다.\n",
      "https://view.asiae.co.kr/news/view.htm?idxno=2019060311424601492 에 들어갑니다.\n",
      "http://news.kbs.co.kr/news/view.do?ncd=4213417&ref=A 에 들어갑니다.\n",
      "http://www.dt.co.kr/contents.html?article_no=2019060202109957607002&ref=naver 에 들어갑니다.\n",
      "http://www.newspim.com/news/view/20190603000025 에 들어갑니다.\n",
      "http://www.asiatime.co.kr/news/articleView.html?idxno=249237 에 들어갑니다.\n",
      "https://cnbc.sbs.co.kr/article_hub/10000943576?division=NAVER 에 들어갑니다.\n",
      "http://news.wowtv.co.kr/NewsCenter/News/Read?articleId=A201906020066&t=NN 에 들어갑니다.\n",
      "http://www.dailian.co.kr/news/view/799837/?sc=naver 에 들어갑니다.\n",
      "https://news.joins.com/article/olink/23078832 에 들어갑니다.\n",
      "http://www.etoday.co.kr/news/section/newsview.php?idxno=1762351 에 들어갑니다.\n",
      "https://www.seoul.co.kr/news/newsView.php?id=20190603500106&wlog_tag3=naver 에 들어갑니다.\n",
      "http://jedam15.koreafree.co.kr/news/view.html?section=1&category=6&item=&no=53381 에 들어갑니다.\n",
      "http://news.chosun.com/site/data/html_dir/2019/06/03/2019060301041.html?utm_source=naver&utm_medium=original&utm_campaign=news 에 들어갑니다.\n",
      "http://www.ihalla.com/read.php3?aid=1559529111631552073 에 들어갑니다.\n",
      "http://imnews.imbc.com/replay/2019/nwdesk/article/5340586_24634.html 에 들어갑니다.\n",
      "http://www.newsis.com/view/?id=NISX20190602_0000669161&cID=10101&pID=10100 에 들어갑니다.\n",
      "https://cnbc.sbs.co.kr/article_hub/10000943596?division=NAVER 에 들어갑니다.\n",
      "http://kor.theasian.asia/archives/222968 에 들어갑니다.\n",
      "http://coinreaders.com/4393 에 들어갑니다.\n",
      "http://www.fntimes.com/html/view.php?ud=201906030833137757711237d2fe_18 에 들어갑니다.\n",
      "http://www.edaily.co.kr/news/newspath.asp?newsid=01095526622518112 에 들어갑니다.\n",
      "http://www.dt.co.kr/contents.html?article_no=2019060202109932048004&ref=naver 에 들어갑니다.\n",
      "http://yna.kr/AKR20190602020000083?did=1195m 에 들어갑니다.\n",
      "http://news.mt.co.kr/mtview.php?no=2019060216185718676 에 들어갑니다.\n",
      "http://news.heraldcorp.com/view.php?ud=20190603000396 에 들어갑니다.\n"
     ]
    },
    {
     "name": "stderr",
     "output_type": "stream",
     "text": [
      "Some characters could not be decoded, and were replaced with REPLACEMENT CHARACTER.\n"
     ]
    },
    {
     "name": "stdout",
     "output_type": "stream",
     "text": [
      "http://yna.kr/AKR20190602028100074?did=1195m 에 들어갑니다.\n",
      "http://www.econonews.co.kr/news/articleView.html?idxno=67898 에 들어갑니다.\n",
      "http://news1.kr/articles/?3636027 에 들어갑니다.\n",
      "http://news.kmib.co.kr/article/view.asp?arcid=0924081402&code=11141400&cp=nv 에 들어갑니다.\n",
      "http://news.mt.co.kr/mtview.php?no=2019060218425731110 에 들어갑니다.\n",
      "http://www.ajunews.com/view/20190603134304412 에 들어갑니다.\n",
      "http://news.mk.co.kr/newsRead.php?year=2019&no=376718 에 들어갑니다.\n",
      "http://www.g-enews.com/ko-kr/news/article/news_all/201906030933182590b5d048c6f3_1/article.html 에 들어갑니다.\n",
      "http://www.4th.kr/news/articleView.html?idxno=12907 에 들어갑니다.\n",
      "http://www.ichannela.com/news/main/news_detailPage.do?publishId=000000150074 에 들어갑니다.\n",
      "https://www.hankyung.com/article/2019060288841 에 들어갑니다.\n",
      "https://www.sedaily.com/NewsView/1VK9GKRPWJ 에 들어갑니다.\n",
      "http://yna.kr/AKR20190602034900083?did=1195m 에 들어갑니다.\n",
      "http://yna.kr/AKR20190601028900008?did=1195m 에 들어갑니다.\n",
      "http://news1.kr/articles/?3636091 에 들어갑니다.\n",
      "http://www.ohmynews.com/NWS_Web/View/at_pg.aspx?CNTN_CD=A0002542460&CMPT_CD=P0010&utm_source=naver&utm_medium=newsearch&utm_campaign=naver_news 에 들어갑니다.\n",
      "http://news.mt.co.kr/mtview.php?no=2019060214504339239 에 들어갑니다.\n",
      "http://www.dailian.co.kr/news/view/799837/?sc=naver 에 들어갑니다.\n",
      "https://news.joins.com/article/olink/23078832 에 들어갑니다.\n",
      "http://www.etoday.co.kr/news/section/newsview.php?idxno=1762351 에 들어갑니다.\n",
      "https://www.seoul.co.kr/news/newsView.php?id=20190603500106&wlog_tag3=naver 에 들어갑니다.\n",
      "http://jedam15.koreafree.co.kr/news/view.html?section=1&category=6&item=&no=53381 에 들어갑니다.\n",
      "https://view.asiae.co.kr/news/view.htm?idxno=2019060211431443984 에 들어갑니다.\n",
      "http://news.chosun.com/site/data/html_dir/2019/06/03/2019060301041.html?utm_source=naver&utm_medium=original&utm_campaign=news 에 들어갑니다.\n",
      "http://www.ihalla.com/read.php3?aid=1559529111631552073 에 들어갑니다.\n",
      "http://imnews.imbc.com/replay/2019/nwdesk/article/5340586_24634.html 에 들어갑니다.\n",
      "http://www.newsis.com/view/?id=NISX20190602_0000669161&cID=10101&pID=10100 에 들어갑니다.\n"
     ]
    }
   ],
   "source": [
    "NAVER_SEARCH_URL = \"https://search.naver.com/search.naver\"\n",
    "query = \"무역전쟁\"\n",
    "\n",
    "news_list = []\n",
    "\n",
    "for i in range(1, 11):\n",
    "    start_var = 1 \n",
    "    params = {\n",
    "        'where': 'news',\n",
    "        'query': query,\n",
    "        'start': (i*10) + 1\n",
    "    }\n",
    "    # 검색 결과를 가져온다. (page 별로)\n",
    "    resp = requests.get(NAVER_SEARCH_URL, params=params)\n",
    "    # 검색 결과 soup\n",
    "    soup = BeautifulSoup(resp.content, 'html.parser')\n",
    "    \n",
    "    # ul ' ' 제거.\n",
    "    ul_contents = soup.find('ul', class_='type01')\n",
    "    new_ul = []\n",
    "    for content in ul_contents.contents:\n",
    "        if not str(content).strip():\n",
    "            continue\n",
    "        new_ul.append(content)\n",
    "    \n",
    "    # list 탐색\n",
    "    for li in new_ul:\n",
    "        news_dict = {}\n",
    "        a_tag = li.find('dl').find('dt').find('a')\n",
    "    \n",
    "        news_dict['link'] = a_tag['href']\n",
    "        news_dict['title'] = a_tag.text\n",
    "        \n",
    "        print(news_dict['link'], \"에 들어갑니다.\")\n",
    "        # 디테일 페이지 링크를 들어갑니다.\n",
    "        detail_resp = requests.get(news_dict['link'])\n",
    "        detail_soup = BeautifulSoup(detail_resp.content, \n",
    "                                    'html.parser')\n",
    "        news_dict['body'] = detail_soup.find('body')\n",
    "        \n",
    "        news_list.append(news_dict)\n",
    "\n"
   ]
  },
  {
   "cell_type": "code",
   "execution_count": null,
   "metadata": {},
   "outputs": [],
   "source": []
  }
 ],
 "metadata": {
  "kernelspec": {
   "display_name": "Python 3",
   "language": "python",
   "name": "python3"
  },
  "language_info": {
   "codemirror_mode": {
    "name": "ipython",
    "version": 3
   },
   "file_extension": ".py",
   "mimetype": "text/x-python",
   "name": "python",
   "nbconvert_exporter": "python",
   "pygments_lexer": "ipython3",
   "version": "3.6.8"
  }
 },
 "nbformat": 4,
 "nbformat_minor": 2
}
