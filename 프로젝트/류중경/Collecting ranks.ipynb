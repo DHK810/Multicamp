{
 "cells": [
  {
   "cell_type": "code",
   "execution_count": 2,
   "metadata": {},
   "outputs": [],
   "source": [
    "# 나라별 유명 검색 사이트에서 선택한 나라들의 탑 순위 및 원하는 검색들의 결과 보여주는. \n",
    "\n",
    "# naver.com네이버 - 한국 \n",
    "# https://tieba.baidu.com/index.html - 중국\n",
    "# https://www.yahoo.com/ - 미국\n",
    "# https://www.yahoo.co.jp/ - 일본\n",
    "\n",
    "# 위의 각 검색사이트의 현재 검색순위1~10등, 그리고 그것을 구글에서 검색한 이미지를 같이 보여준다.\n",
    "# cvc파일로 저장한다.\n",
    "# 중국 미국 일본에서 검색한 것은 번역기로 번역한 것도 같이 보여준다.\n",
    "# 원문을 컴퓨터가 읽어주기.\n"
   ]
  },
  {
   "cell_type": "code",
   "execution_count": 4,
   "metadata": {},
   "outputs": [
    {
     "name": "stdout",
     "output_type": "stream",
     "text": [
      "Collecting gTTS\n",
      "  Downloading https://files.pythonhosted.org/packages/e6/37/f55346a736278f0eb0ae9f7edee1a61028735ef0010db68a2e6fcd0ece56/gTTS-2.0.3.tar.gz\n",
      "Requirement already satisfied: six in c:\\programdata\\anaconda3\\envs\\study\\lib\\site-packages (from gTTS) (1.12.0)\n",
      "Collecting bs4 (from gTTS)\n",
      "  Downloading https://files.pythonhosted.org/packages/10/ed/7e8b97591f6f456174139ec089c769f89a94a1a4025fe967691de971f314/bs4-0.0.1.tar.gz\n",
      "Collecting click (from gTTS)\n",
      "  Downloading https://files.pythonhosted.org/packages/fa/37/45185cb5abbc30d7257104c434fe0b07e5a195a6847506c074527aa599ec/Click-7.0-py2.py3-none-any.whl (81kB)\n",
      "Requirement already satisfied: requests in c:\\programdata\\anaconda3\\envs\\study\\lib\\site-packages (from gTTS) (2.21.0)\n",
      "Collecting gtts_token (from gTTS)\n",
      "  Downloading https://files.pythonhosted.org/packages/e7/25/ca6e9cd3275bfc3097fe6b06cc31db6d3dfaf32e032e0f73fead9c9a03ce/gTTS-token-1.1.3.tar.gz\n",
      "Requirement already satisfied: beautifulsoup4 in c:\\programdata\\anaconda3\\envs\\study\\lib\\site-packages (from bs4->gTTS) (4.7.1)\n",
      "Requirement already satisfied: idna<2.9,>=2.5 in c:\\programdata\\anaconda3\\envs\\study\\lib\\site-packages (from requests->gTTS) (2.8)\n",
      "Requirement already satisfied: certifi>=2017.4.17 in c:\\programdata\\anaconda3\\envs\\study\\lib\\site-packages (from requests->gTTS) (2019.3.9)\n",
      "Requirement already satisfied: urllib3<1.25,>=1.21.1 in c:\\programdata\\anaconda3\\envs\\study\\lib\\site-packages (from requests->gTTS) (1.24.2)\n",
      "Requirement already satisfied: chardet<3.1.0,>=3.0.2 in c:\\programdata\\anaconda3\\envs\\study\\lib\\site-packages (from requests->gTTS) (3.0.4)\n",
      "Requirement already satisfied: soupsieve>=1.2 in c:\\programdata\\anaconda3\\envs\\study\\lib\\site-packages (from beautifulsoup4->bs4->gTTS) (1.8)\n",
      "Building wheels for collected packages: gTTS, bs4, gtts-token\n",
      "  Building wheel for gTTS (setup.py): started\n",
      "  Building wheel for gTTS (setup.py): finished with status 'done'\n",
      "  Stored in directory: C:\\Users\\student\\AppData\\Local\\pip\\Cache\\wheels\\ac\\d3\\52\\db6c154b20dfaab7e0b514eb5eef92cecd057e40e16fdda58b\n",
      "  Building wheel for bs4 (setup.py): started\n",
      "  Building wheel for bs4 (setup.py): finished with status 'done'\n",
      "  Stored in directory: C:\\Users\\student\\AppData\\Local\\pip\\Cache\\wheels\\a0\\b0\\b2\\4f80b9456b87abedbc0bf2d52235414c3467d8889be38dd472\n",
      "  Building wheel for gtts-token (setup.py): started\n",
      "  Building wheel for gtts-token (setup.py): finished with status 'done'\n",
      "  Stored in directory: C:\\Users\\student\\AppData\\Local\\pip\\Cache\\wheels\\dd\\11\\61\\33f7e51bf545e910552b2255eead2a7cd8ef54064b46dceb34\n",
      "Successfully built gTTS bs4 gtts-token\n",
      "Installing collected packages: bs4, click, gtts-token, gTTS\n",
      "Successfully installed bs4-0.0.1 click-7.0 gTTS-2.0.3 gtts-token-1.1.3\n",
      "Note: you may need to restart the kernel to use updated packages.\n"
     ]
    }
   ],
   "source": [
    "pip install gTTS"
   ]
  },
  {
   "cell_type": "code",
   "execution_count": 5,
   "metadata": {},
   "outputs": [
    {
     "name": "stdout",
     "output_type": "stream",
     "text": [
      "Collecting pygame\n",
      "  Downloading https://files.pythonhosted.org/packages/79/b0/2fec9a5d9151c8f8e20721349950c1bde2d02b331c19e178c3d76876a218/pygame-1.9.6-cp36-cp36m-win_amd64.whl (4.3MB)\n",
      "Installing collected packages: pygame\n",
      "Successfully installed pygame-1.9.6\n",
      "Note: you may need to restart the kernel to use updated packages.\n"
     ]
    }
   ],
   "source": [
    "pip install pygame"
   ]
  },
  {
   "cell_type": "code",
   "execution_count": 26,
   "metadata": {},
   "outputs": [],
   "source": [
    "import requests\n",
    "from bs4 import BeautifulSoup\n",
    "import pandas as pd\n",
    "from gtts import gTTS\n",
    "from selenium import webdriver\n",
    "new_ul_naver = []\n",
    "new_ul_yahoo = []\n",
    "naver_list = []\n",
    "baidu_list = []\n",
    "yahoo_list = []\n",
    "new_ul_yahoo = []\n",
    "yahoo_jp_list = []\n",
    "rank = []"
   ]
  },
  {
   "cell_type": "code",
   "execution_count": 27,
   "metadata": {
    "scrolled": true
   },
   "outputs": [],
   "source": [
    "#Naver searching\n",
    "NAVER_URL = \"https://www.naver.com\"\n",
    "resp_naver = requests.get(NAVER_URL)\n",
    "soup_naver = BeautifulSoup(resp_naver.content, 'html.parser')\n",
    "ul_contents_naver = soup_naver.find('div', class_='ah_roll_area PM_CL_realtimeKeyword_rolling').find('ul')\n",
    "for content in ul_contents_naver.contents:\n",
    "    if not str(content).strip():\n",
    "        continue\n",
    "    new_ul_naver.append(content)\n",
    "for li in range(0,10):\n",
    "    a_tag = new_ul_naver[li].find('a').find('span')\n",
    "    naver_list.append(a_tag.find_next().text)"
   ]
  },
  {
   "cell_type": "code",
   "execution_count": 28,
   "metadata": {},
   "outputs": [],
   "source": [
    "#Baidu searching\n",
    "BAIDU_URL = \"https://tieba.baidu.com/hottopic/browse/topicList\"\n",
    "resp = requests.get(BAIDU_URL)\n",
    "temp1 = resp.json()\n",
    "temp2 = temp1.get(\"data\")\n",
    "temp3 = temp2.get(\"bang_topic\")\n",
    "temp4 = temp3.get(\"topic_list\")\n",
    "for counting in range(0,10):\n",
    "    temp5 = temp4[counting]\n",
    "    baidu_list.append(temp5.get(\"topic_name\"))"
   ]
  },
  {
   "cell_type": "code",
   "execution_count": 29,
   "metadata": {},
   "outputs": [],
   "source": [
    "#Yahoo searching\n",
    "YAHOO_URL = \"https://www.yahoo.com/\"\n",
    "resp = requests.get(YAHOO_URL)\n",
    "soup = BeautifulSoup(resp.content, 'html.parser')\n",
    "ul_contents = soup.find('ul', class_='Pos(r) Mt(10px)').find('li').find('ul')\n",
    "for content in ul_contents.contents:\n",
    "    if not str(content).strip():\n",
    "        continue\n",
    "    new_ul_yahoo.append(content)\n",
    "for li in new_ul_yahoo:\n",
    "    a_tag = li.find('a').find('span')\n",
    "    yahoo_list.append(a_tag.find_next().text)"
   ]
  },
  {
   "cell_type": "code",
   "execution_count": 34,
   "metadata": {},
   "outputs": [],
   "source": [
    "#yahoo_jp searching\n",
    "driver = webdriver.Chrome(\"C:\\\\Users\\\\student\\\\Downloads\\\\chromedriver_win32 (2)\\\\chromedriver.exe\")\n",
    "driver.get(\"https://search.yahoo.co.jp/realtime\")\n",
    "\n",
    "for x in range(1,3):\n",
    "    for y in range(1,6):\n",
    "        daily1 = 'daily_raking_' + str(5*(x-1) + y)\n",
    "        rank.append(daily1)\n",
    "        rank[(5*(x-1) + y - 1)] = driver.find_element_by_xpath('//*[@id=\"Te\"]/div[2]/div[' + str(x) + ']/div[' + str(y) + ']/p/a')\n",
    "        yahoo_jp_list.append(rank[(5*(x-1) + y - 1)].text)"
   ]
  },
  {
   "cell_type": "code",
   "execution_count": 35,
   "metadata": {},
   "outputs": [
    {
     "ename": "WebDriverException",
     "evalue": "Message: unknown error: session deleted because of page crash\nfrom unknown error: cannot determine loading status\nfrom tab crashed\n  (Session info: chrome=75.0.3770.80)\n",
     "output_type": "error",
     "traceback": [
      "\u001b[1;31m---------------------------------------------------------------------------\u001b[0m",
      "\u001b[1;31mWebDriverException\u001b[0m                        Traceback (most recent call last)",
      "\u001b[1;32m<ipython-input-35-2652b0dec253>\u001b[0m in \u001b[0;36m<module>\u001b[1;34m\u001b[0m\n\u001b[0;32m     13\u001b[0m \u001b[1;33m\u001b[0m\u001b[0m\n\u001b[0;32m     14\u001b[0m \u001b[1;33m\u001b[0m\u001b[0m\n\u001b[1;32m---> 15\u001b[1;33m \u001b[0msearching_images_and_save\u001b[0m\u001b[1;33m(\u001b[0m\u001b[1;34m\"https://search.yahoo.co.jp/image/search?p=\"\u001b[0m\u001b[1;33m,\u001b[0m \u001b[0myahoo_jp_list\u001b[0m\u001b[1;33m,\u001b[0m \u001b[1;34m'//*[@id=\"gridlist\"]/div['\u001b[0m\u001b[1;33m,\u001b[0m \u001b[1;36m1\u001b[0m\u001b[1;33m,\u001b[0m \u001b[1;34m']'\u001b[0m\u001b[1;33m,\u001b[0m\u001b[1;34m'yahoo_jp_img'\u001b[0m\u001b[1;33m)\u001b[0m\u001b[1;33m\u001b[0m\u001b[1;33m\u001b[0m\u001b[0m\n\u001b[0m\u001b[0;32m     16\u001b[0m \u001b[0msearching_images_and_save\u001b[0m\u001b[1;33m(\u001b[0m\u001b[1;34m\"https://images.search.yahoo.com/search/images?p=\"\u001b[0m\u001b[1;33m,\u001b[0m \u001b[0myahoo_list\u001b[0m\u001b[1;33m,\u001b[0m \u001b[1;34m'//*[@id=\"resitem-'\u001b[0m\u001b[1;33m,\u001b[0m \u001b[1;36m0\u001b[0m\u001b[1;33m,\u001b[0m \u001b[1;34m'\"]'\u001b[0m\u001b[1;33m,\u001b[0m \u001b[1;34m'yahoo_img'\u001b[0m\u001b[1;33m)\u001b[0m\u001b[1;33m\u001b[0m\u001b[1;33m\u001b[0m\u001b[0m\n\u001b[0;32m     17\u001b[0m \u001b[0msearching_images_and_save\u001b[0m\u001b[1;33m(\u001b[0m\u001b[1;34m\"http://image.baidu.com/search/index?tn=baiduimage&word=\"\u001b[0m\u001b[1;33m,\u001b[0m \u001b[0mbaidu_list\u001b[0m\u001b[1;33m,\u001b[0m \u001b[1;34m'//*[@id=\"imgid\"]/div/ul/li['\u001b[0m\u001b[1;33m,\u001b[0m \u001b[1;36m1\u001b[0m\u001b[1;33m,\u001b[0m \u001b[1;34m']'\u001b[0m\u001b[1;33m,\u001b[0m \u001b[1;34m'baidu_img'\u001b[0m\u001b[1;33m)\u001b[0m\u001b[1;33m\u001b[0m\u001b[1;33m\u001b[0m\u001b[0m\n",
      "\u001b[1;32m<ipython-input-35-2652b0dec253>\u001b[0m in \u001b[0;36msearching_images_and_save\u001b[1;34m(address, name_list, image_ad, start_from, image_ad2, saving_name)\u001b[0m\n\u001b[0;32m      9\u001b[0m             \u001b[0mfilename\u001b[0m \u001b[1;33m=\u001b[0m \u001b[0msaving_name\u001b[0m\u001b[1;33m+\u001b[0m \u001b[0mstr\u001b[0m\u001b[1;33m(\u001b[0m\u001b[0mlisting\u001b[0m\u001b[1;33m)\u001b[0m\u001b[1;33m+\u001b[0m \u001b[0mstr\u001b[0m\u001b[1;33m(\u001b[0m\u001b[0mcounting\u001b[0m\u001b[1;33m)\u001b[0m \u001b[1;33m+\u001b[0m\u001b[1;34m'.png'\u001b[0m\u001b[1;33m\u001b[0m\u001b[1;33m\u001b[0m\u001b[0m\n\u001b[0;32m     10\u001b[0m             \u001b[1;32mwith\u001b[0m \u001b[0mopen\u001b[0m\u001b[1;33m(\u001b[0m\u001b[0mfilename\u001b[0m\u001b[1;33m,\u001b[0m \u001b[1;34m'wb'\u001b[0m\u001b[1;33m)\u001b[0m \u001b[1;32mas\u001b[0m \u001b[0mf\u001b[0m\u001b[1;33m:\u001b[0m\u001b[1;33m\u001b[0m\u001b[1;33m\u001b[0m\u001b[0m\n\u001b[1;32m---> 11\u001b[1;33m                 \u001b[0mf\u001b[0m\u001b[1;33m.\u001b[0m\u001b[0mwrite\u001b[0m\u001b[1;33m(\u001b[0m\u001b[0melem\u001b[0m\u001b[1;33m.\u001b[0m\u001b[0mscreenshot_as_png\u001b[0m\u001b[1;33m)\u001b[0m\u001b[1;33m\u001b[0m\u001b[1;33m\u001b[0m\u001b[0m\n\u001b[0m\u001b[0;32m     12\u001b[0m                 \u001b[0msleep\u001b[0m\u001b[1;33m(\u001b[0m\u001b[1;36m1\u001b[0m\u001b[1;33m)\u001b[0m\u001b[1;33m\u001b[0m\u001b[1;33m\u001b[0m\u001b[0m\n\u001b[0;32m     13\u001b[0m \u001b[1;33m\u001b[0m\u001b[0m\n",
      "\u001b[1;32mC:\\ProgramData\\Anaconda3\\envs\\study\\lib\\site-packages\\selenium\\webdriver\\remote\\webelement.py\u001b[0m in \u001b[0;36mscreenshot_as_png\u001b[1;34m(self)\u001b[0m\n\u001b[0;32m    565\u001b[0m             \u001b[0melement_png\u001b[0m \u001b[1;33m=\u001b[0m \u001b[0melement\u001b[0m\u001b[1;33m.\u001b[0m\u001b[0mscreenshot_as_png\u001b[0m\u001b[1;33m\u001b[0m\u001b[1;33m\u001b[0m\u001b[0m\n\u001b[0;32m    566\u001b[0m         \"\"\"\n\u001b[1;32m--> 567\u001b[1;33m         \u001b[1;32mreturn\u001b[0m \u001b[0mbase64\u001b[0m\u001b[1;33m.\u001b[0m\u001b[0mb64decode\u001b[0m\u001b[1;33m(\u001b[0m\u001b[0mself\u001b[0m\u001b[1;33m.\u001b[0m\u001b[0mscreenshot_as_base64\u001b[0m\u001b[1;33m.\u001b[0m\u001b[0mencode\u001b[0m\u001b[1;33m(\u001b[0m\u001b[1;34m'ascii'\u001b[0m\u001b[1;33m)\u001b[0m\u001b[1;33m)\u001b[0m\u001b[1;33m\u001b[0m\u001b[1;33m\u001b[0m\u001b[0m\n\u001b[0m\u001b[0;32m    568\u001b[0m \u001b[1;33m\u001b[0m\u001b[0m\n\u001b[0;32m    569\u001b[0m     \u001b[1;32mdef\u001b[0m \u001b[0mscreenshot\u001b[0m\u001b[1;33m(\u001b[0m\u001b[0mself\u001b[0m\u001b[1;33m,\u001b[0m \u001b[0mfilename\u001b[0m\u001b[1;33m)\u001b[0m\u001b[1;33m:\u001b[0m\u001b[1;33m\u001b[0m\u001b[1;33m\u001b[0m\u001b[0m\n",
      "\u001b[1;32mC:\\ProgramData\\Anaconda3\\envs\\study\\lib\\site-packages\\selenium\\webdriver\\remote\\webelement.py\u001b[0m in \u001b[0;36mscreenshot_as_base64\u001b[1;34m(self)\u001b[0m\n\u001b[0;32m    555\u001b[0m             \u001b[0mimg_b64\u001b[0m \u001b[1;33m=\u001b[0m \u001b[0melement\u001b[0m\u001b[1;33m.\u001b[0m\u001b[0mscreenshot_as_base64\u001b[0m\u001b[1;33m\u001b[0m\u001b[1;33m\u001b[0m\u001b[0m\n\u001b[0;32m    556\u001b[0m         \"\"\"\n\u001b[1;32m--> 557\u001b[1;33m         \u001b[1;32mreturn\u001b[0m \u001b[0mself\u001b[0m\u001b[1;33m.\u001b[0m\u001b[0m_execute\u001b[0m\u001b[1;33m(\u001b[0m\u001b[0mCommand\u001b[0m\u001b[1;33m.\u001b[0m\u001b[0mELEMENT_SCREENSHOT\u001b[0m\u001b[1;33m)\u001b[0m\u001b[1;33m[\u001b[0m\u001b[1;34m'value'\u001b[0m\u001b[1;33m]\u001b[0m\u001b[1;33m\u001b[0m\u001b[1;33m\u001b[0m\u001b[0m\n\u001b[0m\u001b[0;32m    558\u001b[0m \u001b[1;33m\u001b[0m\u001b[0m\n\u001b[0;32m    559\u001b[0m     \u001b[1;33m@\u001b[0m\u001b[0mproperty\u001b[0m\u001b[1;33m\u001b[0m\u001b[1;33m\u001b[0m\u001b[0m\n",
      "\u001b[1;32mC:\\ProgramData\\Anaconda3\\envs\\study\\lib\\site-packages\\selenium\\webdriver\\remote\\webelement.py\u001b[0m in \u001b[0;36m_execute\u001b[1;34m(self, command, params)\u001b[0m\n\u001b[0;32m    631\u001b[0m             \u001b[0mparams\u001b[0m \u001b[1;33m=\u001b[0m \u001b[1;33m{\u001b[0m\u001b[1;33m}\u001b[0m\u001b[1;33m\u001b[0m\u001b[1;33m\u001b[0m\u001b[0m\n\u001b[0;32m    632\u001b[0m         \u001b[0mparams\u001b[0m\u001b[1;33m[\u001b[0m\u001b[1;34m'id'\u001b[0m\u001b[1;33m]\u001b[0m \u001b[1;33m=\u001b[0m \u001b[0mself\u001b[0m\u001b[1;33m.\u001b[0m\u001b[0m_id\u001b[0m\u001b[1;33m\u001b[0m\u001b[1;33m\u001b[0m\u001b[0m\n\u001b[1;32m--> 633\u001b[1;33m         \u001b[1;32mreturn\u001b[0m \u001b[0mself\u001b[0m\u001b[1;33m.\u001b[0m\u001b[0m_parent\u001b[0m\u001b[1;33m.\u001b[0m\u001b[0mexecute\u001b[0m\u001b[1;33m(\u001b[0m\u001b[0mcommand\u001b[0m\u001b[1;33m,\u001b[0m \u001b[0mparams\u001b[0m\u001b[1;33m)\u001b[0m\u001b[1;33m\u001b[0m\u001b[1;33m\u001b[0m\u001b[0m\n\u001b[0m\u001b[0;32m    634\u001b[0m \u001b[1;33m\u001b[0m\u001b[0m\n\u001b[0;32m    635\u001b[0m     \u001b[1;32mdef\u001b[0m \u001b[0mfind_element\u001b[0m\u001b[1;33m(\u001b[0m\u001b[0mself\u001b[0m\u001b[1;33m,\u001b[0m \u001b[0mby\u001b[0m\u001b[1;33m=\u001b[0m\u001b[0mBy\u001b[0m\u001b[1;33m.\u001b[0m\u001b[0mID\u001b[0m\u001b[1;33m,\u001b[0m \u001b[0mvalue\u001b[0m\u001b[1;33m=\u001b[0m\u001b[1;32mNone\u001b[0m\u001b[1;33m)\u001b[0m\u001b[1;33m:\u001b[0m\u001b[1;33m\u001b[0m\u001b[1;33m\u001b[0m\u001b[0m\n",
      "\u001b[1;32mC:\\ProgramData\\Anaconda3\\envs\\study\\lib\\site-packages\\selenium\\webdriver\\remote\\webdriver.py\u001b[0m in \u001b[0;36mexecute\u001b[1;34m(self, driver_command, params)\u001b[0m\n\u001b[0;32m    319\u001b[0m         \u001b[0mresponse\u001b[0m \u001b[1;33m=\u001b[0m \u001b[0mself\u001b[0m\u001b[1;33m.\u001b[0m\u001b[0mcommand_executor\u001b[0m\u001b[1;33m.\u001b[0m\u001b[0mexecute\u001b[0m\u001b[1;33m(\u001b[0m\u001b[0mdriver_command\u001b[0m\u001b[1;33m,\u001b[0m \u001b[0mparams\u001b[0m\u001b[1;33m)\u001b[0m\u001b[1;33m\u001b[0m\u001b[1;33m\u001b[0m\u001b[0m\n\u001b[0;32m    320\u001b[0m         \u001b[1;32mif\u001b[0m \u001b[0mresponse\u001b[0m\u001b[1;33m:\u001b[0m\u001b[1;33m\u001b[0m\u001b[1;33m\u001b[0m\u001b[0m\n\u001b[1;32m--> 321\u001b[1;33m             \u001b[0mself\u001b[0m\u001b[1;33m.\u001b[0m\u001b[0merror_handler\u001b[0m\u001b[1;33m.\u001b[0m\u001b[0mcheck_response\u001b[0m\u001b[1;33m(\u001b[0m\u001b[0mresponse\u001b[0m\u001b[1;33m)\u001b[0m\u001b[1;33m\u001b[0m\u001b[1;33m\u001b[0m\u001b[0m\n\u001b[0m\u001b[0;32m    322\u001b[0m             response['value'] = self._unwrap_value(\n\u001b[0;32m    323\u001b[0m                 response.get('value', None))\n",
      "\u001b[1;32mC:\\ProgramData\\Anaconda3\\envs\\study\\lib\\site-packages\\selenium\\webdriver\\remote\\errorhandler.py\u001b[0m in \u001b[0;36mcheck_response\u001b[1;34m(self, response)\u001b[0m\n\u001b[0;32m    240\u001b[0m                 \u001b[0malert_text\u001b[0m \u001b[1;33m=\u001b[0m \u001b[0mvalue\u001b[0m\u001b[1;33m[\u001b[0m\u001b[1;34m'alert'\u001b[0m\u001b[1;33m]\u001b[0m\u001b[1;33m.\u001b[0m\u001b[0mget\u001b[0m\u001b[1;33m(\u001b[0m\u001b[1;34m'text'\u001b[0m\u001b[1;33m)\u001b[0m\u001b[1;33m\u001b[0m\u001b[1;33m\u001b[0m\u001b[0m\n\u001b[0;32m    241\u001b[0m             \u001b[1;32mraise\u001b[0m \u001b[0mexception_class\u001b[0m\u001b[1;33m(\u001b[0m\u001b[0mmessage\u001b[0m\u001b[1;33m,\u001b[0m \u001b[0mscreen\u001b[0m\u001b[1;33m,\u001b[0m \u001b[0mstacktrace\u001b[0m\u001b[1;33m,\u001b[0m \u001b[0malert_text\u001b[0m\u001b[1;33m)\u001b[0m\u001b[1;33m\u001b[0m\u001b[1;33m\u001b[0m\u001b[0m\n\u001b[1;32m--> 242\u001b[1;33m         \u001b[1;32mraise\u001b[0m \u001b[0mexception_class\u001b[0m\u001b[1;33m(\u001b[0m\u001b[0mmessage\u001b[0m\u001b[1;33m,\u001b[0m \u001b[0mscreen\u001b[0m\u001b[1;33m,\u001b[0m \u001b[0mstacktrace\u001b[0m\u001b[1;33m)\u001b[0m\u001b[1;33m\u001b[0m\u001b[1;33m\u001b[0m\u001b[0m\n\u001b[0m\u001b[0;32m    243\u001b[0m \u001b[1;33m\u001b[0m\u001b[0m\n\u001b[0;32m    244\u001b[0m     \u001b[1;32mdef\u001b[0m \u001b[0m_value_or_default\u001b[0m\u001b[1;33m(\u001b[0m\u001b[0mself\u001b[0m\u001b[1;33m,\u001b[0m \u001b[0mobj\u001b[0m\u001b[1;33m,\u001b[0m \u001b[0mkey\u001b[0m\u001b[1;33m,\u001b[0m \u001b[0mdefault\u001b[0m\u001b[1;33m)\u001b[0m\u001b[1;33m:\u001b[0m\u001b[1;33m\u001b[0m\u001b[1;33m\u001b[0m\u001b[0m\n",
      "\u001b[1;31mWebDriverException\u001b[0m: Message: unknown error: session deleted because of page crash\nfrom unknown error: cannot determine loading status\nfrom tab crashed\n  (Session info: chrome=75.0.3770.80)\n"
     ]
    }
   ],
   "source": [
    "from time import sleep\n",
    "def searching_images_and_save(address, name_list, image_ad, start_from, image_ad2, saving_name):\n",
    "    for listing in range(0,10):\n",
    "        driver.get(address+ name_list[listing])\n",
    "        driver.implicitly_wait(10)\n",
    "        for counting in range(0,4):\n",
    "            elem = driver.find_element_by_xpath(image_ad+ str(counting+start_from) + image_ad2)\n",
    "            elem.screenshot_as_png\n",
    "            filename = saving_name+ str(listing)+ str(counting) +'.png'\n",
    "            with open(filename, 'wb') as f:\n",
    "                f.write(elem.screenshot_as_png)\n",
    "                sleep(1)\n",
    "                \n",
    "                \n",
    "\n",
    "searching_images_and_save(\"https://search.yahoo.co.jp/image/search?p=\", yahoo_jp_list, '//*[@id=\"gridlist\"]/div[', 1, ']','yahoo_jp_img')\n",
    "searching_images_and_save(\"https://images.search.yahoo.com/search/images?p=\", yahoo_list, '//*[@id=\"resitem-', 0, '\"]', 'yahoo_img')\n",
    "searching_images_and_save(\"http://image.baidu.com/search/index?tn=baiduimage&word=\", baidu_list, '//*[@id=\"imgid\"]/div/ul/li[', 1, ']', 'baidu_img')\n",
    "searching_images_and_save(\"https://search.naver.com/search.naver?where=image&query=\", naver_list, '//*[@id=\"_sau_imageTab\"]/div[2]/div[2]/div[', 1, ']', 'naver_img')"
   ]
  },
  {
   "cell_type": "code",
   "execution_count": null,
   "metadata": {},
   "outputs": [],
   "source": [
    "def reading_list(name_list, lg, name):\n",
    "    for ct in range(0,10):\n",
    "        text = name_list[ct]\n",
    "        tts = gTTS(text=text, lang= \"{}\".format(lg))\n",
    "        tts.save(str(name) + str(ct) +\".mp3\")\n",
    "        \n",
    "reading_list(yahoo_list, 'en', 'yahoo')\n",
    "reading_list(naver_list, 'ko', 'naver')\n",
    "reading_list(baidu_list, 'zh-cn', 'baidu')\n",
    "reading_list(yahoo_jp_list, 'ja', 'yahoo_jr')\n"
   ]
  },
  {
   "cell_type": "code",
   "execution_count": null,
   "metadata": {},
   "outputs": [],
   "source": [
    "tr_jp = []\n",
    "tr_y = []\n",
    "tr_b = []"
   ]
  },
  {
   "cell_type": "code",
   "execution_count": null,
   "metadata": {},
   "outputs": [],
   "source": [
    "for ct in range(0,10):\n",
    "    driver.get(\"https://translate.google.co.kr/?hl=ko\")\n",
    "    driver.implicitly_wait(10)\n",
    "    search_elem = driver.find_element_by_xpath('//*[@id=\"source\"]')\n",
    "    search_elem.send_keys(yahoo_jp_list[ct])\n",
    "    elem = driver.find_element_by_xpath('/html/body/div[2]/div[1]/div[2]/div[1]/div[1]/div[2]/div[3]/div[1]/div[2]/div/span[1]/span[1]')\n",
    "    tr_jp.append(elem.text)\n",
    "for ct in range(0,10):\n",
    "    driver.get(\"https://translate.google.co.kr/?hl=ko\")\n",
    "    driver.implicitly_wait(10)\n",
    "    search_elem = driver.find_element_by_xpath('//*[@id=\"source\"]')\n",
    "    search_elem.send_keys(yahoo_list[ct])\n",
    "    elem = driver.find_element_by_xpath('/html/body/div[2]/div[1]/div[2]/div[1]/div[1]/div[2]/div[3]/div[1]/div[2]/div/span[1]/span[1]')\n",
    "    tr_y.append(elem.text)\n",
    "for ct in range(0,10):\n",
    "    driver.get(\"https://translate.google.co.kr/?hl=ko\")\n",
    "    driver.implicitly_wait(10)\n",
    "    search_elem = driver.find_element_by_xpath('//*[@id=\"source\"]')\n",
    "    search_elem.send_keys(baidu_list[ct])\n",
    "    elem = driver.find_element_by_xpath('/html/body/div[2]/div[1]/div[2]/div[1]/div[1]/div[2]/div[3]/div[1]/div[2]/div/span[1]/span[1]')\n",
    "    tr_b.append(elem.text)"
   ]
  },
  {
   "cell_type": "code",
   "execution_count": null,
   "metadata": {},
   "outputs": [],
   "source": [
    "df = pd.DataFrame({'Naver': naver_list, 'Baidu' : baidu_list, 'Yahoo': yahoo_list, 'Yahoo_jp': yahoo_jp_list, 'tr_jp': tr_jp, 'tr_y': tr_y, 'tr_b': tr_b},index = range(1,11))"
   ]
  },
  {
   "cell_type": "code",
   "execution_count": null,
   "metadata": {},
   "outputs": [],
   "source": [
    "df"
   ]
  },
  {
   "cell_type": "code",
   "execution_count": null,
   "metadata": {},
   "outputs": [],
   "source": [
    "df.to_csv(\"temp.csv\", encoding=\"utf8\")\n",
    "df.to_excel(\"temp1.xlsx\")"
   ]
  },
  {
   "cell_type": "markdown",
   "metadata": {},
   "source": [
    "### 번외. 셀레니움 감추기"
   ]
  },
  {
   "cell_type": "code",
   "execution_count": null,
   "metadata": {},
   "outputs": [],
   "source": [
    "from selenium import webdriver\n",
    "from selenium.webdriver.chrome.options import Options\n",
    "options = Options()\n",
    "options.add_argument('--headless')\n",
    "driver = webdriver.Chrome(\"C:\\\\Users\\\\dty\\\\Downloads\\\\chromedriver_win32\\\\chromedriver\", options=options)\n",
    "driver.get('https://www.google.com/doodles')\n",
    "\n",
    "print('Title: \"{}\"'.format(driver.title))\n",
    "driver.quit()"
   ]
  },
  {
   "cell_type": "code",
   "execution_count": null,
   "metadata": {},
   "outputs": [],
   "source": []
  }
 ],
 "metadata": {
  "kernelspec": {
   "display_name": "Python 3",
   "language": "python",
   "name": "python3"
  },
  "language_info": {
   "codemirror_mode": {
    "name": "ipython",
    "version": 3
   },
   "file_extension": ".py",
   "mimetype": "text/x-python",
   "name": "python",
   "nbconvert_exporter": "python",
   "pygments_lexer": "ipython3",
   "version": "3.6.8"
  }
 },
 "nbformat": 4,
 "nbformat_minor": 2
}
