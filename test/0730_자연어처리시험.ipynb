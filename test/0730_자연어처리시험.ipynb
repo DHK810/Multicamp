{
 "cells": [
  {
   "cell_type": "markdown",
   "metadata": {},
   "source": [
    "# 1번 문제"
   ]
  },
  {
   "cell_type": "code",
   "execution_count": null,
   "metadata": {},
   "outputs": [],
   "source": [
    "doc1 = 'A반은 마라탕을 좋아해.'\n",
    "doc2 = 'A반은 마라탕을 더 이상 먹지않을거야. 그래도 마라탕을 좋아해.'\n",
    "\n"
   ]
  },
  {
   "cell_type": "code",
   "execution_count": 3,
   "metadata": {},
   "outputs": [],
   "source": [
    "bowA = doc1.split()\n",
    "bowB = doc2.split()"
   ]
  },
  {
   "cell_type": "code",
   "execution_count": 4,
   "metadata": {},
   "outputs": [],
   "source": [
    "wordSet = set(bowA).union(set(bowB))\n"
   ]
  },
  {
   "cell_type": "code",
   "execution_count": 5,
   "metadata": {},
   "outputs": [],
   "source": [
    "wordDictA = dict.fromkeys(wordSet, 0)\n",
    "wordDictB = dict.fromkeys(wordSet, 0)\n"
   ]
  },
  {
   "cell_type": "code",
   "execution_count": 6,
   "metadata": {},
   "outputs": [],
   "source": [
    "for word in bowA:\n",
    "    wordDictA[word] += 1\n",
    "for word in bowB:\n",
    "    wordDictB[word] += 1"
   ]
  },
  {
   "cell_type": "code",
   "execution_count": 8,
   "metadata": {},
   "outputs": [
    {
     "data": {
      "text/html": [
       "<div>\n",
       "<style scoped>\n",
       "    .dataframe tbody tr th:only-of-type {\n",
       "        vertical-align: middle;\n",
       "    }\n",
       "\n",
       "    .dataframe tbody tr th {\n",
       "        vertical-align: top;\n",
       "    }\n",
       "\n",
       "    .dataframe thead th {\n",
       "        text-align: right;\n",
       "    }\n",
       "</style>\n",
       "<table border=\"1\" class=\"dataframe\">\n",
       "  <thead>\n",
       "    <tr style=\"text-align: right;\">\n",
       "      <th></th>\n",
       "      <th>A반은</th>\n",
       "      <th>그래도</th>\n",
       "      <th>더</th>\n",
       "      <th>마라탕을</th>\n",
       "      <th>먹지않을거야.</th>\n",
       "      <th>이상</th>\n",
       "      <th>좋아해.</th>\n",
       "    </tr>\n",
       "  </thead>\n",
       "  <tbody>\n",
       "    <tr>\n",
       "      <th>0</th>\n",
       "      <td>1</td>\n",
       "      <td>0</td>\n",
       "      <td>0</td>\n",
       "      <td>1</td>\n",
       "      <td>0</td>\n",
       "      <td>0</td>\n",
       "      <td>1</td>\n",
       "    </tr>\n",
       "    <tr>\n",
       "      <th>1</th>\n",
       "      <td>1</td>\n",
       "      <td>1</td>\n",
       "      <td>1</td>\n",
       "      <td>2</td>\n",
       "      <td>1</td>\n",
       "      <td>1</td>\n",
       "      <td>1</td>\n",
       "    </tr>\n",
       "  </tbody>\n",
       "</table>\n",
       "</div>"
      ],
      "text/plain": [
       "   A반은  그래도  더  마라탕을  먹지않을거야.  이상  좋아해.\n",
       "0    1    0  0     1        0   0     1\n",
       "1    1    1  1     2        1   1     1"
      ]
     },
     "execution_count": 8,
     "metadata": {},
     "output_type": "execute_result"
    }
   ],
   "source": [
    "import pandas as pd\n",
    "pd.DataFrame([wordDictA, wordDictB])"
   ]
  },
  {
   "cell_type": "markdown",
   "metadata": {},
   "source": [
    "# 2번"
   ]
  },
  {
   "cell_type": "code",
   "execution_count": null,
   "metadata": {},
   "outputs": [],
   "source": [
    "import re\n",
    "\n",
    "re.sub(r'등록 : \\w{4}-\\w{2}-\\w{2} \\w{2}:\\w{2}')\n",
    "re.sub(r'(.*?)]')\n",
    "re.sub(r'"
   ]
  },
  {
   "cell_type": "markdown",
   "metadata": {},
   "source": [
    "# 3번(문제3.xlsx에서 계산함)"
   ]
  },
  {
   "cell_type": "code",
   "execution_count": 77,
   "metadata": {},
   "outputs": [
    {
     "data": {
      "text/html": [
       "<div>\n",
       "<style scoped>\n",
       "    .dataframe tbody tr th:only-of-type {\n",
       "        vertical-align: middle;\n",
       "    }\n",
       "\n",
       "    .dataframe tbody tr th {\n",
       "        vertical-align: top;\n",
       "    }\n",
       "\n",
       "    .dataframe thead th {\n",
       "        text-align: right;\n",
       "    }\n",
       "</style>\n",
       "<table border=\"1\" class=\"dataframe\">\n",
       "  <thead>\n",
       "    <tr style=\"text-align: right;\">\n",
       "      <th></th>\n",
       "      <th>ngram</th>\n",
       "      <th>총빈도</th>\n",
       "      <th>매파 빈도</th>\n",
       "      <th>비둘기파 빈도</th>\n",
       "      <th>polarity score</th>\n",
       "      <th>intensity</th>\n",
       "      <th>분류</th>\n",
       "    </tr>\n",
       "  </thead>\n",
       "  <tbody>\n",
       "    <tr>\n",
       "      <th>0</th>\n",
       "      <td>금리;인상</td>\n",
       "      <td>10000</td>\n",
       "      <td>7000</td>\n",
       "      <td>3000</td>\n",
       "      <td>2.333333</td>\n",
       "      <td>0.4</td>\n",
       "      <td>매파</td>\n",
       "    </tr>\n",
       "    <tr>\n",
       "      <th>1</th>\n",
       "      <td>금리;인하</td>\n",
       "      <td>15000</td>\n",
       "      <td>3000</td>\n",
       "      <td>12000</td>\n",
       "      <td>0.250000</td>\n",
       "      <td>-0.6</td>\n",
       "      <td>비둘기파</td>\n",
       "    </tr>\n",
       "    <tr>\n",
       "      <th>2</th>\n",
       "      <td>인하</td>\n",
       "      <td>100000</td>\n",
       "      <td>40000</td>\n",
       "      <td>60000</td>\n",
       "      <td>0.666667</td>\n",
       "      <td>-0.2</td>\n",
       "      <td>비둘기파</td>\n",
       "    </tr>\n",
       "    <tr>\n",
       "      <th>3</th>\n",
       "      <td>통화정책;완화</td>\n",
       "      <td>20000</td>\n",
       "      <td>5000</td>\n",
       "      <td>15000</td>\n",
       "      <td>0.333333</td>\n",
       "      <td>-0.5</td>\n",
       "      <td>비둘기파</td>\n",
       "    </tr>\n",
       "  </tbody>\n",
       "</table>\n",
       "</div>"
      ],
      "text/plain": [
       "     ngram     총빈도  매파 빈도  비둘기파 빈도  polarity score   intensity    분류\n",
       "0    금리;인상   10000   7000     3000        2.333333         0.4    매파\n",
       "1    금리;인하   15000   3000    12000        0.250000        -0.6  비둘기파\n",
       "2       인하  100000  40000    60000        0.666667        -0.2  비둘기파\n",
       "3  통화정책;완화   20000   5000    15000        0.333333        -0.5  비둘기파"
      ]
     },
     "execution_count": 77,
     "metadata": {},
     "output_type": "execute_result"
    }
   ],
   "source": [
    "import pandas as pd\n",
    "\n",
    "x = pd.read_excel('문제3.xlsx')\n",
    "x"
   ]
  },
  {
   "cell_type": "markdown",
   "metadata": {},
   "source": [
    "# 4번"
   ]
  },
  {
   "cell_type": "code",
   "execution_count": 69,
   "metadata": {
    "scrolled": true
   },
   "outputs": [
    {
     "data": {
      "text/html": [
       "<div>\n",
       "<style scoped>\n",
       "    .dataframe tbody tr th:only-of-type {\n",
       "        vertical-align: middle;\n",
       "    }\n",
       "\n",
       "    .dataframe tbody tr th {\n",
       "        vertical-align: top;\n",
       "    }\n",
       "\n",
       "    .dataframe thead th {\n",
       "        text-align: right;\n",
       "    }\n",
       "</style>\n",
       "<table border=\"1\" class=\"dataframe\">\n",
       "  <thead>\n",
       "    <tr style=\"text-align: right;\">\n",
       "      <th></th>\n",
       "      <th>tone</th>\n",
       "    </tr>\n",
       "  </thead>\n",
       "  <tbody>\n",
       "    <tr>\n",
       "      <th>0</th>\n",
       "      <td>NaN</td>\n",
       "    </tr>\n",
       "    <tr>\n",
       "      <th>1</th>\n",
       "      <td>NaN</td>\n",
       "    </tr>\n",
       "    <tr>\n",
       "      <th>2</th>\n",
       "      <td>NaN</td>\n",
       "    </tr>\n",
       "    <tr>\n",
       "      <th>3</th>\n",
       "      <td>NaN</td>\n",
       "    </tr>\n",
       "  </tbody>\n",
       "</table>\n",
       "</div>"
      ],
      "text/plain": [
       "  tone\n",
       "0  NaN\n",
       "1  NaN\n",
       "2  NaN\n",
       "3  NaN"
      ]
     },
     "execution_count": 69,
     "metadata": {},
     "output_type": "execute_result"
    }
   ],
   "source": [
    "sentence1 = [\"금리/NNG;인상/NNG\", '경제/NNG;예상/NNG;회복/NNG', '금리/NNG;인하/NNG']\n",
    "sentence2 = ['통화정책/NNG;완화/NNG', '경제/NNG;예상/NNG;회복/NNG', '금리/NNG;인상/NNG']\n",
    "sentence3 = ['금리/NNG;인하/NNG', '통화정책/NNG;완화/NNG', '재할인율/NNG;인상/NNG']\n",
    "sentence4 = ['재할인율/NNG;인상/NNG', '금리/NNG;인상/NNG']\n",
    "\n",
    "hawkDict = ['금리/NNG;인상/NNG', '재할인율/NNG;인상/NNG', '경제/NNG;예상/NNG;회복/NNG', '물가/NNG;불안/NNG;확산/NNG']\n",
    "dovDict = ['금리/NNG;인하/NNG', '통화정책/NNG;완화/NNG', '인하/NNG;파급효과/NNG', '신용스프레드/NNG;부담/NNG']\n",
    "\n",
    "tone_list=[]\n",
    "\n",
    "df = pd.DataFrame(index = range(0,4), columns = ['tone'])\n",
    "df"
   ]
  },
  {
   "cell_type": "code",
   "execution_count": 70,
   "metadata": {},
   "outputs": [],
   "source": [
    "df['ngram목록'] = 0\n"
   ]
  },
  {
   "cell_type": "markdown",
   "metadata": {},
   "source": [
    "# ngram목록 데이터프레임에 추가"
   ]
  },
  {
   "cell_type": "code",
   "execution_count": 71,
   "metadata": {},
   "outputs": [],
   "source": [
    "df.iloc[0, 1] = str(sentence1)\n",
    "df.iloc[1, 1] = str(sentence2)\n",
    "df.iloc[2, 1] = str(sentence3)\n",
    "df.iloc[3, 1] = str(sentence4)"
   ]
  },
  {
   "cell_type": "code",
   "execution_count": 72,
   "metadata": {},
   "outputs": [
    {
     "data": {
      "text/html": [
       "<div>\n",
       "<style scoped>\n",
       "    .dataframe tbody tr th:only-of-type {\n",
       "        vertical-align: middle;\n",
       "    }\n",
       "\n",
       "    .dataframe tbody tr th {\n",
       "        vertical-align: top;\n",
       "    }\n",
       "\n",
       "    .dataframe thead th {\n",
       "        text-align: right;\n",
       "    }\n",
       "</style>\n",
       "<table border=\"1\" class=\"dataframe\">\n",
       "  <thead>\n",
       "    <tr style=\"text-align: right;\">\n",
       "      <th></th>\n",
       "      <th>tone</th>\n",
       "      <th>ngram목록</th>\n",
       "    </tr>\n",
       "  </thead>\n",
       "  <tbody>\n",
       "    <tr>\n",
       "      <th>0</th>\n",
       "      <td>NaN</td>\n",
       "      <td>['금리/NNG;인상/NNG', '경제/NNG;예상/NNG;회복/NNG', '금리/...</td>\n",
       "    </tr>\n",
       "    <tr>\n",
       "      <th>1</th>\n",
       "      <td>NaN</td>\n",
       "      <td>['통화정책/NNG;완화/NNG', '경제/NNG;예상/NNG;회복/NNG', '금...</td>\n",
       "    </tr>\n",
       "    <tr>\n",
       "      <th>2</th>\n",
       "      <td>NaN</td>\n",
       "      <td>['금리/NNG;인하/NNG', '통화정책/NNG;완화/NNG', '재할인율/NNG...</td>\n",
       "    </tr>\n",
       "    <tr>\n",
       "      <th>3</th>\n",
       "      <td>NaN</td>\n",
       "      <td>['재할인율/NNG;인상/NNG', '금리/NNG;인상/NNG']</td>\n",
       "    </tr>\n",
       "  </tbody>\n",
       "</table>\n",
       "</div>"
      ],
      "text/plain": [
       "  tone                                            ngram목록\n",
       "0  NaN  ['금리/NNG;인상/NNG', '경제/NNG;예상/NNG;회복/NNG', '금리/...\n",
       "1  NaN  ['통화정책/NNG;완화/NNG', '경제/NNG;예상/NNG;회복/NNG', '금...\n",
       "2  NaN  ['금리/NNG;인하/NNG', '통화정책/NNG;완화/NNG', '재할인율/NNG...\n",
       "3  NaN               ['재할인율/NNG;인상/NNG', '금리/NNG;인상/NNG']"
      ]
     },
     "execution_count": 72,
     "metadata": {},
     "output_type": "execute_result"
    }
   ],
   "source": [
    "df"
   ]
  },
  {
   "cell_type": "markdown",
   "metadata": {},
   "source": [
    "# 전처리"
   ]
  },
  {
   "cell_type": "code",
   "execution_count": 73,
   "metadata": {},
   "outputs": [
    {
     "data": {
      "text/html": [
       "<div>\n",
       "<style scoped>\n",
       "    .dataframe tbody tr th:only-of-type {\n",
       "        vertical-align: middle;\n",
       "    }\n",
       "\n",
       "    .dataframe tbody tr th {\n",
       "        vertical-align: top;\n",
       "    }\n",
       "\n",
       "    .dataframe thead th {\n",
       "        text-align: right;\n",
       "    }\n",
       "</style>\n",
       "<table border=\"1\" class=\"dataframe\">\n",
       "  <thead>\n",
       "    <tr style=\"text-align: right;\">\n",
       "      <th></th>\n",
       "      <th>tone</th>\n",
       "      <th>ngram목록</th>\n",
       "    </tr>\n",
       "  </thead>\n",
       "  <tbody>\n",
       "    <tr>\n",
       "      <th>0</th>\n",
       "      <td>NaN</td>\n",
       "      <td>금리/NNG;인상/NNG, 경제/NNG;예상/NNG;회복/NNG, 금리/NNG;인하...</td>\n",
       "    </tr>\n",
       "    <tr>\n",
       "      <th>1</th>\n",
       "      <td>NaN</td>\n",
       "      <td>통화정책/NNG;완화/NNG, 경제/NNG;예상/NNG;회복/NNG, 금리/NNG;...</td>\n",
       "    </tr>\n",
       "    <tr>\n",
       "      <th>2</th>\n",
       "      <td>NaN</td>\n",
       "      <td>금리/NNG;인하/NNG, 통화정책/NNG;완화/NNG, 재할인율/NNG;인상/NNG</td>\n",
       "    </tr>\n",
       "    <tr>\n",
       "      <th>3</th>\n",
       "      <td>NaN</td>\n",
       "      <td>재할인율/NNG;인상/NNG, 금리/NNG;인상/NNG</td>\n",
       "    </tr>\n",
       "  </tbody>\n",
       "</table>\n",
       "</div>"
      ],
      "text/plain": [
       "  tone                                            ngram목록\n",
       "0  NaN  금리/NNG;인상/NNG, 경제/NNG;예상/NNG;회복/NNG, 금리/NNG;인하...\n",
       "1  NaN  통화정책/NNG;완화/NNG, 경제/NNG;예상/NNG;회복/NNG, 금리/NNG;...\n",
       "2  NaN    금리/NNG;인하/NNG, 통화정책/NNG;완화/NNG, 재할인율/NNG;인상/NNG\n",
       "3  NaN                     재할인율/NNG;인상/NNG, 금리/NNG;인상/NNG"
      ]
     },
     "execution_count": 73,
     "metadata": {},
     "output_type": "execute_result"
    }
   ],
   "source": [
    "df['ngram목록'] = df['ngram목록'].apply(lambda x : x.replace('[', '').replace(']','').replace(\"'\", ''))\n",
    "df\n",
    "    "
   ]
  },
  {
   "cell_type": "markdown",
   "metadata": {},
   "source": [
    "# tone 계산"
   ]
  },
  {
   "cell_type": "code",
   "execution_count": 74,
   "metadata": {},
   "outputs": [
    {
     "name": "stdout",
     "output_type": "stream",
     "text": [
      "4\n",
      "1.0001 0.0001\n",
      "4\n",
      "0.0001 1.0001\n",
      "4\n",
      "0.0001 1.0001\n",
      "4\n",
      "1.0001 0.0001\n"
     ]
    }
   ],
   "source": [
    "for i in range(len(df)):\n",
    "    ngrams = df.loc[i, 'ngram목록'].split(',')\n",
    "    \n",
    "    count_p = 0.0001\n",
    "    count_n = 0.0001\n",
    "    print(len(df))\n",
    "    for ngram in ngrams:\n",
    "    \n",
    "        ngram.replace(' ','')\n",
    "            \n",
    "        if ngram in hawkDict:\n",
    "            count_p += 1\n",
    "        elif ngram in docDict:\n",
    "            count_n += 1\n",
    "    print(count_p, count_n)\n",
    "    \n",
    "    df.loc[i, 'tone'] = float(count_p - count_n) /float(count_p + count_n)"
   ]
  },
  {
   "cell_type": "code",
   "execution_count": 75,
   "metadata": {},
   "outputs": [
    {
     "data": {
      "text/html": [
       "<div>\n",
       "<style scoped>\n",
       "    .dataframe tbody tr th:only-of-type {\n",
       "        vertical-align: middle;\n",
       "    }\n",
       "\n",
       "    .dataframe tbody tr th {\n",
       "        vertical-align: top;\n",
       "    }\n",
       "\n",
       "    .dataframe thead th {\n",
       "        text-align: right;\n",
       "    }\n",
       "</style>\n",
       "<table border=\"1\" class=\"dataframe\">\n",
       "  <thead>\n",
       "    <tr style=\"text-align: right;\">\n",
       "      <th></th>\n",
       "      <th>tone</th>\n",
       "      <th>ngram목록</th>\n",
       "    </tr>\n",
       "  </thead>\n",
       "  <tbody>\n",
       "    <tr>\n",
       "      <th>0</th>\n",
       "      <td>0.9998</td>\n",
       "      <td>금리/NNG;인상/NNG, 경제/NNG;예상/NNG;회복/NNG, 금리/NNG;인하...</td>\n",
       "    </tr>\n",
       "    <tr>\n",
       "      <th>1</th>\n",
       "      <td>-0.9998</td>\n",
       "      <td>통화정책/NNG;완화/NNG, 경제/NNG;예상/NNG;회복/NNG, 금리/NNG;...</td>\n",
       "    </tr>\n",
       "    <tr>\n",
       "      <th>2</th>\n",
       "      <td>-0.9998</td>\n",
       "      <td>금리/NNG;인하/NNG, 통화정책/NNG;완화/NNG, 재할인율/NNG;인상/NNG</td>\n",
       "    </tr>\n",
       "    <tr>\n",
       "      <th>3</th>\n",
       "      <td>0.9998</td>\n",
       "      <td>재할인율/NNG;인상/NNG, 금리/NNG;인상/NNG</td>\n",
       "    </tr>\n",
       "  </tbody>\n",
       "</table>\n",
       "</div>"
      ],
      "text/plain": [
       "     tone                                            ngram목록\n",
       "0  0.9998  금리/NNG;인상/NNG, 경제/NNG;예상/NNG;회복/NNG, 금리/NNG;인하...\n",
       "1 -0.9998  통화정책/NNG;완화/NNG, 경제/NNG;예상/NNG;회복/NNG, 금리/NNG;...\n",
       "2 -0.9998    금리/NNG;인하/NNG, 통화정책/NNG;완화/NNG, 재할인율/NNG;인상/NNG\n",
       "3  0.9998                     재할인율/NNG;인상/NNG, 금리/NNG;인상/NNG"
      ]
     },
     "execution_count": 75,
     "metadata": {},
     "output_type": "execute_result"
    }
   ],
   "source": [
    "# tone < 0 == 매파\n",
    "# tone > 0 == 비둘기파\n",
    "df"
   ]
  },
  {
   "cell_type": "code",
   "execution_count": null,
   "metadata": {},
   "outputs": [],
   "source": []
  }
 ],
 "metadata": {
  "kernelspec": {
   "display_name": "Python 3",
   "language": "python",
   "name": "python3"
  },
  "language_info": {
   "codemirror_mode": {
    "name": "ipython",
    "version": 3
   },
   "file_extension": ".py",
   "mimetype": "text/x-python",
   "name": "python",
   "nbconvert_exporter": "python",
   "pygments_lexer": "ipython3",
   "version": "3.7.3"
  }
 },
 "nbformat": 4,
 "nbformat_minor": 2
}
