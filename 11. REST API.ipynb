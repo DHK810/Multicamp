{
 "cells": [
  {
   "cell_type": "markdown",
   "metadata": {},
   "source": [
    "# 공공데이터 포털 - 대기오염 정보 조회"
   ]
  },
  {
   "cell_type": "code",
   "execution_count": null,
   "metadata": {},
   "outputs": [],
   "source": [
    "import requests\n",
    "from bs4 import BeautifulSoup\n",
    "import urllib"
   ]
  },
  {
   "cell_type": "code",
   "execution_count": null,
   "metadata": {},
   "outputs": [],
   "source": [
    "BASE_ENDPOINT = 'http://openapi.airkorea.or.kr/openapi/services/rest/ArpltnInforInqireSvc/'\n",
    "# 이미 encode된 문자열.\n",
    "MY_API_KEY = \"SMztkO%2FRplKDzZj8SHdevEKE%2Bdoy1WPBhMXJC3%2BhvcQ9rfimRPD7q%2BLXisApMi%2B7ikhmboBsaBZ8wYCeV6zTKw%3D%3D\"\n",
    "\n",
    "# decode 함\n",
    "MY_API_KEY = urllib.parse.unquote(MY_API_KEY)\n",
    "MY_API_KEY"
   ]
  },
  {
   "cell_type": "markdown",
   "metadata": {},
   "source": [
    "## 1. 측정소별 실시간 측정정보 조회 "
   ]
  },
  {
   "cell_type": "code",
   "execution_count": null,
   "metadata": {},
   "outputs": [],
   "source": [
    "OPERATION_NAME = 'getMsrstnAcctoRltmMesureDnsty'\n"
   ]
  },
  {
   "cell_type": "code",
   "execution_count": null,
   "metadata": {},
   "outputs": [],
   "source": [
    "endpoint = urllib.parse.urljoin(BASE_ENDPOINT, OPERATION_NAME)\n",
    "endpoint"
   ]
  },
  {
   "cell_type": "code",
   "execution_count": null,
   "metadata": {},
   "outputs": [],
   "source": [
    "params = {\n",
    "    'ServiceKey': MY_API_KEY,\n",
    "    'numOfRows': 10,\n",
    "    'pageNo':1,\n",
    "    'stationName':'강남구',\n",
    "    'dataTerm': 'daily',\n",
    "    'ver': '1.3'\n",
    "}\n"
   ]
  },
  {
   "cell_type": "code",
   "execution_count": null,
   "metadata": {},
   "outputs": [],
   "source": [
    "resp = requests.get(endpoint, params)\n",
    "resp"
   ]
  },
  {
   "cell_type": "code",
   "execution_count": null,
   "metadata": {},
   "outputs": [],
   "source": [
    "soup = BeautifulSoup(resp.content)"
   ]
  },
  {
   "cell_type": "code",
   "execution_count": null,
   "metadata": {},
   "outputs": [],
   "source": [
    "soup"
   ]
  },
  {
   "cell_type": "code",
   "execution_count": null,
   "metadata": {},
   "outputs": [],
   "source": []
  }
 ],
 "metadata": {
  "kernelspec": {
   "display_name": "Python 3",
   "language": "python",
   "name": "python3"
  },
  "language_info": {
   "codemirror_mode": {
    "name": "ipython",
    "version": 3
   },
   "file_extension": ".py",
   "mimetype": "text/x-python",
   "name": "python",
   "nbconvert_exporter": "python",
   "pygments_lexer": "ipython3",
   "version": "3.7.3"
  }
 },
 "nbformat": 4,
 "nbformat_minor": 2
}
