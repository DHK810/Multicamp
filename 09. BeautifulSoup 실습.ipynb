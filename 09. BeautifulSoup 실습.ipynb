{
 "cells": [
  {
   "cell_type": "code",
   "execution_count": null,
   "metadata": {},
   "outputs": [],
   "source": [
    "import requests\n",
    "from bs4 import BeautifulSoup"
   ]
  },
  {
   "cell_type": "code",
   "execution_count": null,
   "metadata": {},
   "outputs": [],
   "source": [
    "url = \"https://www.naver.com\"\n",
    "resp = requests.get(url)"
   ]
  },
  {
   "cell_type": "code",
   "execution_count": null,
   "metadata": {},
   "outputs": [],
   "source": [
    "soup = BeautifulSoup(resp.content, 'html.parser')"
   ]
  },
  {
   "cell_type": "markdown",
   "metadata": {},
   "source": [
    "### prettify()"
   ]
  },
  {
   "cell_type": "code",
   "execution_count": null,
   "metadata": {},
   "outputs": [],
   "source": [
    "soup"
   ]
  },
  {
   "cell_type": "code",
   "execution_count": null,
   "metadata": {
    "scrolled": false
   },
   "outputs": [],
   "source": [
    "print(soup.prettify())"
   ]
  },
  {
   "cell_type": "markdown",
   "metadata": {},
   "source": [
    "### soup.  \\[tag_name]"
   ]
  },
  {
   "cell_type": "code",
   "execution_count": null,
   "metadata": {},
   "outputs": [],
   "source": [
    "soup.title"
   ]
  },
  {
   "cell_type": "code",
   "execution_count": null,
   "metadata": {},
   "outputs": [],
   "source": [
    "# 태그 이름\n",
    "soup.title.name "
   ]
  },
  {
   "cell_type": "code",
   "execution_count": null,
   "metadata": {},
   "outputs": [],
   "source": [
    "# 태그 내 문자열\n",
    "soup.title.string"
   ]
  },
  {
   "cell_type": "code",
   "execution_count": null,
   "metadata": {},
   "outputs": [],
   "source": [
    "# 태그 내 문자열\n",
    "soup.body.string "
   ]
  },
  {
   "cell_type": "code",
   "execution_count": null,
   "metadata": {},
   "outputs": [],
   "source": [
    "# 태그 내 텍스트 전체\n",
    "soup.body.text"
   ]
  },
  {
   "cell_type": "code",
   "execution_count": null,
   "metadata": {},
   "outputs": [],
   "source": [
    "soup.title.parent"
   ]
  },
  {
   "cell_type": "code",
   "execution_count": null,
   "metadata": {},
   "outputs": [],
   "source": [
    "soup.p"
   ]
  },
  {
   "cell_type": "markdown",
   "metadata": {},
   "source": [
    "### 태그의 속성 접근"
   ]
  },
  {
   "cell_type": "code",
   "execution_count": null,
   "metadata": {},
   "outputs": [],
   "source": [
    "# 태그의 속성 접근\n",
    "soup.p.attrs\n"
   ]
  },
  {
   "cell_type": "code",
   "execution_count": null,
   "metadata": {},
   "outputs": [],
   "source": [
    "# 태그의 속성 접근2\n",
    "soup.p['class']"
   ]
  },
  {
   "cell_type": "markdown",
   "metadata": {},
   "source": [
    "### find_all(tag, 속성) / find(tag, 속성)"
   ]
  },
  {
   "cell_type": "code",
   "execution_count": null,
   "metadata": {},
   "outputs": [],
   "source": [
    "resp = requests.get(\"https://search.naver.com/search.naver\")"
   ]
  },
  {
   "cell_type": "code",
   "execution_count": null,
   "metadata": {},
   "outputs": [],
   "source": [
    "soup = BeautifulSoup(resp.content, 'html.parser')"
   ]
  },
  {
   "cell_type": "code",
   "execution_count": null,
   "metadata": {
    "scrolled": true
   },
   "outputs": [],
   "source": [
    "# soup.find\n",
    "soup.find('div')"
   ]
  },
  {
   "cell_type": "markdown",
   "metadata": {},
   "source": [
    "### find_all"
   ]
  },
  {
   "cell_type": "code",
   "execution_count": null,
   "metadata": {},
   "outputs": [],
   "source": [
    "# soup.find_all\n",
    "soup.find_all('div')"
   ]
  },
  {
   "cell_type": "code",
   "execution_count": null,
   "metadata": {},
   "outputs": [],
   "source": [
    "len(soup.find_all('div'))"
   ]
  },
  {
   "cell_type": "markdown",
   "metadata": {},
   "source": [
    "##### find_all with list"
   ]
  },
  {
   "cell_type": "code",
   "execution_count": null,
   "metadata": {},
   "outputs": [],
   "source": [
    "# a하고 p 같이 찾기\n",
    "soup.find_all(['a', 'p'])"
   ]
  },
  {
   "cell_type": "markdown",
   "metadata": {},
   "source": [
    "### find_all 갯수 제한"
   ]
  },
  {
   "cell_type": "code",
   "execution_count": null,
   "metadata": {},
   "outputs": [],
   "source": [
    "len(soup.find_all('div', limit=10))"
   ]
  },
  {
   "cell_type": "markdown",
   "metadata": {},
   "source": [
    "### find_all 재귀 X"
   ]
  },
  {
   "cell_type": "code",
   "execution_count": null,
   "metadata": {},
   "outputs": [],
   "source": [
    "len(soup.body.find_all(\"div\", recursive=False))"
   ]
  },
  {
   "cell_type": "markdown",
   "metadata": {},
   "source": [
    "### 속성으로 찾기"
   ]
  },
  {
   "cell_type": "markdown",
   "metadata": {},
   "source": [
    "##### 특별한 속성"
   ]
  },
  {
   "cell_type": "code",
   "execution_count": null,
   "metadata": {},
   "outputs": [],
   "source": [
    "soup.find_all(id=\"main_pack\")"
   ]
  },
  {
   "cell_type": "markdown",
   "metadata": {},
   "source": [
    "##### 어떤 속성으로든"
   ]
  },
  {
   "cell_type": "code",
   "execution_count": null,
   "metadata": {},
   "outputs": [],
   "source": [
    "# 속성으로 찾기\n",
    "realtime_search = soup.find(class_='realtime_srch')\n",
    "realtime_search"
   ]
  },
  {
   "cell_type": "code",
   "execution_count": null,
   "metadata": {},
   "outputs": [],
   "source": [
    "realtime_search = soup.find(attrs={'class': 'realtime_srch'})\n",
    "realtime_search"
   ]
  },
  {
   "cell_type": "code",
   "execution_count": null,
   "metadata": {},
   "outputs": [],
   "source": []
  },
  {
   "cell_type": "code",
   "execution_count": null,
   "metadata": {},
   "outputs": [],
   "source": [
    "realtime_ol = realtime_search.find('ol', class_='lst_realtime_srch')\n",
    "realtime_ol"
   ]
  },
  {
   "cell_type": "code",
   "execution_count": null,
   "metadata": {},
   "outputs": [],
   "source": []
  },
  {
   "cell_type": "markdown",
   "metadata": {},
   "source": [
    "### contents / children for # direct children"
   ]
  },
  {
   "cell_type": "code",
   "execution_count": 219,
   "metadata": {},
   "outputs": [
    {
     "data": {
      "text/plain": [
       "[<li><a class=\"bx\" href=\"//search.naver.com/search.naver?where=nexearch&amp;sm=tab_htk.nws&amp;ie=utf8&amp;query=%ED%97%9D%EA%B0%80%EB%A6%AC+%EC%9C%A0%EB%9E%8C%EC%84%A0+%EC%82%AC%EA%B3%A0\" onclick=\"return goOtherCR(this, 'a=htk.nwslist&amp;r=1&amp;i=&amp;u='+urlencode(urlexpand(this.href)));\"><span class=\"keyword\"><em class=\"num\">1</em><span class=\"tit\">헝가리 유람선 사고</span></span></a></li>,\n",
       " <li><a class=\"bx\" href=\"//search.naver.com/search.naver?where=nexearch&amp;sm=tab_htk.nws&amp;ie=utf8&amp;query=%EC%9E%85%EA%B5%AD%EC%9E%A5+%EB%A9%B4%EC%84%B8%EC%A0%90\" onclick=\"return goOtherCR(this, 'a=htk.nwslist&amp;r=2&amp;i=&amp;u='+urlencode(urlexpand(this.href)));\"><span class=\"keyword\"><em class=\"num\">2</em><span class=\"tit\">입국장 면세점</span></span></a></li>,\n",
       " <li><a class=\"bx\" href=\"//search.naver.com/search.naver?where=nexearch&amp;sm=tab_htk.nws&amp;ie=utf8&amp;query=%ED%95%B4%EB%82%A8+%EB%8B%AC%EB%A7%88%EA%B3%A0%EB%8F%84\" onclick=\"return goOtherCR(this, 'a=htk.nwslist&amp;r=3&amp;i=&amp;u='+urlencode(urlexpand(this.href)));\"><span class=\"keyword\"><em class=\"num\">3</em><span class=\"tit\">해남 달마고도</span></span></a></li>,\n",
       " <li><a class=\"bx\" href=\"//search.naver.com/search.naver?where=nexearch&amp;sm=tab_htk.nws&amp;ie=utf8&amp;query=%ED%98%B8%EA%B5%AD%EB%B3%B4%ED%9B%88%EC%9D%98+%EB%8B%AC\" onclick=\"return goOtherCR(this, 'a=htk.nwslist&amp;r=4&amp;i=&amp;u='+urlencode(urlexpand(this.href)));\"><span class=\"keyword\"><em class=\"num\">4</em><span class=\"tit\">호국보훈의 달</span></span></a></li>,\n",
       " <li><a class=\"bx\" href=\"//search.naver.com/search.naver?where=nexearch&amp;sm=tab_htk.nws&amp;ie=utf8&amp;query=%EC%95%84%ED%94%84%EB%A6%AC%EC%B9%B4+%EB%8F%BC%EC%A7%80%EC%97%B4%EB%B3%91\" onclick=\"return goOtherCR(this, 'a=htk.nwslist&amp;r=5&amp;i=&amp;u='+urlencode(urlexpand(this.href)));\"><span class=\"keyword\"><em class=\"num\">5</em><span class=\"tit\">아프리카 돼지열병</span></span></a></li>,\n",
       " <li><a class=\"bx\" href=\"//search.naver.com/search.naver?where=nexearch&amp;sm=tab_htk.nws&amp;ie=utf8&amp;query=%EC%98%A4%EB%8A%98+%EB%82%A0%EC%94%A8\" onclick=\"return goOtherCR(this, 'a=htk.nwslist&amp;r=6&amp;i=&amp;u='+urlencode(urlexpand(this.href)));\"><span class=\"keyword\"><em class=\"num\">6</em><span class=\"tit\">오늘 날씨</span></span></a></li>,\n",
       " <li><a class=\"bx bx_item\" href=\"//search.naver.com/search.naver?where=nexearch&amp;sm=tab_htk.nws&amp;ie=utf8&amp;query=%ED%81%B0+%EC%9D%BC%EA%B5%90%EC%B0%A8+%EC%A3%BC%EC%9D%98\" onclick=\"return goOtherCR(this, 'a=htk.nwslist&amp;r=7&amp;i=&amp;u='+urlencode(urlexpand(this.href)));\"><span class=\"keyword\"><em class=\"num\">7</em><span class=\"tit\">큰 일교차 주의</span></span><em class=\"rank new\"><span class=\"spim\"></span><span>NEW</span></em></a></li>,\n",
       " <li><a class=\"bx\" href=\"//search.naver.com/search.naver?where=nexearch&amp;sm=tab_htk.nws&amp;ie=utf8&amp;query=%EC%98%A4%EB%8A%98+%EC%9A%B4%EC%84%B8\" onclick=\"return goOtherCR(this, 'a=htk.nwslist&amp;r=8&amp;i=&amp;u='+urlencode(urlexpand(this.href)));\"><span class=\"keyword\"><em class=\"num\">8</em><span class=\"tit\">오늘 운세</span></span></a></li>,\n",
       " <li><a class=\"bx\" href=\"//search.naver.com/search.naver?where=nexearch&amp;sm=tab_htk.nws&amp;ie=utf8&amp;query=%EC%A0%95%EA%B2%BD%EB%91%90+%EA%B5%AD%EB%B0%A9%EB%B6%80+%EC%9E%A5%EA%B4%80\" onclick=\"return goOtherCR(this, 'a=htk.nwslist&amp;r=9&amp;i=&amp;u='+urlencode(urlexpand(this.href)));\"><span class=\"keyword\"><em class=\"num\">9</em><span class=\"tit\">정경두 국방부 장관</span></span></a></li>,\n",
       " <li><a class=\"bx bx_item\" href=\"//search.naver.com/search.naver?where=nexearch&amp;sm=tab_htk.nws&amp;ie=utf8&amp;query=%EB%AC%B8%EC%9E%AC%EC%9D%B8+%EC%A0%95%EB%B6%80\" onclick=\"return goOtherCR(this, 'a=htk.nwslist&amp;r=10&amp;i=&amp;u='+urlencode(urlexpand(this.href)));\"><span class=\"keyword\"><em class=\"num\">10</em><span class=\"tit\">문재인 정부</span></span><em class=\"rank new\"><span class=\"spim\"></span><span>NEW</span></em></a></li>]"
      ]
     },
     "execution_count": 219,
     "metadata": {},
     "output_type": "execute_result"
    }
   ],
   "source": [
    "# contents\n",
    "realtime_ol.contents"
   ]
  },
  {
   "cell_type": "code",
   "execution_count": 220,
   "metadata": {},
   "outputs": [
    {
     "data": {
      "text/plain": [
       "10"
      ]
     },
     "execution_count": 220,
     "metadata": {},
     "output_type": "execute_result"
    }
   ],
   "source": [
    "len(realtime_ol.contents)"
   ]
  },
  {
   "cell_type": "code",
   "execution_count": 221,
   "metadata": {},
   "outputs": [
    {
     "data": {
      "text/plain": [
       "<list_iterator at 0x10a3d4da0>"
      ]
     },
     "execution_count": 221,
     "metadata": {},
     "output_type": "execute_result"
    }
   ],
   "source": [
    "realtime_ol.children"
   ]
  },
  {
   "cell_type": "code",
   "execution_count": 224,
   "metadata": {},
   "outputs": [
    {
     "name": "stdout",
     "output_type": "stream",
     "text": [
      "<li><a class=\"bx\" href=\"//search.naver.com/search.naver?where=nexearch&amp;sm=tab_htk.nws&amp;ie=utf8&amp;query=%ED%97%9D%EA%B0%80%EB%A6%AC+%EC%9C%A0%EB%9E%8C%EC%84%A0+%EC%82%AC%EA%B3%A0\" onclick=\"return goOtherCR(this, 'a=htk.nwslist&amp;r=1&amp;i=&amp;u='+urlencode(urlexpand(this.href)));\"><span class=\"keyword\"><em class=\"num\">1</em><span class=\"tit\">헝가리 유람선 사고</span></span></a></li>\n",
      "<li><a class=\"bx\" href=\"//search.naver.com/search.naver?where=nexearch&amp;sm=tab_htk.nws&amp;ie=utf8&amp;query=%EC%9E%85%EA%B5%AD%EC%9E%A5+%EB%A9%B4%EC%84%B8%EC%A0%90\" onclick=\"return goOtherCR(this, 'a=htk.nwslist&amp;r=2&amp;i=&amp;u='+urlencode(urlexpand(this.href)));\"><span class=\"keyword\"><em class=\"num\">2</em><span class=\"tit\">입국장 면세점</span></span></a></li>\n",
      "<li><a class=\"bx\" href=\"//search.naver.com/search.naver?where=nexearch&amp;sm=tab_htk.nws&amp;ie=utf8&amp;query=%ED%95%B4%EB%82%A8+%EB%8B%AC%EB%A7%88%EA%B3%A0%EB%8F%84\" onclick=\"return goOtherCR(this, 'a=htk.nwslist&amp;r=3&amp;i=&amp;u='+urlencode(urlexpand(this.href)));\"><span class=\"keyword\"><em class=\"num\">3</em><span class=\"tit\">해남 달마고도</span></span></a></li>\n",
      "<li><a class=\"bx\" href=\"//search.naver.com/search.naver?where=nexearch&amp;sm=tab_htk.nws&amp;ie=utf8&amp;query=%ED%98%B8%EA%B5%AD%EB%B3%B4%ED%9B%88%EC%9D%98+%EB%8B%AC\" onclick=\"return goOtherCR(this, 'a=htk.nwslist&amp;r=4&amp;i=&amp;u='+urlencode(urlexpand(this.href)));\"><span class=\"keyword\"><em class=\"num\">4</em><span class=\"tit\">호국보훈의 달</span></span></a></li>\n",
      "<li><a class=\"bx\" href=\"//search.naver.com/search.naver?where=nexearch&amp;sm=tab_htk.nws&amp;ie=utf8&amp;query=%EC%95%84%ED%94%84%EB%A6%AC%EC%B9%B4+%EB%8F%BC%EC%A7%80%EC%97%B4%EB%B3%91\" onclick=\"return goOtherCR(this, 'a=htk.nwslist&amp;r=5&amp;i=&amp;u='+urlencode(urlexpand(this.href)));\"><span class=\"keyword\"><em class=\"num\">5</em><span class=\"tit\">아프리카 돼지열병</span></span></a></li>\n",
      "<li><a class=\"bx\" href=\"//search.naver.com/search.naver?where=nexearch&amp;sm=tab_htk.nws&amp;ie=utf8&amp;query=%EC%98%A4%EB%8A%98+%EB%82%A0%EC%94%A8\" onclick=\"return goOtherCR(this, 'a=htk.nwslist&amp;r=6&amp;i=&amp;u='+urlencode(urlexpand(this.href)));\"><span class=\"keyword\"><em class=\"num\">6</em><span class=\"tit\">오늘 날씨</span></span></a></li>\n",
      "<li><a class=\"bx bx_item\" href=\"//search.naver.com/search.naver?where=nexearch&amp;sm=tab_htk.nws&amp;ie=utf8&amp;query=%ED%81%B0+%EC%9D%BC%EA%B5%90%EC%B0%A8+%EC%A3%BC%EC%9D%98\" onclick=\"return goOtherCR(this, 'a=htk.nwslist&amp;r=7&amp;i=&amp;u='+urlencode(urlexpand(this.href)));\"><span class=\"keyword\"><em class=\"num\">7</em><span class=\"tit\">큰 일교차 주의</span></span><em class=\"rank new\"><span class=\"spim\"></span><span>NEW</span></em></a></li>\n",
      "<li><a class=\"bx\" href=\"//search.naver.com/search.naver?where=nexearch&amp;sm=tab_htk.nws&amp;ie=utf8&amp;query=%EC%98%A4%EB%8A%98+%EC%9A%B4%EC%84%B8\" onclick=\"return goOtherCR(this, 'a=htk.nwslist&amp;r=8&amp;i=&amp;u='+urlencode(urlexpand(this.href)));\"><span class=\"keyword\"><em class=\"num\">8</em><span class=\"tit\">오늘 운세</span></span></a></li>\n",
      "<li><a class=\"bx\" href=\"//search.naver.com/search.naver?where=nexearch&amp;sm=tab_htk.nws&amp;ie=utf8&amp;query=%EC%A0%95%EA%B2%BD%EB%91%90+%EA%B5%AD%EB%B0%A9%EB%B6%80+%EC%9E%A5%EA%B4%80\" onclick=\"return goOtherCR(this, 'a=htk.nwslist&amp;r=9&amp;i=&amp;u='+urlencode(urlexpand(this.href)));\"><span class=\"keyword\"><em class=\"num\">9</em><span class=\"tit\">정경두 국방부 장관</span></span></a></li>\n",
      "<li><a class=\"bx bx_item\" href=\"//search.naver.com/search.naver?where=nexearch&amp;sm=tab_htk.nws&amp;ie=utf8&amp;query=%EB%AC%B8%EC%9E%AC%EC%9D%B8+%EC%A0%95%EB%B6%80\" onclick=\"return goOtherCR(this, 'a=htk.nwslist&amp;r=10&amp;i=&amp;u='+urlencode(urlexpand(this.href)));\"><span class=\"keyword\"><em class=\"num\">10</em><span class=\"tit\">문재인 정부</span></span><em class=\"rank new\"><span class=\"spim\"></span><span>NEW</span></em></a></li>\n"
     ]
    }
   ],
   "source": [
    "# contents와 같은데 iterator로 가져옴.\n",
    "for li in realtime_ol.children:\n",
    "    print(li)"
   ]
  },
  {
   "cell_type": "code",
   "execution_count": 225,
   "metadata": {},
   "outputs": [
    {
     "data": {
      "text/plain": [
       "[<p class=\"dsc\"><time>2019.06.02. 20:30 ~ 23:30</time> 기준 <a class=\"link_rts_help\" href=\"https://help.naver.com/support/alias/search/word/word_3.naver\" onclick=\"return goOtherCR(this, 'a=htk.guide&amp;r=&amp;i=&amp;u='+urlencode(this.href));\" target=\"_blank\"><i class=\"sprenew api_ico_help2\">도움말</i></a></p>]"
      ]
     },
     "execution_count": 225,
     "metadata": {},
     "output_type": "execute_result"
    }
   ],
   "source": [
    "div_tag.contents"
   ]
  },
  {
   "cell_type": "markdown",
   "metadata": {},
   "source": [
    "### .descendants  모든 자손을 가져오자"
   ]
  },
  {
   "cell_type": "code",
   "execution_count": 228,
   "metadata": {},
   "outputs": [
    {
     "data": {
      "text/plain": [
       "<generator object Tag.descendants at 0x109fa6750>"
      ]
     },
     "execution_count": 228,
     "metadata": {},
     "output_type": "execute_result"
    }
   ],
   "source": [
    "realtime_ol.descendants"
   ]
  },
  {
   "cell_type": "code",
   "execution_count": null,
   "metadata": {},
   "outputs": [],
   "source": [
    "for idx, x in enumerate(realtime_ol.descendants):\n",
    "    print(idx, x)"
   ]
  },
  {
   "cell_type": "markdown",
   "metadata": {},
   "source": [
    "### parents # 바로 부모"
   ]
  },
  {
   "cell_type": "code",
   "execution_count": null,
   "metadata": {},
   "outputs": [],
   "source": [
    "realtime_ol.parent"
   ]
  },
  {
   "cell_type": "markdown",
   "metadata": {},
   "source": [
    "### parents : 조상 generator"
   ]
  },
  {
   "cell_type": "code",
   "execution_count": null,
   "metadata": {},
   "outputs": [],
   "source": [
    "# parents : generator\n",
    "for idx, parent in enumerate(realtime_ol.parents):\n",
    "    print(idx, parent.name)\n"
   ]
  },
  {
   "cell_type": "markdown",
   "metadata": {},
   "source": [
    "### siblings"
   ]
  },
  {
   "cell_type": "code",
   "execution_count": null,
   "metadata": {},
   "outputs": [],
   "source": [
    "# 첫번째 컨텐츠\n",
    "realtime_contents = realtime_ol.contents\n",
    "first = realtime_contents[0]\n",
    "first"
   ]
  },
  {
   "cell_type": "code",
   "execution_count": null,
   "metadata": {},
   "outputs": [],
   "source": [
    "\n",
    "second = first.next_sibling\n",
    "second\n"
   ]
  },
  {
   "cell_type": "code",
   "execution_count": null,
   "metadata": {},
   "outputs": [],
   "source": [
    "# 다음 형제들의 generator\n",
    "for n_siblings in first.next_siblings:\n",
    "    print(n_siblings)"
   ]
  },
  {
   "cell_type": "code",
   "execution_count": null,
   "metadata": {},
   "outputs": [],
   "source": [
    "before_second = second.previous_sibling\n",
    "before_second"
   ]
  },
  {
   "cell_type": "code",
   "execution_count": null,
   "metadata": {},
   "outputs": [],
   "source": [
    "# 이전 형제들의 generator\n",
    "before_siblings = second.previous_siblings\n",
    "before_siblings"
   ]
  },
  {
   "cell_type": "markdown",
   "metadata": {},
   "source": [
    "### element : 요소로 접근하기 (tree X)"
   ]
  },
  {
   "cell_type": "code",
   "execution_count": null,
   "metadata": {},
   "outputs": [],
   "source": [
    "first.next_element"
   ]
  },
  {
   "cell_type": "code",
   "execution_count": null,
   "metadata": {},
   "outputs": [],
   "source": [
    "first.next_elements"
   ]
  },
  {
   "cell_type": "code",
   "execution_count": null,
   "metadata": {},
   "outputs": [],
   "source": [
    "first.next_element.next_element"
   ]
  },
  {
   "cell_type": "code",
   "execution_count": null,
   "metadata": {},
   "outputs": [],
   "source": [
    "first.previous_element"
   ]
  },
  {
   "cell_type": "markdown",
   "metadata": {},
   "source": [
    "### find_all with string(문자열로 문자열 찾기)"
   ]
  },
  {
   "cell_type": "code",
   "execution_count": null,
   "metadata": {},
   "outputs": [],
   "source": [
    "news_topics = soup.find_all(string=\"뉴스토픽\")\n",
    "news_topics"
   ]
  },
  {
   "cell_type": "code",
   "execution_count": null,
   "metadata": {},
   "outputs": [],
   "source": [
    "news_topics[0].parent"
   ]
  },
  {
   "cell_type": "code",
   "execution_count": null,
   "metadata": {},
   "outputs": [],
   "source": [
    "news_topics[1].parent"
   ]
  },
  {
   "cell_type": "code",
   "execution_count": null,
   "metadata": {
    "scrolled": true
   },
   "outputs": [],
   "source": [
    "news_topics[2].parent"
   ]
  },
  {
   "cell_type": "markdown",
   "metadata": {},
   "source": [
    "### find_next_siblings() // find_next_sibling()\n",
    "### find_previous_siblings() // find_previous_sibling()\n",
    "\n",
    "태그 지정해서 sibling 찾기"
   ]
  },
  {
   "cell_type": "code",
   "execution_count": null,
   "metadata": {},
   "outputs": [],
   "source": [
    "ol_tag = first.parent"
   ]
  },
  {
   "cell_type": "code",
   "execution_count": null,
   "metadata": {},
   "outputs": [],
   "source": [
    "ol_tag.find_next_siblings('ol')"
   ]
  },
  {
   "cell_type": "code",
   "execution_count": null,
   "metadata": {},
   "outputs": [],
   "source": [
    "div_tag = ol_tag.find_next_sibling('div')\n",
    "div_tag"
   ]
  },
  {
   "cell_type": "code",
   "execution_count": null,
   "metadata": {},
   "outputs": [],
   "source": [
    "div_tag.find_previous_siblings('ol')"
   ]
  },
  {
   "cell_type": "markdown",
   "metadata": {},
   "source": [
    "### find_all_next(), find_next()\n",
    "### find_all_previous(), find_previous()\n",
    "태그 지정해서 element 찾기"
   ]
  },
  {
   "cell_type": "code",
   "execution_count": null,
   "metadata": {},
   "outputs": [],
   "source": [
    "div_tag.find_all_next('a')"
   ]
  },
  {
   "cell_type": "code",
   "execution_count": null,
   "metadata": {},
   "outputs": [],
   "source": [
    "div_tag.find_next('a')"
   ]
  },
  {
   "cell_type": "code",
   "execution_count": null,
   "metadata": {},
   "outputs": [],
   "source": [
    "div_tag.find_all_previous('a')"
   ]
  },
  {
   "cell_type": "code",
   "execution_count": null,
   "metadata": {},
   "outputs": [],
   "source": [
    "div_tag.find_previous('a')"
   ]
  },
  {
   "cell_type": "code",
   "execution_count": 217,
   "metadata": {},
   "outputs": [],
   "source": [
    "BeautifulSoup?"
   ]
  },
  {
   "cell_type": "code",
   "execution_count": null,
   "metadata": {},
   "outputs": [],
   "source": []
  }
 ],
 "metadata": {
  "kernelspec": {
   "display_name": "Python 3",
   "language": "python",
   "name": "python3"
  },
  "language_info": {
   "codemirror_mode": {
    "name": "ipython",
    "version": 3
   },
   "file_extension": ".py",
   "mimetype": "text/x-python",
   "name": "python",
   "nbconvert_exporter": "python",
   "pygments_lexer": "ipython3",
   "version": "3.7.3"
  }
 },
 "nbformat": 4,
 "nbformat_minor": 2
}
