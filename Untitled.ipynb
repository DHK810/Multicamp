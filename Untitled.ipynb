{
 "cells": [
  {
   "cell_type": "code",
   "execution_count": null,
   "metadata": {},
   "outputs": [],
   "source": [
    "1+2"
   ]
  },
  {
   "cell_type": "code",
   "execution_count": null,
   "metadata": {},
   "outputs": [],
   "source": [
    "age = 18\n",
    "if age > 19:\n",
    "    print(\"성인입니다\")\n",
    "else:\n",
    "    print(\"거짓이다\")"
   ]
  },
  {
   "cell_type": "code",
   "execution_count": null,
   "metadata": {},
   "outputs": [],
   "source": [
    "kokoro = 10\n",
    "\n",
    "print(type(kokoro))\n",
    "if kokoro > 5:\n",
    "    print(\"진심이다\")\n",
    "else:\n",
    "    print(\"거짓이다\")"
   ]
  },
  {
   "cell_type": "code",
   "execution_count": null,
   "metadata": {},
   "outputs": [],
   "source": [
    "y = input('버거 가격을 입력하세요: ')\n",
    "print(type(y))\n",
    "\n",
    "y = \"3300\"\n",
    "\n",
    "y = int(input('버거 가격을 입력하세요: '))\n",
    "print(type(y))\n",
    "y = 3300\n",
    "\n",
    "\n",
    "if y == 3300:\n",
    "    print(\"단품이야\")\n",
    "if y == 5500:\n",
    "    print(\"세트다\")\n",
    "else:\n",
    "    print('잘못입력했어')\n"
   ]
  },
  {
   "cell_type": "code",
   "execution_count": null,
   "metadata": {},
   "outputs": [],
   "source": [
    "s = '서울'\n",
    "d = '대전'\n",
    "g = '대구'\n",
    "b = '부산'\n",
    "print(s,d,g,b, sep = ' 찍고, ')"
   ]
  },
  {
   "cell_type": "code",
   "execution_count": null,
   "metadata": {},
   "outputs": [],
   "source": [
    "age = input()\n",
    "\n",
    "age = 1000"
   ]
  },
  {
   "cell_type": "code",
   "execution_count": 9,
   "metadata": {},
   "outputs": [
    {
     "name": "stdout",
     "output_type": "stream",
     "text": [
      "가격을 입력하세요5000\n",
      "개수를 입력하세요5\n",
      "총액은 25000 원입니다\n"
     ]
    }
   ],
   "source": [
    "price = input('가격을 입력하세요')\n",
    "num = input('개수를 입력하세요')\n",
    "sum = int(price) * int(num)\n",
    "\n",
    "print('총액은', sum, '원입니다')"
   ]
  },
  {
   "cell_type": "code",
   "execution_count": 6,
   "metadata": {},
   "outputs": [
    {
     "data": {
      "text/plain": [
       "'abdffg'"
      ]
     },
     "execution_count": 6,
     "metadata": {},
     "output_type": "execute_result"
    }
   ],
   "source": [
    "'abd' + 'ffg'"
   ]
  }
 ],
 "metadata": {
  "kernelspec": {
   "display_name": "Python 3",
   "language": "python",
   "name": "python3"
  },
  "language_info": {
   "codemirror_mode": {
    "name": "ipython",
    "version": 3
   },
   "file_extension": ".py",
   "mimetype": "text/x-python",
   "name": "python",
   "nbconvert_exporter": "python",
   "pygments_lexer": "ipython3",
   "version": "3.7.3"
  }
 },
 "nbformat": 4,
 "nbformat_minor": 2
}
