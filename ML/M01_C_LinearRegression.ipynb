{
 "cells": [
  {
   "cell_type": "markdown",
   "metadata": {},
   "source": [
    "# LinearRegression_model_comprehension"
   ]
  },
  {
   "cell_type": "code",
   "execution_count": 2,
   "metadata": {},
   "outputs": [],
   "source": [
    "from sklearn.datasets import make_regression #가상의 회귀분석용 데이터 생성\n",
    "from sklearn.linear_model import LinearRegression #LinearRegression\n",
    "from sklearn.model_selection import train_test_split #Trainset, Testset 분리 "
   ]
  },
  {
   "cell_type": "code",
   "execution_count": 3,
   "metadata": {
    "scrolled": true
   },
   "outputs": [
    {
     "name": "stdout",
     "output_type": "stream",
     "text": [
      "Input_feature:\n",
      " [[ 0.66696902]\n",
      " [-0.10050871]\n",
      " [ 0.26977157]\n",
      " [ 0.03686286]\n",
      " [ 0.1189309 ]]\n",
      "Target_value: \n",
      "[54.45470681  3.48209667 28.02858357 12.56083751 17.82904797] \n"
     ]
    }
   ],
   "source": [
    "X, y = make_regression(n_samples=10000, n_features=1, bias=10, noise=0.1) \n",
    "print('Input_feature:\\n {}\\nTarget_value: \\n{} '.format(X[:5], y[:5])) "
   ]
  },
  {
   "cell_type": "code",
   "execution_count": 4,
   "metadata": {
    "scrolled": true
   },
   "outputs": [
    {
     "name": "stdout",
     "output_type": "stream",
     "text": [
      "<class 'numpy.ndarray'> <class 'numpy.ndarray'>\n"
     ]
    }
   ],
   "source": [
    "print(type(X), type(y))"
   ]
  },
  {
   "cell_type": "code",
   "execution_count": null,
   "metadata": {},
   "outputs": [],
   "source": [
    "import matplotlib.pyplot as plt\n",
    "\n",
    "plt.scatter(X[:, 0], y)\n",
    "plt.show()"
   ]
  },
  {
   "cell_type": "code",
   "execution_count": null,
   "metadata": {},
   "outputs": [],
   "source": [
    "X_train, X_test, y_train, y_test = train_test_split(X, y, test_size=0.2, shuffle=True) "
   ]
  },
  {
   "cell_type": "code",
   "execution_count": null,
   "metadata": {},
   "outputs": [],
   "source": [
    "# Linear Regression 클래스 객체 생성 \n",
    "model = LinearRegression() # fit_intercept = 상수항 유무 결정 \n",
    "\n",
    "# fit 메서드로 모형 추정 (오그멘테이션은 자동으로 수행) \n",
    "model_lr = model.fit(X_train, y_train) \n",
    "\n",
    "print('weight: ', model_lr.coef_) \n",
    "print('bias: ', model_lr.intercept_) "
   ]
  },
  {
   "cell_type": "code",
   "execution_count": null,
   "metadata": {},
   "outputs": [],
   "source": [
    "model.score(X_train, y_train)"
   ]
  },
  {
   "cell_type": "code",
   "execution_count": null,
   "metadata": {},
   "outputs": [],
   "source": [
    "model.score(X_test, y_test)"
   ]
  },
  {
   "cell_type": "code",
   "execution_count": null,
   "metadata": {},
   "outputs": [],
   "source": []
  }
 ],
 "metadata": {
  "kernelspec": {
   "display_name": "Python 3",
   "language": "python",
   "name": "python3"
  },
  "language_info": {
   "codemirror_mode": {
    "name": "ipython",
    "version": 3
   },
   "file_extension": ".py",
   "mimetype": "text/x-python",
   "name": "python",
   "nbconvert_exporter": "python",
   "pygments_lexer": "ipython3",
   "version": "3.6.8"
  }
 },
 "nbformat": 4,
 "nbformat_minor": 2
}
