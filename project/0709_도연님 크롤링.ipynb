{
 "cells": [
  {
   "cell_type": "markdown",
   "metadata": {},
   "source": [
    "# 사용법: 1. 일반 뉴스 크롤링 or 날짜 지정 뉴스 크롤링 둘중 하나 선택해서 RUN하세요. 2. 크롤링 시작 RUN하세요"
   ]
  },
  {
   "cell_type": "markdown",
   "metadata": {},
   "source": [
    "# 일반 뉴스 크롤링"
   ]
  },
  {
   "cell_type": "code",
   "execution_count": 48,
   "metadata": {},
   "outputs": [
    {
     "name": "stdout",
     "output_type": "stream",
     "text": [
      "제외할 단어는 \"단어 - 단어\"]\n",
      "                 반드시 포함될 단어는 \"단어 + 단어\" \n",
      "                 둘 중 하나를 포함하여 검색 \"단어 | 단어\"\n",
      "부동산\n"
     ]
    }
   ],
   "source": [
    "from bs4 import BeautifulSoup\n",
    "import requests\n",
    "from pprint import pprint\n",
    "\n",
    "url = 'https://search.naver.com/search.naver'\n",
    "query = input('제외할 단어는 \"단어 - 단어\"]\\n \\\n",
    "                반드시 포함될 단어는 \"단어 + 단어\" \\n \\\n",
    "                둘 중 하나를 포함하여 검색 \"단어 | 단어\"\\n')  #input으로 값 받아도 됌.\n",
    "params = {\n",
    "    'where': 'news',          #?query=%EB%A8%B8%EC%8B%A0+%EB%9F%AC%EB%8B%9D&where=news\n",
    "    'query': query,\n",
    "    'page' : page\n",
    "}\n",
    "\n"
   ]
  },
  {
   "cell_type": "markdown",
   "metadata": {},
   "source": [
    "# 날짜 지정 뉴스 크롤링"
   ]
  },
  {
   "cell_type": "code",
   "execution_count": 51,
   "metadata": {},
   "outputs": [
    {
     "name": "stdout",
     "output_type": "stream",
     "text": [
      "제외할 단어는 \"단어 - 단어\"]\n",
      "                 반드시 포함될 단어는 \"단어 + 단어\" \n",
      "                 둘 중 하나를 포함하여 검색 \"단어 | 단어\"\n",
      "부동산\n",
      "날짜 언제부터 언제까지: 양식 예) yyyymmdd yyyymmdd20190606 20190607\n"
     ]
    }
   ],
   "source": [
    "# 특정 날짜 범위만 가져오고 싶을 때\n",
    "\n",
    "\n",
    "from bs4 import BeautifulSoup\n",
    "import requests\n",
    "from pprint import pprint\n",
    "\n",
    "url = 'https://search.naver.com/search.naver'\n",
    "query = input('제외할 단어는 \"단어 - 단어\"]\\n \\\n",
    "                반드시 포함될 단어는 \"단어 + 단어\" \\n \\\n",
    "                둘 중 하나를 포함하여 검색 \"단어 | 단어\"\\n')  #input으로 값 받아도 됌.\n",
    "date_customize = input('날짜 언제부터 언제까지: 양식 예) yyyymmdd yyyymmdd')\n",
    "if len(date_customize.split(' ')) == 2:\n",
    "    nso_start = date_customize.split(' ')[0]\n",
    "    nso_end = date_customize.split(' ')[1]\n",
    "    nso= 'so%3Ar%2Cp%3Afrom{0}to{1}%2Ca%3Aall'.format(nso_start, nso_end)\n",
    "else:\n",
    "    nso = date_customize\n",
    "\n",
    "params = {\n",
    "    'where': 'news',          #?query=%EB%A8%B8%EC%8B%A0+%EB%9F%AC%EB%8B%9D&where=news\n",
    "    'query': query,\n",
    "    'page' : page,\n",
    "    'nso' : nso\n",
    "}\n"
   ]
  },
  {
   "cell_type": "markdown",
   "metadata": {},
   "source": [
    "# 크롤링 시작"
   ]
  },
  {
   "cell_type": "code",
   "execution_count": 54,
   "metadata": {},
   "outputs": [
    {
     "data": {
      "text/plain": [
       "[{'title': '직방, 슈가힐 인수…\"빅데이터로 부동산 판 바꾸겠다”',\n",
       "  'url': 'http://biz.chosun.com/site/data/html_dir/2019/07/09/2019070901608.html',\n",
       "  'written_by': '조선비즈언론사 선정'},\n",
       " {'title': \"금투협, '부동산투자자산운용사' 교육과정 개설\",\n",
       "  'url': 'http://www.newsis.com/view/?id=NISX20190709_0000705418&cID=10401&pID=10400',\n",
       "  'written_by': '뉴시스'},\n",
       " {'title': '직방·호갱노노 모여 부동산 산업 혁신선언',\n",
       "  'url': 'http://www.skyedaily.com/news/news_view.html?ID=86673',\n",
       "  'written_by': '스카이데일리'},\n",
       " {'title': \"이천시, 부동산중개업자 명찰제 시행.. 불법 피해 '선제차단'\",\n",
       "  'url': 'http://www.enewstoday.co.kr/news/articleView.html?idxno=1319924',\n",
       "  'written_by': '이뉴스투데이'},\n",
       " {'title': '\"6천원에 부동산 투자\"...리츠 수익률 \\'껑충\\'',\n",
       "  'url': 'http://news.wowtv.co.kr/NewsCenter/News/Read?articleId=A201907090069&t=NNv',\n",
       "  'written_by': '한국경제TV언론사 선정'},\n",
       " {'title': '[文정부 부동산]① 거수기 전락한 주거정책심의위',\n",
       "  'url': 'http://news.kbs.co.kr/news/view.do?ncd=4238272&ref=A',\n",
       "  'written_by': 'KBS언론사 선정'},\n",
       " {'title': \"부동산 거래 줄어 소득세 2000억 ↓…늘어나는 지출에 세수 '비상'\",\n",
       "  'url': 'https://view.asiae.co.kr/article/2019070909234601431',\n",
       "  'written_by': '아시아경제언론사 선정'},\n",
       " {'title': '민간택지 아파트에도 분양가 상한제…사실상 부동산 추가대책',\n",
       "  'url': 'http://yna.kr/AKR20190708076700003?did=1195m',\n",
       "  'written_by': '연합뉴스언론사 선정'},\n",
       " {'title': \"'부동산 경기 둔화'...메리츠증권 위험관리 '발등의 불'\",\n",
       "  'url': 'http://www.fetv.co.kr/news/article.html?no=32347',\n",
       "  'written_by': 'FETV'},\n",
       " {'title': '[경제인칼럼] 부동산대책, 현명하게 대처해야',\n",
       "  'url': 'http://www.daejonilbo.com/news/newsitem.asp?pk_no=1377643',\n",
       "  'written_by': '대전일보'},\n",
       " {'title': '직방, 슈가힐 인수…\"빅데이터로 부동산 판 바꾸겠다”',\n",
       "  'url': 'http://biz.chosun.com/site/data/html_dir/2019/07/09/2019070901608.html',\n",
       "  'written_by': '조선비즈언론사 선정'},\n",
       " {'title': \"금투협, '부동산투자자산운용사' 교육과정 개설\",\n",
       "  'url': 'http://www.newsis.com/view/?id=NISX20190709_0000705418&cID=10401&pID=10400',\n",
       "  'written_by': '뉴시스'},\n",
       " {'title': '직방·호갱노노 모여 부동산 산업 혁신선언',\n",
       "  'url': 'http://www.skyedaily.com/news/news_view.html?ID=86673',\n",
       "  'written_by': '스카이데일리'},\n",
       " {'title': \"이천시, 부동산중개업자 명찰제 시행.. 불법 피해 '선제차단'\",\n",
       "  'url': 'http://www.enewstoday.co.kr/news/articleView.html?idxno=1319924',\n",
       "  'written_by': '이뉴스투데이'},\n",
       " {'title': '\"6천원에 부동산 투자\"...리츠 수익률 \\'껑충\\'',\n",
       "  'url': 'http://news.wowtv.co.kr/NewsCenter/News/Read?articleId=A201907090069&t=NNv',\n",
       "  'written_by': '한국경제TV언론사 선정'},\n",
       " {'title': '[文정부 부동산]① 거수기 전락한 주거정책심의위',\n",
       "  'url': 'http://news.kbs.co.kr/news/view.do?ncd=4238272&ref=A',\n",
       "  'written_by': 'KBS언론사 선정'},\n",
       " {'title': \"부동산 거래 줄어 소득세 2000억 ↓…늘어나는 지출에 세수 '비상'\",\n",
       "  'url': 'https://view.asiae.co.kr/article/2019070909234601431',\n",
       "  'written_by': '아시아경제언론사 선정'},\n",
       " {'title': '민간택지 아파트에도 분양가 상한제…사실상 부동산 추가대책',\n",
       "  'url': 'http://yna.kr/AKR20190708076700003?did=1195m',\n",
       "  'written_by': '연합뉴스언론사 선정'},\n",
       " {'title': \"'부동산 경기 둔화'...메리츠증권 위험관리 '발등의 불'\",\n",
       "  'url': 'http://www.fetv.co.kr/news/article.html?no=32347',\n",
       "  'written_by': 'FETV'},\n",
       " {'title': '[경제인칼럼] 부동산대책, 현명하게 대처해야',\n",
       "  'url': 'http://www.daejonilbo.com/news/newsitem.asp?pk_no=1377643',\n",
       "  'written_by': '대전일보'},\n",
       " {'title': '직방, 슈가힐 인수…\"빅데이터로 부동산 판 바꾸겠다”',\n",
       "  'url': 'http://biz.chosun.com/site/data/html_dir/2019/07/09/2019070901608.html',\n",
       "  'written_by': '조선비즈언론사 선정'},\n",
       " {'title': \"금투협, '부동산투자자산운용사' 교육과정 개설\",\n",
       "  'url': 'http://www.newsis.com/view/?id=NISX20190709_0000705418&cID=10401&pID=10400',\n",
       "  'written_by': '뉴시스'},\n",
       " {'title': '직방·호갱노노 모여 부동산 산업 혁신선언',\n",
       "  'url': 'http://www.skyedaily.com/news/news_view.html?ID=86673',\n",
       "  'written_by': '스카이데일리'},\n",
       " {'title': \"이천시, 부동산중개업자 명찰제 시행.. 불법 피해 '선제차단'\",\n",
       "  'url': 'http://www.enewstoday.co.kr/news/articleView.html?idxno=1319924',\n",
       "  'written_by': '이뉴스투데이'},\n",
       " {'title': '\"6천원에 부동산 투자\"...리츠 수익률 \\'껑충\\'',\n",
       "  'url': 'http://news.wowtv.co.kr/NewsCenter/News/Read?articleId=A201907090069&t=NNv',\n",
       "  'written_by': '한국경제TV언론사 선정'},\n",
       " {'title': '[文정부 부동산]① 거수기 전락한 주거정책심의위',\n",
       "  'url': 'http://news.kbs.co.kr/news/view.do?ncd=4238272&ref=A',\n",
       "  'written_by': 'KBS언론사 선정'},\n",
       " {'title': \"부동산 거래 줄어 소득세 2000억 ↓…늘어나는 지출에 세수 '비상'\",\n",
       "  'url': 'https://view.asiae.co.kr/article/2019070909234601431',\n",
       "  'written_by': '아시아경제언론사 선정'},\n",
       " {'title': '민간택지 아파트에도 분양가 상한제…사실상 부동산 추가대책',\n",
       "  'url': 'http://yna.kr/AKR20190708076700003?did=1195m',\n",
       "  'written_by': '연합뉴스언론사 선정'},\n",
       " {'title': \"'부동산 경기 둔화'...메리츠증권 위험관리 '발등의 불'\",\n",
       "  'url': 'http://www.fetv.co.kr/news/article.html?no=32347',\n",
       "  'written_by': 'FETV'},\n",
       " {'title': '[경제인칼럼] 부동산대책, 현명하게 대처해야',\n",
       "  'url': 'http://www.daejonilbo.com/news/newsitem.asp?pk_no=1377643',\n",
       "  'written_by': '대전일보'}]"
      ]
     },
     "execution_count": 54,
     "metadata": {},
     "output_type": "execute_result"
    }
   ],
   "source": [
    "news_list_final = []\n",
    "\n",
    "for page in range(1,30, 11):\n",
    "    resp = requests.get(url, params = params)\n",
    "    resp.url\n",
    "    \n",
    "    soup = BeautifulSoup(resp.content, 'html.parser')\n",
    "\n",
    "    ul_tag = soup.find('ul', class_ = 'type01')\n",
    "    #print(ul_tag)\n",
    "    for li in ul_tag.find_all('li'):\n",
    "        news_list = {}\n",
    "        try:\n",
    "            news_list['title'] = li.find('dl').find('dt').text\n",
    "            news_list['url'] = li.find('a')['href']\n",
    "            news_list['written_by'] = li.find('dd').find('span', class_ = '_sp_each_source').text\n",
    "            news_list_final.append(news_list)\n",
    "        except AttributeError:\n",
    "            pass\n",
    "        \n",
    "news_list_final"
   ]
  },
  {
   "cell_type": "markdown",
   "metadata": {},
   "source": [
    "# 데이터 csv파일로 저장"
   ]
  },
  {
   "cell_type": "code",
   "execution_count": 55,
   "metadata": {},
   "outputs": [],
   "source": [
    "import csv\n",
    "csv_columns = ['title', 'url', 'written_by']\n",
    "csv_file = query + '.csv'\n",
    "with open(csv_file, 'w') as csvfile:\n",
    "    writer = csv.DictWriter(csvfile, fieldnames = csv_columns)\n",
    "    writer.writeheader()\n",
    "    for data in news_list_final:\n",
    "        writer.writerow(data)"
   ]
  },
  {
   "cell_type": "code",
   "execution_count": null,
   "metadata": {},
   "outputs": [],
   "source": []
  }
 ],
 "metadata": {
  "kernelspec": {
   "display_name": "Python 3",
   "language": "python",
   "name": "python3"
  },
  "language_info": {
   "codemirror_mode": {
    "name": "ipython",
    "version": 3
   },
   "file_extension": ".py",
   "mimetype": "text/x-python",
   "name": "python",
   "nbconvert_exporter": "python",
   "pygments_lexer": "ipython3",
   "version": "3.7.3"
  }
 },
 "nbformat": 4,
 "nbformat_minor": 2
}
