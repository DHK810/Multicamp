{
 "cells": [
  {
   "cell_type": "code",
   "execution_count": 3,
   "metadata": {},
   "outputs": [
    {
     "name": "stdout",
     "output_type": "stream",
     "text": [
      "          0         1   2         3\n",
      "0  1.000000  0.966282 NaN -0.983120\n",
      "1  0.966282  1.000000 NaN -0.917002\n",
      "2       NaN       NaN NaN       NaN\n",
      "3 -0.983120 -0.917002 NaN  1.000000\n"
     ]
    }
   ],
   "source": [
    "import pandas as pd\n",
    "\n",
    "def corr(lst):\n",
    "\n",
    "    df = pd.DataFrame(lst).T\n",
    "    corr = df.corr(method = 'pearson')\n",
    "    print(corr)"
   ]
  }
 ],
 "metadata": {
  "kernelspec": {
   "display_name": "Python 3",
   "language": "python",
   "name": "python3"
  },
  "language_info": {
   "codemirror_mode": {
    "name": "ipython",
    "version": 3
   },
   "file_extension": ".py",
   "mimetype": "text/x-python",
   "name": "python",
   "nbconvert_exporter": "python",
   "pygments_lexer": "ipython3",
   "version": "3.7.3"
  }
 },
 "nbformat": 4,
 "nbformat_minor": 2
}
