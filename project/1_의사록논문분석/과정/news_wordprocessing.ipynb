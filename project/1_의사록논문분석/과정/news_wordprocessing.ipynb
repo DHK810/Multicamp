{
 "cells": [
  {
   "cell_type": "code",
   "execution_count": 1,
   "metadata": {},
   "outputs": [],
   "source": [
    "import pandas as pd"
   ]
  },
  {
   "cell_type": "code",
   "execution_count": 2,
   "metadata": {
    "scrolled": true
   },
   "outputs": [
    {
     "ename": "FileNotFoundError",
     "evalue": "[Errno 2] No such file or directory: 'news_preprocessing.csv'",
     "output_type": "error",
     "traceback": [
      "\u001b[1;31m---------------------------------------------------------------------------\u001b[0m",
      "\u001b[1;31mFileNotFoundError\u001b[0m                         Traceback (most recent call last)",
      "\u001b[1;32m<ipython-input-2-f9404fb0a818>\u001b[0m in \u001b[0;36m<module>\u001b[1;34m\u001b[0m\n\u001b[1;32m----> 1\u001b[1;33m \u001b[0mdf_news\u001b[0m \u001b[1;33m=\u001b[0m \u001b[0mpd\u001b[0m\u001b[1;33m.\u001b[0m\u001b[0mread_csv\u001b[0m\u001b[1;33m(\u001b[0m\u001b[1;34m'news_preprocessing.csv'\u001b[0m\u001b[1;33m,\u001b[0m \u001b[0mencoding\u001b[0m\u001b[1;33m=\u001b[0m\u001b[1;34m'utf-8'\u001b[0m\u001b[1;33m,\u001b[0m \u001b[0mengine\u001b[0m\u001b[1;33m=\u001b[0m\u001b[1;34m'python'\u001b[0m\u001b[1;33m)\u001b[0m\u001b[1;33m\u001b[0m\u001b[1;33m\u001b[0m\u001b[0m\n\u001b[0m\u001b[0;32m      2\u001b[0m \u001b[0mdf_news\u001b[0m\u001b[1;33m\u001b[0m\u001b[1;33m\u001b[0m\u001b[0m\n",
      "\u001b[1;32m~\\Anaconda3\\lib\\site-packages\\pandas\\io\\parsers.py\u001b[0m in \u001b[0;36mparser_f\u001b[1;34m(filepath_or_buffer, sep, delimiter, header, names, index_col, usecols, squeeze, prefix, mangle_dupe_cols, dtype, engine, converters, true_values, false_values, skipinitialspace, skiprows, skipfooter, nrows, na_values, keep_default_na, na_filter, verbose, skip_blank_lines, parse_dates, infer_datetime_format, keep_date_col, date_parser, dayfirst, iterator, chunksize, compression, thousands, decimal, lineterminator, quotechar, quoting, doublequote, escapechar, comment, encoding, dialect, tupleize_cols, error_bad_lines, warn_bad_lines, delim_whitespace, low_memory, memory_map, float_precision)\u001b[0m\n\u001b[0;32m    700\u001b[0m                     skip_blank_lines=skip_blank_lines)\n\u001b[0;32m    701\u001b[0m \u001b[1;33m\u001b[0m\u001b[0m\n\u001b[1;32m--> 702\u001b[1;33m         \u001b[1;32mreturn\u001b[0m \u001b[0m_read\u001b[0m\u001b[1;33m(\u001b[0m\u001b[0mfilepath_or_buffer\u001b[0m\u001b[1;33m,\u001b[0m \u001b[0mkwds\u001b[0m\u001b[1;33m)\u001b[0m\u001b[1;33m\u001b[0m\u001b[1;33m\u001b[0m\u001b[0m\n\u001b[0m\u001b[0;32m    703\u001b[0m \u001b[1;33m\u001b[0m\u001b[0m\n\u001b[0;32m    704\u001b[0m     \u001b[0mparser_f\u001b[0m\u001b[1;33m.\u001b[0m\u001b[0m__name__\u001b[0m \u001b[1;33m=\u001b[0m \u001b[0mname\u001b[0m\u001b[1;33m\u001b[0m\u001b[1;33m\u001b[0m\u001b[0m\n",
      "\u001b[1;32m~\\Anaconda3\\lib\\site-packages\\pandas\\io\\parsers.py\u001b[0m in \u001b[0;36m_read\u001b[1;34m(filepath_or_buffer, kwds)\u001b[0m\n\u001b[0;32m    427\u001b[0m \u001b[1;33m\u001b[0m\u001b[0m\n\u001b[0;32m    428\u001b[0m     \u001b[1;31m# Create the parser.\u001b[0m\u001b[1;33m\u001b[0m\u001b[1;33m\u001b[0m\u001b[1;33m\u001b[0m\u001b[0m\n\u001b[1;32m--> 429\u001b[1;33m     \u001b[0mparser\u001b[0m \u001b[1;33m=\u001b[0m \u001b[0mTextFileReader\u001b[0m\u001b[1;33m(\u001b[0m\u001b[0mfilepath_or_buffer\u001b[0m\u001b[1;33m,\u001b[0m \u001b[1;33m**\u001b[0m\u001b[0mkwds\u001b[0m\u001b[1;33m)\u001b[0m\u001b[1;33m\u001b[0m\u001b[1;33m\u001b[0m\u001b[0m\n\u001b[0m\u001b[0;32m    430\u001b[0m \u001b[1;33m\u001b[0m\u001b[0m\n\u001b[0;32m    431\u001b[0m     \u001b[1;32mif\u001b[0m \u001b[0mchunksize\u001b[0m \u001b[1;32mor\u001b[0m \u001b[0miterator\u001b[0m\u001b[1;33m:\u001b[0m\u001b[1;33m\u001b[0m\u001b[1;33m\u001b[0m\u001b[0m\n",
      "\u001b[1;32m~\\Anaconda3\\lib\\site-packages\\pandas\\io\\parsers.py\u001b[0m in \u001b[0;36m__init__\u001b[1;34m(self, f, engine, **kwds)\u001b[0m\n\u001b[0;32m    893\u001b[0m             \u001b[0mself\u001b[0m\u001b[1;33m.\u001b[0m\u001b[0moptions\u001b[0m\u001b[1;33m[\u001b[0m\u001b[1;34m'has_index_names'\u001b[0m\u001b[1;33m]\u001b[0m \u001b[1;33m=\u001b[0m \u001b[0mkwds\u001b[0m\u001b[1;33m[\u001b[0m\u001b[1;34m'has_index_names'\u001b[0m\u001b[1;33m]\u001b[0m\u001b[1;33m\u001b[0m\u001b[1;33m\u001b[0m\u001b[0m\n\u001b[0;32m    894\u001b[0m \u001b[1;33m\u001b[0m\u001b[0m\n\u001b[1;32m--> 895\u001b[1;33m         \u001b[0mself\u001b[0m\u001b[1;33m.\u001b[0m\u001b[0m_make_engine\u001b[0m\u001b[1;33m(\u001b[0m\u001b[0mself\u001b[0m\u001b[1;33m.\u001b[0m\u001b[0mengine\u001b[0m\u001b[1;33m)\u001b[0m\u001b[1;33m\u001b[0m\u001b[1;33m\u001b[0m\u001b[0m\n\u001b[0m\u001b[0;32m    896\u001b[0m \u001b[1;33m\u001b[0m\u001b[0m\n\u001b[0;32m    897\u001b[0m     \u001b[1;32mdef\u001b[0m \u001b[0mclose\u001b[0m\u001b[1;33m(\u001b[0m\u001b[0mself\u001b[0m\u001b[1;33m)\u001b[0m\u001b[1;33m:\u001b[0m\u001b[1;33m\u001b[0m\u001b[1;33m\u001b[0m\u001b[0m\n",
      "\u001b[1;32m~\\Anaconda3\\lib\\site-packages\\pandas\\io\\parsers.py\u001b[0m in \u001b[0;36m_make_engine\u001b[1;34m(self, engine)\u001b[0m\n\u001b[0;32m   1130\u001b[0m                                  ' \"c\", \"python\", or' ' \"python-fwf\")'.format(\n\u001b[0;32m   1131\u001b[0m                                      engine=engine))\n\u001b[1;32m-> 1132\u001b[1;33m             \u001b[0mself\u001b[0m\u001b[1;33m.\u001b[0m\u001b[0m_engine\u001b[0m \u001b[1;33m=\u001b[0m \u001b[0mklass\u001b[0m\u001b[1;33m(\u001b[0m\u001b[0mself\u001b[0m\u001b[1;33m.\u001b[0m\u001b[0mf\u001b[0m\u001b[1;33m,\u001b[0m \u001b[1;33m**\u001b[0m\u001b[0mself\u001b[0m\u001b[1;33m.\u001b[0m\u001b[0moptions\u001b[0m\u001b[1;33m)\u001b[0m\u001b[1;33m\u001b[0m\u001b[1;33m\u001b[0m\u001b[0m\n\u001b[0m\u001b[0;32m   1133\u001b[0m \u001b[1;33m\u001b[0m\u001b[0m\n\u001b[0;32m   1134\u001b[0m     \u001b[1;32mdef\u001b[0m \u001b[0m_failover_to_python\u001b[0m\u001b[1;33m(\u001b[0m\u001b[0mself\u001b[0m\u001b[1;33m)\u001b[0m\u001b[1;33m:\u001b[0m\u001b[1;33m\u001b[0m\u001b[1;33m\u001b[0m\u001b[0m\n",
      "\u001b[1;32m~\\Anaconda3\\lib\\site-packages\\pandas\\io\\parsers.py\u001b[0m in \u001b[0;36m__init__\u001b[1;34m(self, f, **kwds)\u001b[0m\n\u001b[0;32m   2223\u001b[0m         f, handles = _get_handle(f, mode, encoding=self.encoding,\n\u001b[0;32m   2224\u001b[0m                                  \u001b[0mcompression\u001b[0m\u001b[1;33m=\u001b[0m\u001b[0mself\u001b[0m\u001b[1;33m.\u001b[0m\u001b[0mcompression\u001b[0m\u001b[1;33m,\u001b[0m\u001b[1;33m\u001b[0m\u001b[1;33m\u001b[0m\u001b[0m\n\u001b[1;32m-> 2225\u001b[1;33m                                  memory_map=self.memory_map)\n\u001b[0m\u001b[0;32m   2226\u001b[0m         \u001b[0mself\u001b[0m\u001b[1;33m.\u001b[0m\u001b[0mhandles\u001b[0m\u001b[1;33m.\u001b[0m\u001b[0mextend\u001b[0m\u001b[1;33m(\u001b[0m\u001b[0mhandles\u001b[0m\u001b[1;33m)\u001b[0m\u001b[1;33m\u001b[0m\u001b[1;33m\u001b[0m\u001b[0m\n\u001b[0;32m   2227\u001b[0m \u001b[1;33m\u001b[0m\u001b[0m\n",
      "\u001b[1;32m~\\Anaconda3\\lib\\site-packages\\pandas\\io\\common.py\u001b[0m in \u001b[0;36m_get_handle\u001b[1;34m(path_or_buf, mode, encoding, compression, memory_map, is_text)\u001b[0m\n\u001b[0;32m    422\u001b[0m         \u001b[1;32melif\u001b[0m \u001b[0mencoding\u001b[0m\u001b[1;33m:\u001b[0m\u001b[1;33m\u001b[0m\u001b[1;33m\u001b[0m\u001b[0m\n\u001b[0;32m    423\u001b[0m             \u001b[1;31m# Python 3 and encoding\u001b[0m\u001b[1;33m\u001b[0m\u001b[1;33m\u001b[0m\u001b[1;33m\u001b[0m\u001b[0m\n\u001b[1;32m--> 424\u001b[1;33m             \u001b[0mf\u001b[0m \u001b[1;33m=\u001b[0m \u001b[0mopen\u001b[0m\u001b[1;33m(\u001b[0m\u001b[0mpath_or_buf\u001b[0m\u001b[1;33m,\u001b[0m \u001b[0mmode\u001b[0m\u001b[1;33m,\u001b[0m \u001b[0mencoding\u001b[0m\u001b[1;33m=\u001b[0m\u001b[0mencoding\u001b[0m\u001b[1;33m,\u001b[0m \u001b[0mnewline\u001b[0m\u001b[1;33m=\u001b[0m\u001b[1;34m\"\"\u001b[0m\u001b[1;33m)\u001b[0m\u001b[1;33m\u001b[0m\u001b[1;33m\u001b[0m\u001b[0m\n\u001b[0m\u001b[0;32m    425\u001b[0m         \u001b[1;32melif\u001b[0m \u001b[0mis_text\u001b[0m\u001b[1;33m:\u001b[0m\u001b[1;33m\u001b[0m\u001b[1;33m\u001b[0m\u001b[0m\n\u001b[0;32m    426\u001b[0m             \u001b[1;31m# Python 3 and no explicit encoding\u001b[0m\u001b[1;33m\u001b[0m\u001b[1;33m\u001b[0m\u001b[1;33m\u001b[0m\u001b[0m\n",
      "\u001b[1;31mFileNotFoundError\u001b[0m: [Errno 2] No such file or directory: 'news_preprocessing.csv'"
     ]
    }
   ],
   "source": [
    "df_news = pd.read_csv('news_preprocessing.csv', encoding='utf-8', engine='python')\n",
    "df_news"
   ]
  },
  {
   "cell_type": "code",
   "execution_count": 15,
   "metadata": {
    "scrolled": true
   },
   "outputs": [],
   "source": [
    "df_news=df_news.fillna(1)\n",
    "df_news=df_news[df_news['n-gram']!=1]\n",
    "df_news['n-gram']=df_news['n-gram'].apply(lambda x:x.replace(\", \",\",\"))"
   ]
  },
  {
   "cell_type": "code",
   "execution_count": 16,
   "metadata": {},
   "outputs": [
    {
     "data": {
      "text/plain": [
       "'ff/NNG;금리선물/NNG;시장/NNG;금리/NNG;인상/NNG,경제/NNG;지표/NNG;호조/NNG,폐쇄/NNG;일시적/VAX,지수/NNG;하락/NNG,우려/NNG;완화/NNG,소비/NNG;증가/NNG,수주/NNG;증가/NNG,수요/NNG;개선/NNG,예상/NNG;웃돌/VV,소비/NNG;늘/VV,저축/NNG;줄/VV,금리/NNG;오르/VV;밖/NNG;없/VA,fed/NNG;금리/NNG;인상/NNG,위험/NNG;지정학/NNG;위험/NNG,ecb/NNG;금리/NNG;오르/VV,기업/NNG;이익/NNG;증가/NNG,인플레이션/NNG;막/VV,ecb/NNG;완화/NNG,경제/NNG;성장/NNG,정치/NNG;위험/NNG,통화/NNG;긴축/NNG,재정/NNG;적자/NNG,강하/VA;상승/NNG,채권펀드/NNG;상승/NNG,채권펀드/NNG;하락/NNG,지수/NNG;상승/NNG,지수/NNG;떨어/VV,지수/NNG;오르/VV,금리/NNG;인상/NNG;가능성/NNG;크/VV,금리/NNG;오르/VV;가능성/NNG;크/VV,원유/NNG;가격/NNG;상승/NNG,지표/NNG;예상/NNG;강하/VA,금리/NNG;인상/NNG;대출/NNG;금리/NNG;상승/NNG,부동산/NNG;가격/NNG;하락/NNG;우려/NNG,건설/NNG;경기/NNG;침체/NNG,가계/NNG;부채/NNG;경고/NNG,주택/NNG;공급/NNG;줄/VV,전세가격/NNG;상승/NNG,전세가격/NNG;하락/NNG,전세가격/NNG;오르/VV,부동산/NNG;억제/NNG,지수/NNG;강세/NNG,수요/NNG;감소/NNG,가계/NNG;부담/NNG,가계/NNG;증가/NNG,이자/NNG;부담/NNG,공급/NNG;증가/NNG,수요/NNG;억제/NNG,공급/NNG;늘/VV,공급/NNG;많/VA,ecb/NNG;금리/NNG;인상/NNG,자본재/NNG;수주/NNG;감소/NNG,기대/NNG;인플레이션/NNG;높/VA,경제/NNG;지표/NNG;성장/NNG,소비/NNG;지출/NNG;증가/NNG,금리/NNG;인상/NNG;늦/VV,주택/NNG;판매/NNG;늘/VV,실업률/NNG;최저/NNG,gdp/NNG;성장/NNG,소비/NNG;증가/NNG,소비/NNG;자신/NNG,물가/NNG;부진/NNG,수주/NNG;증가/NNG,수요/NNG;개선/NNG,지표/NNG;약화/NNG,예상/NNG;웃돌/VV,소비/NNG;늘/VV,저축/NNG;줄/VV,물가/NNG;상승/NNG;fed/NNG;금리/NNG;인상/NNG,신규/NNG;주택/NNG;판매/NNG;늘/VV,내구재/NNG;수주/NNG;감소/NNG,자본재/NNG;수주/NNG;감소/NNG,기대/NNG;인플레이션/NNG;높/VA,근원/NNG;물가/NNG;상승/NNG,개인/NNG;소득/NNG;증가/NNG,기대/NNG;지수/NNG;하락/NNG,소비/NNG;지출/NNG;증가/NNG,내구재/NNG;수주/NNG;늘/VV,pce/NNG;증가/NNG,실업률/NNG;최저/NNG,재수주/NNG;증가/NNG,단기물/NNG;떨어/VV,물가/NNG;부진/NNG,소비/NNG;증가/NNG,수요/NNG;개선/NNG,예상/NNG;웃돌/VV,소비/NNG;늘/VV,저축/NNG;줄/VV,지수/NNG;높/VA,ff/NNG;금리선물/NNG;시장/NNG;금리/NNG;인상/NNG,경제/NNG;지표/NNG;호조/NNG,폐쇄/NNG;일시적/VAX,지수/NNG;하락/NNG,우려/NNG;완화/NNG,소비/NNG;증가/NNG,수주/NNG;증가/NNG,수요/NNG;개선/NNG,예상/NNG;웃돌/VV,소비/NNG;늘/VV,저축/NNG;줄/VV,전망/NNG;상향/NNG,전망/NNG;오르/VV,금리/NNG;오르/VV,실적/NNG;늘/VV,물가/NNG;상승/NNG;fed/NNG;금리/NNG;인상/NNG,자본재/NNG;수주/NNG;감소/NNG,기대/NNG;인플레이션/NNG;높/VA,근원/NNG;물가/NNG;상승/NNG,경제/NNG;지표/NNG;성장/NNG,소비/NNG;지출/NNG;증가/NNG,주택/NNG;판매/NNG;늘/VV,실업률/NNG;최저/NNG,gdp/NNG;성장/NNG,단기물/NNG;떨어/VV,물가/NNG;부진/NNG,소비/NNG;증가/NNG,소비/NNG;자신/NNG,수주/NNG;증가/NNG,수요/NNG;개선/NNG,지표/NNG;약화/NNG,예상/NNG;웃돌/VV,소비/NNG;늘/VV,저축/NNG;줄/VV,ff/NNG;금리선물/NNG;시장/NNG;금리/NNG;인상/NNG,물가/NNG;상승/NNG;fed/NNG;금리/NNG;인상/NNG,opec/NNG;산유국/NNG;감산/NNG,자본재/NNG;수주/NNG;감소/NNG,기대/NNG;인플레이션/NNG;높/VA,ecb/NNG;금리/NNG;인상/NNG,우려/NNG;완전히/MAG;해소/NNG,경제/NNG;지표/NNG;성장/NNG,소비/NNG;지출/NNG;증가/NNG,경제/NNG;지표/NNG;호조/NNG,근원/NNG;물가/NNG;상승/NNG,공급/NNG;과잉/NNG;우려/NNG,주택/NNG;판매/NNG;늘/VV,금리/NNG;인상/NNG;늦/VV,가격/NNG;넘/VV;상승/NNG,원유/NNG;공급/NNG;줄/VV,실업률/NNG;최저/NNG,gdp/NNG;성장/NNG,폐쇄/NNG;일시적/VAX,유가/NNG;긍정적/VAX,소비/NNG;증가/NNG,소비/NNG;자신/NNG,물가/NNG;부진/NNG,수주/NNG;증가/NNG,수요/NNG;개선/NNG,지표/NNG;약화/NNG,지수/NNG;하락/NNG,우려/NNG;완화/NNG,단기물/NNG;떨어/VV,생산/NNG;증가/NNG,가동/NNG;중단/NNG,예상/NNG;웃돌/VV,소비/NNG;늘/VV,저축/NNG;줄/VV'"
      ]
     },
     "execution_count": 16,
     "metadata": {},
     "output_type": "execute_result"
    }
   ],
   "source": [
    "df_news.loc[8,'n-gram']"
   ]
  },
  {
   "cell_type": "code",
   "execution_count": 17,
   "metadata": {},
   "outputs": [],
   "source": [
    "#유니그램 불용어 처리 함수. 문자열을 넣으세요.\n",
    "def wordClass (text):\n",
    "    #문자열 리스트화\n",
    "    ltext = text.split(', ')\n",
    "    \n",
    "    #n-gram 및 유니그램 구분, 유니그램 내 불용어 제거\n",
    "    word_proc=[]\n",
    "    for word in ltext:\n",
    "        tmp = word.split(';')\n",
    "        \n",
    "        #n-gram 일 경우 새 리스트에 추가, 그대로 넘김\n",
    "        if len(tmp) >= 2:\n",
    "            word_proc.append(word)\n",
    "        \n",
    "        #유니그램 일 경우    \n",
    "        else:\n",
    "            try:\n",
    "                tag = tmp[0].split('/')\n",
    "                if tag[1] in ['MAG', 'VA', 'NNG', 'VV']:\n",
    "                    word_proc.append(word)\n",
    "            except:\n",
    "                continue\n",
    "    \n",
    "    #리스트 문자열화\n",
    "    text_proc=\", \".join(word_proc)\n",
    "    \n",
    "    #리턴\n",
    "    return text_proc"
   ]
  },
  {
   "cell_type": "code",
   "execution_count": 19,
   "metadata": {},
   "outputs": [],
   "source": [
    "df_news['n-gram']=df_news['n-gram'].apply(wordClass) #불용어 기준으로 데이터 처리"
   ]
  },
  {
   "cell_type": "code",
   "execution_count": 20,
   "metadata": {},
   "outputs": [],
   "source": [
    "df_news.to_csv('news_wordprocessing.csv', encoding='utf-8', index=False)"
   ]
  },
  {
   "cell_type": "code",
   "execution_count": null,
   "metadata": {},
   "outputs": [],
   "source": []
  }
 ],
 "metadata": {
  "kernelspec": {
   "display_name": "Python 3",
   "language": "python",
   "name": "python3"
  },
  "language_info": {
   "codemirror_mode": {
    "name": "ipython",
    "version": 3
   },
   "file_extension": ".py",
   "mimetype": "text/x-python",
   "name": "python",
   "nbconvert_exporter": "python",
   "pygments_lexer": "ipython3",
   "version": "3.7.3"
  }
 },
 "nbformat": 4,
 "nbformat_minor": 2
}
