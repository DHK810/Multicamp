{
 "cells": [
  {
   "cell_type": "code",
   "execution_count": null,
   "metadata": {},
   "outputs": [],
   "source": [
    "#판다스 임포트\n",
    "import pandas as pd\n",
    "\n",
    "#csv 파일 읽기\n",
    "df_bond = pd.read_csv('\\\\final_Data\\\\total_ngram.csv', encoding='utf-8', engine='python')\n",
    "\n",
    "\n",
    "\n"
   ]
  },
  {
   "cell_type": "code",
   "execution_count": null,
   "metadata": {},
   "outputs": [],
   "source": [
    "#Pos n-gram 추출\n",
    "list_up=[]\n",
    "for ngram in df_bond[df_bond['label']=='상승']['n-gram']:\n",
    "    list_up.extend(ngram.split(','))\n",
    "    \n",
    "#Neg n-gram 추출\n",
    "list_down=[]\n",
    "for ngram in df_bond[df_bond['label']=='하락']['n-gram']:\n",
    "    list_down.extend(ngram.split(','))\n",
    "    \n"
   ]
  },
  {
   "cell_type": "code",
   "execution_count": null,
   "metadata": {},
   "outputs": [],
   "source": [
    "    #Pos n-gram 중 15개 이하인 값들 제거\n",
    "tmp_df = pd.DataFrame(list_up, columns=['상승'])\n",
    "up_df=pd.DataFrame(tmp_df['상승'].value_counts())\n",
    "up_df=up_df[up_df['상승']>=15]\n",
    "up_df"
   ]
  },
  {
   "cell_type": "code",
   "execution_count": null,
   "metadata": {},
   "outputs": [],
   "source": [
    "#Neg n-gram 중 15개 이하인 값들 제거\n",
    "tmp_df = pd.DataFrame(list_down, columns=['하락'])\n",
    "down_df=pd.DataFrame(tmp_df['하락'].value_counts())\n",
    "down_df=down_df[down_df['하락']>=15]\n",
    "down_df"
   ]
  },
  {
   "cell_type": "code",
   "execution_count": null,
   "metadata": {},
   "outputs": [],
   "source": [
    "#n-gram을 기준으로 합병하기 위해 인덱스 칼럼으로 뺌\n",
    "up_df=up_df.reset_index()\n",
    "down_df=down_df.reset_index()\n",
    "\n",
    "#병합.\n",
    "updown_df=pd.merge(up_df,down_df,how='outer') #outer로 하여 한쪽만 있는 값이 있어도 데이터프레임에 삽입할 수 있게함.\n",
    "updown_df=updown_df.rename({'index':'n-gram'},axis=1)\n",
    "updown_df=updown_df.set_index('n-gram')\n",
    "updown_df=updown_df.fillna(1) #nan 값을 1로 채움\n",
    "updown_df=updown_df.sort_values(['상승'],ascending=[False]) #pos 기준으로 내림차순"
   ]
  },
  {
   "cell_type": "code",
   "execution_count": null,
   "metadata": {},
   "outputs": [],
   "source": [
    "#총 Pos, Neg 계산\n",
    "tot_pos=sum(updown_df['상승'])\n",
    "tot_neg=sum(updown_df['하락'])"
   ]
  },
  {
   "cell_type": "code",
   "execution_count": null,
   "metadata": {},
   "outputs": [],
   "source": [
    "#NBC 칼럼 추가, NBC 값 추가\n",
    "updown_df.loc[:,'nbc']=0\n",
    "\n",
    "for idx in updown_df.index:\n",
    "    updown_df.loc[idx,'nbc']=(updown_df.loc[idx,'상승']/tot_pos)/(updown_df.loc[idx,'하락']/tot_neg)"
   ]
  },
  {
   "cell_type": "code",
   "execution_count": null,
   "metadata": {},
   "outputs": [],
   "source": [
    "\n",
    "# 0.76 < x < 1.3 값 제거\n",
    "# nbc_df=updown_df[(updown_df['nbc']<=0.76)|(updown_df['nbc']>=1.3)]\n",
    "#제거안한 전체버전은 이거를 주석처리 해제하시오\n",
    "nbc_df=updown_df\n",
    "nbc_df=nbc_df.sort_values(['nbc'],ascending=[False])\n",
    "nbc_df"
   ]
  },
  {
   "cell_type": "code",
   "execution_count": null,
   "metadata": {},
   "outputs": [],
   "source": [
    "nbc_df.to_csv('polarity.csv', encoding='utf-8')"
   ]
  }
 ],
 "metadata": {
  "kernelspec": {
   "display_name": "Python 3",
   "language": "python",
   "name": "python3"
  },
  "language_info": {
   "codemirror_mode": {
    "name": "ipython",
    "version": 3
   },
   "file_extension": ".py",
   "mimetype": "text/x-python",
   "name": "python",
   "nbconvert_exporter": "python",
   "pygments_lexer": "ipython3",
   "version": "3.7.3"
  }
 },
 "nbformat": 4,
 "nbformat_minor": 2
}
