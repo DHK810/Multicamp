{
 "cells": [
  {
   "cell_type": "code",
   "execution_count": 1,
   "metadata": {},
   "outputs": [
    {
     "ename": "SyntaxError",
     "evalue": "invalid syntax (<ipython-input-1-0bced117cb78>, line 7)",
     "output_type": "error",
     "traceback": [
      "\u001b[1;36m  File \u001b[1;32m\"<ipython-input-1-0bced117cb78>\"\u001b[1;36m, line \u001b[1;32m7\u001b[0m\n\u001b[1;33m    Matrix[i, i] = df[(df['product'] == product_j) & (df['SS_CS'] == 'SS') & (df['pos'] > 0)].sum()/\u001b[0m\n\u001b[1;37m                                                                                                    ^\u001b[0m\n\u001b[1;31mSyntaxError\u001b[0m\u001b[1;31m:\u001b[0m invalid syntax\n"
     ]
    }
   ],
   "source": [
    "i = 0\n",
    "# 요따구로 하면 매트릭스에 weight가 추가 될까요??\n",
    "# node + edge weight\n",
    "for product in products_list:\n",
    "    for j in range(len(protducts_list)):\n",
    "        if product == products_list[j]:\n",
    "            Matrix[i, i] = df[(df['product'] == product[j]) & (df['SS_CS'] == 'SS') & (df['pos'] > 0)].sum()/\n",
    "                         df[(df['product'] == product[j]) & (df['SS_CS'] == 'SS') & (df['neg'] > 0)].sum()\n",
    "            i += 1\n",
    "        \n",
    "        else:\n",
    "            Matrix[i, j] =  df[(df['product'] == product[j]) & (df['SS_CS'] == 'CS') & (df['pos'] > 0)].sum()/\n",
    "                        df[(df['product'] == product[j]) & (df['SS_CS'] == 'CS') & (df['neg'] > 0)].sum()\n",
    "            i += 1    \n",
    "                \n",
    "Ranking_List = Rank(Matrix_X);\n",
    "\n",
    "# pRank = (1-0.85) + 0.15(블라블라블라)"
   ]
  },
  {
   "cell_type": "code",
   "execution_count": 5,
   "metadata": {},
   "outputs": [
    {
     "name": "stdout",
     "output_type": "stream",
     "text": [
      "Collecting PageRank\n",
      "  Using cached https://files.pythonhosted.org/packages/3d/0f/34fa6dc5f72d6f6999ecf6827f0b30541816ae85f54c51811eaefb6c8d37/pagerank-0.1.2.tar.gz\n",
      "    Complete output from command python setup.py egg_info:\n",
      "    Traceback (most recent call last):\n",
      "      File \"<string>\", line 1, in <module>\n",
      "      File \"C:\\Users\\15Z970~1\\AppData\\Local\\Temp\\pip-install-yu300elm\\PageRank\\setup.py\", line 3, in <module>\n",
      "        import pagerank\n",
      "      File \"C:\\Users\\15Z970~1\\AppData\\Local\\Temp\\pip-install-yu300elm\\PageRank\\pagerank\\__init__.py\", line 1, in <module>\n",
      "        from pranker import get_page_rank\n",
      "    ModuleNotFoundError: No module named 'pranker'\n",
      "    \n",
      "    ----------------------------------------\n",
      "Note: you may need to restart the kernel to use updated packages.\n"
     ]
    },
    {
     "name": "stderr",
     "output_type": "stream",
     "text": [
      "Command \"python setup.py egg_info\" failed with error code 1 in C:\\Users\\15Z970~1\\AppData\\Local\\Temp\\pip-install-yu300elm\\PageRank\\\n"
     ]
    }
   ],
   "source": [
    "pip install PageRank"
   ]
  },
  {
   "cell_type": "code",
   "execution_count": 4,
   "metadata": {
    "scrolled": true
   },
   "outputs": [
    {
     "ename": "ModuleNotFoundError",
     "evalue": "No module named 'PageRank'",
     "output_type": "error",
     "traceback": [
      "\u001b[1;31m---------------------------------------------------------------------------\u001b[0m",
      "\u001b[1;31mModuleNotFoundError\u001b[0m                       Traceback (most recent call last)",
      "\u001b[1;32m<ipython-input-4-8b7af7271fcb>\u001b[0m in \u001b[0;36m<module>\u001b[1;34m\u001b[0m\n\u001b[1;32m----> 1\u001b[1;33m \u001b[1;32mfrom\u001b[0m \u001b[0mPageRank\u001b[0m \u001b[1;32mimport\u001b[0m \u001b[0mPageRanker\u001b[0m\u001b[1;33m\u001b[0m\u001b[1;33m\u001b[0m\u001b[0m\n\u001b[0m\u001b[0;32m      2\u001b[0m web = ((0, 1, 0, 0),\n\u001b[0;32m      3\u001b[0m        \u001b[1;33m(\u001b[0m\u001b[1;36m0\u001b[0m\u001b[1;33m,\u001b[0m \u001b[1;36m0\u001b[0m\u001b[1;33m,\u001b[0m \u001b[1;36m1\u001b[0m\u001b[1;33m,\u001b[0m \u001b[1;36m0\u001b[0m\u001b[1;33m)\u001b[0m\u001b[1;33m,\u001b[0m\u001b[1;33m\u001b[0m\u001b[1;33m\u001b[0m\u001b[0m\n\u001b[0;32m      4\u001b[0m        \u001b[1;33m(\u001b[0m\u001b[1;36m0\u001b[0m\u001b[1;33m,\u001b[0m \u001b[1;36m0\u001b[0m\u001b[1;33m,\u001b[0m \u001b[1;36m0\u001b[0m\u001b[1;33m,\u001b[0m \u001b[1;36m1\u001b[0m\u001b[1;33m)\u001b[0m\u001b[1;33m,\u001b[0m\u001b[1;33m\u001b[0m\u001b[1;33m\u001b[0m\u001b[0m\n\u001b[0;32m      5\u001b[0m        (1, 0, 0, 0))\n",
      "\u001b[1;31mModuleNotFoundError\u001b[0m: No module named 'PageRank'"
     ]
    }
   ],
   "source": [
    "from PageRank import PageRanker\n",
    "web = ((0, 1, 0, 0),\n",
    "       (0, 0, 1, 0),\n",
    "       (0, 0, 0, 1),\n",
    "       (1, 0, 0, 0))\n",
    "\n",
    "pr = PageRanker(0.85, web)\n",
    "pr.improve_guess(100)\n",
    "print(pr.getPageRank())"
   ]
  },
  {
   "cell_type": "code",
   "execution_count": null,
   "metadata": {},
   "outputs": [],
   "source": [
    "from_products = list()\n",
    "for row in products_list:\n",
    "    from_products.append(row)\n",
    "\n",
    "to_products = list()\n",
    "links = list()\n"
   ]
  }
 ],
 "metadata": {
  "kernelspec": {
   "display_name": "Python 3",
   "language": "python",
   "name": "python3"
  },
  "language_info": {
   "codemirror_mode": {
    "name": "ipython",
    "version": 3
   },
   "file_extension": ".py",
   "mimetype": "text/x-python",
   "name": "python",
   "nbconvert_exporter": "python",
   "pygments_lexer": "ipython3",
   "version": "3.7.3"
  }
 },
 "nbformat": 4,
 "nbformat_minor": 2
}
