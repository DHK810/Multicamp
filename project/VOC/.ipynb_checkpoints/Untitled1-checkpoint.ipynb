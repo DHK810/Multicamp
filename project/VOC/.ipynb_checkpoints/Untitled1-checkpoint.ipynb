{
 "cells": [
  {
   "cell_type": "code",
   "execution_count": 4,
   "metadata": {},
   "outputs": [
    {
     "data": {
      "text/html": [
       "<div>\n",
       "<style scoped>\n",
       "    .dataframe tbody tr th:only-of-type {\n",
       "        vertical-align: middle;\n",
       "    }\n",
       "\n",
       "    .dataframe tbody tr th {\n",
       "        vertical-align: top;\n",
       "    }\n",
       "\n",
       "    .dataframe thead th {\n",
       "        text-align: right;\n",
       "    }\n",
       "</style>\n",
       "<table border=\"1\" class=\"dataframe\">\n",
       "  <thead>\n",
       "    <tr style=\"text-align: right;\">\n",
       "      <th></th>\n",
       "      <th>source</th>\n",
       "      <th>target</th>\n",
       "      <th>csss</th>\n",
       "      <th>polarity</th>\n",
       "    </tr>\n",
       "  </thead>\n",
       "  <tbody>\n",
       "    <tr>\n",
       "      <th>0</th>\n",
       "      <td>a</td>\n",
       "      <td>bc</td>\n",
       "      <td>cs</td>\n",
       "      <td>1</td>\n",
       "    </tr>\n",
       "    <tr>\n",
       "      <th>1</th>\n",
       "      <td>a</td>\n",
       "      <td>bd</td>\n",
       "      <td>ss</td>\n",
       "      <td>1</td>\n",
       "    </tr>\n",
       "    <tr>\n",
       "      <th>2</th>\n",
       "      <td>a</td>\n",
       "      <td>bc</td>\n",
       "      <td>cs</td>\n",
       "      <td>1</td>\n",
       "    </tr>\n",
       "    <tr>\n",
       "      <th>3</th>\n",
       "      <td>b</td>\n",
       "      <td>ae</td>\n",
       "      <td>cs</td>\n",
       "      <td>1</td>\n",
       "    </tr>\n",
       "    <tr>\n",
       "      <th>4</th>\n",
       "      <td>b</td>\n",
       "      <td>ad</td>\n",
       "      <td>cs</td>\n",
       "      <td>-1</td>\n",
       "    </tr>\n",
       "    <tr>\n",
       "      <th>5</th>\n",
       "      <td>b</td>\n",
       "      <td>cd</td>\n",
       "      <td>ss</td>\n",
       "      <td>-1</td>\n",
       "    </tr>\n",
       "    <tr>\n",
       "      <th>6</th>\n",
       "      <td>c</td>\n",
       "      <td>ab</td>\n",
       "      <td>ss</td>\n",
       "      <td>1</td>\n",
       "    </tr>\n",
       "    <tr>\n",
       "      <th>7</th>\n",
       "      <td>c</td>\n",
       "      <td>a</td>\n",
       "      <td>ss</td>\n",
       "      <td>1</td>\n",
       "    </tr>\n",
       "    <tr>\n",
       "      <th>8</th>\n",
       "      <td>c</td>\n",
       "      <td>be</td>\n",
       "      <td>ss</td>\n",
       "      <td>-1</td>\n",
       "    </tr>\n",
       "    <tr>\n",
       "      <th>9</th>\n",
       "      <td>d</td>\n",
       "      <td>ec</td>\n",
       "      <td>cs</td>\n",
       "      <td>-1</td>\n",
       "    </tr>\n",
       "    <tr>\n",
       "      <th>10</th>\n",
       "      <td>d</td>\n",
       "      <td>ac</td>\n",
       "      <td>cs</td>\n",
       "      <td>-1</td>\n",
       "    </tr>\n",
       "    <tr>\n",
       "      <th>11</th>\n",
       "      <td>d</td>\n",
       "      <td>bc</td>\n",
       "      <td>cs</td>\n",
       "      <td>-1</td>\n",
       "    </tr>\n",
       "    <tr>\n",
       "      <th>12</th>\n",
       "      <td>e</td>\n",
       "      <td>dc</td>\n",
       "      <td>cs</td>\n",
       "      <td>-1</td>\n",
       "    </tr>\n",
       "    <tr>\n",
       "      <th>13</th>\n",
       "      <td>e</td>\n",
       "      <td>bc</td>\n",
       "      <td>cs</td>\n",
       "      <td>1</td>\n",
       "    </tr>\n",
       "    <tr>\n",
       "      <th>14</th>\n",
       "      <td>e</td>\n",
       "      <td>ab</td>\n",
       "      <td>cs</td>\n",
       "      <td>1</td>\n",
       "    </tr>\n",
       "  </tbody>\n",
       "</table>\n",
       "</div>"
      ],
      "text/plain": [
       "   source target csss  polarity\n",
       "0       a     bc   cs         1\n",
       "1       a     bd   ss         1\n",
       "2       a     bc   cs         1\n",
       "3       b     ae   cs         1\n",
       "4       b     ad   cs        -1\n",
       "5       b     cd   ss        -1\n",
       "6       c     ab   ss         1\n",
       "7       c      a   ss         1\n",
       "8       c     be   ss        -1\n",
       "9       d     ec   cs        -1\n",
       "10      d     ac   cs        -1\n",
       "11      d     bc   cs        -1\n",
       "12      e     dc   cs        -1\n",
       "13      e     bc   cs         1\n",
       "14      e     ab   cs         1"
      ]
     },
     "execution_count": 4,
     "metadata": {},
     "output_type": "execute_result"
    }
   ],
   "source": [
    "import pandas as pd\n",
    "import numpy as np\n",
    "\n",
    "df = pd.read_excel('test.xlsx')\n"
   ]
  },
  {
   "cell_type": "code",
   "execution_count": 60,
   "metadata": {},
   "outputs": [
    {
     "data": {
      "text/plain": [
       "'b'"
      ]
     },
     "execution_count": 60,
     "metadata": {},
     "output_type": "execute_result"
    }
   ],
   "source": [
    "df.source.value_counts().index[1]"
   ]
  },
  {
   "cell_type": "code",
   "execution_count": 50,
   "metadata": {},
   "outputs": [
    {
     "data": {
      "text/plain": [
       "array([0., 0., 0., 0., 0.], dtype=float32)"
      ]
     },
     "execution_count": 50,
     "metadata": {},
     "output_type": "execute_result"
    }
   ],
   "source": [
    "weighted_edge = np.zeros((len(df.source.value_counts().index), len(df.source.value_counts().index)), dtype = np.float32)\n",
    "score = np.zeros((len(df.source.value_counts().index)), dtype = np.float32)\n",
    "score                 "
   ]
  },
  {
   "cell_type": "code",
   "execution_count": 141,
   "metadata": {},
   "outputs": [
    {
     "data": {
      "text/plain": [
       "0.0"
      ]
     },
     "execution_count": 141,
     "metadata": {},
     "output_type": "execute_result"
    }
   ],
   "source": [
    "weighted_edge[1] = 0\n",
    "weighted_edge[1,3]"
   ]
  },
  {
   "cell_type": "code",
   "execution_count": 79,
   "metadata": {},
   "outputs": [
    {
     "data": {
      "text/html": [
       "<div>\n",
       "<style scoped>\n",
       "    .dataframe tbody tr th:only-of-type {\n",
       "        vertical-align: middle;\n",
       "    }\n",
       "\n",
       "    .dataframe tbody tr th {\n",
       "        vertical-align: top;\n",
       "    }\n",
       "\n",
       "    .dataframe thead th {\n",
       "        text-align: right;\n",
       "    }\n",
       "</style>\n",
       "<table border=\"1\" class=\"dataframe\">\n",
       "  <thead>\n",
       "    <tr style=\"text-align: right;\">\n",
       "      <th></th>\n",
       "      <th>source</th>\n",
       "      <th>target</th>\n",
       "      <th>csss</th>\n",
       "      <th>polarity</th>\n",
       "    </tr>\n",
       "  </thead>\n",
       "  <tbody>\n",
       "    <tr>\n",
       "      <th>3</th>\n",
       "      <td>b</td>\n",
       "      <td>ae</td>\n",
       "      <td>cs</td>\n",
       "      <td>1</td>\n",
       "    </tr>\n",
       "    <tr>\n",
       "      <th>4</th>\n",
       "      <td>b</td>\n",
       "      <td>ad</td>\n",
       "      <td>cs</td>\n",
       "      <td>-1</td>\n",
       "    </tr>\n",
       "  </tbody>\n",
       "</table>\n",
       "</div>"
      ],
      "text/plain": [
       "  source target csss  polarity\n",
       "3      b     ae   cs         1\n",
       "4      b     ad   cs        -1"
      ]
     },
     "execution_count": 79,
     "metadata": {},
     "output_type": "execute_result"
    }
   ],
   "source": [
    "a_b = df[(df['source'] == 'b') & (df['csss'] == 'cs') & (df['target'].str.contains('a'))]\n",
    "a_b"
   ]
  },
  {
   "cell_type": "code",
   "execution_count": 114,
   "metadata": {},
   "outputs": [
    {
     "data": {
      "text/plain": [
       " 1    1\n",
       "-1    1\n",
       "Name: polarity, dtype: int64"
      ]
     },
     "execution_count": 114,
     "metadata": {},
     "output_type": "execute_result"
    }
   ],
   "source": [
    "a_b['polarity'].value_counts()"
   ]
  },
  {
   "cell_type": "code",
   "execution_count": 133,
   "metadata": {
    "scrolled": true
   },
   "outputs": [],
   "source": []
  },
  {
   "cell_type": "code",
   "execution_count": 136,
   "metadata": {},
   "outputs": [
    {
     "data": {
      "text/plain": [
       "polarity    1\n",
       "Name: -1, dtype: int64"
      ]
     },
     "execution_count": 136,
     "metadata": {},
     "output_type": "execute_result"
    }
   ],
   "source": [
    "product_pol.loc[-1]"
   ]
  },
  {
   "cell_type": "code",
   "execution_count": 123,
   "metadata": {},
   "outputs": [],
   "source": [
    "inout = np.zeros((len(df.source.value_counts().index)),dtype=np.float32)\n",
    "for i in range(0,len(df.source.value_counts().index)):\n",
    "    for j in range(0,len(df.source.value_counts().index)):\n",
    "        inout[i]+=weighted_edge[i][j]"
   ]
  },
  {
   "cell_type": "code",
   "execution_count": 55,
   "metadata": {},
   "outputs": [
    {
     "data": {
      "text/plain": [
       "array([0., 0., 0., 0., 0.], dtype=float32)"
      ]
     },
     "execution_count": 55,
     "metadata": {},
     "output_type": "execute_result"
    }
   ],
   "source": [
    "score = np.zeros((len(df.source.value_counts().index)),dtype=np.float32)\n",
    "\n",
    "for i in range(0, 5):\n",
    "    score[i] = 1\n",
    "    source_product = df.source.value_counts().index[i]\n",
    "    \n",
    "    for j in range(0, 5)\n",
    "        target_product = df.target.value_counts().index[j]\n",
    "        SS_pol = pd.DataFrame(df[(df['source'] == source_product) & (df['csss'] == 'ss')].polarity.value_counts())\n",
    "        # SS에서 pos값만 있을 경우\n",
    "        if len(product_pol) < 2 & product_pol[0] == 1:\n",
    "            calc_ = product_pol/1\n",
    "        ## SS에서 neg값만 있을 경우\n",
    "        if len(product_pos) < 2 & product_pol[0] == -1:\n",
    "        if source_product == i: #PS/NS node weight를 구한 후 weigthed_edge 메트릭스에 추가해야한다.\n",
    "            target_product = df.source.value_counts().index[j]\n",
    "            #분자/분모\n",
    "            calc_SS = df[(df['source'] == 'a') & (df['csss'] == 'ss') & (df['target'].str.contains(target_product))].values[0]/df[(df['source'] == 'a') & (df['csss'] == 'ss') & (df['target'].str.contains(target_product))].values[1]\n",
    "\n",
    "        else:\n",
    "            CS = df[(df['source'] == 'a') & (df['csss'] == 'cs') & (df['target'].str.contains(target_product))].values\n",
    "             \n",
    "                \n",
    "        SS_pol = pd.DataFrame(df[(df['source'] == source_product) & (df['csss'] == 'ss') & (df['target'].str.contains(target_product))].polarity.value_counts())\n",
    "        CS_pol = pd.DataFrame(df[(df['source'] == source_product) & (df['csss'] == 'cs') & (df['target'].str.contains(target_product))].polarity.value_counts())\n",
    "        \n",
    "        # SS에서 pos값만 있을 경우\n",
    "        if len(product_pol) < 2 & product_pol[0] == 1:\n",
    "            calc_ = product_pol/1\n",
    "        ## SS에서 neg값만 있을 경우\n",
    "        if len(product_pos) < 2 & product_pol[0] == -1:\n",
    "   "
   ]
  }
 ],
 "metadata": {
  "kernelspec": {
   "display_name": "Python 3",
   "language": "python",
   "name": "python3"
  },
  "language_info": {
   "codemirror_mode": {
    "name": "ipython",
    "version": 3
   },
   "file_extension": ".py",
   "mimetype": "text/x-python",
   "name": "python",
   "nbconvert_exporter": "python",
   "pygments_lexer": "ipython3",
   "version": "3.7.3"
  }
 },
 "nbformat": 4,
 "nbformat_minor": 2
}
