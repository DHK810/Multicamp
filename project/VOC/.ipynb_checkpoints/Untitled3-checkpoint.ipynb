{
 "cells": [
  {
   "cell_type": "code",
   "execution_count": null,
   "metadata": {},
   "outputs": [],
   "source": [
    "\n",
    "\n",
    "def Make_matrix(data, product_list = product_list):\n",
    "    product_list = data['product'].unique()\n",
    "    target_list = data['target'].unique()\n",
    "    for i, p in product_list:\n",
    "        df = data[data['product'] == p]\n",
    "        if CS_SS == SS:\n",
    "            if len(CS_SS['polarity'].value_counts.index) == 2:\n",
    "                return df['polarity'].value_counts()[1] / df['polarity'].value_counts()[-1]\n",
    "            elif 1 not in ss_data.index:\n",
    "                return 0\n",
    "            else:\n",
    "                return float(CS_SS['polarity'].value_counts()[1])\n",
    "            \n",
    "        if CS_SS == CS:\n",
    "            for target in target_list:\n",
    "                df_cs = df[df['target'].str.contains(target)]\n",
    "                if len(CS_SS['polarity'].value_counts.index) == 2:\n",
    "                    \n",
    "                    return df_cs['polarity'].value_counts()[1] / df_cs['polarity'].value_counts()[-1]\n",
    "                elif 1 not in cs_data.index:\n",
    "                    return 0\n",
    "                else:\n",
    "                    return float(CS_SS['polarity'].value_counts()[1])\n",
    "    for i, p in enumerate(product_list):\n",
    "        df_re = df[df['product'] == p]\n",
    "        df_cs = df_re[(df_re['CS_SS'] == 'CS')&(df_re['polarity'] != 0)]\n",
    "        df_ss = df_re[(df_re['CS_SS'] == 'SS') &(df_re['polarity'] != 0)]\n",
    "        \n",
    "        for j, t in enumerate(product_list):\n",
    "            if i == j:\n",
    "                # ss에 의한 웨이트 계산\n",
    "                ss_data = pd.DataFrame(df_ss['polarity'].value_counts())\n",
    "                if len(ss_data.index) == 2:\n",
    "                    matrix[i,i] = float(ss_data.loc[1] / ss_data.loc[-1])\n",
    "                elif 1 not in ss_data.index:\n",
    "                    matrix[i,i] = 0\n",
    "                else:\n",
    "                    matrix[i,i] = float(ss_data.loc[1])\n",
    "\n",
    "            elif i != j:\n",
    "                # cs에 의한 웨이트 계산\n",
    "                cs_data = pd.DataFrame(df_cs[df_cs['target'].str.contains(t)]['polarity'].value_counts())\n",
    "                if len(cs_data.index) == 2 :\n",
    "                    matrix[i,j] = float(cs_data.loc[1] / cs_data.loc[-1])\n",
    "                elif 1 not in cs_data.index:\n",
    "                    matrix[i,j] = 0\n",
    "                else:\n",
    "                    matrix[i,j] = float(cs_data.loc[1])\n",
    "        print(i, '/', len(product_list))\n",
    "    return matrix"
   ]
  }
 ],
 "metadata": {
  "kernelspec": {
   "display_name": "Python 3",
   "language": "python",
   "name": "python3"
  },
  "language_info": {
   "codemirror_mode": {
    "name": "ipython",
    "version": 3
   },
   "file_extension": ".py",
   "mimetype": "text/x-python",
   "name": "python",
   "nbconvert_exporter": "python",
   "pygments_lexer": "ipython3",
   "version": "3.7.3"
  }
 },
 "nbformat": 4,
 "nbformat_minor": 2
}
