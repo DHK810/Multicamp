{
 "cells": [
  {
   "cell_type": "code",
   "execution_count": 12,
   "metadata": {},
   "outputs": [],
   "source": [
    "import requests\n",
    "from bs4 import BeautifulSoup\n",
    "\n",
    "\n",
    "def crawl_products_url(url):\n",
    "    base_url = 'https://www.amazon.com'\n",
    "    \n",
    "    resp = requests.get(url)\n",
    "    soup = BeautifulSoup(resp.content, 'html.parser')\n",
    "    \n",
    "    search_result = soup.find('div', class_ = 's-result-list s-search-results sg-row')\n",
    "    \n",
    "    product_result = search_result.find_all('div', class_ = 'a-link-normal a-text-normal')\n",
    "\n",
    "    \n",
    "    product_list = []\n",
    "    review_list = []\n",
    "    products_url = []\n",
    "    for each_product in product_result:\n",
    "        url_each = each_product.attrs['href']\n",
    "        product_url = url\n",
    "        url_product = base_url + url_each\n",
    "        products_url.append(url_product)\n",
    "    \n",
    "    return crawl_review_list(products_url)\n",
    "\n",
    "def crawl_review_list(url_list):\n",
    "    review_list = []\n",
    "    for url in url_list:\n",
    "        resp = requests.get(url)\n",
    "        soup = BeautifulSoup(resp.content, 'html.parser')\n",
    "        \n",
    "        review_frame = soup.find('div', class_ = 'a-section a-spacing-extra-large reviews-content filterable-reviews-content celwidget')\n",
    "        review_products = review_frame.find_all('div', class_ = 'a-expander-content reviewText review-text-content a-expander-partial-collapse-content')\n",
    "        \n",
    "        review_content = ''\n",
    "        for review_tag in review_products:\n",
    "            review_content += review_tag.text\n",
    "        \n",
    "        review_list.append(review_content)\n",
    "        \n",
    "    return review_list\n",
    "            \n",
    "    "
   ]
  },
  {
   "cell_type": "code",
   "execution_count": 13,
   "metadata": {},
   "outputs": [],
   "source": [
    "url = 'https://www.amazon.com/s?k=digital+camera'\n",
    "\n",
    "products = crawl_products_url(url)\n",
    "# reviews = crawl_review_list(products)"
   ]
  },
  {
   "cell_type": "code",
   "execution_count": 14,
   "metadata": {},
   "outputs": [
    {
     "data": {
      "text/plain": [
       "[]"
      ]
     },
     "execution_count": 14,
     "metadata": {},
     "output_type": "execute_result"
    }
   ],
   "source": [
    "products"
   ]
  }
 ],
 "metadata": {
  "kernelspec": {
   "display_name": "Python 3",
   "language": "python",
   "name": "python3"
  },
  "language_info": {
   "codemirror_mode": {
    "name": "ipython",
    "version": 3
   },
   "file_extension": ".py",
   "mimetype": "text/x-python",
   "name": "python",
   "nbconvert_exporter": "python",
   "pygments_lexer": "ipython3",
   "version": "3.7.3"
  }
 },
 "nbformat": 4,
 "nbformat_minor": 2
}
