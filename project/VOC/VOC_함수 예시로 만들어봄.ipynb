{
 "cells": [
  {
   "cell_type": "markdown",
   "metadata": {},
   "source": [
    "# edge와 node의 weight구하는 함수 2개로 만듬"
   ]
  },
  {
   "cell_type": "code",
   "execution_count": null,
   "metadata": {},
   "outputs": [],
   "source": [
    "def get_weighted_edge(sentence):\n",
    "    count_pos = 0\n",
    "    count_neg = 0\n",
    "    for word in sentence.split():\n",
    "        if word in pos_dict:\n",
    "            count_pos += 1\n",
    "        elif word in neg_dict:\n",
    "            count_neg += 1\n",
    "    return count_pos/count_neg\n",
    "\n",
    "def get_node_edge(sentence):\n",
    "    count_pos = 0\n",
    "    count_neg = 0\n",
    "    for word in sentence.split():\n",
    "        if word in pos_dict:\n",
    "            count_pos += 1\n",
    "        elif word in neg_dict:\n",
    "            count_neg += 1\n",
    "    return count_pos/count_neg        "
   ]
  },
  {
   "cell_type": "markdown",
   "metadata": {},
   "source": [
    "# input을 edge와 node 2개를 받아야 할 것 같음"
   ]
  },
  {
   "cell_type": "code",
   "execution_count": null,
   "metadata": {},
   "outputs": [],
   "source": [
    "def buildMatrix(sentences):\n",
    "    \n",
    "    # 문장별로 그래프 edge를 Matrix 형태로 생성\n",
    "    weighted_edge = np.zeros((len(sentences), len(edge_pairs)),dtype=np.float32)\n",
    "\n",
    "    for i in range(len(sentences)):\n",
    "        for j in range(len(edge_pairs)):\n",
    "            if i == j:\n",
    "                continue\n",
    "            weighted_edge[i][j] = get_weighted_edge(sentences[i], edge_pairs[j])\n",
    "            \n",
    "    #print('[' + str(i) + ',' + str(j)+'] = ' + str(weighted_edge[i][j]))\n",
    "    # normalize\n",
    "    for i in range(len(weighted_edge)):\n",
    "        \n",
    "        #아래 코드 해석 = 값의 총합이 1이 된다. 이걸로 가중치를 계산, 표준화 작업.\n",
    "        weighted_edge[i] /= weighted_edge[i].sum()\n",
    "    \n",
    "    return weighted_edge\n",
    "\n",
    "S = buildMatrix(sent_tokenize(Text))\n",
    "\n",
    "print(S[:3])"
   ]
  },
  {
   "cell_type": "markdown",
   "metadata": {},
   "source": [
    "# ranking score 구하는 함수"
   ]
  },
  {
   "cell_type": "code",
   "execution_count": null,
   "metadata": {},
   "outputs": [],
   "source": [
    "def scoring(w_edge, w_node, eps=0.0001, d=0.85, max_iter = 50):\n",
    "    P = np.ones(len(A)) / len(A)\n",
    "    \n",
    "    for iter in range(0,max_iter):\n",
    "        \n",
    "        newP = ((1 - d) + d * sum(연결된 노드들의 수 * newP(연결된 노드들) * w_edge)) * w_node\n",
    "        print(newP)\n",
    "        print('-------')\n",
    "        \n",
    "        if abs((newP - P).sum()) <= eps:\n",
    "            return newP\n",
    "        P = newP\n",
    "    return newP\n"
   ]
  },
  {
   "cell_type": "markdown",
   "metadata": {},
   "source": [
    "# text를 어떤 input으로 바꿔야할지 모르겠음"
   ]
  },
  {
   "cell_type": "code",
   "execution_count": null,
   "metadata": {},
   "outputs": [],
   "source": [
    "def pRank(text):\n",
    "    text = sent_tokenize(text)\n",
    "    weighted_edge = buildMatrix(text)\n",
    "    score = scoring(weighted_edge)\n",
    "    #print(score)\n",
    "    rankedSentenceIndexes = [item[0] for item in sorted(enumerate(score), key=lambda item: -item[1])]\n",
    "    #-item은 내림차순\n",
    "    #-없으면 오름차순\n",
    "    #enumerate(score) = (0, socre값), (1, score값)....\n",
    "    \n",
    "    selectedSentences = sorted(rankedSentenceIndexes[:linesinSummary])\n",
    "    summary = itemgetter(*selectedSentences)(text)\n",
    "    return summary"
   ]
  }
 ],
 "metadata": {
  "kernelspec": {
   "display_name": "Python 3",
   "language": "python",
   "name": "python3"
  },
  "language_info": {
   "codemirror_mode": {
    "name": "ipython",
    "version": 3
   },
   "file_extension": ".py",
   "mimetype": "text/x-python",
   "name": "python",
   "nbconvert_exporter": "python",
   "pygments_lexer": "ipython3",
   "version": "3.7.3"
  }
 },
 "nbformat": 4,
 "nbformat_minor": 2
}
