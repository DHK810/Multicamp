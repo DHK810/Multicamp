{
 "cells": [
  {
   "cell_type": "code",
   "execution_count": null,
   "metadata": {},
   "outputs": [],
   "source": [
    "from bs4 import BeautifulSoup\n",
    "from selenium import webdriver\n",
    "\n",
    "driver_path = 'C:\\\\Users\\\\15Z970-GA5BK\\\\Downloads\\\\chromedriver.exe'\n",
    "\n",
    "driver = webdriver.Chrome(driver_path)\n",
    "driver.get('https://lineage.plaync.com/board/server/list?categoryId=&viewMode=list&size=1000$page=3')\n",
    "\n",
    "html = driver.page_source\n",
    "soup = BeautifulSoup(html)\n",
    "prodList = soup.find_all(\"li\", {\"class\": \"board-items is-hide-comment\"})\n",
    "print(len(prodList))"
   ]
  },
  {
   "cell_type": "code",
   "execution_count": null,
   "metadata": {},
   "outputs": [],
   "source": [
    "listcomm = ['https://lineage.plaync.com/board/server/list?categoryId=&viewMode=list&size=20$page=1',\n",
    "            'https://lineage.plaync.com/board/server/list?categoryId=&viewMode=list&size=20$page=2',\n",
    "            'https://lineage.plaync.com/board/server/list?categoryId=&viewMode=list&size=20$page=3'\n",
    "]\n",
    "bodycontent = []\n",
    "for lst in listcomm:\n",
    "    driver.get(lst)\n",
    "    for li in prodList:\n",
    "        title = li.find('div', class_='title').find('a').text\n",
    "        href = li.find('div', class_='title').find('a')['href']\n",
    "        print(title)\n",
    "        bodycontent.append(href)\n",
    "\n",
    "list_newbody_url= ['https://lineage.plaync.com/board/server/'+bodycontent[0]]"
   ]
  },
  {
   "cell_type": "code",
   "execution_count": null,
   "metadata": {},
   "outputs": [],
   "source": [
    "print(list_newbody_url)\n",
    "driver.get(list_newbody_url[0])\n"
   ]
  }
 ],
 "metadata": {
  "kernelspec": {
   "display_name": "Python 3",
   "language": "python",
   "name": "python3"
  },
  "language_info": {
   "codemirror_mode": {
    "name": "ipython",
    "version": 3
   },
   "file_extension": ".py",
   "mimetype": "text/x-python",
   "name": "python",
   "nbconvert_exporter": "python",
   "pygments_lexer": "ipython3",
   "version": "3.7.3"
  }
 },
 "nbformat": 4,
 "nbformat_minor": 2
}
