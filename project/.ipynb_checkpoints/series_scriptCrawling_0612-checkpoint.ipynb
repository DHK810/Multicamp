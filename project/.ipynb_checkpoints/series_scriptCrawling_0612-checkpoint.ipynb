{
 "cells": [
  {
   "cell_type": "markdown",
   "metadata": {},
   "source": [
    "# 단어 찾으면 해당 단어가 있는 문장 불러오기"
   ]
  },
  {
   "cell_type": "code",
   "execution_count": null,
   "metadata": {},
   "outputs": [],
   "source": []
  },
  {
   "cell_type": "code",
   "execution_count": 1,
   "metadata": {
    "scrolled": true
   },
   "outputs": [
    {
     "name": "stdout",
     "output_type": "stream",
     "text": [
      "원하는 미드를 입력하세요: friends\n",
      "['https://www.springfieldspringfield.co.uk/view_episode_scripts.php?tv-show=friends&episode=s01e01', 'https://www.springfieldspringfield.co.uk/view_episode_scripts.php?tv-show=friends&episode=s01e02', 'https://www.springfieldspringfield.co.uk/view_episode_scripts.php?tv-show=friends&episode=s01e03', 'https://www.springfieldspringfield.co.uk/view_episode_scripts.php?tv-show=friends&episode=s01e04', 'https://www.springfieldspringfield.co.uk/view_episode_scripts.php?tv-show=friends&episode=s01e05', 'https://www.springfieldspringfield.co.uk/view_episode_scripts.php?tv-show=friends&episode=s01e06', 'https://www.springfieldspringfield.co.uk/view_episode_scripts.php?tv-show=friends&episode=s01e07', 'https://www.springfieldspringfield.co.uk/view_episode_scripts.php?tv-show=friends&episode=s01e08', 'https://www.springfieldspringfield.co.uk/view_episode_scripts.php?tv-show=friends&episode=s01e09', 'https://www.springfieldspringfield.co.uk/view_episode_scripts.php?tv-show=friends&episode=s01e10', 'https://www.springfieldspringfield.co.uk/view_episode_scripts.php?tv-show=friends&episode=s01e11', 'https://www.springfieldspringfield.co.uk/view_episode_scripts.php?tv-show=friends&episode=s01e12', 'https://www.springfieldspringfield.co.uk/view_episode_scripts.php?tv-show=friends&episode=s01e13', 'https://www.springfieldspringfield.co.uk/view_episode_scripts.php?tv-show=friends&episode=s01e14', 'https://www.springfieldspringfield.co.uk/view_episode_scripts.php?tv-show=friends&episode=s01e15', 'https://www.springfieldspringfield.co.uk/view_episode_scripts.php?tv-show=friends&episode=s01e16', 'https://www.springfieldspringfield.co.uk/view_episode_scripts.php?tv-show=friends&episode=s01e17', 'https://www.springfieldspringfield.co.uk/view_episode_scripts.php?tv-show=friends&episode=s01e18', 'https://www.springfieldspringfield.co.uk/view_episode_scripts.php?tv-show=friends&episode=s01e19', 'https://www.springfieldspringfield.co.uk/view_episode_scripts.php?tv-show=friends&episode=s01e20', 'https://www.springfieldspringfield.co.uk/view_episode_scripts.php?tv-show=friends&episode=s01e21', 'https://www.springfieldspringfield.co.uk/view_episode_scripts.php?tv-show=friends&episode=s01e22', 'https://www.springfieldspringfield.co.uk/view_episode_scripts.php?tv-show=friends&episode=s01e23', 'https://www.springfieldspringfield.co.uk/view_episode_scripts.php?tv-show=friends&episode=s01e24', 'https://www.springfieldspringfield.co.uk/view_episode_scripts.php?tv-show=friends&episode=s02e01', 'https://www.springfieldspringfield.co.uk/view_episode_scripts.php?tv-show=friends&episode=s02e02', 'https://www.springfieldspringfield.co.uk/view_episode_scripts.php?tv-show=friends&episode=s02e03', 'https://www.springfieldspringfield.co.uk/view_episode_scripts.php?tv-show=friends&episode=s02e04', 'https://www.springfieldspringfield.co.uk/view_episode_scripts.php?tv-show=friends&episode=s02e05', 'https://www.springfieldspringfield.co.uk/view_episode_scripts.php?tv-show=friends&episode=s02e06', 'https://www.springfieldspringfield.co.uk/view_episode_scripts.php?tv-show=friends&episode=s02e07', 'https://www.springfieldspringfield.co.uk/view_episode_scripts.php?tv-show=friends&episode=s02e08', 'https://www.springfieldspringfield.co.uk/view_episode_scripts.php?tv-show=friends&episode=s02e09', 'https://www.springfieldspringfield.co.uk/view_episode_scripts.php?tv-show=friends&episode=s02e10', 'https://www.springfieldspringfield.co.uk/view_episode_scripts.php?tv-show=friends&episode=s02e11', 'https://www.springfieldspringfield.co.uk/view_episode_scripts.php?tv-show=friends&episode=s02e12', 'https://www.springfieldspringfield.co.uk/view_episode_scripts.php?tv-show=friends&episode=s02e14', 'https://www.springfieldspringfield.co.uk/view_episode_scripts.php?tv-show=friends&episode=s02e15', 'https://www.springfieldspringfield.co.uk/view_episode_scripts.php?tv-show=friends&episode=s02e16', 'https://www.springfieldspringfield.co.uk/view_episode_scripts.php?tv-show=friends&episode=s02e17', 'https://www.springfieldspringfield.co.uk/view_episode_scripts.php?tv-show=friends&episode=s02e18', 'https://www.springfieldspringfield.co.uk/view_episode_scripts.php?tv-show=friends&episode=s02e19', 'https://www.springfieldspringfield.co.uk/view_episode_scripts.php?tv-show=friends&episode=s02e20', 'https://www.springfieldspringfield.co.uk/view_episode_scripts.php?tv-show=friends&episode=s02e21', 'https://www.springfieldspringfield.co.uk/view_episode_scripts.php?tv-show=friends&episode=s02e22', 'https://www.springfieldspringfield.co.uk/view_episode_scripts.php?tv-show=friends&episode=s02e23', 'https://www.springfieldspringfield.co.uk/view_episode_scripts.php?tv-show=friends&episode=s02e24', 'https://www.springfieldspringfield.co.uk/view_episode_scripts.php?tv-show=friends&episode=s03e01', 'https://www.springfieldspringfield.co.uk/view_episode_scripts.php?tv-show=friends&episode=s03e02', 'https://www.springfieldspringfield.co.uk/view_episode_scripts.php?tv-show=friends&episode=s03e03', 'https://www.springfieldspringfield.co.uk/view_episode_scripts.php?tv-show=friends&episode=s03e04', 'https://www.springfieldspringfield.co.uk/view_episode_scripts.php?tv-show=friends&episode=s03e05', 'https://www.springfieldspringfield.co.uk/view_episode_scripts.php?tv-show=friends&episode=s03e06', 'https://www.springfieldspringfield.co.uk/view_episode_scripts.php?tv-show=friends&episode=s03e07', 'https://www.springfieldspringfield.co.uk/view_episode_scripts.php?tv-show=friends&episode=s03e08', 'https://www.springfieldspringfield.co.uk/view_episode_scripts.php?tv-show=friends&episode=s03e09', 'https://www.springfieldspringfield.co.uk/view_episode_scripts.php?tv-show=friends&episode=s03e10', 'https://www.springfieldspringfield.co.uk/view_episode_scripts.php?tv-show=friends&episode=s03e11', 'https://www.springfieldspringfield.co.uk/view_episode_scripts.php?tv-show=friends&episode=s03e12', 'https://www.springfieldspringfield.co.uk/view_episode_scripts.php?tv-show=friends&episode=s03e13', 'https://www.springfieldspringfield.co.uk/view_episode_scripts.php?tv-show=friends&episode=s03e14', 'https://www.springfieldspringfield.co.uk/view_episode_scripts.php?tv-show=friends&episode=s03e15', 'https://www.springfieldspringfield.co.uk/view_episode_scripts.php?tv-show=friends&episode=s03e16', 'https://www.springfieldspringfield.co.uk/view_episode_scripts.php?tv-show=friends&episode=s03e17', 'https://www.springfieldspringfield.co.uk/view_episode_scripts.php?tv-show=friends&episode=s03e18', 'https://www.springfieldspringfield.co.uk/view_episode_scripts.php?tv-show=friends&episode=s03e19', 'https://www.springfieldspringfield.co.uk/view_episode_scripts.php?tv-show=friends&episode=s03e20', 'https://www.springfieldspringfield.co.uk/view_episode_scripts.php?tv-show=friends&episode=s03e21', 'https://www.springfieldspringfield.co.uk/view_episode_scripts.php?tv-show=friends&episode=s03e22', 'https://www.springfieldspringfield.co.uk/view_episode_scripts.php?tv-show=friends&episode=s03e23', 'https://www.springfieldspringfield.co.uk/view_episode_scripts.php?tv-show=friends&episode=s03e24', 'https://www.springfieldspringfield.co.uk/view_episode_scripts.php?tv-show=friends&episode=s03e25', 'https://www.springfieldspringfield.co.uk/view_episode_scripts.php?tv-show=friends&episode=s04e01', 'https://www.springfieldspringfield.co.uk/view_episode_scripts.php?tv-show=friends&episode=s04e02', 'https://www.springfieldspringfield.co.uk/view_episode_scripts.php?tv-show=friends&episode=s04e03', 'https://www.springfieldspringfield.co.uk/view_episode_scripts.php?tv-show=friends&episode=s04e04', 'https://www.springfieldspringfield.co.uk/view_episode_scripts.php?tv-show=friends&episode=s04e05', 'https://www.springfieldspringfield.co.uk/view_episode_scripts.php?tv-show=friends&episode=s04e06', 'https://www.springfieldspringfield.co.uk/view_episode_scripts.php?tv-show=friends&episode=s04e07', 'https://www.springfieldspringfield.co.uk/view_episode_scripts.php?tv-show=friends&episode=s04e08', 'https://www.springfieldspringfield.co.uk/view_episode_scripts.php?tv-show=friends&episode=s04e09', 'https://www.springfieldspringfield.co.uk/view_episode_scripts.php?tv-show=friends&episode=s04e10', 'https://www.springfieldspringfield.co.uk/view_episode_scripts.php?tv-show=friends&episode=s04e11', 'https://www.springfieldspringfield.co.uk/view_episode_scripts.php?tv-show=friends&episode=s04e12', 'https://www.springfieldspringfield.co.uk/view_episode_scripts.php?tv-show=friends&episode=s04e13', 'https://www.springfieldspringfield.co.uk/view_episode_scripts.php?tv-show=friends&episode=s04e14', 'https://www.springfieldspringfield.co.uk/view_episode_scripts.php?tv-show=friends&episode=s04e15', 'https://www.springfieldspringfield.co.uk/view_episode_scripts.php?tv-show=friends&episode=s04e16', 'https://www.springfieldspringfield.co.uk/view_episode_scripts.php?tv-show=friends&episode=s04e17', 'https://www.springfieldspringfield.co.uk/view_episode_scripts.php?tv-show=friends&episode=s04e18', 'https://www.springfieldspringfield.co.uk/view_episode_scripts.php?tv-show=friends&episode=s04e19', 'https://www.springfieldspringfield.co.uk/view_episode_scripts.php?tv-show=friends&episode=s04e20', 'https://www.springfieldspringfield.co.uk/view_episode_scripts.php?tv-show=friends&episode=s04e21', 'https://www.springfieldspringfield.co.uk/view_episode_scripts.php?tv-show=friends&episode=s04e22', 'https://www.springfieldspringfield.co.uk/view_episode_scripts.php?tv-show=friends&episode=s04e23', 'https://www.springfieldspringfield.co.uk/view_episode_scripts.php?tv-show=friends&episode=s05e01', 'https://www.springfieldspringfield.co.uk/view_episode_scripts.php?tv-show=friends&episode=s05e02', 'https://www.springfieldspringfield.co.uk/view_episode_scripts.php?tv-show=friends&episode=s05e03', 'https://www.springfieldspringfield.co.uk/view_episode_scripts.php?tv-show=friends&episode=s05e04', 'https://www.springfieldspringfield.co.uk/view_episode_scripts.php?tv-show=friends&episode=s05e05', 'https://www.springfieldspringfield.co.uk/view_episode_scripts.php?tv-show=friends&episode=s05e06', 'https://www.springfieldspringfield.co.uk/view_episode_scripts.php?tv-show=friends&episode=s05e07', 'https://www.springfieldspringfield.co.uk/view_episode_scripts.php?tv-show=friends&episode=s05e08', 'https://www.springfieldspringfield.co.uk/view_episode_scripts.php?tv-show=friends&episode=s05e09', 'https://www.springfieldspringfield.co.uk/view_episode_scripts.php?tv-show=friends&episode=s05e10', 'https://www.springfieldspringfield.co.uk/view_episode_scripts.php?tv-show=friends&episode=s05e11', 'https://www.springfieldspringfield.co.uk/view_episode_scripts.php?tv-show=friends&episode=s05e12', 'https://www.springfieldspringfield.co.uk/view_episode_scripts.php?tv-show=friends&episode=s05e13', 'https://www.springfieldspringfield.co.uk/view_episode_scripts.php?tv-show=friends&episode=s05e14', 'https://www.springfieldspringfield.co.uk/view_episode_scripts.php?tv-show=friends&episode=s05e15', 'https://www.springfieldspringfield.co.uk/view_episode_scripts.php?tv-show=friends&episode=s05e16', 'https://www.springfieldspringfield.co.uk/view_episode_scripts.php?tv-show=friends&episode=s05e17', 'https://www.springfieldspringfield.co.uk/view_episode_scripts.php?tv-show=friends&episode=s05e18', 'https://www.springfieldspringfield.co.uk/view_episode_scripts.php?tv-show=friends&episode=s05e19', 'https://www.springfieldspringfield.co.uk/view_episode_scripts.php?tv-show=friends&episode=s05e20', 'https://www.springfieldspringfield.co.uk/view_episode_scripts.php?tv-show=friends&episode=s05e21', 'https://www.springfieldspringfield.co.uk/view_episode_scripts.php?tv-show=friends&episode=s05e22', 'https://www.springfieldspringfield.co.uk/view_episode_scripts.php?tv-show=friends&episode=s05e23', 'https://www.springfieldspringfield.co.uk/view_episode_scripts.php?tv-show=friends&episode=s05e24', 'https://www.springfieldspringfield.co.uk/view_episode_scripts.php?tv-show=friends&episode=s06e01', 'https://www.springfieldspringfield.co.uk/view_episode_scripts.php?tv-show=friends&episode=s06e02', 'https://www.springfieldspringfield.co.uk/view_episode_scripts.php?tv-show=friends&episode=s06e03', 'https://www.springfieldspringfield.co.uk/view_episode_scripts.php?tv-show=friends&episode=s06e04', 'https://www.springfieldspringfield.co.uk/view_episode_scripts.php?tv-show=friends&episode=s06e05', 'https://www.springfieldspringfield.co.uk/view_episode_scripts.php?tv-show=friends&episode=s06e06', 'https://www.springfieldspringfield.co.uk/view_episode_scripts.php?tv-show=friends&episode=s06e07', 'https://www.springfieldspringfield.co.uk/view_episode_scripts.php?tv-show=friends&episode=s06e08', 'https://www.springfieldspringfield.co.uk/view_episode_scripts.php?tv-show=friends&episode=s06e09', 'https://www.springfieldspringfield.co.uk/view_episode_scripts.php?tv-show=friends&episode=s06e10', 'https://www.springfieldspringfield.co.uk/view_episode_scripts.php?tv-show=friends&episode=s06e11', 'https://www.springfieldspringfield.co.uk/view_episode_scripts.php?tv-show=friends&episode=s06e12', 'https://www.springfieldspringfield.co.uk/view_episode_scripts.php?tv-show=friends&episode=s06e13', 'https://www.springfieldspringfield.co.uk/view_episode_scripts.php?tv-show=friends&episode=s06e14', 'https://www.springfieldspringfield.co.uk/view_episode_scripts.php?tv-show=friends&episode=s06e15', 'https://www.springfieldspringfield.co.uk/view_episode_scripts.php?tv-show=friends&episode=s06e16', 'https://www.springfieldspringfield.co.uk/view_episode_scripts.php?tv-show=friends&episode=s06e17', 'https://www.springfieldspringfield.co.uk/view_episode_scripts.php?tv-show=friends&episode=s06e18', 'https://www.springfieldspringfield.co.uk/view_episode_scripts.php?tv-show=friends&episode=s06e19', 'https://www.springfieldspringfield.co.uk/view_episode_scripts.php?tv-show=friends&episode=s06e20', 'https://www.springfieldspringfield.co.uk/view_episode_scripts.php?tv-show=friends&episode=s06e21', 'https://www.springfieldspringfield.co.uk/view_episode_scripts.php?tv-show=friends&episode=s06e22', 'https://www.springfieldspringfield.co.uk/view_episode_scripts.php?tv-show=friends&episode=s06e23', 'https://www.springfieldspringfield.co.uk/view_episode_scripts.php?tv-show=friends&episode=s06e24', 'https://www.springfieldspringfield.co.uk/view_episode_scripts.php?tv-show=friends&episode=s06e25', 'https://www.springfieldspringfield.co.uk/view_episode_scripts.php?tv-show=friends&episode=s07e01', 'https://www.springfieldspringfield.co.uk/view_episode_scripts.php?tv-show=friends&episode=s07e02', 'https://www.springfieldspringfield.co.uk/view_episode_scripts.php?tv-show=friends&episode=s07e03', 'https://www.springfieldspringfield.co.uk/view_episode_scripts.php?tv-show=friends&episode=s07e04', 'https://www.springfieldspringfield.co.uk/view_episode_scripts.php?tv-show=friends&episode=s07e05', 'https://www.springfieldspringfield.co.uk/view_episode_scripts.php?tv-show=friends&episode=s07e06', 'https://www.springfieldspringfield.co.uk/view_episode_scripts.php?tv-show=friends&episode=s07e07', 'https://www.springfieldspringfield.co.uk/view_episode_scripts.php?tv-show=friends&episode=s07e08', 'https://www.springfieldspringfield.co.uk/view_episode_scripts.php?tv-show=friends&episode=s07e09', 'https://www.springfieldspringfield.co.uk/view_episode_scripts.php?tv-show=friends&episode=s07e10', 'https://www.springfieldspringfield.co.uk/view_episode_scripts.php?tv-show=friends&episode=s07e11', 'https://www.springfieldspringfield.co.uk/view_episode_scripts.php?tv-show=friends&episode=s07e12', 'https://www.springfieldspringfield.co.uk/view_episode_scripts.php?tv-show=friends&episode=s07e13', 'https://www.springfieldspringfield.co.uk/view_episode_scripts.php?tv-show=friends&episode=s07e14', 'https://www.springfieldspringfield.co.uk/view_episode_scripts.php?tv-show=friends&episode=s07e15', 'https://www.springfieldspringfield.co.uk/view_episode_scripts.php?tv-show=friends&episode=s07e16', 'https://www.springfieldspringfield.co.uk/view_episode_scripts.php?tv-show=friends&episode=s07e17', 'https://www.springfieldspringfield.co.uk/view_episode_scripts.php?tv-show=friends&episode=s07e18', 'https://www.springfieldspringfield.co.uk/view_episode_scripts.php?tv-show=friends&episode=s07e19', 'https://www.springfieldspringfield.co.uk/view_episode_scripts.php?tv-show=friends&episode=s07e20', 'https://www.springfieldspringfield.co.uk/view_episode_scripts.php?tv-show=friends&episode=s07e21', 'https://www.springfieldspringfield.co.uk/view_episode_scripts.php?tv-show=friends&episode=s07e22', 'https://www.springfieldspringfield.co.uk/view_episode_scripts.php?tv-show=friends&episode=s07e23', 'https://www.springfieldspringfield.co.uk/view_episode_scripts.php?tv-show=friends&episode=s07e24', 'https://www.springfieldspringfield.co.uk/view_episode_scripts.php?tv-show=friends&episode=s08e01', 'https://www.springfieldspringfield.co.uk/view_episode_scripts.php?tv-show=friends&episode=s08e02', 'https://www.springfieldspringfield.co.uk/view_episode_scripts.php?tv-show=friends&episode=s08e03', 'https://www.springfieldspringfield.co.uk/view_episode_scripts.php?tv-show=friends&episode=s08e04', 'https://www.springfieldspringfield.co.uk/view_episode_scripts.php?tv-show=friends&episode=s08e05', 'https://www.springfieldspringfield.co.uk/view_episode_scripts.php?tv-show=friends&episode=s08e06', 'https://www.springfieldspringfield.co.uk/view_episode_scripts.php?tv-show=friends&episode=s08e07', 'https://www.springfieldspringfield.co.uk/view_episode_scripts.php?tv-show=friends&episode=s08e08', 'https://www.springfieldspringfield.co.uk/view_episode_scripts.php?tv-show=friends&episode=s08e09', 'https://www.springfieldspringfield.co.uk/view_episode_scripts.php?tv-show=friends&episode=s08e10', 'https://www.springfieldspringfield.co.uk/view_episode_scripts.php?tv-show=friends&episode=s08e11', 'https://www.springfieldspringfield.co.uk/view_episode_scripts.php?tv-show=friends&episode=s08e12', 'https://www.springfieldspringfield.co.uk/view_episode_scripts.php?tv-show=friends&episode=s08e13', 'https://www.springfieldspringfield.co.uk/view_episode_scripts.php?tv-show=friends&episode=s08e14', 'https://www.springfieldspringfield.co.uk/view_episode_scripts.php?tv-show=friends&episode=s08e15', 'https://www.springfieldspringfield.co.uk/view_episode_scripts.php?tv-show=friends&episode=s08e16', 'https://www.springfieldspringfield.co.uk/view_episode_scripts.php?tv-show=friends&episode=s08e17', 'https://www.springfieldspringfield.co.uk/view_episode_scripts.php?tv-show=friends&episode=s08e18', 'https://www.springfieldspringfield.co.uk/view_episode_scripts.php?tv-show=friends&episode=s08e19', 'https://www.springfieldspringfield.co.uk/view_episode_scripts.php?tv-show=friends&episode=s08e20', 'https://www.springfieldspringfield.co.uk/view_episode_scripts.php?tv-show=friends&episode=s08e21', 'https://www.springfieldspringfield.co.uk/view_episode_scripts.php?tv-show=friends&episode=s08e22', 'https://www.springfieldspringfield.co.uk/view_episode_scripts.php?tv-show=friends&episode=s08e23', 'https://www.springfieldspringfield.co.uk/view_episode_scripts.php?tv-show=friends&episode=s08e24', 'https://www.springfieldspringfield.co.uk/view_episode_scripts.php?tv-show=friends&episode=s09e01', 'https://www.springfieldspringfield.co.uk/view_episode_scripts.php?tv-show=friends&episode=s09e02', 'https://www.springfieldspringfield.co.uk/view_episode_scripts.php?tv-show=friends&episode=s09e03', 'https://www.springfieldspringfield.co.uk/view_episode_scripts.php?tv-show=friends&episode=s09e04', 'https://www.springfieldspringfield.co.uk/view_episode_scripts.php?tv-show=friends&episode=s09e05', 'https://www.springfieldspringfield.co.uk/view_episode_scripts.php?tv-show=friends&episode=s09e06', 'https://www.springfieldspringfield.co.uk/view_episode_scripts.php?tv-show=friends&episode=s09e07', 'https://www.springfieldspringfield.co.uk/view_episode_scripts.php?tv-show=friends&episode=s09e08', 'https://www.springfieldspringfield.co.uk/view_episode_scripts.php?tv-show=friends&episode=s09e09', 'https://www.springfieldspringfield.co.uk/view_episode_scripts.php?tv-show=friends&episode=s09e10', 'https://www.springfieldspringfield.co.uk/view_episode_scripts.php?tv-show=friends&episode=s09e11', 'https://www.springfieldspringfield.co.uk/view_episode_scripts.php?tv-show=friends&episode=s09e12', 'https://www.springfieldspringfield.co.uk/view_episode_scripts.php?tv-show=friends&episode=s09e13', 'https://www.springfieldspringfield.co.uk/view_episode_scripts.php?tv-show=friends&episode=s09e14', 'https://www.springfieldspringfield.co.uk/view_episode_scripts.php?tv-show=friends&episode=s09e15', 'https://www.springfieldspringfield.co.uk/view_episode_scripts.php?tv-show=friends&episode=s09e16', 'https://www.springfieldspringfield.co.uk/view_episode_scripts.php?tv-show=friends&episode=s09e17', 'https://www.springfieldspringfield.co.uk/view_episode_scripts.php?tv-show=friends&episode=s09e18', 'https://www.springfieldspringfield.co.uk/view_episode_scripts.php?tv-show=friends&episode=s09e19', 'https://www.springfieldspringfield.co.uk/view_episode_scripts.php?tv-show=friends&episode=s09e20', 'https://www.springfieldspringfield.co.uk/view_episode_scripts.php?tv-show=friends&episode=s09e21', 'https://www.springfieldspringfield.co.uk/view_episode_scripts.php?tv-show=friends&episode=s09e22', 'https://www.springfieldspringfield.co.uk/view_episode_scripts.php?tv-show=friends&episode=s09e23', 'https://www.springfieldspringfield.co.uk/view_episode_scripts.php?tv-show=friends&episode=s09e24', 'https://www.springfieldspringfield.co.uk/view_episode_scripts.php?tv-show=friends&episode=s10e01', 'https://www.springfieldspringfield.co.uk/view_episode_scripts.php?tv-show=friends&episode=s10e02', 'https://www.springfieldspringfield.co.uk/view_episode_scripts.php?tv-show=friends&episode=s10e03', 'https://www.springfieldspringfield.co.uk/view_episode_scripts.php?tv-show=friends&episode=s10e04', 'https://www.springfieldspringfield.co.uk/view_episode_scripts.php?tv-show=friends&episode=s10e05', 'https://www.springfieldspringfield.co.uk/view_episode_scripts.php?tv-show=friends&episode=s10e06', 'https://www.springfieldspringfield.co.uk/view_episode_scripts.php?tv-show=friends&episode=s10e07', 'https://www.springfieldspringfield.co.uk/view_episode_scripts.php?tv-show=friends&episode=s10e08', 'https://www.springfieldspringfield.co.uk/view_episode_scripts.php?tv-show=friends&episode=s10e09', 'https://www.springfieldspringfield.co.uk/view_episode_scripts.php?tv-show=friends&episode=s10e10', 'https://www.springfieldspringfield.co.uk/view_episode_scripts.php?tv-show=friends&episode=s10e11', 'https://www.springfieldspringfield.co.uk/view_episode_scripts.php?tv-show=friends&episode=s10e12', 'https://www.springfieldspringfield.co.uk/view_episode_scripts.php?tv-show=friends&episode=s10e13', 'https://www.springfieldspringfield.co.uk/view_episode_scripts.php?tv-show=friends&episode=s10e14', 'https://www.springfieldspringfield.co.uk/view_episode_scripts.php?tv-show=friends&episode=s10e15', 'https://www.springfieldspringfield.co.uk/view_episode_scripts.php?tv-show=friends&episode=s10e16', 'https://www.springfieldspringfield.co.uk/view_episode_scripts.php?tv-show=friends&episode=s10e17', 'https://www.springfieldspringfield.co.uk/view_episode_scripts.php?tv-show=friends&episode=s10e18']\n",
      "['01e01', '01e02', '01e03', '01e04', '01e05', '01e06', '01e07', '01e08', '01e09', '01e10', '01e11', '01e12', '01e13', '01e14', '01e15', '01e16', '01e17', '01e18', '01e19', '01e20', '01e21', '01e22', '01e23', '01e24', '02e01', '02e02', '02e03', '02e04', '02e05', '02e06', '02e07', '02e08', '02e09', '02e10', '02e11', '02e12', '02e14', '02e15', '02e16', '02e17', '02e18', '02e19', '02e20', '02e21', '02e22', '02e23', '02e24', '03e01', '03e02', '03e03', '03e04', '03e05', '03e06', '03e07', '03e08', '03e09', '03e10', '03e11', '03e12', '03e13', '03e14', '03e15', '03e16', '03e17', '03e18', '03e19', '03e20', '03e21', '03e22', '03e23', '03e24', '03e25', '04e01', '04e02', '04e03', '04e04', '04e05', '04e06', '04e07', '04e08', '04e09', '04e10', '04e11', '04e12', '04e13', '04e14', '04e15', '04e16', '04e17', '04e18', '04e19', '04e20', '04e21', '04e22', '04e23', '05e01', '05e02', '05e03', '05e04', '05e05', '05e06', '05e07', '05e08', '05e09', '05e10', '05e11', '05e12', '05e13', '05e14', '05e15', '05e16', '05e17', '05e18', '05e19', '05e20', '05e21', '05e22', '05e23', '05e24', '06e01', '06e02', '06e03', '06e04', '06e05', '06e06', '06e07', '06e08', '06e09', '06e10', '06e11', '06e12', '06e13', '06e14', '06e15', '06e16', '06e17', '06e18', '06e19', '06e20', '06e21', '06e22', '06e23', '06e24', '06e25', '07e01', '07e02', '07e03', '07e04', '07e05', '07e06', '07e07', '07e08', '07e09', '07e10', '07e11', '07e12', '07e13', '07e14', '07e15', '07e16', '07e17', '07e18', '07e19', '07e20', '07e21', '07e22', '07e23', '07e24', '08e01', '08e02', '08e03', '08e04', '08e05', '08e06', '08e07', '08e08', '08e09', '08e10', '08e11', '08e12', '08e13', '08e14', '08e15', '08e16', '08e17', '08e18', '08e19', '08e20', '08e21', '08e22', '08e23', '08e24', '09e01', '09e02', '09e03', '09e04', '09e05', '09e06', '09e07', '09e08', '09e09', '09e10', '09e11', '09e12', '09e13', '09e14', '09e15', '09e16', '09e17', '09e18', '09e19', '09e20', '09e21', '09e22', '09e23', '09e24', '10e01', '10e02', '10e03', '10e04', '10e05', '10e06', '10e07', '10e08', '10e09', '10e10', '10e11', '10e12', '10e13', '10e14', '10e15', '10e16', '10e17', '10e18']\n"
     ]
    },
    {
     "name": "stdout",
     "output_type": "stream",
     "text": [
      "friends_script.txt\n"
     ]
    }
   ],
   "source": [
    "#the simpsons\n",
    "#american horror story\n",
    "#how i met your mother\n",
    "import requests\n",
    "from bs4 import BeautifulSoup\n",
    "from selenium import webdriver\n",
    "\n",
    "#전역 변수\n",
    "url = 'https://www.springfieldspringfield.co.uk/episode_scripts.php?'\n",
    "script_list = []   #다른 함수에서도 써야하기 때문에 전역변수로 선언\n",
    "episode_list = []\n",
    "\n",
    "#입력 받은 값에서 띄어쓰기가 있는 경우 '-'로 변환\n",
    "def replace_space(series_name):  \n",
    "    \n",
    "    series_name = series_name.replace(\" \", \"-\") #띄어쓰기는 url주소에 쓰이기 위해서 '-'로 변환\n",
    "    series_name.lower()    #소문자로 바꾸기\n",
    "    return series_name\n",
    "\n",
    "\n",
    "\n",
    "#대본 크롤링\n",
    "def script_crawling(series_name):\n",
    "    params = {\n",
    "        'tv-show' : series_name\n",
    "    }\n",
    "\n",
    "    resp = requests.get(url, params = params)\n",
    "    soup = BeautifulSoup(resp.content, 'html.parser')\n",
    "    \n",
    "    find_frame = soup.find('div', class_ = 'main-content-left')           #가장 바깥 프레임 설정\n",
    "    find_seasons = find_frame.find_all('div', class_ = 'season-episodes') #모든 시즌 가져오기\n",
    "                                                                         #find_seasons[0] = season1\n",
    "\n",
    "    url_list = []                                     #각 에피소드들의 주소를 담을 리스트\n",
    "    url_base = 'https://www.springfieldspringfield.co.uk/'  \n",
    "    for season in find_seasons:                            \n",
    "        #에피소드 태그 추출               \n",
    "        a_tags = season.find_all('a')    \n",
    "                                      \n",
    "        for a in a_tags:\n",
    "            url_tag = a.attrs['href']                #에피소드 별 주소 추출            \n",
    "            url_tag = url_base + url_tag             # 대본으로 가는 url 합치기        \n",
    "            url_list.append(url_tag)                 #에피소드 대본 url a_tag_list에 넣기            \n",
    "\n",
    "    print(url_list)\n",
    "\n",
    "    #https://www.springfieldspringfield.co.uk/view_episode_scripts.php?tv-show=breaking-bad&episode=s01e01  's01e01' 만 빼오기    \n",
    "    for i in url_list:    \n",
    "        episode = i[-5:] \n",
    "        episode_list.append(episode)\n",
    "    print(episode_list)\n",
    "    \n",
    "    #에피소드별 url에 접속 후 대본 가져오기\n",
    "\n",
    "    count = 0\n",
    "    for script_url in url_list:           #seasons_list 각 인덱스에 있는 url에 접속\n",
    "        script_resp = requests.get(script_url)\n",
    "        script_soup = BeautifulSoup(script_resp.content, 'html.parser')\n",
    "        script_list.append(script_soup.find('div', class_ = 'scrolling-script-container').text)  #대본 페이지 본문 긁어 오기\n",
    "        \n",
    "        #제한 설정: 10개 에피소드 긁어오기\n",
    "        count += 1\n",
    "        if count == 10:\n",
    "            break\n",
    "#script crwaling end \n",
    "            \n",
    "   \n",
    "#텍스트 파일 하나로 몰아넣기\n",
    "def save_to_txt(series_name):\n",
    "    # 처음에 입력 받은 이름으로 파일 저장하기\n",
    "    file_name = series_name + '_script.txt'\n",
    "    print(file_name)\n",
    "    count = 0\n",
    "    with open(file_name, 'w', 1, 'utf-8') as f:   #'cp949' codec can't encode character '\\xe8' in position 11518: \n",
    "                                                       #illegal multibyte sequence 에러 때문에 'utf-8' 인코딩 수정\n",
    "        f.write('%s\\n' % series_name)              # 미드 이름\n",
    "        for scripts in script_list:                #해당 시즌 모든 에피소드 텍스트 파일에 입력\n",
    "            f.write('\\n-----------------------------------%s' % episode_list[count])\n",
    "            f.write('\\n%s' % scripts)\n",
    "            count += 1            \n",
    "\n",
    "#미드 이미지 가져오기/et(img_url)\n",
    "def get_img(series_name):\n",
    "\n",
    "    driver_path = 'C:\\\\Users\\\\15Z970-GA5BK\\\\Downloads\\\\chromedriver.exe'\n",
    "    driver = webdriver.Chrome(driver_path)\n",
    "    \n",
    "    driver.get('https://www.google.com')\n",
    "    driver.implicitly_wait(10)\n",
    "    search_input = driver.find_element_by_xpath('//*[@id=\"tsf\"]/div[2]/div/div[1]/div/div[1]/input')\n",
    "    search_input.send_keys(series_name)\n",
    "\n",
    "    search_btn = driver.find_element_by_xpath('//*[@id=\"tsf\"]/div[2]/div/div[3]/center/input[1]').click()\n",
    "    driver.implicitly_wait(10)\n",
    "    image_btn = driver.find_element_by_link_text('이미지').click()\n",
    "    \n",
    "    #구글 이미지 \n",
    "    #다음 페이지 이미지 불러오기\n",
    "    img_count = 0   \n",
    "    img_url_list = []\n",
    "    while img_count < 40:\n",
    "        img_next_url = 'https://www.google.com/search?q=' + series_name + \\\n",
    "                         '&biw=1036&bih=674&gbv=1&tbm=isch&ei=jWv6XKqsLo3VmAXk8ILQBg&start=' + str(img_count)\n",
    "        # url에서 'start=' 값이 20씩 늘어날 때마다 다음 페이지로 넘어감\n",
    "        resp3 = requests.get(img_next_url)\n",
    "        soup3 = BeautifulSoup(resp3.content, 'html.parser')\n",
    "        find_img = soup3.find('table', class_ = 'images_table')\n",
    "        find_next_img = find_img.find_all('tr')\n",
    "        for td in find_next_img:\n",
    "            img_tag = td.find_all('img')\n",
    "            for i in img_tag:\n",
    "                img_src = i.attrs['src']\n",
    "                img_url_list.append(img_src) #기존 img_url_list에 추가로 append\n",
    "        img_count += 20\n",
    "    #image source에 접근한 후 이미지 다운로드\n",
    "\n",
    "    \n",
    "    # 요기 이상함 count = 1 위치만 바꿧는데 매우 이상해짐\n",
    "    count = 0\n",
    "    while count <= 10:\n",
    "        for i in img_url_list:\n",
    "            count += 1\n",
    "            img_url = i\n",
    "            resp = requests.get(i)\n",
    "            file_name = series_name  + str(count) + '.jpeg'  #번호 올리면서 이미지 저장\n",
    "        \n",
    "            with open(file_name, 'wb') as f:\n",
    "                f.write(resp.content)     \n",
    "            \n",
    "            \n",
    "\n",
    "series = replace_space(input('원하는 미드를 입력하세요: '))\n",
    "\n",
    "script_crawling(series)\n",
    "\n",
    "save_to_txt(series)\n",
    "#get_img(series)"
   ]
  },
  {
   "cell_type": "code",
   "execution_count": 6,
   "metadata": {},
   "outputs": [],
   "source": [
    "def search_sentences(search_word):\n",
    "    print('Searching for sentences including: ', search_word)\n",
    "    count = 1\n",
    "    for i in range(len(script_list)):\n",
    "        sentences = script_list[i].split('.')\n",
    "        for sentence in sentences:\n",
    "            if search_word in sentence:\n",
    "                \n",
    "                print(f'{count}: {sentence}.')\n",
    "                count += 1\n",
    "             "
   ]
  },
  {
   "cell_type": "code",
   "execution_count": 7,
   "metadata": {},
   "outputs": [
    {
     "name": "stdout",
     "output_type": "stream",
     "text": [
      "찾을 단어: surprise\n",
      "Searching for sentences including:  surprise\n",
      "1:  He might surprise you.\n",
      "2:  -Oh, my God! I love him! -You better act surprised.\n",
      "3:  -About what? -My surprise party.\n",
      "4:  -What surprise party? -Oh, stop it.\n"
     ]
    }
   ],
   "source": [
    "search_sentences(input('찾을 단어: '))  "
   ]
  },
  {
   "cell_type": "code",
   "execution_count": null,
   "metadata": {},
   "outputs": [],
   "source": []
  },
  {
   "cell_type": "code",
   "execution_count": null,
   "metadata": {},
   "outputs": [],
   "source": []
  }
 ],
 "metadata": {
  "kernelspec": {
   "display_name": "Python 3",
   "language": "python",
   "name": "python3"
  },
  "language_info": {
   "codemirror_mode": {
    "name": "ipython",
    "version": 3
   },
   "file_extension": ".py",
   "mimetype": "text/x-python",
   "name": "python",
   "nbconvert_exporter": "python",
   "pygments_lexer": "ipython3",
   "version": "3.7.3"
  }
 },
 "nbformat": 4,
 "nbformat_minor": 2
}
